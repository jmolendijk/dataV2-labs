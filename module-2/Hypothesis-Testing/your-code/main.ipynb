{
 "cells": [
  {
   "cell_type": "markdown",
   "metadata": {},
   "source": [
    "# Before you start:\n",
    "- Read the README.md file\n",
    "- Comment as much as you can and use the resources (README.md file)\n",
    "- Happy learning!"
   ]
  },
  {
   "cell_type": "code",
   "execution_count": 1,
   "metadata": {},
   "outputs": [],
   "source": [
    "# import numpy and pandas\n",
    "\n",
    "import pandas as pd\n",
    "import numpy as np"
   ]
  },
  {
   "cell_type": "markdown",
   "metadata": {},
   "source": [
    "# Challenge 1 - Exploring the Data\n",
    "\n",
    "In this challenge, we will examine all salaries of employees of the City of Chicago. We will start by loading the dataset and examining its contents. Please, load the data using Ironhack's database (db: employees, table: employees_advanced)."
   ]
  },
  {
   "cell_type": "code",
   "execution_count": 2,
   "metadata": {},
   "outputs": [],
   "source": [
    "# Your code here:\n",
    "\n",
    "salaries = pd.read_csv('../data/Current_Employee_Names__Salaries__and_Position_Titles.csv')"
   ]
  },
  {
   "cell_type": "markdown",
   "metadata": {},
   "source": [
    "Examine the `salaries` dataset using the `head` function below."
   ]
  },
  {
   "cell_type": "code",
   "execution_count": 3,
   "metadata": {},
   "outputs": [
    {
     "output_type": "execute_result",
     "data": {
      "text/plain": "                     Name                 Job Titles        Department  \\\n0  ADRIANO,  RACQUEL ANNE                  PARAMEDIC              FIRE   \n1       AFFANEH,  MAHIR A             POLICE OFFICER            POLICE   \n2       AFOENYI,  PHYLLIS  TITLE V PROGRAM TRAINEE I  FAMILY & SUPPORT   \n3         AGAR,  BULENT B        DEPUTY COMMISSIONER       WATER MGMNT   \n4         AGEE,  LAWRENCE             POLICE OFFICER            POLICE   \n\n  Full or Part-Time Salary or Hourly  Typical Hours  Annual Salary  \\\n0                 F           Salary            NaN        72510.0   \n1                 F           Salary            NaN        93354.0   \n2                 P           Hourly           20.0            NaN   \n3                 F           Salary            NaN       132972.0   \n4                 F           Salary            NaN        90024.0   \n\n   Hourly Rate  \n0          NaN  \n1          NaN  \n2         13.0  \n3          NaN  \n4          NaN  ",
      "text/html": "<div>\n<style scoped>\n    .dataframe tbody tr th:only-of-type {\n        vertical-align: middle;\n    }\n\n    .dataframe tbody tr th {\n        vertical-align: top;\n    }\n\n    .dataframe thead th {\n        text-align: right;\n    }\n</style>\n<table border=\"1\" class=\"dataframe\">\n  <thead>\n    <tr style=\"text-align: right;\">\n      <th></th>\n      <th>Name</th>\n      <th>Job Titles</th>\n      <th>Department</th>\n      <th>Full or Part-Time</th>\n      <th>Salary or Hourly</th>\n      <th>Typical Hours</th>\n      <th>Annual Salary</th>\n      <th>Hourly Rate</th>\n    </tr>\n  </thead>\n  <tbody>\n    <tr>\n      <th>0</th>\n      <td>ADRIANO,  RACQUEL ANNE</td>\n      <td>PARAMEDIC</td>\n      <td>FIRE</td>\n      <td>F</td>\n      <td>Salary</td>\n      <td>NaN</td>\n      <td>72510.0</td>\n      <td>NaN</td>\n    </tr>\n    <tr>\n      <th>1</th>\n      <td>AFFANEH,  MAHIR A</td>\n      <td>POLICE OFFICER</td>\n      <td>POLICE</td>\n      <td>F</td>\n      <td>Salary</td>\n      <td>NaN</td>\n      <td>93354.0</td>\n      <td>NaN</td>\n    </tr>\n    <tr>\n      <th>2</th>\n      <td>AFOENYI,  PHYLLIS</td>\n      <td>TITLE V PROGRAM TRAINEE I</td>\n      <td>FAMILY &amp; SUPPORT</td>\n      <td>P</td>\n      <td>Hourly</td>\n      <td>20.0</td>\n      <td>NaN</td>\n      <td>13.0</td>\n    </tr>\n    <tr>\n      <th>3</th>\n      <td>AGAR,  BULENT B</td>\n      <td>DEPUTY COMMISSIONER</td>\n      <td>WATER MGMNT</td>\n      <td>F</td>\n      <td>Salary</td>\n      <td>NaN</td>\n      <td>132972.0</td>\n      <td>NaN</td>\n    </tr>\n    <tr>\n      <th>4</th>\n      <td>AGEE,  LAWRENCE</td>\n      <td>POLICE OFFICER</td>\n      <td>POLICE</td>\n      <td>F</td>\n      <td>Salary</td>\n      <td>NaN</td>\n      <td>90024.0</td>\n      <td>NaN</td>\n    </tr>\n  </tbody>\n</table>\n</div>"
     },
     "metadata": {},
     "execution_count": 3
    }
   ],
   "source": [
    "# Your code here:\n",
    "\n",
    "salaries.head()"
   ]
  },
  {
   "cell_type": "markdown",
   "metadata": {},
   "source": [
    "We see from looking at the `head` function that there is quite a bit of missing data. Let's examine how much missing data is in each column. Produce this output in the cell below"
   ]
  },
  {
   "cell_type": "code",
   "execution_count": 4,
   "metadata": {},
   "outputs": [
    {
     "output_type": "execute_result",
     "data": {
      "text/plain": "Name                     0\nJob Titles               0\nDepartment               0\nFull or Part-Time        0\nSalary or Hourly         0\nTypical Hours        25528\nAnnual Salary         8174\nHourly Rate          25528\ndtype: int64"
     },
     "metadata": {},
     "execution_count": 4
    }
   ],
   "source": [
    "# Your code here:\n",
    "\n",
    "salaries.isnull().sum()"
   ]
  },
  {
   "cell_type": "markdown",
   "metadata": {},
   "source": [
    "Let's also look at the count of hourly vs. salaried employees. Write the code in the cell below"
   ]
  },
  {
   "cell_type": "code",
   "execution_count": 5,
   "metadata": {
    "tags": []
   },
   "outputs": [
    {
     "output_type": "stream",
     "name": "stdout",
     "text": "25528\n8174\n"
    }
   ],
   "source": [
    "# Your code here:\n",
    "\n",
    "print(len(salaries[salaries['Salary or Hourly'] == 'Salary']))\n",
    "print(len(salaries[salaries['Salary or Hourly'] == 'Hourly']))"
   ]
  },
  {
   "cell_type": "markdown",
   "metadata": {},
   "source": [
    "What this information indicates is that the table contains information about two types of employees - salaried and hourly. Some columns apply only to one type of employee while other columns only apply to another kind. This is why there are so many missing values. Therefore, we will not do anything to handle the missing values."
   ]
  },
  {
   "cell_type": "markdown",
   "metadata": {},
   "source": [
    "There are different departments in the city. List all departments and the count of employees in each department."
   ]
  },
  {
   "cell_type": "code",
   "execution_count": 6,
   "metadata": {},
   "outputs": [
    {
     "output_type": "execute_result",
     "data": {
      "text/plain": "POLICE                 13848\nFIRE                    4627\nSTREETS & SAN           2175\nWATER MGMNT             1914\nAVIATION                1856\nOEMC                    1737\nTRANSPORTN              1113\nPUBLIC LIBRARY          1088\nDAIS                    1033\nFAMILY & SUPPORT         656\nFINANCE                  544\nHEALTH                   467\nLAW                      398\nCITY COUNCIL             362\nBUILDINGS                258\nPUBLIC SAFETY ADMIN      244\nBUSINESS AFFAIRS         167\nHOUSING & ECON DEV       154\nCOPA                     123\nBOARD OF ELECTION        111\nMAYOR'S OFFICE           104\nINSPECTOR GEN             95\nCITY CLERK                88\nPROCUREMENT               84\nANIMAL CONTRL             75\nHUMAN RESOURCES           75\nCULTURAL AFFAIRS          74\nHOUSING                   66\nBUDGET & MGMT             44\nADMIN HEARNG              38\nDISABILITIES              28\nTREASURER                 28\nHUMAN RELATIONS           17\nBOARD OF ETHICS            8\nPOLICE BOARD               2\nLICENSE APPL COMM          1\nName: Department, dtype: int64"
     },
     "metadata": {},
     "execution_count": 6
    }
   ],
   "source": [
    "# Your code here:\n",
    "\n",
    "salaries['Department'].value_counts()"
   ]
  },
  {
   "cell_type": "markdown",
   "metadata": {},
   "source": [
    "# Challenge 2 - Hypothesis Tests\n",
    "\n",
    "In this section of the lab, we will test whether the hourly wage of all hourly workers is significantly different from $30/hr. Import the correct one sample test function from scipy and perform the hypothesis test for a 95% two sided confidence interval."
   ]
  },
  {
   "cell_type": "code",
   "execution_count": 7,
   "metadata": {},
   "outputs": [
    {
     "output_type": "execute_result",
     "data": {
      "text/plain": "Ttest_1sampResult(statistic=31.211500329216044, pvalue=3.825475847673794e-202)"
     },
     "metadata": {},
     "execution_count": 7
    }
   ],
   "source": [
    "# Your code here:\n",
    "\n",
    "from scipy.stats import ttest_1samp\n",
    "\n",
    "hour_salary = salaries[salaries['Salary or Hourly'] == 'Hourly']\n",
    "hour_salary = hour_salary['Hourly Rate']\n",
    "\n",
    "ttest_1samp(hour_salary, 30)"
   ]
  },
  {
   "cell_type": "markdown",
   "metadata": {},
   "source": [
    "We are also curious about salaries in the police force. The chief of police in Chicago claimed in a press briefing that salaries this year are higher than last year's mean of $86000/year a year for all salaried employees. Test this one sided hypothesis using a 95% confidence interval.\n",
    "\n",
    "Hint: A one tailed test has a p-value that is half of the two tailed p-value. If our hypothesis is greater than, then to reject, the test statistic must also be positive."
   ]
  },
  {
   "cell_type": "code",
   "execution_count": 8,
   "metadata": {},
   "outputs": [
    {
     "output_type": "execute_result",
     "data": {
      "text/plain": "Ttest_1sampResult(statistic=nan, pvalue=nan)"
     },
     "metadata": {},
     "execution_count": 8
    }
   ],
   "source": [
    "# Your code here:\n",
    "\n",
    "police = salaries[salaries['Department'] == 'POLICE']\n",
    "police = police['Annual Salary']\n",
    "\n",
    "ttest_1samp(police, 86000)"
   ]
  },
  {
   "cell_type": "markdown",
   "metadata": {},
   "source": [
    "Using the `crosstab` function, find the department that has the most hourly workers. "
   ]
  },
  {
   "cell_type": "code",
   "execution_count": 9,
   "metadata": {},
   "outputs": [
    {
     "output_type": "execute_result",
     "data": {
      "text/plain": "Salary or Hourly     Hourly  Salary\nDepartment                         \nADMIN HEARNG              0      38\nANIMAL CONTRL            12      63\nAVIATION               1214     642\nBOARD OF ELECTION         0     111\nBOARD OF ETHICS           0       8\nBUDGET & MGMT             2      42\nBUILDINGS                 0     258\nBUSINESS AFFAIRS          7     160\nCITY CLERK                0      88\nCITY COUNCIL             74     288\nCOPA                      0     123\nCULTURAL AFFAIRS         10      64\nDAIS                    745     288\nDISABILITIES              1      27\nFAMILY & SUPPORT        357     299\nFINANCE                  45     499\nFIRE                      0    4627\nHEALTH                    2     465\nHOUSING                   0      66\nHOUSING & ECON DEV        3     151\nHUMAN RELATIONS           0      17\nHUMAN RESOURCES           0      75\nINSPECTOR GEN             0      95\nLAW                      48     350\nLICENSE APPL COMM         0       1\nMAYOR'S OFFICE           17      87\nOEMC                   1077     660\nPOLICE                   24   13824\nPOLICE BOARD              0       2\nPROCUREMENT               2      82\nPUBLIC LIBRARY          356     732\nPUBLIC SAFETY ADMIN      48     196\nSTREETS & SAN          1846     329\nTRANSPORTN              726     387\nTREASURER                 0      28\nWATER MGMNT            1558     356",
      "text/html": "<div>\n<style scoped>\n    .dataframe tbody tr th:only-of-type {\n        vertical-align: middle;\n    }\n\n    .dataframe tbody tr th {\n        vertical-align: top;\n    }\n\n    .dataframe thead th {\n        text-align: right;\n    }\n</style>\n<table border=\"1\" class=\"dataframe\">\n  <thead>\n    <tr style=\"text-align: right;\">\n      <th>Salary or Hourly</th>\n      <th>Hourly</th>\n      <th>Salary</th>\n    </tr>\n    <tr>\n      <th>Department</th>\n      <th></th>\n      <th></th>\n    </tr>\n  </thead>\n  <tbody>\n    <tr>\n      <th>ADMIN HEARNG</th>\n      <td>0</td>\n      <td>38</td>\n    </tr>\n    <tr>\n      <th>ANIMAL CONTRL</th>\n      <td>12</td>\n      <td>63</td>\n    </tr>\n    <tr>\n      <th>AVIATION</th>\n      <td>1214</td>\n      <td>642</td>\n    </tr>\n    <tr>\n      <th>BOARD OF ELECTION</th>\n      <td>0</td>\n      <td>111</td>\n    </tr>\n    <tr>\n      <th>BOARD OF ETHICS</th>\n      <td>0</td>\n      <td>8</td>\n    </tr>\n    <tr>\n      <th>BUDGET &amp; MGMT</th>\n      <td>2</td>\n      <td>42</td>\n    </tr>\n    <tr>\n      <th>BUILDINGS</th>\n      <td>0</td>\n      <td>258</td>\n    </tr>\n    <tr>\n      <th>BUSINESS AFFAIRS</th>\n      <td>7</td>\n      <td>160</td>\n    </tr>\n    <tr>\n      <th>CITY CLERK</th>\n      <td>0</td>\n      <td>88</td>\n    </tr>\n    <tr>\n      <th>CITY COUNCIL</th>\n      <td>74</td>\n      <td>288</td>\n    </tr>\n    <tr>\n      <th>COPA</th>\n      <td>0</td>\n      <td>123</td>\n    </tr>\n    <tr>\n      <th>CULTURAL AFFAIRS</th>\n      <td>10</td>\n      <td>64</td>\n    </tr>\n    <tr>\n      <th>DAIS</th>\n      <td>745</td>\n      <td>288</td>\n    </tr>\n    <tr>\n      <th>DISABILITIES</th>\n      <td>1</td>\n      <td>27</td>\n    </tr>\n    <tr>\n      <th>FAMILY &amp; SUPPORT</th>\n      <td>357</td>\n      <td>299</td>\n    </tr>\n    <tr>\n      <th>FINANCE</th>\n      <td>45</td>\n      <td>499</td>\n    </tr>\n    <tr>\n      <th>FIRE</th>\n      <td>0</td>\n      <td>4627</td>\n    </tr>\n    <tr>\n      <th>HEALTH</th>\n      <td>2</td>\n      <td>465</td>\n    </tr>\n    <tr>\n      <th>HOUSING</th>\n      <td>0</td>\n      <td>66</td>\n    </tr>\n    <tr>\n      <th>HOUSING &amp; ECON DEV</th>\n      <td>3</td>\n      <td>151</td>\n    </tr>\n    <tr>\n      <th>HUMAN RELATIONS</th>\n      <td>0</td>\n      <td>17</td>\n    </tr>\n    <tr>\n      <th>HUMAN RESOURCES</th>\n      <td>0</td>\n      <td>75</td>\n    </tr>\n    <tr>\n      <th>INSPECTOR GEN</th>\n      <td>0</td>\n      <td>95</td>\n    </tr>\n    <tr>\n      <th>LAW</th>\n      <td>48</td>\n      <td>350</td>\n    </tr>\n    <tr>\n      <th>LICENSE APPL COMM</th>\n      <td>0</td>\n      <td>1</td>\n    </tr>\n    <tr>\n      <th>MAYOR'S OFFICE</th>\n      <td>17</td>\n      <td>87</td>\n    </tr>\n    <tr>\n      <th>OEMC</th>\n      <td>1077</td>\n      <td>660</td>\n    </tr>\n    <tr>\n      <th>POLICE</th>\n      <td>24</td>\n      <td>13824</td>\n    </tr>\n    <tr>\n      <th>POLICE BOARD</th>\n      <td>0</td>\n      <td>2</td>\n    </tr>\n    <tr>\n      <th>PROCUREMENT</th>\n      <td>2</td>\n      <td>82</td>\n    </tr>\n    <tr>\n      <th>PUBLIC LIBRARY</th>\n      <td>356</td>\n      <td>732</td>\n    </tr>\n    <tr>\n      <th>PUBLIC SAFETY ADMIN</th>\n      <td>48</td>\n      <td>196</td>\n    </tr>\n    <tr>\n      <th>STREETS &amp; SAN</th>\n      <td>1846</td>\n      <td>329</td>\n    </tr>\n    <tr>\n      <th>TRANSPORTN</th>\n      <td>726</td>\n      <td>387</td>\n    </tr>\n    <tr>\n      <th>TREASURER</th>\n      <td>0</td>\n      <td>28</td>\n    </tr>\n    <tr>\n      <th>WATER MGMNT</th>\n      <td>1558</td>\n      <td>356</td>\n    </tr>\n  </tbody>\n</table>\n</div>"
     },
     "metadata": {},
     "execution_count": 9
    }
   ],
   "source": [
    "# Your code here:\n",
    "\n",
    "pd.crosstab(salaries['Department'], salaries['Salary or Hourly'])"
   ]
  },
  {
   "cell_type": "markdown",
   "metadata": {},
   "source": [
    "The workers from the department with the most hourly workers have complained that their hourly wage is less than $35/hour. Using a one sample t-test, test this one-sided hypothesis at the 95% confidence level."
   ]
  },
  {
   "cell_type": "code",
   "execution_count": 10,
   "metadata": {},
   "outputs": [
    {
     "output_type": "execute_result",
     "data": {
      "text/plain": "Ttest_1sampResult(statistic=nan, pvalue=nan)"
     },
     "metadata": {},
     "execution_count": 10
    }
   ],
   "source": [
    "# Your code here:\n",
    "\n",
    "streets = salaries[salaries['Department'] == 'STREETS & SAN']\n",
    "streets = streets['Hourly Rate']\n",
    "\n",
    "ttest_1samp(streets, 35)"
   ]
  },
  {
   "cell_type": "markdown",
   "metadata": {},
   "source": [
    "# Challenge 3: To practice - Constructing Confidence Intervals\n",
    "\n",
    "While testing our hypothesis is a great way to gather empirical evidence for accepting or rejecting the hypothesis, another way to gather evidence is by creating a confidence interval. A confidence interval gives us information about the true mean of the population. So for a 95% confidence interval, we are 95% sure that the mean of the population is within the confidence interval. \n",
    ").\n",
    "\n",
    "To read more about confidence intervals, click [here](https://en.wikipedia.org/wiki/Confidence_interval).\n",
    "\n",
    "\n",
    "In the cell below, we will construct a 95% confidence interval for the mean hourly wage of all hourly workers. \n",
    "\n",
    "The confidence interval is computed in SciPy using the `t.interval` function. You can read more about this function [here](https://docs.scipy.org/doc/scipy-0.14.0/reference/generated/scipy.stats.t.html).\n",
    "\n",
    "To compute the confidence interval of the hourly wage, use the 0.95 for the confidence level, number of rows - 1 for degrees of freedom, the mean of the sample for the location parameter and the standard error for the scale. The standard error can be computed using [this](https://docs.scipy.org/doc/scipy/reference/generated/scipy.stats.sem.html) function in SciPy."
   ]
  },
  {
   "cell_type": "code",
   "execution_count": 11,
   "metadata": {},
   "outputs": [
    {
     "output_type": "error",
     "ename": "NameError",
     "evalue": "name 'scipsy' is not defined",
     "traceback": [
      "\u001b[0;31m---------------------------------------------------------------------------\u001b[0m",
      "\u001b[0;31mNameError\u001b[0m                                 Traceback (most recent call last)",
      "\u001b[0;32m<ipython-input-11-b722c719b336>\u001b[0m in \u001b[0;36m<module>\u001b[0;34m\u001b[0m\n\u001b[1;32m      9\u001b[0m \u001b[0mstats\u001b[0m\u001b[0;34m.\u001b[0m\u001b[0msem\u001b[0m\u001b[0;34m(\u001b[0m\u001b[0msalary\u001b[0m\u001b[0;34m)\u001b[0m\u001b[0;34m\u001b[0m\u001b[0;34m\u001b[0m\u001b[0m\n\u001b[1;32m     10\u001b[0m \u001b[0;34m\u001b[0m\u001b[0m\n\u001b[0;32m---> 11\u001b[0;31m \u001b[0mscipsy\u001b[0m\u001b[0;34m.\u001b[0m\u001b[0mstats\u001b[0m\u001b[0;34m.\u001b[0m\u001b[0mt\u001b[0m\u001b[0;34m.\u001b[0m\u001b[0minterval\u001b[0m\u001b[0;34m(\u001b[0m\u001b[0;36m0.95\u001b[0m\u001b[0;34m)\u001b[0m\u001b[0;34m\u001b[0m\u001b[0;34m\u001b[0m\u001b[0m\n\u001b[0m",
      "\u001b[0;31mNameError\u001b[0m: name 'scipsy' is not defined"
     ]
    }
   ],
   "source": [
    "# Your code here:\n",
    "\n",
    "from scipy.stats import t\n",
    "from scipy import stats\n",
    "\n",
    "salary = salaries[salaries['Salary or Hourly'] == 'Hourly']\n",
    "salary = salary['Hourly Rate']\n",
    "\n",
    "stats.sem(salary)\n",
    "\n",
    "scipsy.stats.t.interval(0.95)"
   ]
  },
  {
   "cell_type": "markdown",
   "metadata": {},
   "source": [
    "Now construct the 95% confidence interval for all salaried employeed in the police in the cell below."
   ]
  },
  {
   "cell_type": "code",
   "execution_count": 12,
   "metadata": {},
   "outputs": [],
   "source": [
    "# Your code here:\n",
    "\n"
   ]
  },
  {
   "cell_type": "markdown",
   "metadata": {},
   "source": [
    "# Bonus Challenge - Hypothesis Tests of Proportions\n",
    "\n",
    "Another type of one sample test is a hypothesis test of proportions. In this test, we examine whether the proportion of a group in our sample is significantly different than a fraction. \n",
    "\n",
    "You can read more about one sample proportion tests [here](http://sphweb.bumc.bu.edu/otlt/MPH-Modules/BS/SAS/SAS6-CategoricalData/SAS6-CategoricalData2.html).\n",
    "\n",
    "In the cell below, use the `proportions_ztest` function from `statsmodels` to perform a hypothesis test that will determine whether the number of hourly workers in the City of Chicago is significantly different from 25% at the 95% confidence level."
   ]
  },
  {
   "cell_type": "code",
   "execution_count": 13,
   "metadata": {},
   "outputs": [],
   "source": [
    "# Your code here:\n",
    "\n"
   ]
  }
 ],
 "metadata": {
  "kernelspec": {
   "display_name": "Python 3",
   "language": "python",
   "name": "python3"
  },
  "language_info": {
   "codemirror_mode": {
    "name": "ipython",
    "version": 3
   },
   "file_extension": ".py",
   "mimetype": "text/x-python",
   "name": "python",
   "nbconvert_exporter": "python",
   "pygments_lexer": "ipython3",
   "version": "3.8.3-final"
  }
 },
 "nbformat": 4,
 "nbformat_minor": 2
}