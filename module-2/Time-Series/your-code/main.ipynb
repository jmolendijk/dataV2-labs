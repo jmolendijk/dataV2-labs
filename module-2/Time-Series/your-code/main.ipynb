{
 "cells": [
  {
   "cell_type": "markdown",
   "metadata": {},
   "source": [
    "# Before your start:\n",
    "- Read the README.md file\n",
    "- Comment as much as you can and use the resources (README.md file)\n",
    "- Happy learning!"
   ]
  },
  {
   "cell_type": "code",
   "execution_count": 2,
   "metadata": {},
   "outputs": [],
   "source": [
    "# Import numpy and pandas\n",
    "\n",
    "import pandas as pd\n",
    "import numpy as np"
   ]
  },
  {
   "cell_type": "markdown",
   "metadata": {},
   "source": [
    "# Challenge 1 - Loading and Evaluating The Data\n",
    "\n",
    "In this lab, we will look at a dataset of sensor data from a cellular phone. The phone was carried in the subject's pocket for a few minutes while they walked around.\n",
    "\n",
    "To load the data, run the code below."
   ]
  },
  {
   "cell_type": "code",
   "execution_count": 3,
   "metadata": {},
   "outputs": [],
   "source": [
    "# Run this code:\n",
    "\n",
    "sensor = pd.read_csv('../sub_1.csv')\n",
    "sensor.drop(columns=['Unnamed: 0'], inplace=True)"
   ]
  },
  {
   "cell_type": "markdown",
   "metadata": {},
   "source": [
    "Examine the data using the `head` function."
   ]
  },
  {
   "cell_type": "code",
   "execution_count": 4,
   "metadata": {},
   "outputs": [
    {
     "output_type": "execute_result",
     "data": {
      "text/plain": "   attitude.roll  attitude.pitch  attitude.yaw  gravity.x  gravity.y  \\\n0       1.528132       -0.733896      0.696372   0.741895   0.669768   \n1       1.527992       -0.716987      0.677762   0.753099   0.657116   \n2       1.527765       -0.706999      0.670951   0.759611   0.649555   \n3       1.516768       -0.704678      0.675735   0.760709   0.647788   \n4       1.493941       -0.703918      0.672994   0.760062   0.647210   \n\n   gravity.z  rotationRate.x  rotationRate.y  rotationRate.z  \\\n0  -0.031672        0.316738        0.778180        1.082764   \n1  -0.032255        0.842032        0.424446        0.643574   \n2  -0.032707       -0.138143       -0.040741        0.343563   \n3  -0.041140       -0.025005       -1.048717        0.035860   \n4  -0.058530        0.114253       -0.912890        0.047341   \n\n   userAcceleration.x  userAcceleration.y  userAcceleration.z  \n0            0.294894           -0.184493            0.377542  \n1            0.219405            0.035846            0.114866  \n2            0.010714            0.134701           -0.167808  \n3           -0.008389            0.136788            0.094958  \n4            0.199441            0.353996           -0.044299  ",
      "text/html": "<div>\n<style scoped>\n    .dataframe tbody tr th:only-of-type {\n        vertical-align: middle;\n    }\n\n    .dataframe tbody tr th {\n        vertical-align: top;\n    }\n\n    .dataframe thead th {\n        text-align: right;\n    }\n</style>\n<table border=\"1\" class=\"dataframe\">\n  <thead>\n    <tr style=\"text-align: right;\">\n      <th></th>\n      <th>attitude.roll</th>\n      <th>attitude.pitch</th>\n      <th>attitude.yaw</th>\n      <th>gravity.x</th>\n      <th>gravity.y</th>\n      <th>gravity.z</th>\n      <th>rotationRate.x</th>\n      <th>rotationRate.y</th>\n      <th>rotationRate.z</th>\n      <th>userAcceleration.x</th>\n      <th>userAcceleration.y</th>\n      <th>userAcceleration.z</th>\n    </tr>\n  </thead>\n  <tbody>\n    <tr>\n      <th>0</th>\n      <td>1.528132</td>\n      <td>-0.733896</td>\n      <td>0.696372</td>\n      <td>0.741895</td>\n      <td>0.669768</td>\n      <td>-0.031672</td>\n      <td>0.316738</td>\n      <td>0.778180</td>\n      <td>1.082764</td>\n      <td>0.294894</td>\n      <td>-0.184493</td>\n      <td>0.377542</td>\n    </tr>\n    <tr>\n      <th>1</th>\n      <td>1.527992</td>\n      <td>-0.716987</td>\n      <td>0.677762</td>\n      <td>0.753099</td>\n      <td>0.657116</td>\n      <td>-0.032255</td>\n      <td>0.842032</td>\n      <td>0.424446</td>\n      <td>0.643574</td>\n      <td>0.219405</td>\n      <td>0.035846</td>\n      <td>0.114866</td>\n    </tr>\n    <tr>\n      <th>2</th>\n      <td>1.527765</td>\n      <td>-0.706999</td>\n      <td>0.670951</td>\n      <td>0.759611</td>\n      <td>0.649555</td>\n      <td>-0.032707</td>\n      <td>-0.138143</td>\n      <td>-0.040741</td>\n      <td>0.343563</td>\n      <td>0.010714</td>\n      <td>0.134701</td>\n      <td>-0.167808</td>\n    </tr>\n    <tr>\n      <th>3</th>\n      <td>1.516768</td>\n      <td>-0.704678</td>\n      <td>0.675735</td>\n      <td>0.760709</td>\n      <td>0.647788</td>\n      <td>-0.041140</td>\n      <td>-0.025005</td>\n      <td>-1.048717</td>\n      <td>0.035860</td>\n      <td>-0.008389</td>\n      <td>0.136788</td>\n      <td>0.094958</td>\n    </tr>\n    <tr>\n      <th>4</th>\n      <td>1.493941</td>\n      <td>-0.703918</td>\n      <td>0.672994</td>\n      <td>0.760062</td>\n      <td>0.647210</td>\n      <td>-0.058530</td>\n      <td>0.114253</td>\n      <td>-0.912890</td>\n      <td>0.047341</td>\n      <td>0.199441</td>\n      <td>0.353996</td>\n      <td>-0.044299</td>\n    </tr>\n  </tbody>\n</table>\n</div>"
     },
     "metadata": {},
     "execution_count": 4
    }
   ],
   "source": [
    "# Your code here:\n",
    "\n",
    "sensor.head()"
   ]
  },
  {
   "cell_type": "markdown",
   "metadata": {},
   "source": [
    "Check whether there is any missing data. If there is any missing data, remove the rows containing missing data."
   ]
  },
  {
   "cell_type": "code",
   "execution_count": 5,
   "metadata": {
    "tags": []
   },
   "outputs": [
    {
     "output_type": "stream",
     "name": "stdout",
     "text": "<class 'pandas.core.frame.DataFrame'>\nRangeIndex: 1751 entries, 0 to 1750\nData columns (total 12 columns):\n #   Column              Non-Null Count  Dtype  \n---  ------              --------------  -----  \n 0   attitude.roll       1751 non-null   float64\n 1   attitude.pitch      1751 non-null   float64\n 2   attitude.yaw        1751 non-null   float64\n 3   gravity.x           1751 non-null   float64\n 4   gravity.y           1751 non-null   float64\n 5   gravity.z           1751 non-null   float64\n 6   rotationRate.x      1751 non-null   float64\n 7   rotationRate.y      1751 non-null   float64\n 8   rotationRate.z      1751 non-null   float64\n 9   userAcceleration.x  1751 non-null   float64\n 10  userAcceleration.y  1751 non-null   float64\n 11  userAcceleration.z  1751 non-null   float64\ndtypes: float64(12)\nmemory usage: 164.3 KB\n"
    }
   ],
   "source": [
    "# Your code here:\n",
    "\n",
    "sensor.info()"
   ]
  },
  {
   "cell_type": "markdown",
   "metadata": {},
   "source": [
    "How many rows and columns are in our data?"
   ]
  },
  {
   "cell_type": "code",
   "execution_count": 17,
   "metadata": {},
   "outputs": [
    {
     "output_type": "execute_result",
     "data": {
      "text/plain": "(1751, 12)"
     },
     "metadata": {},
     "execution_count": 17
    }
   ],
   "source": [
    "# Your code here:\n",
    "\n",
    "sensor.shape"
   ]
  },
  {
   "cell_type": "markdown",
   "metadata": {},
   "source": [
    "To perform time series analysis on the data, we must change the index from a range index to a time series index. In the cell below, create a time series index using the `pd.date_range` function. Create a time series index starting at 1/1/2018 00:00:00 and ending at 1/1/2018 00:29:10. The number of periods is equal to the number of rows in `sensor`. The frequency should be set to `infer`."
   ]
  },
  {
   "cell_type": "code",
   "execution_count": 20,
   "metadata": {},
   "outputs": [],
   "source": [
    "# Your code here:\n",
    "\n",
    "time_series_index = pd.date_range(start='1/1/2018 00:00:00', end='1/1/2018 00:29:10', periods=1751)"
   ]
  },
  {
   "cell_type": "markdown",
   "metadata": {},
   "source": [
    "Assign the time series index to the dataframe's index."
   ]
  },
  {
   "cell_type": "code",
   "execution_count": 19,
   "metadata": {},
   "outputs": [
    {
     "output_type": "execute_result",
     "data": {
      "text/plain": "DatetimeIndex(['2018-01-01 00:00:00', '2018-01-01 00:00:01',\n               '2018-01-01 00:00:02', '2018-01-01 00:00:03',\n               '2018-01-01 00:00:04', '2018-01-01 00:00:05',\n               '2018-01-01 00:00:06', '2018-01-01 00:00:07',\n               '2018-01-01 00:00:08', '2018-01-01 00:00:09',\n               ...\n               '2018-01-01 00:29:01', '2018-01-01 00:29:02',\n               '2018-01-01 00:29:03', '2018-01-01 00:29:04',\n               '2018-01-01 00:29:05', '2018-01-01 00:29:06',\n               '2018-01-01 00:29:07', '2018-01-01 00:29:08',\n               '2018-01-01 00:29:09', '2018-01-01 00:29:10'],\n              dtype='datetime64[ns]', length=1751, freq='S')"
     },
     "metadata": {},
     "execution_count": 19
    }
   ],
   "source": [
    "# Your code here:\n",
    "\n",
    "sensor.index = pd.DatetimeIndex(ts_index, freq='infer')\n",
    "sensor.index"
   ]
  },
  {
   "cell_type": "markdown",
   "metadata": {},
   "source": [
    "Our next step is to decompose the time series and evaluate the patterns in the data. Load the `statsmodels.api` submodule and plot the decomposed plot of `userAcceleration.x`. Set `freq=60` in the `seasonal_decompose` function. Your graph should look like the one below.\n",
    "\n",
    "![time series decomposition](../images/tsa_decompose.png)"
   ]
  },
  {
   "cell_type": "code",
   "execution_count": 9,
   "metadata": {},
   "outputs": [],
   "source": [
    "# Your code here:\n",
    "\n"
   ]
  },
  {
   "cell_type": "markdown",
   "metadata": {},
   "source": [
    "Plot the decomposed time series of `rotationRate.x` also with a frequency of 60."
   ]
  },
  {
   "cell_type": "markdown",
   "metadata": {},
   "source": [
    "# Challenge 2 - Modelling the Data\n",
    "\n",
    "To model our data, we should look at a few assumptions. First, let's plot the `lag_plot` to detect any autocorrelation. Do this for `userAcceleration.x`"
   ]
  },
  {
   "cell_type": "code",
   "execution_count": 10,
   "metadata": {},
   "outputs": [],
   "source": [
    "# Your code here:\n",
    "\n"
   ]
  },
  {
   "cell_type": "markdown",
   "metadata": {},
   "source": [
    "Create a lag plot for `rotationRate.x`"
   ]
  },
  {
   "cell_type": "code",
   "execution_count": 11,
   "metadata": {},
   "outputs": [],
   "source": [
    "# Your code here:\n",
    "\n"
   ]
  },
  {
   "cell_type": "markdown",
   "metadata": {},
   "source": [
    "What are your conclusions from both visualizations?"
   ]
  },
  {
   "cell_type": "code",
   "execution_count": 12,
   "metadata": {},
   "outputs": [],
   "source": [
    "# Your conclusions here:\n",
    "\n"
   ]
  },
  {
   "cell_type": "markdown",
   "metadata": {},
   "source": [
    "The next step will be to test both variables for stationarity. Perform the Augmented Dickey Fuller test on both variables below."
   ]
  },
  {
   "cell_type": "code",
   "execution_count": 13,
   "metadata": {},
   "outputs": [],
   "source": [
    "# Your code here:\n",
    "\n"
   ]
  },
  {
   "cell_type": "markdown",
   "metadata": {},
   "source": [
    "What are your conclusions from this test?"
   ]
  },
  {
   "cell_type": "code",
   "execution_count": 14,
   "metadata": {},
   "outputs": [],
   "source": [
    "# Your conclusions here:\n",
    "\n"
   ]
  },
  {
   "cell_type": "markdown",
   "metadata": {},
   "source": [
    "Finally, we'll create an ARMA model for `userAcceleration.x`. Load the `ARMA` function from `statsmodels`. The order of the model is (2, 1). Split the data to train and test. Use the last 10 observations as the test set and all other observations as the training set. "
   ]
  },
  {
   "cell_type": "code",
   "execution_count": 15,
   "metadata": {},
   "outputs": [],
   "source": [
    "# Your code here:\n",
    "\n"
   ]
  },
  {
   "cell_type": "markdown",
   "metadata": {},
   "source": [
    "To compare our predictions with the observed data, we can compute the RMSE (Root Mean Squared Error) from the submodule `statsmodels.tools.eval_measures`. You can read more about this function [here](https://www.statsmodels.org/dev/generated/statsmodels.tools.eval_measures.rmse.html). Compute the RMSE for the last 10 rows of the data by comparing the observed and predicted data for the `userAcceleration.x` column."
   ]
  },
  {
   "cell_type": "code",
   "execution_count": 16,
   "metadata": {},
   "outputs": [],
   "source": [
    "# Your code here:\n",
    "\n"
   ]
  },
  {
   "cell_type": "code",
   "execution_count": null,
   "metadata": {},
   "outputs": [],
   "source": []
  }
 ],
 "metadata": {
  "kernelspec": {
   "display_name": "Python 3",
   "language": "python",
   "name": "python3"
  },
  "language_info": {
   "codemirror_mode": {
    "name": "ipython",
    "version": 3
   },
   "file_extension": ".py",
   "mimetype": "text/x-python",
   "name": "python",
   "nbconvert_exporter": "python",
   "pygments_lexer": "ipython3",
   "version": "3.8.3-final"
  }
 },
 "nbformat": 4,
 "nbformat_minor": 2
}