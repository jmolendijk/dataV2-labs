{
 "cells": [
  {
   "cell_type": "markdown",
   "metadata": {},
   "source": [
    "# Before your start:\n",
    "- Read the README.md file\n",
    "- Comment as much as you can and use the resources (README.md file)\n",
    "- Happy learning!"
   ]
  },
  {
   "cell_type": "code",
   "execution_count": 1,
   "metadata": {},
   "outputs": [],
   "source": [
    "# Libraries\n",
    "\n",
    "import pandas as pd\n",
    "import numpy as np"
   ]
  },
  {
   "cell_type": "markdown",
   "metadata": {},
   "source": [
    "# Challenge 1 - Index Functions\n",
    "\n",
    "In this challenge, we will practice the advanced functions introduced in the lesson. However, before we start, we will load and evaluate our dataset. \n",
    "\n",
    "Load the dataset from Ironhack's database:\n",
    "* db: `admissions predict`\n",
    "* table: `admissions predict`"
   ]
  },
  {
   "cell_type": "code",
   "execution_count": 2,
   "metadata": {},
   "outputs": [
    {
     "output_type": "execute_result",
     "data": {
      "text/plain": "     Serial No.  GRE Score  TOEFL Score  University Rating  SOP  LOR   CGPA  \\\n0             1        337          118                  4  4.5   4.5  9.65   \n1             2        324          107                  4  4.0   4.5  8.87   \n2             3        316          104                  3  3.0   3.5  8.00   \n3             4        322          110                  3  3.5   2.5  8.67   \n4             5        314          103                  2  2.0   3.0  8.21   \n..          ...        ...          ...                ...  ...   ...   ...   \n395         396        324          110                  3  3.5   3.5  9.04   \n396         397        325          107                  3  3.0   3.5  9.11   \n397         398        330          116                  4  5.0   4.5  9.45   \n398         399        312          103                  3  3.5   4.0  8.78   \n399         400        333          117                  4  5.0   4.0  9.66   \n\n     Research  Chance of Admit   \n0           1              0.92  \n1           1              0.76  \n2           1              0.72  \n3           1              0.80  \n4           0              0.65  \n..        ...               ...  \n395         1              0.82  \n396         1              0.84  \n397         1              0.91  \n398         0              0.67  \n399         1              0.95  \n\n[400 rows x 9 columns]",
      "text/html": "<div>\n<style scoped>\n    .dataframe tbody tr th:only-of-type {\n        vertical-align: middle;\n    }\n\n    .dataframe tbody tr th {\n        vertical-align: top;\n    }\n\n    .dataframe thead th {\n        text-align: right;\n    }\n</style>\n<table border=\"1\" class=\"dataframe\">\n  <thead>\n    <tr style=\"text-align: right;\">\n      <th></th>\n      <th>Serial No.</th>\n      <th>GRE Score</th>\n      <th>TOEFL Score</th>\n      <th>University Rating</th>\n      <th>SOP</th>\n      <th>LOR</th>\n      <th>CGPA</th>\n      <th>Research</th>\n      <th>Chance of Admit</th>\n    </tr>\n  </thead>\n  <tbody>\n    <tr>\n      <th>0</th>\n      <td>1</td>\n      <td>337</td>\n      <td>118</td>\n      <td>4</td>\n      <td>4.5</td>\n      <td>4.5</td>\n      <td>9.65</td>\n      <td>1</td>\n      <td>0.92</td>\n    </tr>\n    <tr>\n      <th>1</th>\n      <td>2</td>\n      <td>324</td>\n      <td>107</td>\n      <td>4</td>\n      <td>4.0</td>\n      <td>4.5</td>\n      <td>8.87</td>\n      <td>1</td>\n      <td>0.76</td>\n    </tr>\n    <tr>\n      <th>2</th>\n      <td>3</td>\n      <td>316</td>\n      <td>104</td>\n      <td>3</td>\n      <td>3.0</td>\n      <td>3.5</td>\n      <td>8.00</td>\n      <td>1</td>\n      <td>0.72</td>\n    </tr>\n    <tr>\n      <th>3</th>\n      <td>4</td>\n      <td>322</td>\n      <td>110</td>\n      <td>3</td>\n      <td>3.5</td>\n      <td>2.5</td>\n      <td>8.67</td>\n      <td>1</td>\n      <td>0.80</td>\n    </tr>\n    <tr>\n      <th>4</th>\n      <td>5</td>\n      <td>314</td>\n      <td>103</td>\n      <td>2</td>\n      <td>2.0</td>\n      <td>3.0</td>\n      <td>8.21</td>\n      <td>0</td>\n      <td>0.65</td>\n    </tr>\n    <tr>\n      <th>...</th>\n      <td>...</td>\n      <td>...</td>\n      <td>...</td>\n      <td>...</td>\n      <td>...</td>\n      <td>...</td>\n      <td>...</td>\n      <td>...</td>\n      <td>...</td>\n    </tr>\n    <tr>\n      <th>395</th>\n      <td>396</td>\n      <td>324</td>\n      <td>110</td>\n      <td>3</td>\n      <td>3.5</td>\n      <td>3.5</td>\n      <td>9.04</td>\n      <td>1</td>\n      <td>0.82</td>\n    </tr>\n    <tr>\n      <th>396</th>\n      <td>397</td>\n      <td>325</td>\n      <td>107</td>\n      <td>3</td>\n      <td>3.0</td>\n      <td>3.5</td>\n      <td>9.11</td>\n      <td>1</td>\n      <td>0.84</td>\n    </tr>\n    <tr>\n      <th>397</th>\n      <td>398</td>\n      <td>330</td>\n      <td>116</td>\n      <td>4</td>\n      <td>5.0</td>\n      <td>4.5</td>\n      <td>9.45</td>\n      <td>1</td>\n      <td>0.91</td>\n    </tr>\n    <tr>\n      <th>398</th>\n      <td>399</td>\n      <td>312</td>\n      <td>103</td>\n      <td>3</td>\n      <td>3.5</td>\n      <td>4.0</td>\n      <td>8.78</td>\n      <td>0</td>\n      <td>0.67</td>\n    </tr>\n    <tr>\n      <th>399</th>\n      <td>400</td>\n      <td>333</td>\n      <td>117</td>\n      <td>4</td>\n      <td>5.0</td>\n      <td>4.0</td>\n      <td>9.66</td>\n      <td>1</td>\n      <td>0.95</td>\n    </tr>\n  </tbody>\n</table>\n<p>400 rows × 9 columns</p>\n</div>"
     },
     "metadata": {},
     "execution_count": 2
    }
   ],
   "source": [
    "# your code here\n",
    "\n",
    "data = pd.read_csv('../data/Admission_Predict.csv', sep=',')\n",
    "\n",
    "data"
   ]
  },
  {
   "cell_type": "markdown",
   "metadata": {},
   "source": [
    "Remove trailing spaces at the end of the column names if there are any.\n"
   ]
  },
  {
   "cell_type": "code",
   "execution_count": 3,
   "metadata": {},
   "outputs": [],
   "source": [
    "# your code here\n",
    "\n",
    "data.columns = data.columns.str.replace(' ', '')\n"
   ]
  },
  {
   "cell_type": "markdown",
   "metadata": {},
   "source": [
    "Let's evaluate the dataset by looking at the `head` function."
   ]
  },
  {
   "cell_type": "code",
   "execution_count": 4,
   "metadata": {},
   "outputs": [
    {
     "output_type": "execute_result",
     "data": {
      "text/plain": "   SerialNo.  GREScore  TOEFLScore  UniversityRating  SOP  LOR  CGPA  \\\n0          1       337         118                 4  4.5  4.5  9.65   \n1          2       324         107                 4  4.0  4.5  8.87   \n2          3       316         104                 3  3.0  3.5  8.00   \n3          4       322         110                 3  3.5  2.5  8.67   \n4          5       314         103                 2  2.0  3.0  8.21   \n\n   Research  ChanceofAdmit  \n0         1           0.92  \n1         1           0.76  \n2         1           0.72  \n3         1           0.80  \n4         0           0.65  ",
      "text/html": "<div>\n<style scoped>\n    .dataframe tbody tr th:only-of-type {\n        vertical-align: middle;\n    }\n\n    .dataframe tbody tr th {\n        vertical-align: top;\n    }\n\n    .dataframe thead th {\n        text-align: right;\n    }\n</style>\n<table border=\"1\" class=\"dataframe\">\n  <thead>\n    <tr style=\"text-align: right;\">\n      <th></th>\n      <th>SerialNo.</th>\n      <th>GREScore</th>\n      <th>TOEFLScore</th>\n      <th>UniversityRating</th>\n      <th>SOP</th>\n      <th>LOR</th>\n      <th>CGPA</th>\n      <th>Research</th>\n      <th>ChanceofAdmit</th>\n    </tr>\n  </thead>\n  <tbody>\n    <tr>\n      <th>0</th>\n      <td>1</td>\n      <td>337</td>\n      <td>118</td>\n      <td>4</td>\n      <td>4.5</td>\n      <td>4.5</td>\n      <td>9.65</td>\n      <td>1</td>\n      <td>0.92</td>\n    </tr>\n    <tr>\n      <th>1</th>\n      <td>2</td>\n      <td>324</td>\n      <td>107</td>\n      <td>4</td>\n      <td>4.0</td>\n      <td>4.5</td>\n      <td>8.87</td>\n      <td>1</td>\n      <td>0.76</td>\n    </tr>\n    <tr>\n      <th>2</th>\n      <td>3</td>\n      <td>316</td>\n      <td>104</td>\n      <td>3</td>\n      <td>3.0</td>\n      <td>3.5</td>\n      <td>8.00</td>\n      <td>1</td>\n      <td>0.72</td>\n    </tr>\n    <tr>\n      <th>3</th>\n      <td>4</td>\n      <td>322</td>\n      <td>110</td>\n      <td>3</td>\n      <td>3.5</td>\n      <td>2.5</td>\n      <td>8.67</td>\n      <td>1</td>\n      <td>0.80</td>\n    </tr>\n    <tr>\n      <th>4</th>\n      <td>5</td>\n      <td>314</td>\n      <td>103</td>\n      <td>2</td>\n      <td>2.0</td>\n      <td>3.0</td>\n      <td>8.21</td>\n      <td>0</td>\n      <td>0.65</td>\n    </tr>\n  </tbody>\n</table>\n</div>"
     },
     "metadata": {},
     "execution_count": 4
    }
   ],
   "source": [
    "# your code here\n",
    "\n",
    "data.head()"
   ]
  },
  {
   "cell_type": "markdown",
   "metadata": {},
   "source": [
    "Before beginning to work with this dataset and evaluating graduate admissions data, we will verify that there is no missing data in the dataset. Do this in the cell below."
   ]
  },
  {
   "cell_type": "code",
   "execution_count": 5,
   "metadata": {},
   "outputs": [
    {
     "output_type": "execute_result",
     "data": {
      "text/plain": "SerialNo.           0\nGREScore            0\nTOEFLScore          0\nUniversityRating    0\nSOP                 0\nLOR                 0\nCGPA                0\nResearch            0\nChanceofAdmit       0\ndtype: int64"
     },
     "metadata": {},
     "execution_count": 5
    }
   ],
   "source": [
    "# your code here\n",
    "\n",
    "data.isnull().sum()"
   ]
  },
  {
   "cell_type": "markdown",
   "metadata": {},
   "source": [
    "Interestingly, there is a column that uniquely identifies the applicants. This column is the serial number column. Instead of having our own index, we should make this column our index. Do this in the cell below. Keep the column in the dataframe in addition to making it an index."
   ]
  },
  {
   "cell_type": "code",
   "execution_count": 6,
   "metadata": {},
   "outputs": [
    {
     "output_type": "execute_result",
     "data": {
      "text/plain": "             SerialNo.  GREScore  TOEFLScore  UniversityRating  SOP  LOR  \\\nSerialIndex                                                                \n1                    1       337         118                 4  4.5  4.5   \n2                    2       324         107                 4  4.0  4.5   \n3                    3       316         104                 3  3.0  3.5   \n4                    4       322         110                 3  3.5  2.5   \n5                    5       314         103                 2  2.0  3.0   \n...                ...       ...         ...               ...  ...  ...   \n396                396       324         110                 3  3.5  3.5   \n397                397       325         107                 3  3.0  3.5   \n398                398       330         116                 4  5.0  4.5   \n399                399       312         103                 3  3.5  4.0   \n400                400       333         117                 4  5.0  4.0   \n\n             CGPA  Research  ChanceofAdmit  \nSerialIndex                                 \n1            9.65         1           0.92  \n2            8.87         1           0.76  \n3            8.00         1           0.72  \n4            8.67         1           0.80  \n5            8.21         0           0.65  \n...           ...       ...            ...  \n396          9.04         1           0.82  \n397          9.11         1           0.84  \n398          9.45         1           0.91  \n399          8.78         0           0.67  \n400          9.66         1           0.95  \n\n[400 rows x 9 columns]",
      "text/html": "<div>\n<style scoped>\n    .dataframe tbody tr th:only-of-type {\n        vertical-align: middle;\n    }\n\n    .dataframe tbody tr th {\n        vertical-align: top;\n    }\n\n    .dataframe thead th {\n        text-align: right;\n    }\n</style>\n<table border=\"1\" class=\"dataframe\">\n  <thead>\n    <tr style=\"text-align: right;\">\n      <th></th>\n      <th>SerialNo.</th>\n      <th>GREScore</th>\n      <th>TOEFLScore</th>\n      <th>UniversityRating</th>\n      <th>SOP</th>\n      <th>LOR</th>\n      <th>CGPA</th>\n      <th>Research</th>\n      <th>ChanceofAdmit</th>\n    </tr>\n    <tr>\n      <th>SerialIndex</th>\n      <th></th>\n      <th></th>\n      <th></th>\n      <th></th>\n      <th></th>\n      <th></th>\n      <th></th>\n      <th></th>\n      <th></th>\n    </tr>\n  </thead>\n  <tbody>\n    <tr>\n      <th>1</th>\n      <td>1</td>\n      <td>337</td>\n      <td>118</td>\n      <td>4</td>\n      <td>4.5</td>\n      <td>4.5</td>\n      <td>9.65</td>\n      <td>1</td>\n      <td>0.92</td>\n    </tr>\n    <tr>\n      <th>2</th>\n      <td>2</td>\n      <td>324</td>\n      <td>107</td>\n      <td>4</td>\n      <td>4.0</td>\n      <td>4.5</td>\n      <td>8.87</td>\n      <td>1</td>\n      <td>0.76</td>\n    </tr>\n    <tr>\n      <th>3</th>\n      <td>3</td>\n      <td>316</td>\n      <td>104</td>\n      <td>3</td>\n      <td>3.0</td>\n      <td>3.5</td>\n      <td>8.00</td>\n      <td>1</td>\n      <td>0.72</td>\n    </tr>\n    <tr>\n      <th>4</th>\n      <td>4</td>\n      <td>322</td>\n      <td>110</td>\n      <td>3</td>\n      <td>3.5</td>\n      <td>2.5</td>\n      <td>8.67</td>\n      <td>1</td>\n      <td>0.80</td>\n    </tr>\n    <tr>\n      <th>5</th>\n      <td>5</td>\n      <td>314</td>\n      <td>103</td>\n      <td>2</td>\n      <td>2.0</td>\n      <td>3.0</td>\n      <td>8.21</td>\n      <td>0</td>\n      <td>0.65</td>\n    </tr>\n    <tr>\n      <th>...</th>\n      <td>...</td>\n      <td>...</td>\n      <td>...</td>\n      <td>...</td>\n      <td>...</td>\n      <td>...</td>\n      <td>...</td>\n      <td>...</td>\n      <td>...</td>\n    </tr>\n    <tr>\n      <th>396</th>\n      <td>396</td>\n      <td>324</td>\n      <td>110</td>\n      <td>3</td>\n      <td>3.5</td>\n      <td>3.5</td>\n      <td>9.04</td>\n      <td>1</td>\n      <td>0.82</td>\n    </tr>\n    <tr>\n      <th>397</th>\n      <td>397</td>\n      <td>325</td>\n      <td>107</td>\n      <td>3</td>\n      <td>3.0</td>\n      <td>3.5</td>\n      <td>9.11</td>\n      <td>1</td>\n      <td>0.84</td>\n    </tr>\n    <tr>\n      <th>398</th>\n      <td>398</td>\n      <td>330</td>\n      <td>116</td>\n      <td>4</td>\n      <td>5.0</td>\n      <td>4.5</td>\n      <td>9.45</td>\n      <td>1</td>\n      <td>0.91</td>\n    </tr>\n    <tr>\n      <th>399</th>\n      <td>399</td>\n      <td>312</td>\n      <td>103</td>\n      <td>3</td>\n      <td>3.5</td>\n      <td>4.0</td>\n      <td>8.78</td>\n      <td>0</td>\n      <td>0.67</td>\n    </tr>\n    <tr>\n      <th>400</th>\n      <td>400</td>\n      <td>333</td>\n      <td>117</td>\n      <td>4</td>\n      <td>5.0</td>\n      <td>4.0</td>\n      <td>9.66</td>\n      <td>1</td>\n      <td>0.95</td>\n    </tr>\n  </tbody>\n</table>\n<p>400 rows × 9 columns</p>\n</div>"
     },
     "metadata": {},
     "execution_count": 6
    }
   ],
   "source": [
    "# your code here\n",
    "\n",
    "data['SerialIndex'] = data['SerialNo.']\n",
    "data.set_index(['SerialIndex'], inplace=True)\n",
    "\n",
    "data"
   ]
  },
  {
   "cell_type": "markdown",
   "metadata": {},
   "source": [
    "Turns out that `GRE Score` and `CGPA` also uniquely identify the data. Show this in the cell below."
   ]
  },
  {
   "cell_type": "code",
   "execution_count": 7,
   "metadata": {},
   "outputs": [
    {
     "output_type": "execute_result",
     "data": {
      "text/plain": "array([(337, 9.65), (324, 8.87), (316, 8.0), (322, 8.67), (314, 8.21),\n       (330, 9.34), (321, 8.2), (308, 7.9), (302, 8.0), (323, 8.6),\n       (325, 8.4), (327, 9.0), (328, 9.1), (307, 8.0), (311, 8.2),\n       (314, 8.3), (317, 8.7), (319, 8.0), (318, 8.8), (303, 8.5),\n       (312, 7.9), (328, 9.5), (334, 9.7), (336, 9.8), (340, 9.6),\n       (322, 8.8), (298, 7.5), (295, 7.2), (310, 7.3), (300, 8.1),\n       (327, 8.3), (338, 9.4), (331, 9.8), (320, 9.2), (299, 8.4),\n       (300, 7.8), (304, 7.5), (307, 7.7), (308, 8.0), (316, 8.2),\n       (313, 8.5), (332, 9.1), (326, 9.4), (322, 9.1), (329, 9.3),\n       (339, 9.7), (321, 8.85), (327, 8.4), (313, 8.3), (334, 8.0),\n       (324, 8.1), (322, 8.0), (320, 7.7), (316, 7.4), (298, 7.6),\n       (300, 6.8), (311, 8.3), (309, 8.1), (307, 8.2), (304, 8.2),\n       (315, 8.5), (325, 8.7), (325, 8.92), (327, 9.02), (316, 8.64),\n       (318, 9.22), (328, 9.16), (332, 9.64), (336, 9.76), (321, 9.45),\n       (314, 9.04), (314, 8.9), (329, 8.56), (327, 8.72), (301, 8.22),\n       (296, 7.54), (294, 7.36), (312, 8.02), (340, 9.5), (320, 9.22),\n       (322, 9.36), (340, 9.45), (319, 8.66), (315, 8.42), (317, 8.28),\n       (314, 8.14), (316, 8.76), (318, 7.92), (299, 7.66), (298, 8.03),\n       (301, 7.88), (303, 7.66), (304, 7.84), (306, 8.0), (331, 8.96),\n       (332, 9.24), (323, 8.88), (322, 8.46), (312, 8.12), (314, 8.25),\n       (317, 8.47), (326, 9.05), (316, 8.78), (329, 9.18), (338, 9.46),\n       (331, 9.38), (304, 8.64), (305, 8.48), (321, 8.68), (301, 8.34),\n       (320, 8.56), (311, 8.45), (310, 9.04), (299, 8.62), (290, 7.46),\n       (296, 7.28), (327, 8.84), (335, 9.56), (334, 9.48), (310, 8.36),\n       (308, 8.22), (301, 8.47), (300, 8.66), (323, 9.32), (319, 8.71),\n       (326, 9.1), (333, 9.35), (339, 9.76), (303, 8.65), (309, 8.56),\n       (323, 8.78), (333, 9.28), (314, 8.77), (312, 8.45), (316, 8.16),\n       (326, 9.08), (318, 9.12), (329, 9.15), (332, 9.36), (331, 9.44),\n       (340, 9.92), (325, 8.96), (320, 8.64), (315, 8.48), (326, 9.11),\n       (339, 9.8), (311, 8.26), (334, 9.43), (332, 9.28), (321, 9.06),\n       (324, 8.75), (326, 8.89), (312, 8.69), (315, 8.34), (309, 8.26),\n       (306, 8.14), (297, 7.9), (315, 7.86), (298, 7.46), (318, 8.5),\n       (317, 8.56), (329, 9.01), (322, 8.97), (302, 8.33), (313, 8.27),\n       (293, 7.8), (311, 7.98), (312, 8.04), (334, 9.07), (322, 9.13),\n       (323, 9.23), (321, 8.97), (320, 8.87), (329, 9.16), (319, 9.04),\n       (309, 8.12), (307, 8.27), (300, 8.16), (305, 8.42), (299, 7.88),\n       (314, 8.8), (316, 8.32), (327, 9.11), (317, 8.68), (335, 9.44),\n       (331, 9.36), (324, 9.08), (324, 9.16), (323, 8.98), (322, 8.94),\n       (336, 9.53), (307, 8.52), (306, 8.26), (310, 8.33), (311, 8.43),\n       (313, 8.69), (317, 8.54), (315, 8.46), (340, 9.91), (334, 9.87),\n       (298, 8.54), (295, 7.65), (315, 7.89), (310, 8.02), (305, 8.16),\n       (301, 8.12), (325, 9.06), (328, 9.14), (338, 9.66), (333, 9.78),\n       (331, 9.42), (330, 9.36), (322, 9.26), (321, 9.13), (324, 8.97),\n       (312, 8.42), (313, 8.75), (316, 8.56), (324, 8.79), (308, 8.45),\n       (305, 8.23), (296, 8.03), (306, 8.45), (312, 8.53), (318, 8.67),\n       (324, 9.01), (313, 8.65), (319, 8.33), (312, 8.27), (304, 8.07),\n       (330, 9.31), (326, 9.23), (325, 9.17), (329, 9.19), (310, 8.37),\n       (299, 7.89), (296, 7.68), (317, 8.15), (324, 8.76), (325, 9.04),\n       (314, 8.56), (328, 9.02), (316, 8.73), (311, 8.48), (321, 8.83),\n       (320, 8.57), (316, 9.0), (318, 8.54), (335, 9.68), (321, 9.12),\n       (307, 8.37), (324, 8.64), (326, 8.76), (331, 9.34), (327, 9.13),\n       (312, 8.09), (308, 8.36), (325, 8.76), (313, 8.68), (314, 8.17),\n       (327, 9.14), (308, 8.34), (306, 8.22), (299, 7.86), (294, 7.64),\n       (312, 8.01), (315, 7.95), (322, 8.96), (329, 9.45), (320, 8.62),\n       (308, 8.49), (304, 8.73), (311, 8.64), (317, 9.11), (312, 8.79),\n       (321, 8.9), (340, 9.66), (331, 9.26), (336, 9.19), (314, 9.02),\n       (313, 9.0), (307, 7.65), (300, 7.87), (302, 7.97), (312, 8.18),\n       (317, 8.57), (310, 8.67), (320, 9.11), (330, 9.24), (305, 8.65),\n       (309, 8.0), (319, 8.76), (322, 8.45), (323, 8.55), (313, 8.43),\n       (321, 8.8), (323, 9.1), (325, 9.0), (308, 8.6), (320, 8.74),\n       (328, 9.18), (311, 9.0), (301, 8.04), (305, 8.13), (308, 8.07),\n       (298, 7.86), (300, 8.01), (324, 8.8), (327, 8.69), (317, 8.5),\n       (323, 8.44), (314, 8.27), (305, 8.18), (315, 8.33), (326, 9.14),\n       (299, 8.02), (295, 7.86), (324, 8.77), (297, 7.89), (327, 8.66),\n       (311, 8.12), (308, 8.21), (319, 8.54), (312, 8.65), (325, 9.11),\n       (319, 8.79), (332, 9.47), (323, 8.74), (324, 8.66), (312, 8.46),\n       (308, 8.24), (295, 7.34), (316, 7.43), (304, 7.64), (299, 7.34),\n       (302, 7.25), (313, 8.04), (318, 8.27), (325, 8.67), (303, 8.06),\n       (300, 8.17), (297, 7.67), (317, 8.12), (327, 8.77), (301, 7.89),\n       (314, 7.64), (321, 8.44), (322, 8.64), (334, 9.54), (338, 9.23),\n       (306, 8.36), (313, 8.9), (330, 9.17), (320, 8.34), (311, 7.46),\n       (298, 7.88), (301, 8.03), (310, 8.24), (324, 9.22), (336, 9.62),\n       (321, 8.54), (315, 7.65), (304, 7.66), (297, 7.43), (290, 7.56),\n       (303, 7.65), (322, 8.84), (319, 8.67), (324, 9.15), (300, 8.26),\n       (340, 9.74), (335, 9.82), (302, 7.96), (307, 8.1), (296, 7.8),\n       (320, 8.44), (314, 8.24), (318, 8.65), (326, 9.12), (317, 8.76),\n       (329, 9.23), (324, 9.04), (330, 9.45), (312, 8.78), (333, 9.66)],\n      dtype=object)"
     },
     "metadata": {},
     "execution_count": 7
    }
   ],
   "source": [
    "# your code here\n",
    "\n",
    "result = list(zip(list(data['GREScore']), list(data['CGPA'])))\n",
    "result2 = pd.unique(result)\n",
    "\n",
    "result2"
   ]
  },
  {
   "cell_type": "markdown",
   "metadata": {},
   "source": [
    "Replace the index with an index comprised of two columns - `GRE Score` and `CGPA`. Remove the columns from the dataset as well. Make sure to use `inplace=True`."
   ]
  },
  {
   "cell_type": "markdown",
   "metadata": {},
   "source": [
    "Now change the index back to a sequence starting at zero using the `reset_index` function. Make sure to use `inplace=True`."
   ]
  },
  {
   "cell_type": "code",
   "execution_count": 8,
   "metadata": {},
   "outputs": [
    {
     "output_type": "execute_result",
     "data": {
      "text/plain": "     GREScore  CGPA  SerialNo.  TOEFLScore  UniversityRating  SOP  LOR  \\\n0         337  9.65          1         118                 4  4.5  4.5   \n1         324  8.87          2         107                 4  4.0  4.5   \n2         316  8.00          3         104                 3  3.0  3.5   \n3         322  8.67          4         110                 3  3.5  2.5   \n4         314  8.21          5         103                 2  2.0  3.0   \n..        ...   ...        ...         ...               ...  ...  ...   \n395       324  9.04        396         110                 3  3.5  3.5   \n396       325  9.11        397         107                 3  3.0  3.5   \n397       330  9.45        398         116                 4  5.0  4.5   \n398       312  8.78        399         103                 3  3.5  4.0   \n399       333  9.66        400         117                 4  5.0  4.0   \n\n     Research  ChanceofAdmit  \n0           1           0.92  \n1           1           0.76  \n2           1           0.72  \n3           1           0.80  \n4           0           0.65  \n..        ...            ...  \n395         1           0.82  \n396         1           0.84  \n397         1           0.91  \n398         0           0.67  \n399         1           0.95  \n\n[400 rows x 9 columns]",
      "text/html": "<div>\n<style scoped>\n    .dataframe tbody tr th:only-of-type {\n        vertical-align: middle;\n    }\n\n    .dataframe tbody tr th {\n        vertical-align: top;\n    }\n\n    .dataframe thead th {\n        text-align: right;\n    }\n</style>\n<table border=\"1\" class=\"dataframe\">\n  <thead>\n    <tr style=\"text-align: right;\">\n      <th></th>\n      <th>GREScore</th>\n      <th>CGPA</th>\n      <th>SerialNo.</th>\n      <th>TOEFLScore</th>\n      <th>UniversityRating</th>\n      <th>SOP</th>\n      <th>LOR</th>\n      <th>Research</th>\n      <th>ChanceofAdmit</th>\n    </tr>\n  </thead>\n  <tbody>\n    <tr>\n      <th>0</th>\n      <td>337</td>\n      <td>9.65</td>\n      <td>1</td>\n      <td>118</td>\n      <td>4</td>\n      <td>4.5</td>\n      <td>4.5</td>\n      <td>1</td>\n      <td>0.92</td>\n    </tr>\n    <tr>\n      <th>1</th>\n      <td>324</td>\n      <td>8.87</td>\n      <td>2</td>\n      <td>107</td>\n      <td>4</td>\n      <td>4.0</td>\n      <td>4.5</td>\n      <td>1</td>\n      <td>0.76</td>\n    </tr>\n    <tr>\n      <th>2</th>\n      <td>316</td>\n      <td>8.00</td>\n      <td>3</td>\n      <td>104</td>\n      <td>3</td>\n      <td>3.0</td>\n      <td>3.5</td>\n      <td>1</td>\n      <td>0.72</td>\n    </tr>\n    <tr>\n      <th>3</th>\n      <td>322</td>\n      <td>8.67</td>\n      <td>4</td>\n      <td>110</td>\n      <td>3</td>\n      <td>3.5</td>\n      <td>2.5</td>\n      <td>1</td>\n      <td>0.80</td>\n    </tr>\n    <tr>\n      <th>4</th>\n      <td>314</td>\n      <td>8.21</td>\n      <td>5</td>\n      <td>103</td>\n      <td>2</td>\n      <td>2.0</td>\n      <td>3.0</td>\n      <td>0</td>\n      <td>0.65</td>\n    </tr>\n    <tr>\n      <th>...</th>\n      <td>...</td>\n      <td>...</td>\n      <td>...</td>\n      <td>...</td>\n      <td>...</td>\n      <td>...</td>\n      <td>...</td>\n      <td>...</td>\n      <td>...</td>\n    </tr>\n    <tr>\n      <th>395</th>\n      <td>324</td>\n      <td>9.04</td>\n      <td>396</td>\n      <td>110</td>\n      <td>3</td>\n      <td>3.5</td>\n      <td>3.5</td>\n      <td>1</td>\n      <td>0.82</td>\n    </tr>\n    <tr>\n      <th>396</th>\n      <td>325</td>\n      <td>9.11</td>\n      <td>397</td>\n      <td>107</td>\n      <td>3</td>\n      <td>3.0</td>\n      <td>3.5</td>\n      <td>1</td>\n      <td>0.84</td>\n    </tr>\n    <tr>\n      <th>397</th>\n      <td>330</td>\n      <td>9.45</td>\n      <td>398</td>\n      <td>116</td>\n      <td>4</td>\n      <td>5.0</td>\n      <td>4.5</td>\n      <td>1</td>\n      <td>0.91</td>\n    </tr>\n    <tr>\n      <th>398</th>\n      <td>312</td>\n      <td>8.78</td>\n      <td>399</td>\n      <td>103</td>\n      <td>3</td>\n      <td>3.5</td>\n      <td>4.0</td>\n      <td>0</td>\n      <td>0.67</td>\n    </tr>\n    <tr>\n      <th>399</th>\n      <td>333</td>\n      <td>9.66</td>\n      <td>400</td>\n      <td>117</td>\n      <td>4</td>\n      <td>5.0</td>\n      <td>4.0</td>\n      <td>1</td>\n      <td>0.95</td>\n    </tr>\n  </tbody>\n</table>\n<p>400 rows × 9 columns</p>\n</div>"
     },
     "metadata": {},
     "execution_count": 8
    }
   ],
   "source": [
    "# your code here\n",
    "\n",
    "data2 = data.set_index(['GREScore', 'CGPA'])\n",
    "\n",
    "data3 = data2.reset_index()\n",
    "\n",
    "data3"
   ]
  },
  {
   "cell_type": "markdown",
   "metadata": {},
   "source": [
    "# Challenge 2 - Advanced Functions\n",
    "\n",
    "In this part of the lab, we would like to test complex conditions on the entire dataset at once. Let's start by finding the number of rows where the CGPA is higher than 9 and the student has conducted research."
   ]
  },
  {
   "cell_type": "code",
   "execution_count": 9,
   "metadata": {},
   "outputs": [
    {
     "output_type": "execute_result",
     "data": {
      "text/plain": "    Serial No.  GRE Score  TOEFL Score  University Rating  SOP  LOR   CGPA  \\\n0            1        337          118                  4  4.5   4.5  9.65   \n5            6        330          115                  5  4.5   3.0  9.34   \n12          13        328          112                  4  4.0   4.5  9.10   \n22          23        328          116                  5  5.0   5.0  9.50   \n23          24        334          119                  5  5.0   4.5  9.70   \n\n    Research  Chance of Admit   \n0          1              0.92  \n5          1              0.90  \n12         1              0.78  \n22         1              0.94  \n23         1              0.95  ",
      "text/html": "<div>\n<style scoped>\n    .dataframe tbody tr th:only-of-type {\n        vertical-align: middle;\n    }\n\n    .dataframe tbody tr th {\n        vertical-align: top;\n    }\n\n    .dataframe thead th {\n        text-align: right;\n    }\n</style>\n<table border=\"1\" class=\"dataframe\">\n  <thead>\n    <tr style=\"text-align: right;\">\n      <th></th>\n      <th>Serial No.</th>\n      <th>GRE Score</th>\n      <th>TOEFL Score</th>\n      <th>University Rating</th>\n      <th>SOP</th>\n      <th>LOR</th>\n      <th>CGPA</th>\n      <th>Research</th>\n      <th>Chance of Admit</th>\n    </tr>\n  </thead>\n  <tbody>\n    <tr>\n      <th>0</th>\n      <td>1</td>\n      <td>337</td>\n      <td>118</td>\n      <td>4</td>\n      <td>4.5</td>\n      <td>4.5</td>\n      <td>9.65</td>\n      <td>1</td>\n      <td>0.92</td>\n    </tr>\n    <tr>\n      <th>5</th>\n      <td>6</td>\n      <td>330</td>\n      <td>115</td>\n      <td>5</td>\n      <td>4.5</td>\n      <td>3.0</td>\n      <td>9.34</td>\n      <td>1</td>\n      <td>0.90</td>\n    </tr>\n    <tr>\n      <th>12</th>\n      <td>13</td>\n      <td>328</td>\n      <td>112</td>\n      <td>4</td>\n      <td>4.0</td>\n      <td>4.5</td>\n      <td>9.10</td>\n      <td>1</td>\n      <td>0.78</td>\n    </tr>\n    <tr>\n      <th>22</th>\n      <td>23</td>\n      <td>328</td>\n      <td>116</td>\n      <td>5</td>\n      <td>5.0</td>\n      <td>5.0</td>\n      <td>9.50</td>\n      <td>1</td>\n      <td>0.94</td>\n    </tr>\n    <tr>\n      <th>23</th>\n      <td>24</td>\n      <td>334</td>\n      <td>119</td>\n      <td>5</td>\n      <td>5.0</td>\n      <td>4.5</td>\n      <td>9.70</td>\n      <td>1</td>\n      <td>0.95</td>\n    </tr>\n  </tbody>\n</table>\n</div>"
     },
     "metadata": {},
     "execution_count": 9
    }
   ],
   "source": [
    "# your code here\n",
    "\n",
    "data_a = pd.read_csv('../data/Admission_Predict.csv', sep=',')\n",
    "\n",
    "data_a.query('CGPA > 9 & Research == 1').head()"
   ]
  },
  {
   "cell_type": "markdown",
   "metadata": {},
   "source": [
    "Now return all the rows where the CGPA is greater than 9 and the SOP score is less than 3.5. Find the mean chance of admit for these applicants."
   ]
  },
  {
   "cell_type": "code",
   "execution_count": 10,
   "metadata": {},
   "outputs": [
    {
     "output_type": "execute_result",
     "data": {
      "text/plain": "     Serial No.  GRE Score  TOEFL Score  University Rating  SOP  LOR   CGPA  \\\n32           33        338          118                  4  3.0   4.5  9.40   \n66           67        327          114                  3  3.0   3.0  9.02   \n147         148        326          114                  3  3.0   3.0  9.11   \n229         230        324          111                  4  3.0   3.0  9.01   \n396         397        325          107                  3  3.0   3.5  9.11   \n\n     Research  Chance of Admit   \n32          1              0.91  \n66          0              0.61  \n147         1              0.83  \n229         1              0.82  \n396         1              0.84  ",
      "text/html": "<div>\n<style scoped>\n    .dataframe tbody tr th:only-of-type {\n        vertical-align: middle;\n    }\n\n    .dataframe tbody tr th {\n        vertical-align: top;\n    }\n\n    .dataframe thead th {\n        text-align: right;\n    }\n</style>\n<table border=\"1\" class=\"dataframe\">\n  <thead>\n    <tr style=\"text-align: right;\">\n      <th></th>\n      <th>Serial No.</th>\n      <th>GRE Score</th>\n      <th>TOEFL Score</th>\n      <th>University Rating</th>\n      <th>SOP</th>\n      <th>LOR</th>\n      <th>CGPA</th>\n      <th>Research</th>\n      <th>Chance of Admit</th>\n    </tr>\n  </thead>\n  <tbody>\n    <tr>\n      <th>32</th>\n      <td>33</td>\n      <td>338</td>\n      <td>118</td>\n      <td>4</td>\n      <td>3.0</td>\n      <td>4.5</td>\n      <td>9.40</td>\n      <td>1</td>\n      <td>0.91</td>\n    </tr>\n    <tr>\n      <th>66</th>\n      <td>67</td>\n      <td>327</td>\n      <td>114</td>\n      <td>3</td>\n      <td>3.0</td>\n      <td>3.0</td>\n      <td>9.02</td>\n      <td>0</td>\n      <td>0.61</td>\n    </tr>\n    <tr>\n      <th>147</th>\n      <td>148</td>\n      <td>326</td>\n      <td>114</td>\n      <td>3</td>\n      <td>3.0</td>\n      <td>3.0</td>\n      <td>9.11</td>\n      <td>1</td>\n      <td>0.83</td>\n    </tr>\n    <tr>\n      <th>229</th>\n      <td>230</td>\n      <td>324</td>\n      <td>111</td>\n      <td>4</td>\n      <td>3.0</td>\n      <td>3.0</td>\n      <td>9.01</td>\n      <td>1</td>\n      <td>0.82</td>\n    </tr>\n    <tr>\n      <th>396</th>\n      <td>397</td>\n      <td>325</td>\n      <td>107</td>\n      <td>3</td>\n      <td>3.0</td>\n      <td>3.5</td>\n      <td>9.11</td>\n      <td>1</td>\n      <td>0.84</td>\n    </tr>\n  </tbody>\n</table>\n</div>"
     },
     "metadata": {},
     "execution_count": 10
    }
   ],
   "source": [
    "# your code here\n",
    "\n",
    "data_a.query('CGPA > 9 & SOP < 3.5')"
   ]
  },
  {
   "cell_type": "markdown",
   "metadata": {},
   "source": [
    "We would like to create a deciding factor column for each student. We standardize several columns and then pick the most important factor from a lookup table. If the standardized value is above 0.8, the student will be accepted.\n",
    "\n",
    "We will start by creating a standardized column for `CGPA`, `GRE Score` and `LOR`. We will name these columns `CGPA_std`, `GRE_std`, and `LOR_std` respecively.\n",
    "\n",
    "Recall that standardizing a column is done by subtracting the mean of the column from all observations in the column and then dividing each observation in the column by the column's standard deviation.\n",
    "\n",
    "In the cell below, write a standardization function (a function that takes a column as input and returns a standardized column as output). Make sure to use the `numpy` versions of mean and standard deviation."
   ]
  },
  {
   "cell_type": "code",
   "execution_count": 11,
   "metadata": {},
   "outputs": [],
   "source": [
    "def standardize(col):\n",
    "    \"\"\"\n",
    "    This function takes a column from a dataframe \n",
    "    and returns a standardized column by subtracting the column's mean\n",
    "    and dividing by the column's standard deviation.\n",
    "    \"\"\"\n",
    "    \n",
    "    # your code here\n",
    "    return col.mean() / np.std(col)"
   ]
  },
  {
   "cell_type": "markdown",
   "metadata": {},
   "source": [
    "Now create the standardized columns `CGPA_std`, `GRE_std`, and `LOR_std` and add them to the `admissions` dataframe."
   ]
  },
  {
   "cell_type": "code",
   "execution_count": 12,
   "metadata": {},
   "outputs": [
    {
     "output_type": "execute_result",
     "data": {
      "text/plain": "   Serial No.  GRE Score  TOEFL Score  University Rating  SOP  LOR   CGPA  \\\n0           1        337          118                  4  4.5   4.5  9.65   \n1           2        324          107                  4  4.0   4.5  8.87   \n2           3        316          104                  3  3.0   3.5  8.00   \n3           4        322          110                  3  3.5   2.5  8.67   \n4           5        314          103                  2  2.0   3.0  8.21   \n\n   Research  Chance of Admit    CGPA_std    GRE_std   LOR_std  \n0         1              0.92  14.438113  27.646334  3.847424  \n1         1              0.76  14.438113  27.646334  3.847424  \n2         1              0.72  14.438113  27.646334  3.847424  \n3         1              0.80  14.438113  27.646334  3.847424  \n4         0              0.65  14.438113  27.646334  3.847424  ",
      "text/html": "<div>\n<style scoped>\n    .dataframe tbody tr th:only-of-type {\n        vertical-align: middle;\n    }\n\n    .dataframe tbody tr th {\n        vertical-align: top;\n    }\n\n    .dataframe thead th {\n        text-align: right;\n    }\n</style>\n<table border=\"1\" class=\"dataframe\">\n  <thead>\n    <tr style=\"text-align: right;\">\n      <th></th>\n      <th>Serial No.</th>\n      <th>GRE Score</th>\n      <th>TOEFL Score</th>\n      <th>University Rating</th>\n      <th>SOP</th>\n      <th>LOR</th>\n      <th>CGPA</th>\n      <th>Research</th>\n      <th>Chance of Admit</th>\n      <th>CGPA_std</th>\n      <th>GRE_std</th>\n      <th>LOR_std</th>\n    </tr>\n  </thead>\n  <tbody>\n    <tr>\n      <th>0</th>\n      <td>1</td>\n      <td>337</td>\n      <td>118</td>\n      <td>4</td>\n      <td>4.5</td>\n      <td>4.5</td>\n      <td>9.65</td>\n      <td>1</td>\n      <td>0.92</td>\n      <td>14.438113</td>\n      <td>27.646334</td>\n      <td>3.847424</td>\n    </tr>\n    <tr>\n      <th>1</th>\n      <td>2</td>\n      <td>324</td>\n      <td>107</td>\n      <td>4</td>\n      <td>4.0</td>\n      <td>4.5</td>\n      <td>8.87</td>\n      <td>1</td>\n      <td>0.76</td>\n      <td>14.438113</td>\n      <td>27.646334</td>\n      <td>3.847424</td>\n    </tr>\n    <tr>\n      <th>2</th>\n      <td>3</td>\n      <td>316</td>\n      <td>104</td>\n      <td>3</td>\n      <td>3.0</td>\n      <td>3.5</td>\n      <td>8.00</td>\n      <td>1</td>\n      <td>0.72</td>\n      <td>14.438113</td>\n      <td>27.646334</td>\n      <td>3.847424</td>\n    </tr>\n    <tr>\n      <th>3</th>\n      <td>4</td>\n      <td>322</td>\n      <td>110</td>\n      <td>3</td>\n      <td>3.5</td>\n      <td>2.5</td>\n      <td>8.67</td>\n      <td>1</td>\n      <td>0.80</td>\n      <td>14.438113</td>\n      <td>27.646334</td>\n      <td>3.847424</td>\n    </tr>\n    <tr>\n      <th>4</th>\n      <td>5</td>\n      <td>314</td>\n      <td>103</td>\n      <td>2</td>\n      <td>2.0</td>\n      <td>3.0</td>\n      <td>8.21</td>\n      <td>0</td>\n      <td>0.65</td>\n      <td>14.438113</td>\n      <td>27.646334</td>\n      <td>3.847424</td>\n    </tr>\n  </tbody>\n</table>\n</div>"
     },
     "metadata": {},
     "execution_count": 12
    }
   ],
   "source": [
    "# your code here\n",
    "\n",
    "data_a['CGPA_std'] = standardize(data_a['CGPA'])\n",
    "data_a['GRE_std'] = standardize(data_a['GRE Score'])\n",
    "data_a['LOR_std'] = standardize(data_a['LOR '])\n",
    "\n",
    "data_a.head()"
   ]
  },
  {
   "cell_type": "markdown",
   "metadata": {},
   "source": [
    "We will generate the decision choice at random using the code below. Please run the cell."
   ]
  },
  {
   "cell_type": "code",
   "execution_count": 13,
   "metadata": {},
   "outputs": [],
   "source": [
    "# Libraries\n",
    "from random import choices"
   ]
  },
  {
   "cell_type": "code",
   "execution_count": 14,
   "metadata": {},
   "outputs": [],
   "source": [
    "std_columns = ['CGPA_std', 'GRE_std', 'LOR_std']\n",
    "\n",
    "decision_choice = choices(std_columns, k=data_a.shape[0])"
   ]
  },
  {
   "cell_type": "markdown",
   "metadata": {},
   "source": [
    "Now create the deciding column using the `lookup` function. The lookup column is `decision_choice` found above. Call the column resulting from the lookup function `deciding_column` and add it to the `admissions` dataframe."
   ]
  },
  {
   "cell_type": "code",
   "execution_count": 15,
   "metadata": {},
   "outputs": [
    {
     "output_type": "execute_result",
     "data": {
      "text/plain": "     Serial No.  GRE Score  TOEFL Score  University Rating  SOP  LOR   CGPA  \\\n0             1        337          118                  4  4.5   4.5  9.65   \n1             2        324          107                  4  4.0   4.5  8.87   \n2             3        316          104                  3  3.0   3.5  8.00   \n3             4        322          110                  3  3.5   2.5  8.67   \n4             5        314          103                  2  2.0   3.0  8.21   \n..          ...        ...          ...                ...  ...   ...   ...   \n395         396        324          110                  3  3.5   3.5  9.04   \n396         397        325          107                  3  3.0   3.5  9.11   \n397         398        330          116                  4  5.0   4.5  9.45   \n398         399        312          103                  3  3.5   4.0  8.78   \n399         400        333          117                  4  5.0   4.0  9.66   \n\n     Research  Chance of Admit    CGPA_std    GRE_std   LOR_std  \\\n0           1              0.92  14.438113  27.646334  3.847424   \n1           1              0.76  14.438113  27.646334  3.847424   \n2           1              0.72  14.438113  27.646334  3.847424   \n3           1              0.80  14.438113  27.646334  3.847424   \n4           0              0.65  14.438113  27.646334  3.847424   \n..        ...               ...        ...        ...       ...   \n395         1              0.82  14.438113  27.646334  3.847424   \n396         1              0.84  14.438113  27.646334  3.847424   \n397         1              0.91  14.438113  27.646334  3.847424   \n398         0              0.67  14.438113  27.646334  3.847424   \n399         1              0.95  14.438113  27.646334  3.847424   \n\n     deciding_column  \n0           3.847424  \n1           3.847424  \n2          14.438113  \n3          27.646334  \n4           3.847424  \n..               ...  \n395        14.438113  \n396        27.646334  \n397        14.438113  \n398        14.438113  \n399         3.847424  \n\n[400 rows x 13 columns]",
      "text/html": "<div>\n<style scoped>\n    .dataframe tbody tr th:only-of-type {\n        vertical-align: middle;\n    }\n\n    .dataframe tbody tr th {\n        vertical-align: top;\n    }\n\n    .dataframe thead th {\n        text-align: right;\n    }\n</style>\n<table border=\"1\" class=\"dataframe\">\n  <thead>\n    <tr style=\"text-align: right;\">\n      <th></th>\n      <th>Serial No.</th>\n      <th>GRE Score</th>\n      <th>TOEFL Score</th>\n      <th>University Rating</th>\n      <th>SOP</th>\n      <th>LOR</th>\n      <th>CGPA</th>\n      <th>Research</th>\n      <th>Chance of Admit</th>\n      <th>CGPA_std</th>\n      <th>GRE_std</th>\n      <th>LOR_std</th>\n      <th>deciding_column</th>\n    </tr>\n  </thead>\n  <tbody>\n    <tr>\n      <th>0</th>\n      <td>1</td>\n      <td>337</td>\n      <td>118</td>\n      <td>4</td>\n      <td>4.5</td>\n      <td>4.5</td>\n      <td>9.65</td>\n      <td>1</td>\n      <td>0.92</td>\n      <td>14.438113</td>\n      <td>27.646334</td>\n      <td>3.847424</td>\n      <td>3.847424</td>\n    </tr>\n    <tr>\n      <th>1</th>\n      <td>2</td>\n      <td>324</td>\n      <td>107</td>\n      <td>4</td>\n      <td>4.0</td>\n      <td>4.5</td>\n      <td>8.87</td>\n      <td>1</td>\n      <td>0.76</td>\n      <td>14.438113</td>\n      <td>27.646334</td>\n      <td>3.847424</td>\n      <td>3.847424</td>\n    </tr>\n    <tr>\n      <th>2</th>\n      <td>3</td>\n      <td>316</td>\n      <td>104</td>\n      <td>3</td>\n      <td>3.0</td>\n      <td>3.5</td>\n      <td>8.00</td>\n      <td>1</td>\n      <td>0.72</td>\n      <td>14.438113</td>\n      <td>27.646334</td>\n      <td>3.847424</td>\n      <td>14.438113</td>\n    </tr>\n    <tr>\n      <th>3</th>\n      <td>4</td>\n      <td>322</td>\n      <td>110</td>\n      <td>3</td>\n      <td>3.5</td>\n      <td>2.5</td>\n      <td>8.67</td>\n      <td>1</td>\n      <td>0.80</td>\n      <td>14.438113</td>\n      <td>27.646334</td>\n      <td>3.847424</td>\n      <td>27.646334</td>\n    </tr>\n    <tr>\n      <th>4</th>\n      <td>5</td>\n      <td>314</td>\n      <td>103</td>\n      <td>2</td>\n      <td>2.0</td>\n      <td>3.0</td>\n      <td>8.21</td>\n      <td>0</td>\n      <td>0.65</td>\n      <td>14.438113</td>\n      <td>27.646334</td>\n      <td>3.847424</td>\n      <td>3.847424</td>\n    </tr>\n    <tr>\n      <th>...</th>\n      <td>...</td>\n      <td>...</td>\n      <td>...</td>\n      <td>...</td>\n      <td>...</td>\n      <td>...</td>\n      <td>...</td>\n      <td>...</td>\n      <td>...</td>\n      <td>...</td>\n      <td>...</td>\n      <td>...</td>\n      <td>...</td>\n    </tr>\n    <tr>\n      <th>395</th>\n      <td>396</td>\n      <td>324</td>\n      <td>110</td>\n      <td>3</td>\n      <td>3.5</td>\n      <td>3.5</td>\n      <td>9.04</td>\n      <td>1</td>\n      <td>0.82</td>\n      <td>14.438113</td>\n      <td>27.646334</td>\n      <td>3.847424</td>\n      <td>14.438113</td>\n    </tr>\n    <tr>\n      <th>396</th>\n      <td>397</td>\n      <td>325</td>\n      <td>107</td>\n      <td>3</td>\n      <td>3.0</td>\n      <td>3.5</td>\n      <td>9.11</td>\n      <td>1</td>\n      <td>0.84</td>\n      <td>14.438113</td>\n      <td>27.646334</td>\n      <td>3.847424</td>\n      <td>27.646334</td>\n    </tr>\n    <tr>\n      <th>397</th>\n      <td>398</td>\n      <td>330</td>\n      <td>116</td>\n      <td>4</td>\n      <td>5.0</td>\n      <td>4.5</td>\n      <td>9.45</td>\n      <td>1</td>\n      <td>0.91</td>\n      <td>14.438113</td>\n      <td>27.646334</td>\n      <td>3.847424</td>\n      <td>14.438113</td>\n    </tr>\n    <tr>\n      <th>398</th>\n      <td>399</td>\n      <td>312</td>\n      <td>103</td>\n      <td>3</td>\n      <td>3.5</td>\n      <td>4.0</td>\n      <td>8.78</td>\n      <td>0</td>\n      <td>0.67</td>\n      <td>14.438113</td>\n      <td>27.646334</td>\n      <td>3.847424</td>\n      <td>14.438113</td>\n    </tr>\n    <tr>\n      <th>399</th>\n      <td>400</td>\n      <td>333</td>\n      <td>117</td>\n      <td>4</td>\n      <td>5.0</td>\n      <td>4.0</td>\n      <td>9.66</td>\n      <td>1</td>\n      <td>0.95</td>\n      <td>14.438113</td>\n      <td>27.646334</td>\n      <td>3.847424</td>\n      <td>3.847424</td>\n    </tr>\n  </tbody>\n</table>\n<p>400 rows × 13 columns</p>\n</div>"
     },
     "metadata": {},
     "execution_count": 15
    }
   ],
   "source": [
    "# your code here\n",
    "\n",
    "data_a['deciding_column'] = data_a.lookup(data_a.index, decision_choice)\n",
    "\n",
    "data_a"
   ]
  },
  {
   "cell_type": "markdown",
   "metadata": {},
   "source": [
    "Create a column called `decision` in the `admissions` dataframe. Assign 1 to this column if the value of `deciding_column` is greater than 0.8 and 0 otherwise."
   ]
  },
  {
   "cell_type": "code",
   "execution_count": 16,
   "metadata": {},
   "outputs": [],
   "source": [
    "# your code here"
   ]
  },
  {
   "cell_type": "markdown",
   "metadata": {},
   "source": [
    "How many applicants will be accepted to the program using the decision column? Compute the result below."
   ]
  },
  {
   "cell_type": "code",
   "execution_count": 17,
   "metadata": {},
   "outputs": [],
   "source": [
    "# your code here"
   ]
  },
  {
   "cell_type": "markdown",
   "metadata": {},
   "source": [
    "# Challenge 3 - Method Chaining\n",
    "\n",
    "To increase our coding efficiency, let's make a number of changes to our dataframe in one line of code.\n",
    "\n",
    "In the cell below, remove all non character symbols from the column names, replace all spaces in column names to underscores, and change all upper case characters to lower case. Assign these new column values to `admissions.columns`."
   ]
  },
  {
   "cell_type": "code",
   "execution_count": 18,
   "metadata": {},
   "outputs": [
    {
     "output_type": "execute_result",
     "data": {
      "text/plain": "     Serial_No  GRE_Score  TOEFL_Score  University_Rating  SOP  LOR_  CGPA  \\\n0            1        337          118                  4  4.5   4.5  9.65   \n1            2        324          107                  4  4.0   4.5  8.87   \n2            3        316          104                  3  3.0   3.5  8.00   \n3            4        322          110                  3  3.5   2.5  8.67   \n4            5        314          103                  2  2.0   3.0  8.21   \n..         ...        ...          ...                ...  ...   ...   ...   \n395        396        324          110                  3  3.5   3.5  9.04   \n396        397        325          107                  3  3.0   3.5  9.11   \n397        398        330          116                  4  5.0   4.5  9.45   \n398        399        312          103                  3  3.5   4.0  8.78   \n399        400        333          117                  4  5.0   4.0  9.66   \n\n     Research  Chance_of_Admit_  \n0           1              0.92  \n1           1              0.76  \n2           1              0.72  \n3           1              0.80  \n4           0              0.65  \n..        ...               ...  \n395         1              0.82  \n396         1              0.84  \n397         1              0.91  \n398         0              0.67  \n399         1              0.95  \n\n[400 rows x 9 columns]",
      "text/html": "<div>\n<style scoped>\n    .dataframe tbody tr th:only-of-type {\n        vertical-align: middle;\n    }\n\n    .dataframe tbody tr th {\n        vertical-align: top;\n    }\n\n    .dataframe thead th {\n        text-align: right;\n    }\n</style>\n<table border=\"1\" class=\"dataframe\">\n  <thead>\n    <tr style=\"text-align: right;\">\n      <th></th>\n      <th>Serial_No</th>\n      <th>GRE_Score</th>\n      <th>TOEFL_Score</th>\n      <th>University_Rating</th>\n      <th>SOP</th>\n      <th>LOR_</th>\n      <th>CGPA</th>\n      <th>Research</th>\n      <th>Chance_of_Admit_</th>\n    </tr>\n  </thead>\n  <tbody>\n    <tr>\n      <th>0</th>\n      <td>1</td>\n      <td>337</td>\n      <td>118</td>\n      <td>4</td>\n      <td>4.5</td>\n      <td>4.5</td>\n      <td>9.65</td>\n      <td>1</td>\n      <td>0.92</td>\n    </tr>\n    <tr>\n      <th>1</th>\n      <td>2</td>\n      <td>324</td>\n      <td>107</td>\n      <td>4</td>\n      <td>4.0</td>\n      <td>4.5</td>\n      <td>8.87</td>\n      <td>1</td>\n      <td>0.76</td>\n    </tr>\n    <tr>\n      <th>2</th>\n      <td>3</td>\n      <td>316</td>\n      <td>104</td>\n      <td>3</td>\n      <td>3.0</td>\n      <td>3.5</td>\n      <td>8.00</td>\n      <td>1</td>\n      <td>0.72</td>\n    </tr>\n    <tr>\n      <th>3</th>\n      <td>4</td>\n      <td>322</td>\n      <td>110</td>\n      <td>3</td>\n      <td>3.5</td>\n      <td>2.5</td>\n      <td>8.67</td>\n      <td>1</td>\n      <td>0.80</td>\n    </tr>\n    <tr>\n      <th>4</th>\n      <td>5</td>\n      <td>314</td>\n      <td>103</td>\n      <td>2</td>\n      <td>2.0</td>\n      <td>3.0</td>\n      <td>8.21</td>\n      <td>0</td>\n      <td>0.65</td>\n    </tr>\n    <tr>\n      <th>...</th>\n      <td>...</td>\n      <td>...</td>\n      <td>...</td>\n      <td>...</td>\n      <td>...</td>\n      <td>...</td>\n      <td>...</td>\n      <td>...</td>\n      <td>...</td>\n    </tr>\n    <tr>\n      <th>395</th>\n      <td>396</td>\n      <td>324</td>\n      <td>110</td>\n      <td>3</td>\n      <td>3.5</td>\n      <td>3.5</td>\n      <td>9.04</td>\n      <td>1</td>\n      <td>0.82</td>\n    </tr>\n    <tr>\n      <th>396</th>\n      <td>397</td>\n      <td>325</td>\n      <td>107</td>\n      <td>3</td>\n      <td>3.0</td>\n      <td>3.5</td>\n      <td>9.11</td>\n      <td>1</td>\n      <td>0.84</td>\n    </tr>\n    <tr>\n      <th>397</th>\n      <td>398</td>\n      <td>330</td>\n      <td>116</td>\n      <td>4</td>\n      <td>5.0</td>\n      <td>4.5</td>\n      <td>9.45</td>\n      <td>1</td>\n      <td>0.91</td>\n    </tr>\n    <tr>\n      <th>398</th>\n      <td>399</td>\n      <td>312</td>\n      <td>103</td>\n      <td>3</td>\n      <td>3.5</td>\n      <td>4.0</td>\n      <td>8.78</td>\n      <td>0</td>\n      <td>0.67</td>\n    </tr>\n    <tr>\n      <th>399</th>\n      <td>400</td>\n      <td>333</td>\n      <td>117</td>\n      <td>4</td>\n      <td>5.0</td>\n      <td>4.0</td>\n      <td>9.66</td>\n      <td>1</td>\n      <td>0.95</td>\n    </tr>\n  </tbody>\n</table>\n<p>400 rows × 9 columns</p>\n</div>"
     },
     "metadata": {},
     "execution_count": 18
    }
   ],
   "source": [
    "# your code here\n",
    "\n",
    "data_b = pd.read_csv('../data/Admission_Predict.csv', sep=',')\n",
    "\n",
    "data_b.columns = data_b.columns.str.replace('.', '')\n",
    "data_b.columns = data_b.columns.str.replace(' ', '_')\n",
    "\n",
    "data_b"
   ]
  },
  {
   "cell_type": "markdown",
   "metadata": {},
   "source": [
    "In the cell below, give all student with a university rating of 4 or higher a 10 point boost on their GRE score and split the column into 4 bins using the `cut` function. Assign this new score to the variable `adjusted_gre`."
   ]
  },
  {
   "cell_type": "code",
   "execution_count": 19,
   "metadata": {},
   "outputs": [],
   "source": [
    "# your code here"
   ]
  }
 ],
 "metadata": {
  "kernelspec": {
   "display_name": "Python 3",
   "language": "python",
   "name": "python3"
  },
  "language_info": {
   "codemirror_mode": {
    "name": "ipython",
    "version": 3
   },
   "file_extension": ".py",
   "mimetype": "text/x-python",
   "name": "python",
   "nbconvert_exporter": "python",
   "pygments_lexer": "ipython3",
   "version": "3.8.3-final"
  }
 },
 "nbformat": 4,
 "nbformat_minor": 2
}