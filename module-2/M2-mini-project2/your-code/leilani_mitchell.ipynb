{
 "metadata": {
  "language_info": {
   "codemirror_mode": {
    "name": "ipython",
    "version": 3
   },
   "file_extension": ".py",
   "mimetype": "text/x-python",
   "name": "python",
   "nbconvert_exporter": "python",
   "pygments_lexer": "ipython3",
   "version": "3.8.3-final"
  },
  "orig_nbformat": 2,
  "kernelspec": {
   "name": "python_defaultSpec_1598470386487",
   "display_name": "Python 3.8.3 64-bit"
  }
 },
 "nbformat": 4,
 "nbformat_minor": 2,
 "cells": [
  {
   "cell_type": "code",
   "execution_count": 1,
   "metadata": {},
   "outputs": [],
   "source": [
    "import pandas as pd\n",
    "import plotly.express as px"
   ]
  },
  {
   "cell_type": "code",
   "execution_count": 2,
   "metadata": {},
   "outputs": [],
   "source": [
    "wnba = pd.read_csv('../data/wnba_clean.csv')"
   ]
  },
  {
   "cell_type": "code",
   "execution_count": 3,
   "metadata": {},
   "outputs": [
    {
     "output_type": "execute_result",
     "data": {
      "text/plain": "              count        mean         std         min         25%  \\\nUnnamed: 0    142.0   70.859155   41.536891    0.000000   35.250000   \nHeight        142.0  184.612676    8.698128  165.000000  175.750000   \nWeight        142.0   78.978873   10.996110   55.000000   71.500000   \nBMI           142.0   23.091214    2.073691   18.390675   21.785876   \nAge           142.0   27.112676    3.667180   21.000000   24.000000   \nGames Played  142.0   24.429577    7.075477    2.000000   22.000000   \nMIN           142.0  500.105634  289.373393   12.000000  242.250000   \nFGM           142.0   74.401408   55.980754    1.000000   27.000000   \nFGA           142.0  168.704225  117.165809    3.000000   69.000000   \nFG%           142.0   43.102817    9.855199   16.700000   37.125000   \n3PM           142.0   14.830986   17.372829    0.000000    0.000000   \n3PA           142.0   43.697183   46.155302    0.000000    3.000000   \n3P%           142.0   24.978169   18.459075    0.000000    0.000000   \nFTM           142.0   39.535211   36.743053    0.000000   13.000000   \nFTA           142.0   49.422535   44.244697    0.000000   17.250000   \nFT%           142.0   75.828873   18.536151    0.000000   71.575000   \nOREB          142.0   22.063380   21.519648    0.000000    7.000000   \nDREB          142.0   61.591549   49.669854    2.000000   26.000000   \nREB           142.0   83.654930   68.200585    2.000000   34.250000   \nAST           142.0   44.514085   41.490790    0.000000   11.250000   \nSTL           142.0   17.725352   13.413312    0.000000    7.000000   \nBLK           142.0    9.781690   12.537669    0.000000    2.000000   \nTO            142.0   32.288732   21.447141    2.000000   14.000000   \nPTS           142.0  203.169014  153.032559    2.000000   77.250000   \nDD2           142.0    1.140845    2.909002    0.000000    0.000000   \nTD3           142.0    0.007042    0.083918    0.000000    0.000000   \n\n                     50%         75%         max  \nUnnamed: 0     70.500000  106.750000   142.00000  \nHeight        185.000000  191.000000   206.00000  \nWeight         79.000000   86.000000   113.00000  \nBMI            22.873314   24.180715    31.55588  \nAge            27.000000   30.000000    36.00000  \nGames Played   27.500000   29.000000    32.00000  \nMIN           506.000000  752.500000  1018.00000  \nFGM            69.000000  105.000000   227.00000  \nFGA           152.500000  244.750000   509.00000  \nFG%            42.050000   48.625000   100.00000  \n3PM            10.500000   22.000000    88.00000  \n3PA            32.000000   65.500000   225.00000  \n3P%            30.550000   36.175000   100.00000  \nFTM            29.000000   53.250000   168.00000  \nFTA            35.500000   66.500000   186.00000  \nFT%            80.000000   85.925000   100.00000  \nOREB           13.000000   31.000000   113.00000  \nDREB           50.000000   84.000000   226.00000  \nREB            62.500000  116.500000   334.00000  \nAST            34.000000   66.750000   206.00000  \nSTL            15.000000   27.500000    63.00000  \nBLK             5.000000   12.000000    64.00000  \nTO             28.000000   48.000000    87.00000  \nPTS           181.000000  277.750000   584.00000  \nDD2             0.000000    1.000000    17.00000  \nTD3             0.000000    0.000000     1.00000  ",
      "text/html": "<div>\n<style scoped>\n    .dataframe tbody tr th:only-of-type {\n        vertical-align: middle;\n    }\n\n    .dataframe tbody tr th {\n        vertical-align: top;\n    }\n\n    .dataframe thead th {\n        text-align: right;\n    }\n</style>\n<table border=\"1\" class=\"dataframe\">\n  <thead>\n    <tr style=\"text-align: right;\">\n      <th></th>\n      <th>count</th>\n      <th>mean</th>\n      <th>std</th>\n      <th>min</th>\n      <th>25%</th>\n      <th>50%</th>\n      <th>75%</th>\n      <th>max</th>\n    </tr>\n  </thead>\n  <tbody>\n    <tr>\n      <th>Unnamed: 0</th>\n      <td>142.0</td>\n      <td>70.859155</td>\n      <td>41.536891</td>\n      <td>0.000000</td>\n      <td>35.250000</td>\n      <td>70.500000</td>\n      <td>106.750000</td>\n      <td>142.00000</td>\n    </tr>\n    <tr>\n      <th>Height</th>\n      <td>142.0</td>\n      <td>184.612676</td>\n      <td>8.698128</td>\n      <td>165.000000</td>\n      <td>175.750000</td>\n      <td>185.000000</td>\n      <td>191.000000</td>\n      <td>206.00000</td>\n    </tr>\n    <tr>\n      <th>Weight</th>\n      <td>142.0</td>\n      <td>78.978873</td>\n      <td>10.996110</td>\n      <td>55.000000</td>\n      <td>71.500000</td>\n      <td>79.000000</td>\n      <td>86.000000</td>\n      <td>113.00000</td>\n    </tr>\n    <tr>\n      <th>BMI</th>\n      <td>142.0</td>\n      <td>23.091214</td>\n      <td>2.073691</td>\n      <td>18.390675</td>\n      <td>21.785876</td>\n      <td>22.873314</td>\n      <td>24.180715</td>\n      <td>31.55588</td>\n    </tr>\n    <tr>\n      <th>Age</th>\n      <td>142.0</td>\n      <td>27.112676</td>\n      <td>3.667180</td>\n      <td>21.000000</td>\n      <td>24.000000</td>\n      <td>27.000000</td>\n      <td>30.000000</td>\n      <td>36.00000</td>\n    </tr>\n    <tr>\n      <th>Games Played</th>\n      <td>142.0</td>\n      <td>24.429577</td>\n      <td>7.075477</td>\n      <td>2.000000</td>\n      <td>22.000000</td>\n      <td>27.500000</td>\n      <td>29.000000</td>\n      <td>32.00000</td>\n    </tr>\n    <tr>\n      <th>MIN</th>\n      <td>142.0</td>\n      <td>500.105634</td>\n      <td>289.373393</td>\n      <td>12.000000</td>\n      <td>242.250000</td>\n      <td>506.000000</td>\n      <td>752.500000</td>\n      <td>1018.00000</td>\n    </tr>\n    <tr>\n      <th>FGM</th>\n      <td>142.0</td>\n      <td>74.401408</td>\n      <td>55.980754</td>\n      <td>1.000000</td>\n      <td>27.000000</td>\n      <td>69.000000</td>\n      <td>105.000000</td>\n      <td>227.00000</td>\n    </tr>\n    <tr>\n      <th>FGA</th>\n      <td>142.0</td>\n      <td>168.704225</td>\n      <td>117.165809</td>\n      <td>3.000000</td>\n      <td>69.000000</td>\n      <td>152.500000</td>\n      <td>244.750000</td>\n      <td>509.00000</td>\n    </tr>\n    <tr>\n      <th>FG%</th>\n      <td>142.0</td>\n      <td>43.102817</td>\n      <td>9.855199</td>\n      <td>16.700000</td>\n      <td>37.125000</td>\n      <td>42.050000</td>\n      <td>48.625000</td>\n      <td>100.00000</td>\n    </tr>\n    <tr>\n      <th>3PM</th>\n      <td>142.0</td>\n      <td>14.830986</td>\n      <td>17.372829</td>\n      <td>0.000000</td>\n      <td>0.000000</td>\n      <td>10.500000</td>\n      <td>22.000000</td>\n      <td>88.00000</td>\n    </tr>\n    <tr>\n      <th>3PA</th>\n      <td>142.0</td>\n      <td>43.697183</td>\n      <td>46.155302</td>\n      <td>0.000000</td>\n      <td>3.000000</td>\n      <td>32.000000</td>\n      <td>65.500000</td>\n      <td>225.00000</td>\n    </tr>\n    <tr>\n      <th>3P%</th>\n      <td>142.0</td>\n      <td>24.978169</td>\n      <td>18.459075</td>\n      <td>0.000000</td>\n      <td>0.000000</td>\n      <td>30.550000</td>\n      <td>36.175000</td>\n      <td>100.00000</td>\n    </tr>\n    <tr>\n      <th>FTM</th>\n      <td>142.0</td>\n      <td>39.535211</td>\n      <td>36.743053</td>\n      <td>0.000000</td>\n      <td>13.000000</td>\n      <td>29.000000</td>\n      <td>53.250000</td>\n      <td>168.00000</td>\n    </tr>\n    <tr>\n      <th>FTA</th>\n      <td>142.0</td>\n      <td>49.422535</td>\n      <td>44.244697</td>\n      <td>0.000000</td>\n      <td>17.250000</td>\n      <td>35.500000</td>\n      <td>66.500000</td>\n      <td>186.00000</td>\n    </tr>\n    <tr>\n      <th>FT%</th>\n      <td>142.0</td>\n      <td>75.828873</td>\n      <td>18.536151</td>\n      <td>0.000000</td>\n      <td>71.575000</td>\n      <td>80.000000</td>\n      <td>85.925000</td>\n      <td>100.00000</td>\n    </tr>\n    <tr>\n      <th>OREB</th>\n      <td>142.0</td>\n      <td>22.063380</td>\n      <td>21.519648</td>\n      <td>0.000000</td>\n      <td>7.000000</td>\n      <td>13.000000</td>\n      <td>31.000000</td>\n      <td>113.00000</td>\n    </tr>\n    <tr>\n      <th>DREB</th>\n      <td>142.0</td>\n      <td>61.591549</td>\n      <td>49.669854</td>\n      <td>2.000000</td>\n      <td>26.000000</td>\n      <td>50.000000</td>\n      <td>84.000000</td>\n      <td>226.00000</td>\n    </tr>\n    <tr>\n      <th>REB</th>\n      <td>142.0</td>\n      <td>83.654930</td>\n      <td>68.200585</td>\n      <td>2.000000</td>\n      <td>34.250000</td>\n      <td>62.500000</td>\n      <td>116.500000</td>\n      <td>334.00000</td>\n    </tr>\n    <tr>\n      <th>AST</th>\n      <td>142.0</td>\n      <td>44.514085</td>\n      <td>41.490790</td>\n      <td>0.000000</td>\n      <td>11.250000</td>\n      <td>34.000000</td>\n      <td>66.750000</td>\n      <td>206.00000</td>\n    </tr>\n    <tr>\n      <th>STL</th>\n      <td>142.0</td>\n      <td>17.725352</td>\n      <td>13.413312</td>\n      <td>0.000000</td>\n      <td>7.000000</td>\n      <td>15.000000</td>\n      <td>27.500000</td>\n      <td>63.00000</td>\n    </tr>\n    <tr>\n      <th>BLK</th>\n      <td>142.0</td>\n      <td>9.781690</td>\n      <td>12.537669</td>\n      <td>0.000000</td>\n      <td>2.000000</td>\n      <td>5.000000</td>\n      <td>12.000000</td>\n      <td>64.00000</td>\n    </tr>\n    <tr>\n      <th>TO</th>\n      <td>142.0</td>\n      <td>32.288732</td>\n      <td>21.447141</td>\n      <td>2.000000</td>\n      <td>14.000000</td>\n      <td>28.000000</td>\n      <td>48.000000</td>\n      <td>87.00000</td>\n    </tr>\n    <tr>\n      <th>PTS</th>\n      <td>142.0</td>\n      <td>203.169014</td>\n      <td>153.032559</td>\n      <td>2.000000</td>\n      <td>77.250000</td>\n      <td>181.000000</td>\n      <td>277.750000</td>\n      <td>584.00000</td>\n    </tr>\n    <tr>\n      <th>DD2</th>\n      <td>142.0</td>\n      <td>1.140845</td>\n      <td>2.909002</td>\n      <td>0.000000</td>\n      <td>0.000000</td>\n      <td>0.000000</td>\n      <td>1.000000</td>\n      <td>17.00000</td>\n    </tr>\n    <tr>\n      <th>TD3</th>\n      <td>142.0</td>\n      <td>0.007042</td>\n      <td>0.083918</td>\n      <td>0.000000</td>\n      <td>0.000000</td>\n      <td>0.000000</td>\n      <td>0.000000</td>\n      <td>1.00000</td>\n    </tr>\n  </tbody>\n</table>\n</div>"
     },
     "metadata": {},
     "execution_count": 3
    }
   ],
   "source": [
    "wnba.describe().transpose()"
   ]
  },
  {
   "cell_type": "code",
   "execution_count": 4,
   "metadata": {},
   "outputs": [
    {
     "output_type": "execute_result",
     "data": {
      "text/plain": "Unnamed: 0                    86\nName            Leilani Mitchell\nTeam                         PHO\nPos                            G\nHeight                       165\nWeight                        58\nBMI                      21.3039\nBirth_Place                   US\nBirthdate          June 15, 1985\nAge                           32\nCollege                     Utah\nExperience                     9\nGames Played                  30\nMIN                          623\nFGM                           70\nFGA                          182\nFG%                         38.5\n3PM                           31\n3PA                           92\n3P%                         33.7\nFTM                           62\nFTA                           75\nFT%                         82.7\nOREB                          12\nDREB                          57\nREB                           69\nAST                          108\nSTL                           26\nBLK                            9\nTO                            50\nPTS                          233\nDD2                            0\nTD3                            0\nName: 86, dtype: object"
     },
     "metadata": {},
     "execution_count": 4
    }
   ],
   "source": [
    "leilani_mitchell = wnba.loc[86]\n",
    "\n",
    "leilani_mitchell"
   ]
  },
  {
   "cell_type": "code",
   "execution_count": 5,
   "metadata": {
    "tags": []
   },
   "outputs": [],
   "source": [
    "leilani_mitchell_stats = [leilani_mitchell['REB'] / leilani_mitchell['MIN'],\n",
    "leilani_mitchell['AST'] / leilani_mitchell['MIN'],\n",
    "leilani_mitchell['STL'] / leilani_mitchell['MIN'],\n",
    "leilani_mitchell['PTS'] / leilani_mitchell['MIN'] / 3,\n",
    "leilani_mitchell['BLK'] / leilani_mitchell['MIN']]\n",
    "\n",
    "wnba_stats = [wnba['REB'].mean() / wnba['MIN'].mean(),\n",
    "wnba['AST'].mean() / wnba['MIN'].mean(),\n",
    "wnba['STL'].mean() / wnba['MIN'].mean(),\n",
    "wnba['PTS'].mean() / wnba['MIN'].mean() / 3,\n",
    "wnba['BLK'].mean() / wnba['MIN'].mean()]"
   ]
  },
  {
   "cell_type": "code",
   "execution_count": 6,
   "metadata": {},
   "outputs": [
    {
     "output_type": "display_data",
     "data": {
      "application/vnd.plotly.v1+json": {
       "config": {
        "plotlyServerURL": "https://plot.ly"
       },
       "data": [
        {
         "fill": "toself",
         "name": "Leilani Mitchell",
         "opacity": 0.8,
         "r": [
          0.11075441412520064,
          0.17335473515248795,
          0.04173354735152488,
          0.12466559657570893,
          0.014446227929373997
         ],
         "theta": [
          "Total Rebounds",
          "Assists",
          "Steals",
          "Total points",
          "Blocks"
         ],
         "type": "scatterpolar"
        },
        {
         "fill": "toself",
         "name": "Average players WNBA",
         "opacity": 0.8,
         "r": [
          0.16727451946771807,
          0.08900936421882702,
          0.03544321622192494,
          0.13541740007979533,
          0.019559248046187423
         ],
         "theta": [
          "Total Rebounds",
          "Assists",
          "Steals",
          "Total points",
          "Blocks"
         ],
         "type": "scatterpolar"
        }
       ],
       "layout": {
        "height": 800,
        "polar": {
         "radialaxis": {
          "range": [
           0,
           0.18
          ],
          "visible": true
         }
        },
        "showlegend": true,
        "template": {
         "data": {
          "bar": [
           {
            "error_x": {
             "color": "#2a3f5f"
            },
            "error_y": {
             "color": "#2a3f5f"
            },
            "marker": {
             "line": {
              "color": "#E5ECF6",
              "width": 0.5
             }
            },
            "type": "bar"
           }
          ],
          "barpolar": [
           {
            "marker": {
             "line": {
              "color": "#E5ECF6",
              "width": 0.5
             }
            },
            "type": "barpolar"
           }
          ],
          "carpet": [
           {
            "aaxis": {
             "endlinecolor": "#2a3f5f",
             "gridcolor": "white",
             "linecolor": "white",
             "minorgridcolor": "white",
             "startlinecolor": "#2a3f5f"
            },
            "baxis": {
             "endlinecolor": "#2a3f5f",
             "gridcolor": "white",
             "linecolor": "white",
             "minorgridcolor": "white",
             "startlinecolor": "#2a3f5f"
            },
            "type": "carpet"
           }
          ],
          "choropleth": [
           {
            "colorbar": {
             "outlinewidth": 0,
             "ticks": ""
            },
            "type": "choropleth"
           }
          ],
          "contour": [
           {
            "colorbar": {
             "outlinewidth": 0,
             "ticks": ""
            },
            "colorscale": [
             [
              0,
              "#0d0887"
             ],
             [
              0.1111111111111111,
              "#46039f"
             ],
             [
              0.2222222222222222,
              "#7201a8"
             ],
             [
              0.3333333333333333,
              "#9c179e"
             ],
             [
              0.4444444444444444,
              "#bd3786"
             ],
             [
              0.5555555555555556,
              "#d8576b"
             ],
             [
              0.6666666666666666,
              "#ed7953"
             ],
             [
              0.7777777777777778,
              "#fb9f3a"
             ],
             [
              0.8888888888888888,
              "#fdca26"
             ],
             [
              1,
              "#f0f921"
             ]
            ],
            "type": "contour"
           }
          ],
          "contourcarpet": [
           {
            "colorbar": {
             "outlinewidth": 0,
             "ticks": ""
            },
            "type": "contourcarpet"
           }
          ],
          "heatmap": [
           {
            "colorbar": {
             "outlinewidth": 0,
             "ticks": ""
            },
            "colorscale": [
             [
              0,
              "#0d0887"
             ],
             [
              0.1111111111111111,
              "#46039f"
             ],
             [
              0.2222222222222222,
              "#7201a8"
             ],
             [
              0.3333333333333333,
              "#9c179e"
             ],
             [
              0.4444444444444444,
              "#bd3786"
             ],
             [
              0.5555555555555556,
              "#d8576b"
             ],
             [
              0.6666666666666666,
              "#ed7953"
             ],
             [
              0.7777777777777778,
              "#fb9f3a"
             ],
             [
              0.8888888888888888,
              "#fdca26"
             ],
             [
              1,
              "#f0f921"
             ]
            ],
            "type": "heatmap"
           }
          ],
          "heatmapgl": [
           {
            "colorbar": {
             "outlinewidth": 0,
             "ticks": ""
            },
            "colorscale": [
             [
              0,
              "#0d0887"
             ],
             [
              0.1111111111111111,
              "#46039f"
             ],
             [
              0.2222222222222222,
              "#7201a8"
             ],
             [
              0.3333333333333333,
              "#9c179e"
             ],
             [
              0.4444444444444444,
              "#bd3786"
             ],
             [
              0.5555555555555556,
              "#d8576b"
             ],
             [
              0.6666666666666666,
              "#ed7953"
             ],
             [
              0.7777777777777778,
              "#fb9f3a"
             ],
             [
              0.8888888888888888,
              "#fdca26"
             ],
             [
              1,
              "#f0f921"
             ]
            ],
            "type": "heatmapgl"
           }
          ],
          "histogram": [
           {
            "marker": {
             "colorbar": {
              "outlinewidth": 0,
              "ticks": ""
             }
            },
            "type": "histogram"
           }
          ],
          "histogram2d": [
           {
            "colorbar": {
             "outlinewidth": 0,
             "ticks": ""
            },
            "colorscale": [
             [
              0,
              "#0d0887"
             ],
             [
              0.1111111111111111,
              "#46039f"
             ],
             [
              0.2222222222222222,
              "#7201a8"
             ],
             [
              0.3333333333333333,
              "#9c179e"
             ],
             [
              0.4444444444444444,
              "#bd3786"
             ],
             [
              0.5555555555555556,
              "#d8576b"
             ],
             [
              0.6666666666666666,
              "#ed7953"
             ],
             [
              0.7777777777777778,
              "#fb9f3a"
             ],
             [
              0.8888888888888888,
              "#fdca26"
             ],
             [
              1,
              "#f0f921"
             ]
            ],
            "type": "histogram2d"
           }
          ],
          "histogram2dcontour": [
           {
            "colorbar": {
             "outlinewidth": 0,
             "ticks": ""
            },
            "colorscale": [
             [
              0,
              "#0d0887"
             ],
             [
              0.1111111111111111,
              "#46039f"
             ],
             [
              0.2222222222222222,
              "#7201a8"
             ],
             [
              0.3333333333333333,
              "#9c179e"
             ],
             [
              0.4444444444444444,
              "#bd3786"
             ],
             [
              0.5555555555555556,
              "#d8576b"
             ],
             [
              0.6666666666666666,
              "#ed7953"
             ],
             [
              0.7777777777777778,
              "#fb9f3a"
             ],
             [
              0.8888888888888888,
              "#fdca26"
             ],
             [
              1,
              "#f0f921"
             ]
            ],
            "type": "histogram2dcontour"
           }
          ],
          "mesh3d": [
           {
            "colorbar": {
             "outlinewidth": 0,
             "ticks": ""
            },
            "type": "mesh3d"
           }
          ],
          "parcoords": [
           {
            "line": {
             "colorbar": {
              "outlinewidth": 0,
              "ticks": ""
             }
            },
            "type": "parcoords"
           }
          ],
          "pie": [
           {
            "automargin": true,
            "type": "pie"
           }
          ],
          "scatter": [
           {
            "marker": {
             "colorbar": {
              "outlinewidth": 0,
              "ticks": ""
             }
            },
            "type": "scatter"
           }
          ],
          "scatter3d": [
           {
            "line": {
             "colorbar": {
              "outlinewidth": 0,
              "ticks": ""
             }
            },
            "marker": {
             "colorbar": {
              "outlinewidth": 0,
              "ticks": ""
             }
            },
            "type": "scatter3d"
           }
          ],
          "scattercarpet": [
           {
            "marker": {
             "colorbar": {
              "outlinewidth": 0,
              "ticks": ""
             }
            },
            "type": "scattercarpet"
           }
          ],
          "scattergeo": [
           {
            "marker": {
             "colorbar": {
              "outlinewidth": 0,
              "ticks": ""
             }
            },
            "type": "scattergeo"
           }
          ],
          "scattergl": [
           {
            "marker": {
             "colorbar": {
              "outlinewidth": 0,
              "ticks": ""
             }
            },
            "type": "scattergl"
           }
          ],
          "scattermapbox": [
           {
            "marker": {
             "colorbar": {
              "outlinewidth": 0,
              "ticks": ""
             }
            },
            "type": "scattermapbox"
           }
          ],
          "scatterpolar": [
           {
            "marker": {
             "colorbar": {
              "outlinewidth": 0,
              "ticks": ""
             }
            },
            "type": "scatterpolar"
           }
          ],
          "scatterpolargl": [
           {
            "marker": {
             "colorbar": {
              "outlinewidth": 0,
              "ticks": ""
             }
            },
            "type": "scatterpolargl"
           }
          ],
          "scatterternary": [
           {
            "marker": {
             "colorbar": {
              "outlinewidth": 0,
              "ticks": ""
             }
            },
            "type": "scatterternary"
           }
          ],
          "surface": [
           {
            "colorbar": {
             "outlinewidth": 0,
             "ticks": ""
            },
            "colorscale": [
             [
              0,
              "#0d0887"
             ],
             [
              0.1111111111111111,
              "#46039f"
             ],
             [
              0.2222222222222222,
              "#7201a8"
             ],
             [
              0.3333333333333333,
              "#9c179e"
             ],
             [
              0.4444444444444444,
              "#bd3786"
             ],
             [
              0.5555555555555556,
              "#d8576b"
             ],
             [
              0.6666666666666666,
              "#ed7953"
             ],
             [
              0.7777777777777778,
              "#fb9f3a"
             ],
             [
              0.8888888888888888,
              "#fdca26"
             ],
             [
              1,
              "#f0f921"
             ]
            ],
            "type": "surface"
           }
          ],
          "table": [
           {
            "cells": {
             "fill": {
              "color": "#EBF0F8"
             },
             "line": {
              "color": "white"
             }
            },
            "header": {
             "fill": {
              "color": "#C8D4E3"
             },
             "line": {
              "color": "white"
             }
            },
            "type": "table"
           }
          ]
         },
         "layout": {
          "annotationdefaults": {
           "arrowcolor": "#2a3f5f",
           "arrowhead": 0,
           "arrowwidth": 1
          },
          "coloraxis": {
           "colorbar": {
            "outlinewidth": 0,
            "ticks": ""
           }
          },
          "colorscale": {
           "diverging": [
            [
             0,
             "#8e0152"
            ],
            [
             0.1,
             "#c51b7d"
            ],
            [
             0.2,
             "#de77ae"
            ],
            [
             0.3,
             "#f1b6da"
            ],
            [
             0.4,
             "#fde0ef"
            ],
            [
             0.5,
             "#f7f7f7"
            ],
            [
             0.6,
             "#e6f5d0"
            ],
            [
             0.7,
             "#b8e186"
            ],
            [
             0.8,
             "#7fbc41"
            ],
            [
             0.9,
             "#4d9221"
            ],
            [
             1,
             "#276419"
            ]
           ],
           "sequential": [
            [
             0,
             "#0d0887"
            ],
            [
             0.1111111111111111,
             "#46039f"
            ],
            [
             0.2222222222222222,
             "#7201a8"
            ],
            [
             0.3333333333333333,
             "#9c179e"
            ],
            [
             0.4444444444444444,
             "#bd3786"
            ],
            [
             0.5555555555555556,
             "#d8576b"
            ],
            [
             0.6666666666666666,
             "#ed7953"
            ],
            [
             0.7777777777777778,
             "#fb9f3a"
            ],
            [
             0.8888888888888888,
             "#fdca26"
            ],
            [
             1,
             "#f0f921"
            ]
           ],
           "sequentialminus": [
            [
             0,
             "#0d0887"
            ],
            [
             0.1111111111111111,
             "#46039f"
            ],
            [
             0.2222222222222222,
             "#7201a8"
            ],
            [
             0.3333333333333333,
             "#9c179e"
            ],
            [
             0.4444444444444444,
             "#bd3786"
            ],
            [
             0.5555555555555556,
             "#d8576b"
            ],
            [
             0.6666666666666666,
             "#ed7953"
            ],
            [
             0.7777777777777778,
             "#fb9f3a"
            ],
            [
             0.8888888888888888,
             "#fdca26"
            ],
            [
             1,
             "#f0f921"
            ]
           ]
          },
          "colorway": [
           "#636efa",
           "#EF553B",
           "#00cc96",
           "#ab63fa",
           "#FFA15A",
           "#19d3f3",
           "#FF6692",
           "#B6E880",
           "#FF97FF",
           "#FECB52"
          ],
          "font": {
           "color": "#2a3f5f"
          },
          "geo": {
           "bgcolor": "white",
           "lakecolor": "white",
           "landcolor": "#E5ECF6",
           "showlakes": true,
           "showland": true,
           "subunitcolor": "white"
          },
          "hoverlabel": {
           "align": "left"
          },
          "hovermode": "closest",
          "mapbox": {
           "style": "light"
          },
          "paper_bgcolor": "white",
          "plot_bgcolor": "#E5ECF6",
          "polar": {
           "angularaxis": {
            "gridcolor": "white",
            "linecolor": "white",
            "ticks": ""
           },
           "bgcolor": "#E5ECF6",
           "radialaxis": {
            "gridcolor": "white",
            "linecolor": "white",
            "ticks": ""
           }
          },
          "scene": {
           "xaxis": {
            "backgroundcolor": "#E5ECF6",
            "gridcolor": "white",
            "gridwidth": 2,
            "linecolor": "white",
            "showbackground": true,
            "ticks": "",
            "zerolinecolor": "white"
           },
           "yaxis": {
            "backgroundcolor": "#E5ECF6",
            "gridcolor": "white",
            "gridwidth": 2,
            "linecolor": "white",
            "showbackground": true,
            "ticks": "",
            "zerolinecolor": "white"
           },
           "zaxis": {
            "backgroundcolor": "#E5ECF6",
            "gridcolor": "white",
            "gridwidth": 2,
            "linecolor": "white",
            "showbackground": true,
            "ticks": "",
            "zerolinecolor": "white"
           }
          },
          "shapedefaults": {
           "line": {
            "color": "#2a3f5f"
           }
          },
          "ternary": {
           "aaxis": {
            "gridcolor": "white",
            "linecolor": "white",
            "ticks": ""
           },
           "baxis": {
            "gridcolor": "white",
            "linecolor": "white",
            "ticks": ""
           },
           "bgcolor": "#E5ECF6",
           "caxis": {
            "gridcolor": "white",
            "linecolor": "white",
            "ticks": ""
           }
          },
          "title": {
           "x": 0.05
          },
          "xaxis": {
           "automargin": true,
           "gridcolor": "white",
           "linecolor": "white",
           "ticks": "",
           "title": {
            "standoff": 15
           },
           "zerolinecolor": "white",
           "zerolinewidth": 2
          },
          "yaxis": {
           "automargin": true,
           "gridcolor": "white",
           "linecolor": "white",
           "ticks": "",
           "title": {
            "standoff": 15
           },
           "zerolinecolor": "white",
           "zerolinewidth": 2
          }
         }
        },
        "width": 1200
       }
      }
     },
     "metadata": {}
    }
   ],
   "source": [
    "import plotly.graph_objects as go\n",
    "\n",
    "fig = go.Figure()\n",
    "\n",
    "fig.add_trace(go.Scatterpolar(\n",
    "      r=leilani_mitchell_stats,\n",
    "      theta=['Total Rebounds', 'Assists', 'Steals', 'Total points', 'Blocks'],\n",
    "      fill='toself',\n",
    "      name='Leilani Mitchell',\n",
    "      opacity=0.8\n",
    "))\n",
    "fig.add_trace(go.Scatterpolar(\n",
    "      r=wnba_stats,\n",
    "      theta=['Total Rebounds', 'Assists', 'Steals', 'Total points', 'Blocks'],\n",
    "      fill='toself',\n",
    "      name='Average players WNBA',\n",
    "      opacity=0.8\n",
    "))\n",
    "\n",
    "fig.update_layout(polar=dict(radialaxis=dict(visible=True, range=[0, 0.18])), width=1200, height=800, showlegend=True)\n",
    "\n",
    "fig.show()"
   ]
  }
 ]
}