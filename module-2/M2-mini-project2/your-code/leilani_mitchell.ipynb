{
 "metadata": {
  "language_info": {
   "codemirror_mode": {
    "name": "ipython",
    "version": 3
   },
   "file_extension": ".py",
   "mimetype": "text/x-python",
   "name": "python",
   "nbconvert_exporter": "python",
   "pygments_lexer": "ipython3",
   "version": "3.8.3-final"
  },
  "orig_nbformat": 2,
  "kernelspec": {
   "name": "python_defaultSpec_1598520665350",
   "display_name": "Python 3.8.3 64-bit"
  }
 },
 "nbformat": 4,
 "nbformat_minor": 2,
 "cells": [
  {
   "cell_type": "code",
   "execution_count": 1,
   "metadata": {},
   "outputs": [],
   "source": [
    "import pandas as pd\n",
    "import plotly.express as px"
   ]
  },
  {
   "cell_type": "code",
   "execution_count": 2,
   "metadata": {},
   "outputs": [],
   "source": [
    "wnba = pd.read_csv('../data/wnba_clean.csv')"
   ]
  },
  {
   "cell_type": "code",
   "execution_count": 3,
   "metadata": {},
   "outputs": [
    {
     "output_type": "execute_result",
     "data": {
      "text/plain": "              count        mean         std         min         25%  \\\nUnnamed: 0    142.0   70.859155   41.536891    0.000000   35.250000   \nHeight        142.0  184.612676    8.698128  165.000000  175.750000   \nWeight        142.0   78.978873   10.996110   55.000000   71.500000   \nBMI           142.0   23.091214    2.073691   18.390675   21.785876   \nAge           142.0   27.112676    3.667180   21.000000   24.000000   \nGames Played  142.0   24.429577    7.075477    2.000000   22.000000   \nMIN           142.0  500.105634  289.373393   12.000000  242.250000   \nFGM           142.0   74.401408   55.980754    1.000000   27.000000   \nFGA           142.0  168.704225  117.165809    3.000000   69.000000   \nFG%           142.0   43.102817    9.855199   16.700000   37.125000   \n3PM           142.0   14.830986   17.372829    0.000000    0.000000   \n3PA           142.0   43.697183   46.155302    0.000000    3.000000   \n3P%           142.0   24.978169   18.459075    0.000000    0.000000   \nFTM           142.0   39.535211   36.743053    0.000000   13.000000   \nFTA           142.0   49.422535   44.244697    0.000000   17.250000   \nFT%           142.0   75.828873   18.536151    0.000000   71.575000   \nOREB          142.0   22.063380   21.519648    0.000000    7.000000   \nDREB          142.0   61.591549   49.669854    2.000000   26.000000   \nREB           142.0   83.654930   68.200585    2.000000   34.250000   \nAST           142.0   44.514085   41.490790    0.000000   11.250000   \nSTL           142.0   17.725352   13.413312    0.000000    7.000000   \nBLK           142.0    9.781690   12.537669    0.000000    2.000000   \nTO            142.0   32.288732   21.447141    2.000000   14.000000   \nPTS           142.0  203.169014  153.032559    2.000000   77.250000   \nDD2           142.0    1.140845    2.909002    0.000000    0.000000   \nTD3           142.0    0.007042    0.083918    0.000000    0.000000   \n\n                     50%         75%         max  \nUnnamed: 0     70.500000  106.750000   142.00000  \nHeight        185.000000  191.000000   206.00000  \nWeight         79.000000   86.000000   113.00000  \nBMI            22.873314   24.180715    31.55588  \nAge            27.000000   30.000000    36.00000  \nGames Played   27.500000   29.000000    32.00000  \nMIN           506.000000  752.500000  1018.00000  \nFGM            69.000000  105.000000   227.00000  \nFGA           152.500000  244.750000   509.00000  \nFG%            42.050000   48.625000   100.00000  \n3PM            10.500000   22.000000    88.00000  \n3PA            32.000000   65.500000   225.00000  \n3P%            30.550000   36.175000   100.00000  \nFTM            29.000000   53.250000   168.00000  \nFTA            35.500000   66.500000   186.00000  \nFT%            80.000000   85.925000   100.00000  \nOREB           13.000000   31.000000   113.00000  \nDREB           50.000000   84.000000   226.00000  \nREB            62.500000  116.500000   334.00000  \nAST            34.000000   66.750000   206.00000  \nSTL            15.000000   27.500000    63.00000  \nBLK             5.000000   12.000000    64.00000  \nTO             28.000000   48.000000    87.00000  \nPTS           181.000000  277.750000   584.00000  \nDD2             0.000000    1.000000    17.00000  \nTD3             0.000000    0.000000     1.00000  ",
      "text/html": "<div>\n<style scoped>\n    .dataframe tbody tr th:only-of-type {\n        vertical-align: middle;\n    }\n\n    .dataframe tbody tr th {\n        vertical-align: top;\n    }\n\n    .dataframe thead th {\n        text-align: right;\n    }\n</style>\n<table border=\"1\" class=\"dataframe\">\n  <thead>\n    <tr style=\"text-align: right;\">\n      <th></th>\n      <th>count</th>\n      <th>mean</th>\n      <th>std</th>\n      <th>min</th>\n      <th>25%</th>\n      <th>50%</th>\n      <th>75%</th>\n      <th>max</th>\n    </tr>\n  </thead>\n  <tbody>\n    <tr>\n      <th>Unnamed: 0</th>\n      <td>142.0</td>\n      <td>70.859155</td>\n      <td>41.536891</td>\n      <td>0.000000</td>\n      <td>35.250000</td>\n      <td>70.500000</td>\n      <td>106.750000</td>\n      <td>142.00000</td>\n    </tr>\n    <tr>\n      <th>Height</th>\n      <td>142.0</td>\n      <td>184.612676</td>\n      <td>8.698128</td>\n      <td>165.000000</td>\n      <td>175.750000</td>\n      <td>185.000000</td>\n      <td>191.000000</td>\n      <td>206.00000</td>\n    </tr>\n    <tr>\n      <th>Weight</th>\n      <td>142.0</td>\n      <td>78.978873</td>\n      <td>10.996110</td>\n      <td>55.000000</td>\n      <td>71.500000</td>\n      <td>79.000000</td>\n      <td>86.000000</td>\n      <td>113.00000</td>\n    </tr>\n    <tr>\n      <th>BMI</th>\n      <td>142.0</td>\n      <td>23.091214</td>\n      <td>2.073691</td>\n      <td>18.390675</td>\n      <td>21.785876</td>\n      <td>22.873314</td>\n      <td>24.180715</td>\n      <td>31.55588</td>\n    </tr>\n    <tr>\n      <th>Age</th>\n      <td>142.0</td>\n      <td>27.112676</td>\n      <td>3.667180</td>\n      <td>21.000000</td>\n      <td>24.000000</td>\n      <td>27.000000</td>\n      <td>30.000000</td>\n      <td>36.00000</td>\n    </tr>\n    <tr>\n      <th>Games Played</th>\n      <td>142.0</td>\n      <td>24.429577</td>\n      <td>7.075477</td>\n      <td>2.000000</td>\n      <td>22.000000</td>\n      <td>27.500000</td>\n      <td>29.000000</td>\n      <td>32.00000</td>\n    </tr>\n    <tr>\n      <th>MIN</th>\n      <td>142.0</td>\n      <td>500.105634</td>\n      <td>289.373393</td>\n      <td>12.000000</td>\n      <td>242.250000</td>\n      <td>506.000000</td>\n      <td>752.500000</td>\n      <td>1018.00000</td>\n    </tr>\n    <tr>\n      <th>FGM</th>\n      <td>142.0</td>\n      <td>74.401408</td>\n      <td>55.980754</td>\n      <td>1.000000</td>\n      <td>27.000000</td>\n      <td>69.000000</td>\n      <td>105.000000</td>\n      <td>227.00000</td>\n    </tr>\n    <tr>\n      <th>FGA</th>\n      <td>142.0</td>\n      <td>168.704225</td>\n      <td>117.165809</td>\n      <td>3.000000</td>\n      <td>69.000000</td>\n      <td>152.500000</td>\n      <td>244.750000</td>\n      <td>509.00000</td>\n    </tr>\n    <tr>\n      <th>FG%</th>\n      <td>142.0</td>\n      <td>43.102817</td>\n      <td>9.855199</td>\n      <td>16.700000</td>\n      <td>37.125000</td>\n      <td>42.050000</td>\n      <td>48.625000</td>\n      <td>100.00000</td>\n    </tr>\n    <tr>\n      <th>3PM</th>\n      <td>142.0</td>\n      <td>14.830986</td>\n      <td>17.372829</td>\n      <td>0.000000</td>\n      <td>0.000000</td>\n      <td>10.500000</td>\n      <td>22.000000</td>\n      <td>88.00000</td>\n    </tr>\n    <tr>\n      <th>3PA</th>\n      <td>142.0</td>\n      <td>43.697183</td>\n      <td>46.155302</td>\n      <td>0.000000</td>\n      <td>3.000000</td>\n      <td>32.000000</td>\n      <td>65.500000</td>\n      <td>225.00000</td>\n    </tr>\n    <tr>\n      <th>3P%</th>\n      <td>142.0</td>\n      <td>24.978169</td>\n      <td>18.459075</td>\n      <td>0.000000</td>\n      <td>0.000000</td>\n      <td>30.550000</td>\n      <td>36.175000</td>\n      <td>100.00000</td>\n    </tr>\n    <tr>\n      <th>FTM</th>\n      <td>142.0</td>\n      <td>39.535211</td>\n      <td>36.743053</td>\n      <td>0.000000</td>\n      <td>13.000000</td>\n      <td>29.000000</td>\n      <td>53.250000</td>\n      <td>168.00000</td>\n    </tr>\n    <tr>\n      <th>FTA</th>\n      <td>142.0</td>\n      <td>49.422535</td>\n      <td>44.244697</td>\n      <td>0.000000</td>\n      <td>17.250000</td>\n      <td>35.500000</td>\n      <td>66.500000</td>\n      <td>186.00000</td>\n    </tr>\n    <tr>\n      <th>FT%</th>\n      <td>142.0</td>\n      <td>75.828873</td>\n      <td>18.536151</td>\n      <td>0.000000</td>\n      <td>71.575000</td>\n      <td>80.000000</td>\n      <td>85.925000</td>\n      <td>100.00000</td>\n    </tr>\n    <tr>\n      <th>OREB</th>\n      <td>142.0</td>\n      <td>22.063380</td>\n      <td>21.519648</td>\n      <td>0.000000</td>\n      <td>7.000000</td>\n      <td>13.000000</td>\n      <td>31.000000</td>\n      <td>113.00000</td>\n    </tr>\n    <tr>\n      <th>DREB</th>\n      <td>142.0</td>\n      <td>61.591549</td>\n      <td>49.669854</td>\n      <td>2.000000</td>\n      <td>26.000000</td>\n      <td>50.000000</td>\n      <td>84.000000</td>\n      <td>226.00000</td>\n    </tr>\n    <tr>\n      <th>REB</th>\n      <td>142.0</td>\n      <td>83.654930</td>\n      <td>68.200585</td>\n      <td>2.000000</td>\n      <td>34.250000</td>\n      <td>62.500000</td>\n      <td>116.500000</td>\n      <td>334.00000</td>\n    </tr>\n    <tr>\n      <th>AST</th>\n      <td>142.0</td>\n      <td>44.514085</td>\n      <td>41.490790</td>\n      <td>0.000000</td>\n      <td>11.250000</td>\n      <td>34.000000</td>\n      <td>66.750000</td>\n      <td>206.00000</td>\n    </tr>\n    <tr>\n      <th>STL</th>\n      <td>142.0</td>\n      <td>17.725352</td>\n      <td>13.413312</td>\n      <td>0.000000</td>\n      <td>7.000000</td>\n      <td>15.000000</td>\n      <td>27.500000</td>\n      <td>63.00000</td>\n    </tr>\n    <tr>\n      <th>BLK</th>\n      <td>142.0</td>\n      <td>9.781690</td>\n      <td>12.537669</td>\n      <td>0.000000</td>\n      <td>2.000000</td>\n      <td>5.000000</td>\n      <td>12.000000</td>\n      <td>64.00000</td>\n    </tr>\n    <tr>\n      <th>TO</th>\n      <td>142.0</td>\n      <td>32.288732</td>\n      <td>21.447141</td>\n      <td>2.000000</td>\n      <td>14.000000</td>\n      <td>28.000000</td>\n      <td>48.000000</td>\n      <td>87.00000</td>\n    </tr>\n    <tr>\n      <th>PTS</th>\n      <td>142.0</td>\n      <td>203.169014</td>\n      <td>153.032559</td>\n      <td>2.000000</td>\n      <td>77.250000</td>\n      <td>181.000000</td>\n      <td>277.750000</td>\n      <td>584.00000</td>\n    </tr>\n    <tr>\n      <th>DD2</th>\n      <td>142.0</td>\n      <td>1.140845</td>\n      <td>2.909002</td>\n      <td>0.000000</td>\n      <td>0.000000</td>\n      <td>0.000000</td>\n      <td>1.000000</td>\n      <td>17.00000</td>\n    </tr>\n    <tr>\n      <th>TD3</th>\n      <td>142.0</td>\n      <td>0.007042</td>\n      <td>0.083918</td>\n      <td>0.000000</td>\n      <td>0.000000</td>\n      <td>0.000000</td>\n      <td>0.000000</td>\n      <td>1.00000</td>\n    </tr>\n  </tbody>\n</table>\n</div>"
     },
     "metadata": {},
     "execution_count": 3
    }
   ],
   "source": [
    "wnba.describe().transpose()"
   ]
  },
  {
   "cell_type": "code",
   "execution_count": 4,
   "metadata": {},
   "outputs": [
    {
     "output_type": "execute_result",
     "data": {
      "text/plain": "Unnamed: 0                    86\nName            Leilani Mitchell\nTeam                         PHO\nPos                            G\nHeight                       165\nWeight                        58\nBMI                      21.3039\nBirth_Place                   US\nBirthdate          June 15, 1985\nAge                           32\nCollege                     Utah\nExperience                     9\nGames Played                  30\nMIN                          623\nFGM                           70\nFGA                          182\nFG%                         38.5\n3PM                           31\n3PA                           92\n3P%                         33.7\nFTM                           62\nFTA                           75\nFT%                         82.7\nOREB                          12\nDREB                          57\nREB                           69\nAST                          108\nSTL                           26\nBLK                            9\nTO                            50\nPTS                          233\nDD2                            0\nTD3                            0\nName: 86, dtype: object"
     },
     "metadata": {},
     "execution_count": 4
    }
   ],
   "source": [
    "leilani_mitchell = wnba.loc[86]\n",
    "\n",
    "leilani_mitchell"
   ]
  },
  {
   "cell_type": "code",
   "execution_count": 5,
   "metadata": {},
   "outputs": [],
   "source": [
    "brittney_griner = wnba.loc[25]\n",
    "\n",
    "# brittney_griner"
   ]
  },
  {
   "cell_type": "code",
   "execution_count": 6,
   "metadata": {},
   "outputs": [
    {
     "output_type": "execute_result",
     "data": {
      "text/plain": "     Unnamed: 0                  Name Team  Pos  Height  Weight        BMI  \\\n6             6         Alexis Prince  PHO    G     188    81.0  22.917610   \n11           11         Alyssa Thomas  CON    F     188    84.0  23.766410   \n17           17       Bashaara Graves  CHI    F     188    91.0  25.746944   \n27           27        Camille Little  PHO    F     188    82.0  23.200543   \n29           29        Candice Dupree  IND    F     188    81.0  22.917610   \n39           39     Crystal Langhorne  SEA  F/C     188    84.0  23.766410   \n44           44      Devereaux Peters  IND    F     188    79.0  22.351743   \n48           48           Emma Cannon  PHO    F     188    86.0  24.332277   \n62           62       Jazmon Gwathmey  IND    G     188    65.0  18.390675   \n69           69         Jordan Hooper  CHI    F     188    84.0  23.766410   \n70           70           Kaela Davis  DAL    G     188    77.0  21.785876   \n95           96           Morgan Tuck  CON    F     188    91.0  25.746944   \n99          100        Natasha Howard  MIN    F     188    75.0  21.220009   \n100         101  Nayo Raincock-Ekunwe   NY  F/C     188    79.0  22.351743   \n102         103        Nneka Ogwumike   LA    F     188    79.0  22.351743   \n105         106      Plenette Pierson  MIN  F/C     188    88.0  24.898144   \n108         109         Rebecca Allen   NY  G/F     188    74.0  20.937076   \n109         110      Rebekkah Brunson  MIN    F     188    84.0  23.766410   \n121         122    Shekinna Stricklen  CON  G/F     188    81.0  22.917610   \n131         132          Tamera Young  ATL  G/F     188    77.0  21.785876   \n\n    Birth_Place          Birthdate  Age  ... OREB DREB  REB  AST  STL  BLK  \\\n6            US   February 5, 1994   23  ...    1   14   15    5    4    3   \n11           US   December 4, 1992   24  ...   34  158  192  136   48   11   \n17           US     March 17, 1994   23  ...    4   13   17    3    0    1   \n27           US   January 18, 1985   32  ...   42   71  113   42   28   13   \n29           US  February 25, 1984   33  ...   31  124  155   47   28   12   \n39           US   October 27, 1986   30  ...   35  140  175   46   16   11   \n44           US    August 10, 1989   28  ...    8   69   77   76   16    9   \n48           US    January 6, 1989   28  ...   33   72  105   52   21   27   \n62           PR   January 24, 1993   24  ...   15   34   49   17   13   19   \n69           US  February 20, 1992   25  ...  108  226  334   40   29   46   \n70           US     March 15, 1995   22  ...    2   20   22    5    7    1   \n95           US     April 30, 1994   23  ...    9   34   43   19    7    0   \n99           US   February 9, 1991   26  ...   25   38   63   16   11   19   \n100          CA    August 29, 1991   25  ...   24   22   46    8    2    1   \n102          US   February 7, 1990   27  ...   57  179  236   63   53   14   \n105          US    August 31, 1981   35  ...   13   49   62   48   12    4   \n108          AU      June 11, 1992   25  ...   13   51   64   15    9   12   \n109          US  November 12, 1981   35  ...   46  135  181   40   31    9   \n121          US      July 30, 1990   27  ...   15   71   86   30   36    2   \n131          US   October 30, 1986   30  ...   23   87  110   66   36   14   \n\n     TO  PTS  DD2  TD3  \n6     3   24    0    0  \n11   87  399    4    0  \n17    3   19    0    0  \n27   50  228    0    0  \n29   42  435    2    0  \n39   50  370    2    0  \n44   56  514    0    0  \n48   30  252    1    0  \n62   32  142    0    0  \n69   46  467   17    0  \n70    6   77    0    0  \n95   15   91    1    0  \n99   20  116    0    0  \n100  13   96    0    0  \n102  47  577    9    0  \n105  33  140    0    0  \n108  17   78    0    0  \n109  42  278    2    0  \n121  23  245    0    0  \n131  61  277    0    0  \n\n[20 rows x 33 columns]",
      "text/html": "<div>\n<style scoped>\n    .dataframe tbody tr th:only-of-type {\n        vertical-align: middle;\n    }\n\n    .dataframe tbody tr th {\n        vertical-align: top;\n    }\n\n    .dataframe thead th {\n        text-align: right;\n    }\n</style>\n<table border=\"1\" class=\"dataframe\">\n  <thead>\n    <tr style=\"text-align: right;\">\n      <th></th>\n      <th>Unnamed: 0</th>\n      <th>Name</th>\n      <th>Team</th>\n      <th>Pos</th>\n      <th>Height</th>\n      <th>Weight</th>\n      <th>BMI</th>\n      <th>Birth_Place</th>\n      <th>Birthdate</th>\n      <th>Age</th>\n      <th>...</th>\n      <th>OREB</th>\n      <th>DREB</th>\n      <th>REB</th>\n      <th>AST</th>\n      <th>STL</th>\n      <th>BLK</th>\n      <th>TO</th>\n      <th>PTS</th>\n      <th>DD2</th>\n      <th>TD3</th>\n    </tr>\n  </thead>\n  <tbody>\n    <tr>\n      <th>6</th>\n      <td>6</td>\n      <td>Alexis Prince</td>\n      <td>PHO</td>\n      <td>G</td>\n      <td>188</td>\n      <td>81.0</td>\n      <td>22.917610</td>\n      <td>US</td>\n      <td>February 5, 1994</td>\n      <td>23</td>\n      <td>...</td>\n      <td>1</td>\n      <td>14</td>\n      <td>15</td>\n      <td>5</td>\n      <td>4</td>\n      <td>3</td>\n      <td>3</td>\n      <td>24</td>\n      <td>0</td>\n      <td>0</td>\n    </tr>\n    <tr>\n      <th>11</th>\n      <td>11</td>\n      <td>Alyssa Thomas</td>\n      <td>CON</td>\n      <td>F</td>\n      <td>188</td>\n      <td>84.0</td>\n      <td>23.766410</td>\n      <td>US</td>\n      <td>December 4, 1992</td>\n      <td>24</td>\n      <td>...</td>\n      <td>34</td>\n      <td>158</td>\n      <td>192</td>\n      <td>136</td>\n      <td>48</td>\n      <td>11</td>\n      <td>87</td>\n      <td>399</td>\n      <td>4</td>\n      <td>0</td>\n    </tr>\n    <tr>\n      <th>17</th>\n      <td>17</td>\n      <td>Bashaara Graves</td>\n      <td>CHI</td>\n      <td>F</td>\n      <td>188</td>\n      <td>91.0</td>\n      <td>25.746944</td>\n      <td>US</td>\n      <td>March 17, 1994</td>\n      <td>23</td>\n      <td>...</td>\n      <td>4</td>\n      <td>13</td>\n      <td>17</td>\n      <td>3</td>\n      <td>0</td>\n      <td>1</td>\n      <td>3</td>\n      <td>19</td>\n      <td>0</td>\n      <td>0</td>\n    </tr>\n    <tr>\n      <th>27</th>\n      <td>27</td>\n      <td>Camille Little</td>\n      <td>PHO</td>\n      <td>F</td>\n      <td>188</td>\n      <td>82.0</td>\n      <td>23.200543</td>\n      <td>US</td>\n      <td>January 18, 1985</td>\n      <td>32</td>\n      <td>...</td>\n      <td>42</td>\n      <td>71</td>\n      <td>113</td>\n      <td>42</td>\n      <td>28</td>\n      <td>13</td>\n      <td>50</td>\n      <td>228</td>\n      <td>0</td>\n      <td>0</td>\n    </tr>\n    <tr>\n      <th>29</th>\n      <td>29</td>\n      <td>Candice Dupree</td>\n      <td>IND</td>\n      <td>F</td>\n      <td>188</td>\n      <td>81.0</td>\n      <td>22.917610</td>\n      <td>US</td>\n      <td>February 25, 1984</td>\n      <td>33</td>\n      <td>...</td>\n      <td>31</td>\n      <td>124</td>\n      <td>155</td>\n      <td>47</td>\n      <td>28</td>\n      <td>12</td>\n      <td>42</td>\n      <td>435</td>\n      <td>2</td>\n      <td>0</td>\n    </tr>\n    <tr>\n      <th>39</th>\n      <td>39</td>\n      <td>Crystal Langhorne</td>\n      <td>SEA</td>\n      <td>F/C</td>\n      <td>188</td>\n      <td>84.0</td>\n      <td>23.766410</td>\n      <td>US</td>\n      <td>October 27, 1986</td>\n      <td>30</td>\n      <td>...</td>\n      <td>35</td>\n      <td>140</td>\n      <td>175</td>\n      <td>46</td>\n      <td>16</td>\n      <td>11</td>\n      <td>50</td>\n      <td>370</td>\n      <td>2</td>\n      <td>0</td>\n    </tr>\n    <tr>\n      <th>44</th>\n      <td>44</td>\n      <td>Devereaux Peters</td>\n      <td>IND</td>\n      <td>F</td>\n      <td>188</td>\n      <td>79.0</td>\n      <td>22.351743</td>\n      <td>US</td>\n      <td>August 10, 1989</td>\n      <td>28</td>\n      <td>...</td>\n      <td>8</td>\n      <td>69</td>\n      <td>77</td>\n      <td>76</td>\n      <td>16</td>\n      <td>9</td>\n      <td>56</td>\n      <td>514</td>\n      <td>0</td>\n      <td>0</td>\n    </tr>\n    <tr>\n      <th>48</th>\n      <td>48</td>\n      <td>Emma Cannon</td>\n      <td>PHO</td>\n      <td>F</td>\n      <td>188</td>\n      <td>86.0</td>\n      <td>24.332277</td>\n      <td>US</td>\n      <td>January 6, 1989</td>\n      <td>28</td>\n      <td>...</td>\n      <td>33</td>\n      <td>72</td>\n      <td>105</td>\n      <td>52</td>\n      <td>21</td>\n      <td>27</td>\n      <td>30</td>\n      <td>252</td>\n      <td>1</td>\n      <td>0</td>\n    </tr>\n    <tr>\n      <th>62</th>\n      <td>62</td>\n      <td>Jazmon Gwathmey</td>\n      <td>IND</td>\n      <td>G</td>\n      <td>188</td>\n      <td>65.0</td>\n      <td>18.390675</td>\n      <td>PR</td>\n      <td>January 24, 1993</td>\n      <td>24</td>\n      <td>...</td>\n      <td>15</td>\n      <td>34</td>\n      <td>49</td>\n      <td>17</td>\n      <td>13</td>\n      <td>19</td>\n      <td>32</td>\n      <td>142</td>\n      <td>0</td>\n      <td>0</td>\n    </tr>\n    <tr>\n      <th>69</th>\n      <td>69</td>\n      <td>Jordan Hooper</td>\n      <td>CHI</td>\n      <td>F</td>\n      <td>188</td>\n      <td>84.0</td>\n      <td>23.766410</td>\n      <td>US</td>\n      <td>February 20, 1992</td>\n      <td>25</td>\n      <td>...</td>\n      <td>108</td>\n      <td>226</td>\n      <td>334</td>\n      <td>40</td>\n      <td>29</td>\n      <td>46</td>\n      <td>46</td>\n      <td>467</td>\n      <td>17</td>\n      <td>0</td>\n    </tr>\n    <tr>\n      <th>70</th>\n      <td>70</td>\n      <td>Kaela Davis</td>\n      <td>DAL</td>\n      <td>G</td>\n      <td>188</td>\n      <td>77.0</td>\n      <td>21.785876</td>\n      <td>US</td>\n      <td>March 15, 1995</td>\n      <td>22</td>\n      <td>...</td>\n      <td>2</td>\n      <td>20</td>\n      <td>22</td>\n      <td>5</td>\n      <td>7</td>\n      <td>1</td>\n      <td>6</td>\n      <td>77</td>\n      <td>0</td>\n      <td>0</td>\n    </tr>\n    <tr>\n      <th>95</th>\n      <td>96</td>\n      <td>Morgan Tuck</td>\n      <td>CON</td>\n      <td>F</td>\n      <td>188</td>\n      <td>91.0</td>\n      <td>25.746944</td>\n      <td>US</td>\n      <td>April 30, 1994</td>\n      <td>23</td>\n      <td>...</td>\n      <td>9</td>\n      <td>34</td>\n      <td>43</td>\n      <td>19</td>\n      <td>7</td>\n      <td>0</td>\n      <td>15</td>\n      <td>91</td>\n      <td>1</td>\n      <td>0</td>\n    </tr>\n    <tr>\n      <th>99</th>\n      <td>100</td>\n      <td>Natasha Howard</td>\n      <td>MIN</td>\n      <td>F</td>\n      <td>188</td>\n      <td>75.0</td>\n      <td>21.220009</td>\n      <td>US</td>\n      <td>February 9, 1991</td>\n      <td>26</td>\n      <td>...</td>\n      <td>25</td>\n      <td>38</td>\n      <td>63</td>\n      <td>16</td>\n      <td>11</td>\n      <td>19</td>\n      <td>20</td>\n      <td>116</td>\n      <td>0</td>\n      <td>0</td>\n    </tr>\n    <tr>\n      <th>100</th>\n      <td>101</td>\n      <td>Nayo Raincock-Ekunwe</td>\n      <td>NY</td>\n      <td>F/C</td>\n      <td>188</td>\n      <td>79.0</td>\n      <td>22.351743</td>\n      <td>CA</td>\n      <td>August 29, 1991</td>\n      <td>25</td>\n      <td>...</td>\n      <td>24</td>\n      <td>22</td>\n      <td>46</td>\n      <td>8</td>\n      <td>2</td>\n      <td>1</td>\n      <td>13</td>\n      <td>96</td>\n      <td>0</td>\n      <td>0</td>\n    </tr>\n    <tr>\n      <th>102</th>\n      <td>103</td>\n      <td>Nneka Ogwumike</td>\n      <td>LA</td>\n      <td>F</td>\n      <td>188</td>\n      <td>79.0</td>\n      <td>22.351743</td>\n      <td>US</td>\n      <td>February 7, 1990</td>\n      <td>27</td>\n      <td>...</td>\n      <td>57</td>\n      <td>179</td>\n      <td>236</td>\n      <td>63</td>\n      <td>53</td>\n      <td>14</td>\n      <td>47</td>\n      <td>577</td>\n      <td>9</td>\n      <td>0</td>\n    </tr>\n    <tr>\n      <th>105</th>\n      <td>106</td>\n      <td>Plenette Pierson</td>\n      <td>MIN</td>\n      <td>F/C</td>\n      <td>188</td>\n      <td>88.0</td>\n      <td>24.898144</td>\n      <td>US</td>\n      <td>August 31, 1981</td>\n      <td>35</td>\n      <td>...</td>\n      <td>13</td>\n      <td>49</td>\n      <td>62</td>\n      <td>48</td>\n      <td>12</td>\n      <td>4</td>\n      <td>33</td>\n      <td>140</td>\n      <td>0</td>\n      <td>0</td>\n    </tr>\n    <tr>\n      <th>108</th>\n      <td>109</td>\n      <td>Rebecca Allen</td>\n      <td>NY</td>\n      <td>G/F</td>\n      <td>188</td>\n      <td>74.0</td>\n      <td>20.937076</td>\n      <td>AU</td>\n      <td>June 11, 1992</td>\n      <td>25</td>\n      <td>...</td>\n      <td>13</td>\n      <td>51</td>\n      <td>64</td>\n      <td>15</td>\n      <td>9</td>\n      <td>12</td>\n      <td>17</td>\n      <td>78</td>\n      <td>0</td>\n      <td>0</td>\n    </tr>\n    <tr>\n      <th>109</th>\n      <td>110</td>\n      <td>Rebekkah Brunson</td>\n      <td>MIN</td>\n      <td>F</td>\n      <td>188</td>\n      <td>84.0</td>\n      <td>23.766410</td>\n      <td>US</td>\n      <td>November 12, 1981</td>\n      <td>35</td>\n      <td>...</td>\n      <td>46</td>\n      <td>135</td>\n      <td>181</td>\n      <td>40</td>\n      <td>31</td>\n      <td>9</td>\n      <td>42</td>\n      <td>278</td>\n      <td>2</td>\n      <td>0</td>\n    </tr>\n    <tr>\n      <th>121</th>\n      <td>122</td>\n      <td>Shekinna Stricklen</td>\n      <td>CON</td>\n      <td>G/F</td>\n      <td>188</td>\n      <td>81.0</td>\n      <td>22.917610</td>\n      <td>US</td>\n      <td>July 30, 1990</td>\n      <td>27</td>\n      <td>...</td>\n      <td>15</td>\n      <td>71</td>\n      <td>86</td>\n      <td>30</td>\n      <td>36</td>\n      <td>2</td>\n      <td>23</td>\n      <td>245</td>\n      <td>0</td>\n      <td>0</td>\n    </tr>\n    <tr>\n      <th>131</th>\n      <td>132</td>\n      <td>Tamera Young</td>\n      <td>ATL</td>\n      <td>G/F</td>\n      <td>188</td>\n      <td>77.0</td>\n      <td>21.785876</td>\n      <td>US</td>\n      <td>October 30, 1986</td>\n      <td>30</td>\n      <td>...</td>\n      <td>23</td>\n      <td>87</td>\n      <td>110</td>\n      <td>66</td>\n      <td>36</td>\n      <td>14</td>\n      <td>61</td>\n      <td>277</td>\n      <td>0</td>\n      <td>0</td>\n    </tr>\n  </tbody>\n</table>\n<p>20 rows × 33 columns</p>\n</div>"
     },
     "metadata": {},
     "execution_count": 6
    }
   ],
   "source": [
    "median_wnba = wnba[(wnba['Height'] == 188)]\n",
    "\n",
    "median_wnba"
   ]
  },
  {
   "cell_type": "code",
   "execution_count": 7,
   "metadata": {
    "tags": []
   },
   "outputs": [],
   "source": [
    "leilani_mitchell_stats = [leilani_mitchell['REB'] / leilani_mitchell['MIN'],\n",
    "leilani_mitchell['AST'] / leilani_mitchell['MIN'],\n",
    "leilani_mitchell['STL'] / leilani_mitchell['MIN'] * 5,\n",
    "leilani_mitchell['PTS'] / leilani_mitchell['MIN'] / 3,\n",
    "leilani_mitchell['BLK'] / leilani_mitchell['MIN'] * 2,\n",
    "leilani_mitchell['3PM'] / leilani_mitchell['MIN'],\n",
    "leilani_mitchell['3P%'] / 400,\n",
    "leilani_mitchell['FTM'] / leilani_mitchell['MIN'],\n",
    "leilani_mitchell['FT%'] / 400]\n",
    "\n",
    "brittney_griner_stats = [brittney_griner['REB'].mean() / brittney_griner['MIN'].mean(),\n",
    "brittney_griner['AST'] / brittney_griner['MIN'],\n",
    "brittney_griner['STL'] / brittney_griner['MIN'] * 5,\n",
    "brittney_griner['PTS'] / brittney_griner['MIN'] / 3,\n",
    "brittney_griner['BLK'] / brittney_griner['MIN'] * 2,\n",
    "brittney_griner['3PM'] / brittney_griner['MIN'],\n",
    "brittney_griner['3P%'] / 400,\n",
    "brittney_griner['FTM'] / brittney_griner['MIN'],\n",
    "brittney_griner['FT%'] / 400]\n",
    "\n",
    "wnba_stats = [wnba['REB'].mean() / wnba['MIN'].mean(),\n",
    "wnba['AST'].mean() / wnba['MIN'].mean(),\n",
    "wnba['STL'].mean() / wnba['MIN'].mean() * 5,\n",
    "wnba['PTS'].mean() / wnba['MIN'].mean() / 3,\n",
    "wnba['BLK'].mean() / wnba['MIN'].mean() * 2,\n",
    "wnba['3PM'].mean() / wnba['MIN'].mean(),\n",
    "wnba['3P%'].mean() / 400,\n",
    "wnba['FTM'].mean() / wnba['MIN'].mean(),\n",
    "wnba['FT%'].mean() / 400]\n",
    "\n",
    "median_wnba = [median_wnba['REB'].mean() / median_wnba['MIN'].mean(),\n",
    "median_wnba['AST'].mean() / median_wnba['MIN'].mean(),\n",
    "median_wnba['STL'].mean() / median_wnba['MIN'].mean() * 5,\n",
    "median_wnba['PTS'].mean() / median_wnba['MIN'].mean() / 3,\n",
    "median_wnba['BLK'].mean() / median_wnba['MIN'].mean() * 2,\n",
    "median_wnba['3PM'].mean() / median_wnba['MIN'].mean(),\n",
    "median_wnba['3P%'].mean() / 400,\n",
    "median_wnba['FTM'].mean() / median_wnba['MIN'].mean(),\n",
    "median_wnba['FT%'].mean() / 400]"
   ]
  },
  {
   "cell_type": "code",
   "execution_count": 8,
   "metadata": {},
   "outputs": [
    {
     "output_type": "display_data",
     "data": {
      "application/vnd.plotly.v1+json": {
       "config": {
        "plotlyServerURL": "https://plot.ly"
       },
       "data": [
        {
         "fill": "toself",
         "name": "Leilani Mitchell (Shortest Player)",
         "opacity": 0.8,
         "r": [
          0.11075441412520064,
          0.17335473515248795,
          0.2086677367576244,
          0.12466559657570893,
          0.028892455858747994,
          0.04975922953451043,
          0.08425,
          0.09951845906902086,
          0.20675000000000002
         ],
         "theta": [
          "Total Rebounds",
          "Assists",
          "Steals",
          "Total points",
          "Blocks",
          "3Points Made",
          "3Points %",
          "Free Throws made",
          "Free Throws %"
         ],
         "type": "scatterpolar"
        },
        {
         "fill": "toself",
         "name": "Brittney Griner (Tallest Player)",
         "opacity": 0.8,
         "r": [
          0.25219941348973607,
          0.05718475073313783,
          0.09530791788856305,
          0.22531769305962854,
          0.15835777126099707,
          0,
          0,
          0.18621700879765396,
          0.20625
         ],
         "theta": [
          "Total Rebounds",
          "Assists",
          "Steals",
          "Total points",
          "Blocks",
          "3Points Made",
          "3Points %",
          "Free Throws made",
          "Free Throws %"
         ],
         "type": "scatterpolar"
        },
        {
         "fill": "toself",
         "name": "Average players in the WNBA",
         "opacity": 0.8,
         "r": [
          0.16727451946771807,
          0.08900936421882702,
          0.17721608110962472,
          0.13541740007979533,
          0.039118496092374846,
          0.029655706540871647,
          0.062445422535211265,
          0.07905372104484967,
          0.18957218309859156
         ],
         "theta": [
          "Total Rebounds",
          "Assists",
          "Steals",
          "Total points",
          "Blocks",
          "3Points Made",
          "3Points %",
          "Free Throws made",
          "Free Throws %"
         ],
         "type": "scatterpolar"
        },
        {
         "fill": "toself",
         "name": "Players with the median height of 188 cm in the WNBA",
         "opacity": 0.8,
         "r": [
          0.19450489662676823,
          0.07018498367791078,
          0.18453028654334425,
          0.1458408898561238,
          0.041349292709466814,
          0.03001450852375771,
          0.0672625,
          0.07907145447950671,
          0.18880000000000002
         ],
         "theta": [
          "Total Rebounds",
          "Assists",
          "Steals",
          "Total points",
          "Blocks",
          "3Points Made",
          "3Points %",
          "Free Throws made",
          "Free Throws %"
         ],
         "type": "scatterpolar"
        }
       ],
       "layout": {
        "height": 800,
        "polar": {
         "radialaxis": {
          "range": [
           0,
           0.26
          ],
          "visible": false
         }
        },
        "showlegend": true,
        "template": {
         "data": {
          "bar": [
           {
            "error_x": {
             "color": "#2a3f5f"
            },
            "error_y": {
             "color": "#2a3f5f"
            },
            "marker": {
             "line": {
              "color": "#E5ECF6",
              "width": 0.5
             }
            },
            "type": "bar"
           }
          ],
          "barpolar": [
           {
            "marker": {
             "line": {
              "color": "#E5ECF6",
              "width": 0.5
             }
            },
            "type": "barpolar"
           }
          ],
          "carpet": [
           {
            "aaxis": {
             "endlinecolor": "#2a3f5f",
             "gridcolor": "white",
             "linecolor": "white",
             "minorgridcolor": "white",
             "startlinecolor": "#2a3f5f"
            },
            "baxis": {
             "endlinecolor": "#2a3f5f",
             "gridcolor": "white",
             "linecolor": "white",
             "minorgridcolor": "white",
             "startlinecolor": "#2a3f5f"
            },
            "type": "carpet"
           }
          ],
          "choropleth": [
           {
            "colorbar": {
             "outlinewidth": 0,
             "ticks": ""
            },
            "type": "choropleth"
           }
          ],
          "contour": [
           {
            "colorbar": {
             "outlinewidth": 0,
             "ticks": ""
            },
            "colorscale": [
             [
              0,
              "#0d0887"
             ],
             [
              0.1111111111111111,
              "#46039f"
             ],
             [
              0.2222222222222222,
              "#7201a8"
             ],
             [
              0.3333333333333333,
              "#9c179e"
             ],
             [
              0.4444444444444444,
              "#bd3786"
             ],
             [
              0.5555555555555556,
              "#d8576b"
             ],
             [
              0.6666666666666666,
              "#ed7953"
             ],
             [
              0.7777777777777778,
              "#fb9f3a"
             ],
             [
              0.8888888888888888,
              "#fdca26"
             ],
             [
              1,
              "#f0f921"
             ]
            ],
            "type": "contour"
           }
          ],
          "contourcarpet": [
           {
            "colorbar": {
             "outlinewidth": 0,
             "ticks": ""
            },
            "type": "contourcarpet"
           }
          ],
          "heatmap": [
           {
            "colorbar": {
             "outlinewidth": 0,
             "ticks": ""
            },
            "colorscale": [
             [
              0,
              "#0d0887"
             ],
             [
              0.1111111111111111,
              "#46039f"
             ],
             [
              0.2222222222222222,
              "#7201a8"
             ],
             [
              0.3333333333333333,
              "#9c179e"
             ],
             [
              0.4444444444444444,
              "#bd3786"
             ],
             [
              0.5555555555555556,
              "#d8576b"
             ],
             [
              0.6666666666666666,
              "#ed7953"
             ],
             [
              0.7777777777777778,
              "#fb9f3a"
             ],
             [
              0.8888888888888888,
              "#fdca26"
             ],
             [
              1,
              "#f0f921"
             ]
            ],
            "type": "heatmap"
           }
          ],
          "heatmapgl": [
           {
            "colorbar": {
             "outlinewidth": 0,
             "ticks": ""
            },
            "colorscale": [
             [
              0,
              "#0d0887"
             ],
             [
              0.1111111111111111,
              "#46039f"
             ],
             [
              0.2222222222222222,
              "#7201a8"
             ],
             [
              0.3333333333333333,
              "#9c179e"
             ],
             [
              0.4444444444444444,
              "#bd3786"
             ],
             [
              0.5555555555555556,
              "#d8576b"
             ],
             [
              0.6666666666666666,
              "#ed7953"
             ],
             [
              0.7777777777777778,
              "#fb9f3a"
             ],
             [
              0.8888888888888888,
              "#fdca26"
             ],
             [
              1,
              "#f0f921"
             ]
            ],
            "type": "heatmapgl"
           }
          ],
          "histogram": [
           {
            "marker": {
             "colorbar": {
              "outlinewidth": 0,
              "ticks": ""
             }
            },
            "type": "histogram"
           }
          ],
          "histogram2d": [
           {
            "colorbar": {
             "outlinewidth": 0,
             "ticks": ""
            },
            "colorscale": [
             [
              0,
              "#0d0887"
             ],
             [
              0.1111111111111111,
              "#46039f"
             ],
             [
              0.2222222222222222,
              "#7201a8"
             ],
             [
              0.3333333333333333,
              "#9c179e"
             ],
             [
              0.4444444444444444,
              "#bd3786"
             ],
             [
              0.5555555555555556,
              "#d8576b"
             ],
             [
              0.6666666666666666,
              "#ed7953"
             ],
             [
              0.7777777777777778,
              "#fb9f3a"
             ],
             [
              0.8888888888888888,
              "#fdca26"
             ],
             [
              1,
              "#f0f921"
             ]
            ],
            "type": "histogram2d"
           }
          ],
          "histogram2dcontour": [
           {
            "colorbar": {
             "outlinewidth": 0,
             "ticks": ""
            },
            "colorscale": [
             [
              0,
              "#0d0887"
             ],
             [
              0.1111111111111111,
              "#46039f"
             ],
             [
              0.2222222222222222,
              "#7201a8"
             ],
             [
              0.3333333333333333,
              "#9c179e"
             ],
             [
              0.4444444444444444,
              "#bd3786"
             ],
             [
              0.5555555555555556,
              "#d8576b"
             ],
             [
              0.6666666666666666,
              "#ed7953"
             ],
             [
              0.7777777777777778,
              "#fb9f3a"
             ],
             [
              0.8888888888888888,
              "#fdca26"
             ],
             [
              1,
              "#f0f921"
             ]
            ],
            "type": "histogram2dcontour"
           }
          ],
          "mesh3d": [
           {
            "colorbar": {
             "outlinewidth": 0,
             "ticks": ""
            },
            "type": "mesh3d"
           }
          ],
          "parcoords": [
           {
            "line": {
             "colorbar": {
              "outlinewidth": 0,
              "ticks": ""
             }
            },
            "type": "parcoords"
           }
          ],
          "pie": [
           {
            "automargin": true,
            "type": "pie"
           }
          ],
          "scatter": [
           {
            "marker": {
             "colorbar": {
              "outlinewidth": 0,
              "ticks": ""
             }
            },
            "type": "scatter"
           }
          ],
          "scatter3d": [
           {
            "line": {
             "colorbar": {
              "outlinewidth": 0,
              "ticks": ""
             }
            },
            "marker": {
             "colorbar": {
              "outlinewidth": 0,
              "ticks": ""
             }
            },
            "type": "scatter3d"
           }
          ],
          "scattercarpet": [
           {
            "marker": {
             "colorbar": {
              "outlinewidth": 0,
              "ticks": ""
             }
            },
            "type": "scattercarpet"
           }
          ],
          "scattergeo": [
           {
            "marker": {
             "colorbar": {
              "outlinewidth": 0,
              "ticks": ""
             }
            },
            "type": "scattergeo"
           }
          ],
          "scattergl": [
           {
            "marker": {
             "colorbar": {
              "outlinewidth": 0,
              "ticks": ""
             }
            },
            "type": "scattergl"
           }
          ],
          "scattermapbox": [
           {
            "marker": {
             "colorbar": {
              "outlinewidth": 0,
              "ticks": ""
             }
            },
            "type": "scattermapbox"
           }
          ],
          "scatterpolar": [
           {
            "marker": {
             "colorbar": {
              "outlinewidth": 0,
              "ticks": ""
             }
            },
            "type": "scatterpolar"
           }
          ],
          "scatterpolargl": [
           {
            "marker": {
             "colorbar": {
              "outlinewidth": 0,
              "ticks": ""
             }
            },
            "type": "scatterpolargl"
           }
          ],
          "scatterternary": [
           {
            "marker": {
             "colorbar": {
              "outlinewidth": 0,
              "ticks": ""
             }
            },
            "type": "scatterternary"
           }
          ],
          "surface": [
           {
            "colorbar": {
             "outlinewidth": 0,
             "ticks": ""
            },
            "colorscale": [
             [
              0,
              "#0d0887"
             ],
             [
              0.1111111111111111,
              "#46039f"
             ],
             [
              0.2222222222222222,
              "#7201a8"
             ],
             [
              0.3333333333333333,
              "#9c179e"
             ],
             [
              0.4444444444444444,
              "#bd3786"
             ],
             [
              0.5555555555555556,
              "#d8576b"
             ],
             [
              0.6666666666666666,
              "#ed7953"
             ],
             [
              0.7777777777777778,
              "#fb9f3a"
             ],
             [
              0.8888888888888888,
              "#fdca26"
             ],
             [
              1,
              "#f0f921"
             ]
            ],
            "type": "surface"
           }
          ],
          "table": [
           {
            "cells": {
             "fill": {
              "color": "#EBF0F8"
             },
             "line": {
              "color": "white"
             }
            },
            "header": {
             "fill": {
              "color": "#C8D4E3"
             },
             "line": {
              "color": "white"
             }
            },
            "type": "table"
           }
          ]
         },
         "layout": {
          "annotationdefaults": {
           "arrowcolor": "#2a3f5f",
           "arrowhead": 0,
           "arrowwidth": 1
          },
          "coloraxis": {
           "colorbar": {
            "outlinewidth": 0,
            "ticks": ""
           }
          },
          "colorscale": {
           "diverging": [
            [
             0,
             "#8e0152"
            ],
            [
             0.1,
             "#c51b7d"
            ],
            [
             0.2,
             "#de77ae"
            ],
            [
             0.3,
             "#f1b6da"
            ],
            [
             0.4,
             "#fde0ef"
            ],
            [
             0.5,
             "#f7f7f7"
            ],
            [
             0.6,
             "#e6f5d0"
            ],
            [
             0.7,
             "#b8e186"
            ],
            [
             0.8,
             "#7fbc41"
            ],
            [
             0.9,
             "#4d9221"
            ],
            [
             1,
             "#276419"
            ]
           ],
           "sequential": [
            [
             0,
             "#0d0887"
            ],
            [
             0.1111111111111111,
             "#46039f"
            ],
            [
             0.2222222222222222,
             "#7201a8"
            ],
            [
             0.3333333333333333,
             "#9c179e"
            ],
            [
             0.4444444444444444,
             "#bd3786"
            ],
            [
             0.5555555555555556,
             "#d8576b"
            ],
            [
             0.6666666666666666,
             "#ed7953"
            ],
            [
             0.7777777777777778,
             "#fb9f3a"
            ],
            [
             0.8888888888888888,
             "#fdca26"
            ],
            [
             1,
             "#f0f921"
            ]
           ],
           "sequentialminus": [
            [
             0,
             "#0d0887"
            ],
            [
             0.1111111111111111,
             "#46039f"
            ],
            [
             0.2222222222222222,
             "#7201a8"
            ],
            [
             0.3333333333333333,
             "#9c179e"
            ],
            [
             0.4444444444444444,
             "#bd3786"
            ],
            [
             0.5555555555555556,
             "#d8576b"
            ],
            [
             0.6666666666666666,
             "#ed7953"
            ],
            [
             0.7777777777777778,
             "#fb9f3a"
            ],
            [
             0.8888888888888888,
             "#fdca26"
            ],
            [
             1,
             "#f0f921"
            ]
           ]
          },
          "colorway": [
           "#636efa",
           "#EF553B",
           "#00cc96",
           "#ab63fa",
           "#FFA15A",
           "#19d3f3",
           "#FF6692",
           "#B6E880",
           "#FF97FF",
           "#FECB52"
          ],
          "font": {
           "color": "#2a3f5f"
          },
          "geo": {
           "bgcolor": "white",
           "lakecolor": "white",
           "landcolor": "#E5ECF6",
           "showlakes": true,
           "showland": true,
           "subunitcolor": "white"
          },
          "hoverlabel": {
           "align": "left"
          },
          "hovermode": "closest",
          "mapbox": {
           "style": "light"
          },
          "paper_bgcolor": "white",
          "plot_bgcolor": "#E5ECF6",
          "polar": {
           "angularaxis": {
            "gridcolor": "white",
            "linecolor": "white",
            "ticks": ""
           },
           "bgcolor": "#E5ECF6",
           "radialaxis": {
            "gridcolor": "white",
            "linecolor": "white",
            "ticks": ""
           }
          },
          "scene": {
           "xaxis": {
            "backgroundcolor": "#E5ECF6",
            "gridcolor": "white",
            "gridwidth": 2,
            "linecolor": "white",
            "showbackground": true,
            "ticks": "",
            "zerolinecolor": "white"
           },
           "yaxis": {
            "backgroundcolor": "#E5ECF6",
            "gridcolor": "white",
            "gridwidth": 2,
            "linecolor": "white",
            "showbackground": true,
            "ticks": "",
            "zerolinecolor": "white"
           },
           "zaxis": {
            "backgroundcolor": "#E5ECF6",
            "gridcolor": "white",
            "gridwidth": 2,
            "linecolor": "white",
            "showbackground": true,
            "ticks": "",
            "zerolinecolor": "white"
           }
          },
          "shapedefaults": {
           "line": {
            "color": "#2a3f5f"
           }
          },
          "ternary": {
           "aaxis": {
            "gridcolor": "white",
            "linecolor": "white",
            "ticks": ""
           },
           "baxis": {
            "gridcolor": "white",
            "linecolor": "white",
            "ticks": ""
           },
           "bgcolor": "#E5ECF6",
           "caxis": {
            "gridcolor": "white",
            "linecolor": "white",
            "ticks": ""
           }
          },
          "title": {
           "x": 0.05
          },
          "xaxis": {
           "automargin": true,
           "gridcolor": "white",
           "linecolor": "white",
           "ticks": "",
           "title": {
            "standoff": 15
           },
           "zerolinecolor": "white",
           "zerolinewidth": 2
          },
          "yaxis": {
           "automargin": true,
           "gridcolor": "white",
           "linecolor": "white",
           "ticks": "",
           "title": {
            "standoff": 15
           },
           "zerolinecolor": "white",
           "zerolinewidth": 2
          }
         }
        },
        "width": 1200
       }
      }
     },
     "metadata": {}
    }
   ],
   "source": [
    "import plotly.graph_objects as go\n",
    "\n",
    "fig = go.Figure()\n",
    "\n",
    "fig.add_trace(go.Scatterpolar(\n",
    "      r=leilani_mitchell_stats,\n",
    "      theta=['Total Rebounds', 'Assists', 'Steals', 'Total points', 'Blocks', '3Points Made', '3Points %', 'Free Throws made', 'Free Throws %'],\n",
    "      fill='toself',\n",
    "      name='Leilani Mitchell (Shortest Player)',\n",
    "      opacity=0.8\n",
    "))\n",
    "fig.add_trace(go.Scatterpolar(\n",
    "      r=brittney_griner_stats,\n",
    "      theta=['Total Rebounds', 'Assists', 'Steals', 'Total points', 'Blocks', '3Points Made', '3Points %', 'Free Throws made', 'Free Throws %'],\n",
    "      fill='toself',\n",
    "      name='Brittney Griner (Tallest Player)',\n",
    "      opacity=0.8\n",
    "))\n",
    "fig.add_trace(go.Scatterpolar(\n",
    "      r=wnba_stats,\n",
    "      theta=['Total Rebounds', 'Assists', 'Steals', 'Total points', 'Blocks', '3Points Made', '3Points %', 'Free Throws made', 'Free Throws %'],\n",
    "      fill='toself',\n",
    "      name='Average players in the WNBA',\n",
    "      opacity=0.8\n",
    "))\n",
    "fig.add_trace(go.Scatterpolar(\n",
    "      r=median_wnba,\n",
    "      theta=['Total Rebounds', 'Assists', 'Steals', 'Total points', 'Blocks', '3Points Made', '3Points %', 'Free Throws made', 'Free Throws %'],\n",
    "      fill='toself',\n",
    "      name='Players with the median height of 188 cm in the WNBA',\n",
    "      opacity=0.8\n",
    "))\n",
    "\n",
    "fig.update_layout(polar=dict(radialaxis=dict(visible=False, range=[0, 0.26])), width=1200, height=800, showlegend=True)\n",
    "\n",
    "fig.write_image(\"../plots/leilani_mitchell_stats.png\")\n",
    "\n",
    "fig.show()"
   ]
  }
 ]
}