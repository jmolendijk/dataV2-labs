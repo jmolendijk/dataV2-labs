{
 "cells": [
  {
   "cell_type": "markdown",
   "metadata": {},
   "source": [
    "# Inferential statistics\n",
    "## Part I - Data Cleaning\n",
    "\n",
    "Your family is very passionate about basketball. You always have discussions over players, games, statistics and whatnot. As you can imagine those discussions never reach a conclusion since everyone is simply sharing their opinion with no statistics to back them up!\n",
    "\n",
    "![](../images/basket.jpg)\n",
    "\n",
    "Since you are attending a data analysis bootcamp you'd like to take advantage of your newfound knowledge to finally put an end to your family's discussions. \n",
    "\n",
    "Luckily we have found a dataset containing data related to the players of the WNBA for the 2016-2017 season that we can use. \n",
    "\n",
    "Let's start with cleaning the data and then we'll continue with a general exploratory analysis and some inferential statistics.\n",
    "\n",
    "### Dataset\n",
    "\n",
    "The dataset we will be using contains the statistics from the WNBA players for the 2016-2017 season. You will be able to find more information on the dataset in the [codebook](../data/codebook.md) uploaded to the repository.\n",
    "\n",
    "### Libraries\n",
    "\n",
    "First we'll import the necessary libraries first and increase the maximum number of displayed columns so you will be able to see all the dataset in the same window."
   ]
  },
  {
   "cell_type": "code",
   "execution_count": 1,
   "metadata": {},
   "outputs": [],
   "source": [
    "import pandas as pd\n",
    "pd.set_option('max_columns', 100)"
   ]
  },
  {
   "cell_type": "markdown",
   "metadata": {},
   "source": [
    "### Load the dataset\n",
    "\n",
    "Load the dataset into a df called `wnba` and take an initial look at it using the `head()` method."
   ]
  },
  {
   "cell_type": "code",
   "execution_count": 2,
   "metadata": {},
   "outputs": [
    {
     "output_type": "execute_result",
     "data": {
      "text/plain": "              Name Team  Pos  Height  Weight        BMI Birth_Place  \\\n0    Aerial Powers  DAL    F     183    71.0  21.200991          US   \n1      Alana Beard   LA  G/F     185    73.0  21.329438          US   \n2     Alex Bentley  CON    G     170    69.0  23.875433          US   \n3  Alex Montgomery  SAN  G/F     185    84.0  24.543462          US   \n4     Alexis Jones  MIN    G     175    78.0  25.469388          US   \n\n           Birthdate  Age         College Experience  Games Played  MIN  FGM  \\\n0   January 17, 1994   23  Michigan State          2             8  173   30   \n1       May 14, 1982   35            Duke         12            30  947   90   \n2   October 27, 1990   26      Penn State          4            26  617   82   \n3  December 11, 1988   28    Georgia Tech          6            31  721   75   \n4     August 5, 1994   23          Baylor          R            24  137   16   \n\n   FGA   FG%  3PM  3PA   3P%  FTM  FTA   FT%  OREB  DREB  REB  AST  STL  BLK  \\\n0   85  35.3   12   32  37.5   21   26  80.8     6    22   28   12    3    6   \n1  177  50.8    5   18  27.8   32   41  78.0    19    82  101   72   63   13   \n2  218  37.6   19   64  29.7   35   42  83.3     4    36   40   78   22    3   \n3  195  38.5   21   68  30.9   17   21  81.0    35   134  169   65   20   10   \n4   50  32.0    7   20  35.0   11   12  91.7     3     9   12   12    7    0   \n\n   TO  PTS  DD2  TD3  \n0  12   93    0    0  \n1  40  217    0    0  \n2  24  218    0    0  \n3  38  188    2    0  \n4  14   50    0    0  ",
      "text/html": "<div>\n<style scoped>\n    .dataframe tbody tr th:only-of-type {\n        vertical-align: middle;\n    }\n\n    .dataframe tbody tr th {\n        vertical-align: top;\n    }\n\n    .dataframe thead th {\n        text-align: right;\n    }\n</style>\n<table border=\"1\" class=\"dataframe\">\n  <thead>\n    <tr style=\"text-align: right;\">\n      <th></th>\n      <th>Name</th>\n      <th>Team</th>\n      <th>Pos</th>\n      <th>Height</th>\n      <th>Weight</th>\n      <th>BMI</th>\n      <th>Birth_Place</th>\n      <th>Birthdate</th>\n      <th>Age</th>\n      <th>College</th>\n      <th>Experience</th>\n      <th>Games Played</th>\n      <th>MIN</th>\n      <th>FGM</th>\n      <th>FGA</th>\n      <th>FG%</th>\n      <th>3PM</th>\n      <th>3PA</th>\n      <th>3P%</th>\n      <th>FTM</th>\n      <th>FTA</th>\n      <th>FT%</th>\n      <th>OREB</th>\n      <th>DREB</th>\n      <th>REB</th>\n      <th>AST</th>\n      <th>STL</th>\n      <th>BLK</th>\n      <th>TO</th>\n      <th>PTS</th>\n      <th>DD2</th>\n      <th>TD3</th>\n    </tr>\n  </thead>\n  <tbody>\n    <tr>\n      <th>0</th>\n      <td>Aerial Powers</td>\n      <td>DAL</td>\n      <td>F</td>\n      <td>183</td>\n      <td>71.0</td>\n      <td>21.200991</td>\n      <td>US</td>\n      <td>January 17, 1994</td>\n      <td>23</td>\n      <td>Michigan State</td>\n      <td>2</td>\n      <td>8</td>\n      <td>173</td>\n      <td>30</td>\n      <td>85</td>\n      <td>35.3</td>\n      <td>12</td>\n      <td>32</td>\n      <td>37.5</td>\n      <td>21</td>\n      <td>26</td>\n      <td>80.8</td>\n      <td>6</td>\n      <td>22</td>\n      <td>28</td>\n      <td>12</td>\n      <td>3</td>\n      <td>6</td>\n      <td>12</td>\n      <td>93</td>\n      <td>0</td>\n      <td>0</td>\n    </tr>\n    <tr>\n      <th>1</th>\n      <td>Alana Beard</td>\n      <td>LA</td>\n      <td>G/F</td>\n      <td>185</td>\n      <td>73.0</td>\n      <td>21.329438</td>\n      <td>US</td>\n      <td>May 14, 1982</td>\n      <td>35</td>\n      <td>Duke</td>\n      <td>12</td>\n      <td>30</td>\n      <td>947</td>\n      <td>90</td>\n      <td>177</td>\n      <td>50.8</td>\n      <td>5</td>\n      <td>18</td>\n      <td>27.8</td>\n      <td>32</td>\n      <td>41</td>\n      <td>78.0</td>\n      <td>19</td>\n      <td>82</td>\n      <td>101</td>\n      <td>72</td>\n      <td>63</td>\n      <td>13</td>\n      <td>40</td>\n      <td>217</td>\n      <td>0</td>\n      <td>0</td>\n    </tr>\n    <tr>\n      <th>2</th>\n      <td>Alex Bentley</td>\n      <td>CON</td>\n      <td>G</td>\n      <td>170</td>\n      <td>69.0</td>\n      <td>23.875433</td>\n      <td>US</td>\n      <td>October 27, 1990</td>\n      <td>26</td>\n      <td>Penn State</td>\n      <td>4</td>\n      <td>26</td>\n      <td>617</td>\n      <td>82</td>\n      <td>218</td>\n      <td>37.6</td>\n      <td>19</td>\n      <td>64</td>\n      <td>29.7</td>\n      <td>35</td>\n      <td>42</td>\n      <td>83.3</td>\n      <td>4</td>\n      <td>36</td>\n      <td>40</td>\n      <td>78</td>\n      <td>22</td>\n      <td>3</td>\n      <td>24</td>\n      <td>218</td>\n      <td>0</td>\n      <td>0</td>\n    </tr>\n    <tr>\n      <th>3</th>\n      <td>Alex Montgomery</td>\n      <td>SAN</td>\n      <td>G/F</td>\n      <td>185</td>\n      <td>84.0</td>\n      <td>24.543462</td>\n      <td>US</td>\n      <td>December 11, 1988</td>\n      <td>28</td>\n      <td>Georgia Tech</td>\n      <td>6</td>\n      <td>31</td>\n      <td>721</td>\n      <td>75</td>\n      <td>195</td>\n      <td>38.5</td>\n      <td>21</td>\n      <td>68</td>\n      <td>30.9</td>\n      <td>17</td>\n      <td>21</td>\n      <td>81.0</td>\n      <td>35</td>\n      <td>134</td>\n      <td>169</td>\n      <td>65</td>\n      <td>20</td>\n      <td>10</td>\n      <td>38</td>\n      <td>188</td>\n      <td>2</td>\n      <td>0</td>\n    </tr>\n    <tr>\n      <th>4</th>\n      <td>Alexis Jones</td>\n      <td>MIN</td>\n      <td>G</td>\n      <td>175</td>\n      <td>78.0</td>\n      <td>25.469388</td>\n      <td>US</td>\n      <td>August 5, 1994</td>\n      <td>23</td>\n      <td>Baylor</td>\n      <td>R</td>\n      <td>24</td>\n      <td>137</td>\n      <td>16</td>\n      <td>50</td>\n      <td>32.0</td>\n      <td>7</td>\n      <td>20</td>\n      <td>35.0</td>\n      <td>11</td>\n      <td>12</td>\n      <td>91.7</td>\n      <td>3</td>\n      <td>9</td>\n      <td>12</td>\n      <td>12</td>\n      <td>7</td>\n      <td>0</td>\n      <td>14</td>\n      <td>50</td>\n      <td>0</td>\n      <td>0</td>\n    </tr>\n  </tbody>\n</table>\n</div>"
     },
     "metadata": {},
     "execution_count": 2
    }
   ],
   "source": [
    "#your code here\n",
    "\n",
    "wnba = pd.read_csv('../data/wnba.csv')\n",
    "\n",
    "wnba.head()"
   ]
  },
  {
   "cell_type": "markdown",
   "metadata": {},
   "source": [
    "### Check NaN values\n",
    "As you know, one of our first steps is to check if there are any NaN values in the dataset to find any issues. Look for the columns that cointain NaN values and count how many rows there are with that value."
   ]
  },
  {
   "cell_type": "code",
   "execution_count": 3,
   "metadata": {},
   "outputs": [
    {
     "output_type": "execute_result",
     "data": {
      "text/plain": "Name            0\nTeam            0\nPos             0\nHeight          0\nWeight          1\nBMI             1\nBirth_Place     0\nBirthdate       0\nAge             0\nCollege         0\nExperience      0\nGames Played    0\nMIN             0\nFGM             0\nFGA             0\nFG%             0\n3PM             0\n3PA             0\n3P%             0\nFTM             0\nFTA             0\nFT%             0\nOREB            0\nDREB            0\nREB             0\nAST             0\nSTL             0\nBLK             0\nTO              0\nPTS             0\nDD2             0\nTD3             0\ndtype: int64"
     },
     "metadata": {},
     "execution_count": 3
    }
   ],
   "source": [
    "#your code here\n",
    "\n",
    "wnba.isnull().sum()"
   ]
  },
  {
   "cell_type": "markdown",
   "metadata": {},
   "source": [
    "We can see that there are only two NaNs in the whole dataset, one in the Weight column and one in the BMI one. Let's look at the actual rows that contain the NaN values."
   ]
  },
  {
   "cell_type": "code",
   "execution_count": 4,
   "metadata": {},
   "outputs": [
    {
     "output_type": "execute_result",
     "data": {
      "text/plain": "            Name Team Pos  Height  Weight  BMI Birth_Place     Birthdate  Age  \\\n91  Makayla Epps  CHI   G     178     NaN  NaN          US  June 6, 1995   22   \n\n     College Experience  Games Played  MIN  FGM  FGA   FG%  3PM  3PA  3P%  \\\n91  Kentucky          R            14   52    2   14  14.3    0    5  0.0   \n\n    FTM  FTA   FT%  OREB  DREB  REB  AST  STL  BLK  TO  PTS  DD2  TD3  \n91    2    5  40.0     2     0    2    4    1    0   4    6    0    0  ",
      "text/html": "<div>\n<style scoped>\n    .dataframe tbody tr th:only-of-type {\n        vertical-align: middle;\n    }\n\n    .dataframe tbody tr th {\n        vertical-align: top;\n    }\n\n    .dataframe thead th {\n        text-align: right;\n    }\n</style>\n<table border=\"1\" class=\"dataframe\">\n  <thead>\n    <tr style=\"text-align: right;\">\n      <th></th>\n      <th>Name</th>\n      <th>Team</th>\n      <th>Pos</th>\n      <th>Height</th>\n      <th>Weight</th>\n      <th>BMI</th>\n      <th>Birth_Place</th>\n      <th>Birthdate</th>\n      <th>Age</th>\n      <th>College</th>\n      <th>Experience</th>\n      <th>Games Played</th>\n      <th>MIN</th>\n      <th>FGM</th>\n      <th>FGA</th>\n      <th>FG%</th>\n      <th>3PM</th>\n      <th>3PA</th>\n      <th>3P%</th>\n      <th>FTM</th>\n      <th>FTA</th>\n      <th>FT%</th>\n      <th>OREB</th>\n      <th>DREB</th>\n      <th>REB</th>\n      <th>AST</th>\n      <th>STL</th>\n      <th>BLK</th>\n      <th>TO</th>\n      <th>PTS</th>\n      <th>DD2</th>\n      <th>TD3</th>\n    </tr>\n  </thead>\n  <tbody>\n    <tr>\n      <th>91</th>\n      <td>Makayla Epps</td>\n      <td>CHI</td>\n      <td>G</td>\n      <td>178</td>\n      <td>NaN</td>\n      <td>NaN</td>\n      <td>US</td>\n      <td>June 6, 1995</td>\n      <td>22</td>\n      <td>Kentucky</td>\n      <td>R</td>\n      <td>14</td>\n      <td>52</td>\n      <td>2</td>\n      <td>14</td>\n      <td>14.3</td>\n      <td>0</td>\n      <td>5</td>\n      <td>0.0</td>\n      <td>2</td>\n      <td>5</td>\n      <td>40.0</td>\n      <td>2</td>\n      <td>0</td>\n      <td>2</td>\n      <td>4</td>\n      <td>1</td>\n      <td>0</td>\n      <td>4</td>\n      <td>6</td>\n      <td>0</td>\n      <td>0</td>\n    </tr>\n  </tbody>\n</table>\n</div>"
     },
     "metadata": {},
     "execution_count": 4
    }
   ],
   "source": [
    "#your code here\n",
    "\n",
    "wnba.loc[wnba['BMI'].isnull() == True]"
   ]
  },
  {
   "cell_type": "markdown",
   "metadata": {},
   "source": [
    "It looks like there is only a single row that has NaN values in it, which is good! Just in case, let's check how much removing a single row may influence our dataset by calculating the percentage of values we will be removing."
   ]
  },
  {
   "cell_type": "code",
   "execution_count": 5,
   "metadata": {},
   "outputs": [
    {
     "output_type": "execute_result",
     "data": {
      "text/plain": "0.006993006993006993"
     },
     "metadata": {},
     "execution_count": 5
    }
   ],
   "source": [
    "#your code here\n",
    "\n",
    "1 / len(wnba)"
   ]
  },
  {
   "cell_type": "markdown",
   "metadata": {},
   "source": [
    "It is very important to be as careful as possible when dealing with NaN values and only drop data when it is strictly necessary. This decision can also be influenced by the nature of our analysis. If, for example, our analysis will not require the Weight and BMI of the players at all we can simply keep the row, given that the NaN values are only present in the Weight and BMI column.\n",
    "\n",
    "In this specific example, let's say our decision is to drop it. Write some code to drop the NaN values. "
   ]
  },
  {
   "cell_type": "code",
   "execution_count": 6,
   "metadata": {},
   "outputs": [
    {
     "output_type": "execute_result",
     "data": {
      "text/plain": "                 Name Team  Pos  Height  Weight        BMI Birth_Place  \\\n0       Aerial Powers  DAL    F     183    71.0  21.200991          US   \n1         Alana Beard   LA  G/F     185    73.0  21.329438          US   \n2        Alex Bentley  CON    G     170    69.0  23.875433          US   \n3     Alex Montgomery  SAN  G/F     185    84.0  24.543462          US   \n4        Alexis Jones  MIN    G     175    78.0  25.469388          US   \n..                ...  ...  ...     ...     ...        ...         ...   \n138     Tiffany Hayes  ATL    G     178    70.0  22.093170          US   \n139   Tiffany Jackson   LA    F     191    84.0  23.025685          US   \n140  Tiffany Mitchell  IND    G     175    69.0  22.530612          US   \n141      Tina Charles   NY  F/C     193    84.0  22.550941          US   \n142     Yvonne Turner  PHO    G     175    59.0  19.265306          US   \n\n              Birthdate  Age         College Experience  Games Played  MIN  \\\n0      January 17, 1994   23  Michigan State          2             8  173   \n1          May 14, 1982   35            Duke         12            30  947   \n2      October 27, 1990   26      Penn State          4            26  617   \n3     December 11, 1988   28    Georgia Tech          6            31  721   \n4        August 5, 1994   23          Baylor          R            24  137   \n..                  ...  ...             ...        ...           ...  ...   \n138  September 20, 1989   27     Connecticut          6            29  861   \n139      April 26, 1985   32           Texas          9            22  127   \n140  September 23, 1984   32  South Carolina          2            27  671   \n141        May 12, 1988   29     Connecticut          8            29  952   \n142    October 13, 1987   29        Nebraska          2            30  356   \n\n     FGM  FGA   FG%  3PM  3PA   3P%  FTM  FTA   FT%  OREB  DREB  REB  AST  \\\n0     30   85  35.3   12   32  37.5   21   26  80.8     6    22   28   12   \n1     90  177  50.8    5   18  27.8   32   41  78.0    19    82  101   72   \n2     82  218  37.6   19   64  29.7   35   42  83.3     4    36   40   78   \n3     75  195  38.5   21   68  30.9   17   21  81.0    35   134  169   65   \n4     16   50  32.0    7   20  35.0   11   12  91.7     3     9   12   12   \n..   ...  ...   ...  ...  ...   ...  ...  ...   ...   ...   ...  ...  ...   \n138  144  331  43.5   43  112  38.4  136  161  84.5    28    89  117   69   \n139   12   25  48.0    0    1   0.0    4    6  66.7     5    18   23    3   \n140   83  238  34.9   17   69  24.6   94  102  92.2    16    70   86   39   \n141  227  509  44.6   18   56  32.1  110  135  81.5    56   212  268   75   \n142   59  140  42.1   11   47  23.4   22   28  78.6    11    13   24   30   \n\n     STL  BLK  TO  PTS  DD2  TD3  \n0      3    6  12   93    0    0  \n1     63   13  40  217    0    0  \n2     22    3  24  218    0    0  \n3     20   10  38  188    2    0  \n4      7    0  14   50    0    0  \n..   ...  ...  ..  ...  ...  ...  \n138   37    8  50  467    0    0  \n139    1    3   8   28    0    0  \n140   31    5  40  277    0    0  \n141   21   22  71  582   11    0  \n142   18    1  32  151    0    0  \n\n[142 rows x 32 columns]",
      "text/html": "<div>\n<style scoped>\n    .dataframe tbody tr th:only-of-type {\n        vertical-align: middle;\n    }\n\n    .dataframe tbody tr th {\n        vertical-align: top;\n    }\n\n    .dataframe thead th {\n        text-align: right;\n    }\n</style>\n<table border=\"1\" class=\"dataframe\">\n  <thead>\n    <tr style=\"text-align: right;\">\n      <th></th>\n      <th>Name</th>\n      <th>Team</th>\n      <th>Pos</th>\n      <th>Height</th>\n      <th>Weight</th>\n      <th>BMI</th>\n      <th>Birth_Place</th>\n      <th>Birthdate</th>\n      <th>Age</th>\n      <th>College</th>\n      <th>Experience</th>\n      <th>Games Played</th>\n      <th>MIN</th>\n      <th>FGM</th>\n      <th>FGA</th>\n      <th>FG%</th>\n      <th>3PM</th>\n      <th>3PA</th>\n      <th>3P%</th>\n      <th>FTM</th>\n      <th>FTA</th>\n      <th>FT%</th>\n      <th>OREB</th>\n      <th>DREB</th>\n      <th>REB</th>\n      <th>AST</th>\n      <th>STL</th>\n      <th>BLK</th>\n      <th>TO</th>\n      <th>PTS</th>\n      <th>DD2</th>\n      <th>TD3</th>\n    </tr>\n  </thead>\n  <tbody>\n    <tr>\n      <th>0</th>\n      <td>Aerial Powers</td>\n      <td>DAL</td>\n      <td>F</td>\n      <td>183</td>\n      <td>71.0</td>\n      <td>21.200991</td>\n      <td>US</td>\n      <td>January 17, 1994</td>\n      <td>23</td>\n      <td>Michigan State</td>\n      <td>2</td>\n      <td>8</td>\n      <td>173</td>\n      <td>30</td>\n      <td>85</td>\n      <td>35.3</td>\n      <td>12</td>\n      <td>32</td>\n      <td>37.5</td>\n      <td>21</td>\n      <td>26</td>\n      <td>80.8</td>\n      <td>6</td>\n      <td>22</td>\n      <td>28</td>\n      <td>12</td>\n      <td>3</td>\n      <td>6</td>\n      <td>12</td>\n      <td>93</td>\n      <td>0</td>\n      <td>0</td>\n    </tr>\n    <tr>\n      <th>1</th>\n      <td>Alana Beard</td>\n      <td>LA</td>\n      <td>G/F</td>\n      <td>185</td>\n      <td>73.0</td>\n      <td>21.329438</td>\n      <td>US</td>\n      <td>May 14, 1982</td>\n      <td>35</td>\n      <td>Duke</td>\n      <td>12</td>\n      <td>30</td>\n      <td>947</td>\n      <td>90</td>\n      <td>177</td>\n      <td>50.8</td>\n      <td>5</td>\n      <td>18</td>\n      <td>27.8</td>\n      <td>32</td>\n      <td>41</td>\n      <td>78.0</td>\n      <td>19</td>\n      <td>82</td>\n      <td>101</td>\n      <td>72</td>\n      <td>63</td>\n      <td>13</td>\n      <td>40</td>\n      <td>217</td>\n      <td>0</td>\n      <td>0</td>\n    </tr>\n    <tr>\n      <th>2</th>\n      <td>Alex Bentley</td>\n      <td>CON</td>\n      <td>G</td>\n      <td>170</td>\n      <td>69.0</td>\n      <td>23.875433</td>\n      <td>US</td>\n      <td>October 27, 1990</td>\n      <td>26</td>\n      <td>Penn State</td>\n      <td>4</td>\n      <td>26</td>\n      <td>617</td>\n      <td>82</td>\n      <td>218</td>\n      <td>37.6</td>\n      <td>19</td>\n      <td>64</td>\n      <td>29.7</td>\n      <td>35</td>\n      <td>42</td>\n      <td>83.3</td>\n      <td>4</td>\n      <td>36</td>\n      <td>40</td>\n      <td>78</td>\n      <td>22</td>\n      <td>3</td>\n      <td>24</td>\n      <td>218</td>\n      <td>0</td>\n      <td>0</td>\n    </tr>\n    <tr>\n      <th>3</th>\n      <td>Alex Montgomery</td>\n      <td>SAN</td>\n      <td>G/F</td>\n      <td>185</td>\n      <td>84.0</td>\n      <td>24.543462</td>\n      <td>US</td>\n      <td>December 11, 1988</td>\n      <td>28</td>\n      <td>Georgia Tech</td>\n      <td>6</td>\n      <td>31</td>\n      <td>721</td>\n      <td>75</td>\n      <td>195</td>\n      <td>38.5</td>\n      <td>21</td>\n      <td>68</td>\n      <td>30.9</td>\n      <td>17</td>\n      <td>21</td>\n      <td>81.0</td>\n      <td>35</td>\n      <td>134</td>\n      <td>169</td>\n      <td>65</td>\n      <td>20</td>\n      <td>10</td>\n      <td>38</td>\n      <td>188</td>\n      <td>2</td>\n      <td>0</td>\n    </tr>\n    <tr>\n      <th>4</th>\n      <td>Alexis Jones</td>\n      <td>MIN</td>\n      <td>G</td>\n      <td>175</td>\n      <td>78.0</td>\n      <td>25.469388</td>\n      <td>US</td>\n      <td>August 5, 1994</td>\n      <td>23</td>\n      <td>Baylor</td>\n      <td>R</td>\n      <td>24</td>\n      <td>137</td>\n      <td>16</td>\n      <td>50</td>\n      <td>32.0</td>\n      <td>7</td>\n      <td>20</td>\n      <td>35.0</td>\n      <td>11</td>\n      <td>12</td>\n      <td>91.7</td>\n      <td>3</td>\n      <td>9</td>\n      <td>12</td>\n      <td>12</td>\n      <td>7</td>\n      <td>0</td>\n      <td>14</td>\n      <td>50</td>\n      <td>0</td>\n      <td>0</td>\n    </tr>\n    <tr>\n      <th>...</th>\n      <td>...</td>\n      <td>...</td>\n      <td>...</td>\n      <td>...</td>\n      <td>...</td>\n      <td>...</td>\n      <td>...</td>\n      <td>...</td>\n      <td>...</td>\n      <td>...</td>\n      <td>...</td>\n      <td>...</td>\n      <td>...</td>\n      <td>...</td>\n      <td>...</td>\n      <td>...</td>\n      <td>...</td>\n      <td>...</td>\n      <td>...</td>\n      <td>...</td>\n      <td>...</td>\n      <td>...</td>\n      <td>...</td>\n      <td>...</td>\n      <td>...</td>\n      <td>...</td>\n      <td>...</td>\n      <td>...</td>\n      <td>...</td>\n      <td>...</td>\n      <td>...</td>\n      <td>...</td>\n    </tr>\n    <tr>\n      <th>138</th>\n      <td>Tiffany Hayes</td>\n      <td>ATL</td>\n      <td>G</td>\n      <td>178</td>\n      <td>70.0</td>\n      <td>22.093170</td>\n      <td>US</td>\n      <td>September 20, 1989</td>\n      <td>27</td>\n      <td>Connecticut</td>\n      <td>6</td>\n      <td>29</td>\n      <td>861</td>\n      <td>144</td>\n      <td>331</td>\n      <td>43.5</td>\n      <td>43</td>\n      <td>112</td>\n      <td>38.4</td>\n      <td>136</td>\n      <td>161</td>\n      <td>84.5</td>\n      <td>28</td>\n      <td>89</td>\n      <td>117</td>\n      <td>69</td>\n      <td>37</td>\n      <td>8</td>\n      <td>50</td>\n      <td>467</td>\n      <td>0</td>\n      <td>0</td>\n    </tr>\n    <tr>\n      <th>139</th>\n      <td>Tiffany Jackson</td>\n      <td>LA</td>\n      <td>F</td>\n      <td>191</td>\n      <td>84.0</td>\n      <td>23.025685</td>\n      <td>US</td>\n      <td>April 26, 1985</td>\n      <td>32</td>\n      <td>Texas</td>\n      <td>9</td>\n      <td>22</td>\n      <td>127</td>\n      <td>12</td>\n      <td>25</td>\n      <td>48.0</td>\n      <td>0</td>\n      <td>1</td>\n      <td>0.0</td>\n      <td>4</td>\n      <td>6</td>\n      <td>66.7</td>\n      <td>5</td>\n      <td>18</td>\n      <td>23</td>\n      <td>3</td>\n      <td>1</td>\n      <td>3</td>\n      <td>8</td>\n      <td>28</td>\n      <td>0</td>\n      <td>0</td>\n    </tr>\n    <tr>\n      <th>140</th>\n      <td>Tiffany Mitchell</td>\n      <td>IND</td>\n      <td>G</td>\n      <td>175</td>\n      <td>69.0</td>\n      <td>22.530612</td>\n      <td>US</td>\n      <td>September 23, 1984</td>\n      <td>32</td>\n      <td>South Carolina</td>\n      <td>2</td>\n      <td>27</td>\n      <td>671</td>\n      <td>83</td>\n      <td>238</td>\n      <td>34.9</td>\n      <td>17</td>\n      <td>69</td>\n      <td>24.6</td>\n      <td>94</td>\n      <td>102</td>\n      <td>92.2</td>\n      <td>16</td>\n      <td>70</td>\n      <td>86</td>\n      <td>39</td>\n      <td>31</td>\n      <td>5</td>\n      <td>40</td>\n      <td>277</td>\n      <td>0</td>\n      <td>0</td>\n    </tr>\n    <tr>\n      <th>141</th>\n      <td>Tina Charles</td>\n      <td>NY</td>\n      <td>F/C</td>\n      <td>193</td>\n      <td>84.0</td>\n      <td>22.550941</td>\n      <td>US</td>\n      <td>May 12, 1988</td>\n      <td>29</td>\n      <td>Connecticut</td>\n      <td>8</td>\n      <td>29</td>\n      <td>952</td>\n      <td>227</td>\n      <td>509</td>\n      <td>44.6</td>\n      <td>18</td>\n      <td>56</td>\n      <td>32.1</td>\n      <td>110</td>\n      <td>135</td>\n      <td>81.5</td>\n      <td>56</td>\n      <td>212</td>\n      <td>268</td>\n      <td>75</td>\n      <td>21</td>\n      <td>22</td>\n      <td>71</td>\n      <td>582</td>\n      <td>11</td>\n      <td>0</td>\n    </tr>\n    <tr>\n      <th>142</th>\n      <td>Yvonne Turner</td>\n      <td>PHO</td>\n      <td>G</td>\n      <td>175</td>\n      <td>59.0</td>\n      <td>19.265306</td>\n      <td>US</td>\n      <td>October 13, 1987</td>\n      <td>29</td>\n      <td>Nebraska</td>\n      <td>2</td>\n      <td>30</td>\n      <td>356</td>\n      <td>59</td>\n      <td>140</td>\n      <td>42.1</td>\n      <td>11</td>\n      <td>47</td>\n      <td>23.4</td>\n      <td>22</td>\n      <td>28</td>\n      <td>78.6</td>\n      <td>11</td>\n      <td>13</td>\n      <td>24</td>\n      <td>30</td>\n      <td>18</td>\n      <td>1</td>\n      <td>32</td>\n      <td>151</td>\n      <td>0</td>\n      <td>0</td>\n    </tr>\n  </tbody>\n</table>\n<p>142 rows × 32 columns</p>\n</div>"
     },
     "metadata": {},
     "execution_count": 6
    }
   ],
   "source": [
    "#your code here\n",
    "\n",
    "wnba.dropna()"
   ]
  },
  {
   "cell_type": "markdown",
   "metadata": {},
   "source": [
    "**Do you think it is a good decision? Think about a case in which you wouldn't want to drop the value.**"
   ]
  },
  {
   "cell_type": "code",
   "execution_count": 7,
   "metadata": {},
   "outputs": [],
   "source": [
    "#your answer here\n",
    "\n",
    "# If the dataset was smaller I wouldn’t drop it because it could influence the outcome. But it seems to be a rather small percentage of our dataset so in that case it seems less likely that it wouldn’t influence our dataset."
   ]
  },
  {
   "cell_type": "markdown",
   "metadata": {},
   "source": [
    "### Let's make an overview of the dataset\n",
    "First, check the data types of our data:"
   ]
  },
  {
   "cell_type": "code",
   "execution_count": 8,
   "metadata": {},
   "outputs": [
    {
     "output_type": "execute_result",
     "data": {
      "text/plain": "Name             object\nTeam             object\nPos              object\nHeight            int64\nWeight          float64\nBMI             float64\nBirth_Place      object\nBirthdate        object\nAge               int64\nCollege          object\nExperience       object\nGames Played      int64\nMIN               int64\nFGM               int64\nFGA               int64\nFG%             float64\n3PM               int64\n3PA               int64\n3P%             float64\nFTM               int64\nFTA               int64\nFT%             float64\nOREB              int64\nDREB              int64\nREB               int64\nAST               int64\nSTL               int64\nBLK               int64\nTO                int64\nPTS               int64\nDD2               int64\nTD3               int64\ndtype: object"
     },
     "metadata": {},
     "execution_count": 8
    }
   ],
   "source": [
    "#your code here\n",
    "\n",
    "wnba.dtypes"
   ]
  },
  {
   "cell_type": "markdown",
   "metadata": {},
   "source": [
    "It looks like most of the data types are correct. Birthdate column could be casted to a `datetime` type, however, we won't use it in our analysis so for simplicity, let's leave it as an `object`. Weight column could also be casted to an `int64` type as all numbers are integers."
   ]
  },
  {
   "cell_type": "markdown",
   "metadata": {},
   "source": [
    "**Let's change the type of Weight column for practice.**"
   ]
  },
  {
   "cell_type": "code",
   "execution_count": 9,
   "metadata": {},
   "outputs": [
    {
     "output_type": "error",
     "ename": "ValueError",
     "evalue": "Cannot convert non-finite values (NA or inf) to integer",
     "traceback": [
      "\u001b[0;31m---------------------------------------------------------------------------\u001b[0m",
      "\u001b[0;31mValueError\u001b[0m                                Traceback (most recent call last)",
      "\u001b[0;32m<ipython-input-9-b0d57abd3669>\u001b[0m in \u001b[0;36m<module>\u001b[0;34m\u001b[0m\n\u001b[1;32m      1\u001b[0m \u001b[0;31m#your code here\u001b[0m\u001b[0;34m\u001b[0m\u001b[0;34m\u001b[0m\u001b[0;34m\u001b[0m\u001b[0m\n\u001b[1;32m      2\u001b[0m \u001b[0;34m\u001b[0m\u001b[0m\n\u001b[0;32m----> 3\u001b[0;31m \u001b[0mwnba\u001b[0m\u001b[0;34m[\u001b[0m\u001b[0;34m'Weight'\u001b[0m\u001b[0;34m]\u001b[0m\u001b[0;34m.\u001b[0m\u001b[0mastype\u001b[0m\u001b[0;34m(\u001b[0m\u001b[0;34m'int64'\u001b[0m\u001b[0;34m)\u001b[0m\u001b[0;34m\u001b[0m\u001b[0;34m\u001b[0m\u001b[0m\n\u001b[0m\u001b[1;32m      4\u001b[0m \u001b[0;34m\u001b[0m\u001b[0m\n\u001b[1;32m      5\u001b[0m \u001b[0mwnba\u001b[0m\u001b[0;34m.\u001b[0m\u001b[0mdtypes\u001b[0m\u001b[0;34m\u001b[0m\u001b[0;34m\u001b[0m\u001b[0m\n",
      "\u001b[0;32m/usr/local/lib/python3.8/site-packages/pandas/core/generic.py\u001b[0m in \u001b[0;36mastype\u001b[0;34m(self, dtype, copy, errors)\u001b[0m\n\u001b[1;32m   5535\u001b[0m         \u001b[0;32melse\u001b[0m\u001b[0;34m:\u001b[0m\u001b[0;34m\u001b[0m\u001b[0;34m\u001b[0m\u001b[0m\n\u001b[1;32m   5536\u001b[0m             \u001b[0;31m# else, only a single dtype is given\u001b[0m\u001b[0;34m\u001b[0m\u001b[0;34m\u001b[0m\u001b[0;34m\u001b[0m\u001b[0m\n\u001b[0;32m-> 5537\u001b[0;31m             \u001b[0mnew_data\u001b[0m \u001b[0;34m=\u001b[0m \u001b[0mself\u001b[0m\u001b[0;34m.\u001b[0m\u001b[0m_mgr\u001b[0m\u001b[0;34m.\u001b[0m\u001b[0mastype\u001b[0m\u001b[0;34m(\u001b[0m\u001b[0mdtype\u001b[0m\u001b[0;34m=\u001b[0m\u001b[0mdtype\u001b[0m\u001b[0;34m,\u001b[0m \u001b[0mcopy\u001b[0m\u001b[0;34m=\u001b[0m\u001b[0mcopy\u001b[0m\u001b[0;34m,\u001b[0m \u001b[0merrors\u001b[0m\u001b[0;34m=\u001b[0m\u001b[0merrors\u001b[0m\u001b[0;34m,\u001b[0m\u001b[0;34m)\u001b[0m\u001b[0;34m\u001b[0m\u001b[0;34m\u001b[0m\u001b[0m\n\u001b[0m\u001b[1;32m   5538\u001b[0m             \u001b[0;32mreturn\u001b[0m \u001b[0mself\u001b[0m\u001b[0;34m.\u001b[0m\u001b[0m_constructor\u001b[0m\u001b[0;34m(\u001b[0m\u001b[0mnew_data\u001b[0m\u001b[0;34m)\u001b[0m\u001b[0;34m.\u001b[0m\u001b[0m__finalize__\u001b[0m\u001b[0;34m(\u001b[0m\u001b[0mself\u001b[0m\u001b[0;34m,\u001b[0m \u001b[0mmethod\u001b[0m\u001b[0;34m=\u001b[0m\u001b[0;34m\"astype\"\u001b[0m\u001b[0;34m)\u001b[0m\u001b[0;34m\u001b[0m\u001b[0;34m\u001b[0m\u001b[0m\n\u001b[1;32m   5539\u001b[0m \u001b[0;34m\u001b[0m\u001b[0m\n",
      "\u001b[0;32m/usr/local/lib/python3.8/site-packages/pandas/core/internals/managers.py\u001b[0m in \u001b[0;36mastype\u001b[0;34m(self, dtype, copy, errors)\u001b[0m\n\u001b[1;32m    565\u001b[0m         \u001b[0mself\u001b[0m\u001b[0;34m,\u001b[0m \u001b[0mdtype\u001b[0m\u001b[0;34m,\u001b[0m \u001b[0mcopy\u001b[0m\u001b[0;34m:\u001b[0m \u001b[0mbool\u001b[0m \u001b[0;34m=\u001b[0m \u001b[0;32mFalse\u001b[0m\u001b[0;34m,\u001b[0m \u001b[0merrors\u001b[0m\u001b[0;34m:\u001b[0m \u001b[0mstr\u001b[0m \u001b[0;34m=\u001b[0m \u001b[0;34m\"raise\"\u001b[0m\u001b[0;34m\u001b[0m\u001b[0;34m\u001b[0m\u001b[0m\n\u001b[1;32m    566\u001b[0m     ) -> \"BlockManager\":\n\u001b[0;32m--> 567\u001b[0;31m         \u001b[0;32mreturn\u001b[0m \u001b[0mself\u001b[0m\u001b[0;34m.\u001b[0m\u001b[0mapply\u001b[0m\u001b[0;34m(\u001b[0m\u001b[0;34m\"astype\"\u001b[0m\u001b[0;34m,\u001b[0m \u001b[0mdtype\u001b[0m\u001b[0;34m=\u001b[0m\u001b[0mdtype\u001b[0m\u001b[0;34m,\u001b[0m \u001b[0mcopy\u001b[0m\u001b[0;34m=\u001b[0m\u001b[0mcopy\u001b[0m\u001b[0;34m,\u001b[0m \u001b[0merrors\u001b[0m\u001b[0;34m=\u001b[0m\u001b[0merrors\u001b[0m\u001b[0;34m)\u001b[0m\u001b[0;34m\u001b[0m\u001b[0;34m\u001b[0m\u001b[0m\n\u001b[0m\u001b[1;32m    568\u001b[0m \u001b[0;34m\u001b[0m\u001b[0m\n\u001b[1;32m    569\u001b[0m     def convert(\n",
      "\u001b[0;32m/usr/local/lib/python3.8/site-packages/pandas/core/internals/managers.py\u001b[0m in \u001b[0;36mapply\u001b[0;34m(self, f, align_keys, **kwargs)\u001b[0m\n\u001b[1;32m    394\u001b[0m                 \u001b[0mapplied\u001b[0m \u001b[0;34m=\u001b[0m \u001b[0mb\u001b[0m\u001b[0;34m.\u001b[0m\u001b[0mapply\u001b[0m\u001b[0;34m(\u001b[0m\u001b[0mf\u001b[0m\u001b[0;34m,\u001b[0m \u001b[0;34m**\u001b[0m\u001b[0mkwargs\u001b[0m\u001b[0;34m)\u001b[0m\u001b[0;34m\u001b[0m\u001b[0;34m\u001b[0m\u001b[0m\n\u001b[1;32m    395\u001b[0m             \u001b[0;32melse\u001b[0m\u001b[0;34m:\u001b[0m\u001b[0;34m\u001b[0m\u001b[0;34m\u001b[0m\u001b[0m\n\u001b[0;32m--> 396\u001b[0;31m                 \u001b[0mapplied\u001b[0m \u001b[0;34m=\u001b[0m \u001b[0mgetattr\u001b[0m\u001b[0;34m(\u001b[0m\u001b[0mb\u001b[0m\u001b[0;34m,\u001b[0m \u001b[0mf\u001b[0m\u001b[0;34m)\u001b[0m\u001b[0;34m(\u001b[0m\u001b[0;34m**\u001b[0m\u001b[0mkwargs\u001b[0m\u001b[0;34m)\u001b[0m\u001b[0;34m\u001b[0m\u001b[0;34m\u001b[0m\u001b[0m\n\u001b[0m\u001b[1;32m    397\u001b[0m             \u001b[0mresult_blocks\u001b[0m \u001b[0;34m=\u001b[0m \u001b[0m_extend_blocks\u001b[0m\u001b[0;34m(\u001b[0m\u001b[0mapplied\u001b[0m\u001b[0;34m,\u001b[0m \u001b[0mresult_blocks\u001b[0m\u001b[0;34m)\u001b[0m\u001b[0;34m\u001b[0m\u001b[0;34m\u001b[0m\u001b[0m\n\u001b[1;32m    398\u001b[0m \u001b[0;34m\u001b[0m\u001b[0m\n",
      "\u001b[0;32m/usr/local/lib/python3.8/site-packages/pandas/core/internals/blocks.py\u001b[0m in \u001b[0;36mastype\u001b[0;34m(self, dtype, copy, errors)\u001b[0m\n\u001b[1;32m    588\u001b[0m             \u001b[0mvals1d\u001b[0m \u001b[0;34m=\u001b[0m \u001b[0mvalues\u001b[0m\u001b[0;34m.\u001b[0m\u001b[0mravel\u001b[0m\u001b[0;34m(\u001b[0m\u001b[0;34m)\u001b[0m\u001b[0;34m\u001b[0m\u001b[0;34m\u001b[0m\u001b[0m\n\u001b[1;32m    589\u001b[0m             \u001b[0;32mtry\u001b[0m\u001b[0;34m:\u001b[0m\u001b[0;34m\u001b[0m\u001b[0;34m\u001b[0m\u001b[0m\n\u001b[0;32m--> 590\u001b[0;31m                 \u001b[0mvalues\u001b[0m \u001b[0;34m=\u001b[0m \u001b[0mastype_nansafe\u001b[0m\u001b[0;34m(\u001b[0m\u001b[0mvals1d\u001b[0m\u001b[0;34m,\u001b[0m \u001b[0mdtype\u001b[0m\u001b[0;34m,\u001b[0m \u001b[0mcopy\u001b[0m\u001b[0;34m=\u001b[0m\u001b[0;32mTrue\u001b[0m\u001b[0;34m)\u001b[0m\u001b[0;34m\u001b[0m\u001b[0;34m\u001b[0m\u001b[0m\n\u001b[0m\u001b[1;32m    591\u001b[0m             \u001b[0;32mexcept\u001b[0m \u001b[0;34m(\u001b[0m\u001b[0mValueError\u001b[0m\u001b[0;34m,\u001b[0m \u001b[0mTypeError\u001b[0m\u001b[0;34m)\u001b[0m\u001b[0;34m:\u001b[0m\u001b[0;34m\u001b[0m\u001b[0;34m\u001b[0m\u001b[0m\n\u001b[1;32m    592\u001b[0m                 \u001b[0;31m# e.g. astype_nansafe can fail on object-dtype of strings\u001b[0m\u001b[0;34m\u001b[0m\u001b[0;34m\u001b[0m\u001b[0;34m\u001b[0m\u001b[0m\n",
      "\u001b[0;32m/usr/local/lib/python3.8/site-packages/pandas/core/dtypes/cast.py\u001b[0m in \u001b[0;36mastype_nansafe\u001b[0;34m(arr, dtype, copy, skipna)\u001b[0m\n\u001b[1;32m    958\u001b[0m \u001b[0;34m\u001b[0m\u001b[0m\n\u001b[1;32m    959\u001b[0m         \u001b[0;32mif\u001b[0m \u001b[0;32mnot\u001b[0m \u001b[0mnp\u001b[0m\u001b[0;34m.\u001b[0m\u001b[0misfinite\u001b[0m\u001b[0;34m(\u001b[0m\u001b[0marr\u001b[0m\u001b[0;34m)\u001b[0m\u001b[0;34m.\u001b[0m\u001b[0mall\u001b[0m\u001b[0;34m(\u001b[0m\u001b[0;34m)\u001b[0m\u001b[0;34m:\u001b[0m\u001b[0;34m\u001b[0m\u001b[0;34m\u001b[0m\u001b[0m\n\u001b[0;32m--> 960\u001b[0;31m             \u001b[0;32mraise\u001b[0m \u001b[0mValueError\u001b[0m\u001b[0;34m(\u001b[0m\u001b[0;34m\"Cannot convert non-finite values (NA or inf) to integer\"\u001b[0m\u001b[0;34m)\u001b[0m\u001b[0;34m\u001b[0m\u001b[0;34m\u001b[0m\u001b[0m\n\u001b[0m\u001b[1;32m    961\u001b[0m \u001b[0;34m\u001b[0m\u001b[0m\n\u001b[1;32m    962\u001b[0m     \u001b[0;32melif\u001b[0m \u001b[0mis_object_dtype\u001b[0m\u001b[0;34m(\u001b[0m\u001b[0marr\u001b[0m\u001b[0;34m)\u001b[0m\u001b[0;34m:\u001b[0m\u001b[0;34m\u001b[0m\u001b[0;34m\u001b[0m\u001b[0m\n",
      "\u001b[0;31mValueError\u001b[0m: Cannot convert non-finite values (NA or inf) to integer"
     ]
    }
   ],
   "source": [
    "#your code here\n",
    "\n",
    "wnba['Weight'].astype('int64')\n",
    "\n",
    "wnba.dtypes"
   ]
  },
  {
   "cell_type": "markdown",
   "metadata": {},
   "source": [
    "**After checking the data types, let's check for outliers using the describe() method.**"
   ]
  },
  {
   "cell_type": "code",
   "execution_count": 10,
   "metadata": {},
   "outputs": [
    {
     "output_type": "execute_result",
     "data": {
      "text/plain": "              count        mean         std         min         25%  \\\nHeight        143.0  184.566434    8.685068  165.000000  176.500000   \nWeight        142.0   78.978873   10.996110   55.000000   71.500000   \nBMI           142.0   23.091214    2.073691   18.390675   21.785876   \nAge           143.0   27.076923    3.679170   21.000000   24.000000   \nGames Played  143.0   24.356643    7.104259    2.000000   22.000000   \nMIN           143.0  496.972028  290.777320   12.000000  240.000000   \nFGM           143.0   73.895105   56.110895    1.000000   26.000000   \nFGA           143.0  167.622378  117.467095    3.000000   66.000000   \nFG%           143.0   42.901399   10.111498   14.300000   36.950000   \n3PM           143.0   14.727273   17.355919    0.000000    0.000000   \n3PA           143.0   43.426573   46.106199    0.000000    3.000000   \n3P%           143.0   24.803497   18.512183    0.000000    0.000000   \nFTM           143.0   39.272727   36.747747    0.000000   12.000000   \nFTA           143.0   49.111888   44.244854    0.000000   16.500000   \nFT%           143.0   75.578322   18.712194    0.000000   71.150000   \nOREB          143.0   21.923077   21.509276    0.000000    7.000000   \nDREB          143.0   61.160839   49.761919    0.000000   25.500000   \nREB           143.0   83.083916   68.302197    2.000000   34.000000   \nAST           143.0   44.230769   41.483017    0.000000   11.000000   \nSTL           143.0   17.608392   13.438978    0.000000    7.000000   \nBLK           143.0    9.713287   12.520193    0.000000    2.000000   \nTO            143.0   32.090909   21.502017    2.000000   13.500000   \nPTS           143.0  201.790210  153.381548    2.000000   75.000000   \nDD2           143.0    1.132867    2.900310    0.000000    0.000000   \nTD3           143.0    0.006993    0.083624    0.000000    0.000000   \n\n                     50%         75%         max  \nHeight        185.000000  191.000000   206.00000  \nWeight         79.000000   86.000000   113.00000  \nBMI            22.873314   24.180715    31.55588  \nAge            27.000000   30.000000    36.00000  \nGames Played   27.000000   29.000000    32.00000  \nMIN           504.000000  750.000000  1018.00000  \nFGM            69.000000  105.000000   227.00000  \nFGA           152.000000  244.500000   509.00000  \nFG%            42.000000   48.550000   100.00000  \n3PM            10.000000   22.000000    88.00000  \n3PA            32.000000   65.000000   225.00000  \n3P%            30.300000   36.150000   100.00000  \nFTM            29.000000   52.500000   168.00000  \nFTA            35.000000   66.000000   186.00000  \nFT%            80.000000   85.850000   100.00000  \nOREB           13.000000   31.000000   113.00000  \nDREB           50.000000   84.000000   226.00000  \nREB            62.000000  116.000000   334.00000  \nAST            33.000000   66.500000   206.00000  \nSTL            15.000000   27.000000    63.00000  \nBLK             5.000000   12.000000    64.00000  \nTO             28.000000   48.000000    87.00000  \nPTS           177.000000  277.500000   584.00000  \nDD2             0.000000    1.000000    17.00000  \nTD3             0.000000    0.000000     1.00000  ",
      "text/html": "<div>\n<style scoped>\n    .dataframe tbody tr th:only-of-type {\n        vertical-align: middle;\n    }\n\n    .dataframe tbody tr th {\n        vertical-align: top;\n    }\n\n    .dataframe thead th {\n        text-align: right;\n    }\n</style>\n<table border=\"1\" class=\"dataframe\">\n  <thead>\n    <tr style=\"text-align: right;\">\n      <th></th>\n      <th>count</th>\n      <th>mean</th>\n      <th>std</th>\n      <th>min</th>\n      <th>25%</th>\n      <th>50%</th>\n      <th>75%</th>\n      <th>max</th>\n    </tr>\n  </thead>\n  <tbody>\n    <tr>\n      <th>Height</th>\n      <td>143.0</td>\n      <td>184.566434</td>\n      <td>8.685068</td>\n      <td>165.000000</td>\n      <td>176.500000</td>\n      <td>185.000000</td>\n      <td>191.000000</td>\n      <td>206.00000</td>\n    </tr>\n    <tr>\n      <th>Weight</th>\n      <td>142.0</td>\n      <td>78.978873</td>\n      <td>10.996110</td>\n      <td>55.000000</td>\n      <td>71.500000</td>\n      <td>79.000000</td>\n      <td>86.000000</td>\n      <td>113.00000</td>\n    </tr>\n    <tr>\n      <th>BMI</th>\n      <td>142.0</td>\n      <td>23.091214</td>\n      <td>2.073691</td>\n      <td>18.390675</td>\n      <td>21.785876</td>\n      <td>22.873314</td>\n      <td>24.180715</td>\n      <td>31.55588</td>\n    </tr>\n    <tr>\n      <th>Age</th>\n      <td>143.0</td>\n      <td>27.076923</td>\n      <td>3.679170</td>\n      <td>21.000000</td>\n      <td>24.000000</td>\n      <td>27.000000</td>\n      <td>30.000000</td>\n      <td>36.00000</td>\n    </tr>\n    <tr>\n      <th>Games Played</th>\n      <td>143.0</td>\n      <td>24.356643</td>\n      <td>7.104259</td>\n      <td>2.000000</td>\n      <td>22.000000</td>\n      <td>27.000000</td>\n      <td>29.000000</td>\n      <td>32.00000</td>\n    </tr>\n    <tr>\n      <th>MIN</th>\n      <td>143.0</td>\n      <td>496.972028</td>\n      <td>290.777320</td>\n      <td>12.000000</td>\n      <td>240.000000</td>\n      <td>504.000000</td>\n      <td>750.000000</td>\n      <td>1018.00000</td>\n    </tr>\n    <tr>\n      <th>FGM</th>\n      <td>143.0</td>\n      <td>73.895105</td>\n      <td>56.110895</td>\n      <td>1.000000</td>\n      <td>26.000000</td>\n      <td>69.000000</td>\n      <td>105.000000</td>\n      <td>227.00000</td>\n    </tr>\n    <tr>\n      <th>FGA</th>\n      <td>143.0</td>\n      <td>167.622378</td>\n      <td>117.467095</td>\n      <td>3.000000</td>\n      <td>66.000000</td>\n      <td>152.000000</td>\n      <td>244.500000</td>\n      <td>509.00000</td>\n    </tr>\n    <tr>\n      <th>FG%</th>\n      <td>143.0</td>\n      <td>42.901399</td>\n      <td>10.111498</td>\n      <td>14.300000</td>\n      <td>36.950000</td>\n      <td>42.000000</td>\n      <td>48.550000</td>\n      <td>100.00000</td>\n    </tr>\n    <tr>\n      <th>3PM</th>\n      <td>143.0</td>\n      <td>14.727273</td>\n      <td>17.355919</td>\n      <td>0.000000</td>\n      <td>0.000000</td>\n      <td>10.000000</td>\n      <td>22.000000</td>\n      <td>88.00000</td>\n    </tr>\n    <tr>\n      <th>3PA</th>\n      <td>143.0</td>\n      <td>43.426573</td>\n      <td>46.106199</td>\n      <td>0.000000</td>\n      <td>3.000000</td>\n      <td>32.000000</td>\n      <td>65.000000</td>\n      <td>225.00000</td>\n    </tr>\n    <tr>\n      <th>3P%</th>\n      <td>143.0</td>\n      <td>24.803497</td>\n      <td>18.512183</td>\n      <td>0.000000</td>\n      <td>0.000000</td>\n      <td>30.300000</td>\n      <td>36.150000</td>\n      <td>100.00000</td>\n    </tr>\n    <tr>\n      <th>FTM</th>\n      <td>143.0</td>\n      <td>39.272727</td>\n      <td>36.747747</td>\n      <td>0.000000</td>\n      <td>12.000000</td>\n      <td>29.000000</td>\n      <td>52.500000</td>\n      <td>168.00000</td>\n    </tr>\n    <tr>\n      <th>FTA</th>\n      <td>143.0</td>\n      <td>49.111888</td>\n      <td>44.244854</td>\n      <td>0.000000</td>\n      <td>16.500000</td>\n      <td>35.000000</td>\n      <td>66.000000</td>\n      <td>186.00000</td>\n    </tr>\n    <tr>\n      <th>FT%</th>\n      <td>143.0</td>\n      <td>75.578322</td>\n      <td>18.712194</td>\n      <td>0.000000</td>\n      <td>71.150000</td>\n      <td>80.000000</td>\n      <td>85.850000</td>\n      <td>100.00000</td>\n    </tr>\n    <tr>\n      <th>OREB</th>\n      <td>143.0</td>\n      <td>21.923077</td>\n      <td>21.509276</td>\n      <td>0.000000</td>\n      <td>7.000000</td>\n      <td>13.000000</td>\n      <td>31.000000</td>\n      <td>113.00000</td>\n    </tr>\n    <tr>\n      <th>DREB</th>\n      <td>143.0</td>\n      <td>61.160839</td>\n      <td>49.761919</td>\n      <td>0.000000</td>\n      <td>25.500000</td>\n      <td>50.000000</td>\n      <td>84.000000</td>\n      <td>226.00000</td>\n    </tr>\n    <tr>\n      <th>REB</th>\n      <td>143.0</td>\n      <td>83.083916</td>\n      <td>68.302197</td>\n      <td>2.000000</td>\n      <td>34.000000</td>\n      <td>62.000000</td>\n      <td>116.000000</td>\n      <td>334.00000</td>\n    </tr>\n    <tr>\n      <th>AST</th>\n      <td>143.0</td>\n      <td>44.230769</td>\n      <td>41.483017</td>\n      <td>0.000000</td>\n      <td>11.000000</td>\n      <td>33.000000</td>\n      <td>66.500000</td>\n      <td>206.00000</td>\n    </tr>\n    <tr>\n      <th>STL</th>\n      <td>143.0</td>\n      <td>17.608392</td>\n      <td>13.438978</td>\n      <td>0.000000</td>\n      <td>7.000000</td>\n      <td>15.000000</td>\n      <td>27.000000</td>\n      <td>63.00000</td>\n    </tr>\n    <tr>\n      <th>BLK</th>\n      <td>143.0</td>\n      <td>9.713287</td>\n      <td>12.520193</td>\n      <td>0.000000</td>\n      <td>2.000000</td>\n      <td>5.000000</td>\n      <td>12.000000</td>\n      <td>64.00000</td>\n    </tr>\n    <tr>\n      <th>TO</th>\n      <td>143.0</td>\n      <td>32.090909</td>\n      <td>21.502017</td>\n      <td>2.000000</td>\n      <td>13.500000</td>\n      <td>28.000000</td>\n      <td>48.000000</td>\n      <td>87.00000</td>\n    </tr>\n    <tr>\n      <th>PTS</th>\n      <td>143.0</td>\n      <td>201.790210</td>\n      <td>153.381548</td>\n      <td>2.000000</td>\n      <td>75.000000</td>\n      <td>177.000000</td>\n      <td>277.500000</td>\n      <td>584.00000</td>\n    </tr>\n    <tr>\n      <th>DD2</th>\n      <td>143.0</td>\n      <td>1.132867</td>\n      <td>2.900310</td>\n      <td>0.000000</td>\n      <td>0.000000</td>\n      <td>0.000000</td>\n      <td>1.000000</td>\n      <td>17.00000</td>\n    </tr>\n    <tr>\n      <th>TD3</th>\n      <td>143.0</td>\n      <td>0.006993</td>\n      <td>0.083624</td>\n      <td>0.000000</td>\n      <td>0.000000</td>\n      <td>0.000000</td>\n      <td>0.000000</td>\n      <td>1.00000</td>\n    </tr>\n  </tbody>\n</table>\n</div>"
     },
     "metadata": {},
     "execution_count": 10
    }
   ],
   "source": [
    "#your code here\n",
    "\n",
    "wnba.describe().transpose()"
   ]
  },
  {
   "cell_type": "markdown",
   "metadata": {},
   "source": [
    "**Comment on your result. What do you see?**"
   ]
  },
  {
   "cell_type": "code",
   "execution_count": 11,
   "metadata": {},
   "outputs": [],
   "source": [
    "#your answer here\n",
    "\n",
    "# The max of the BMI seems much higher the the 75%. There is only a small group who made attempts and scored three pointers."
   ]
  },
  {
   "cell_type": "markdown",
   "metadata": {},
   "source": [
    "**Now we can save the cleaned data to a new .csv file called `wnba_clean.csv` in the data folder.**"
   ]
  },
  {
   "cell_type": "code",
   "execution_count": 12,
   "metadata": {},
   "outputs": [],
   "source": [
    "#your code here\n",
    "\n",
    "wnba.to_csv('../data/wnba_clean.csv')"
   ]
  }
 ],
 "metadata": {
  "kernelspec": {
   "display_name": "Python 3",
   "language": "python",
   "name": "python3"
  },
  "language_info": {
   "codemirror_mode": {
    "name": "ipython",
    "version": 3
   },
   "file_extension": ".py",
   "mimetype": "text/x-python",
   "name": "python",
   "nbconvert_exporter": "python",
   "pygments_lexer": "ipython3",
   "version": "3.8.3-final"
  }
 },
 "nbformat": 4,
 "nbformat_minor": 2
}