{
 "cells": [
  {
   "cell_type": "markdown",
   "metadata": {},
   "source": [
    "# Inferential statistics\n",
    "## Part I - Data Cleaning\n",
    "\n",
    "Your family is very passionate about basketball. You always have discussions over players, games, statistics and whatnot. As you can imagine those discussions never reach a conclusion since everyone is simply sharing their opinion with no statistics to back them up!\n",
    "\n",
    "![](../images/basket.jpg)\n",
    "\n",
    "Since you are attending a data analysis bootcamp you'd like to take advantage of your newfound knowledge to finally put an end to your family's discussions. \n",
    "\n",
    "Luckily we have found a dataset containing data related to the players of the WNBA for the 2016-2017 season that we can use. \n",
    "\n",
    "Let's start with cleaning the data and then we'll continue with a general exploratory analysis and some inferential statistics.\n",
    "\n",
    "### Dataset\n",
    "\n",
    "The dataset we will be using contains the statistics from the WNBA players for the 2016-2017 season. You will be able to find more information on the dataset in the [codebook](../data/codebook.md) uploaded to the repository.\n",
    "\n",
    "### Libraries\n",
    "\n",
    "First we'll import the necessary libraries first and increase the maximum number of displayed columns so you will be able to see all the dataset in the same window."
   ]
  },
  {
   "cell_type": "code",
   "execution_count": 1,
   "metadata": {},
   "outputs": [],
   "source": [
    "import pandas as pd\n",
    "pd.set_option('max_columns', 100)"
   ]
  },
  {
   "cell_type": "markdown",
   "metadata": {},
   "source": [
    "### Load the dataset\n",
    "\n",
    "Load the dataset into a df called `wnba` and take an initial look at it using the `head()` method."
   ]
  },
  {
   "cell_type": "code",
   "execution_count": 2,
   "metadata": {},
   "outputs": [
    {
     "output_type": "execute_result",
     "data": {
      "text/plain": "              Name Team  Pos  Height  Weight        BMI Birth_Place  \\\n0    Aerial Powers  DAL    F     183    71.0  21.200991          US   \n1      Alana Beard   LA  G/F     185    73.0  21.329438          US   \n2     Alex Bentley  CON    G     170    69.0  23.875433          US   \n3  Alex Montgomery  SAN  G/F     185    84.0  24.543462          US   \n4     Alexis Jones  MIN    G     175    78.0  25.469388          US   \n\n           Birthdate  Age         College Experience  Games Played  MIN  FGM  \\\n0   January 17, 1994   23  Michigan State          2             8  173   30   \n1       May 14, 1982   35            Duke         12            30  947   90   \n2   October 27, 1990   26      Penn State          4            26  617   82   \n3  December 11, 1988   28    Georgia Tech          6            31  721   75   \n4     August 5, 1994   23          Baylor          R            24  137   16   \n\n   FGA   FG%  3PM  3PA   3P%  FTM  FTA   FT%  OREB  DREB  REB  AST  STL  BLK  \\\n0   85  35.3   12   32  37.5   21   26  80.8     6    22   28   12    3    6   \n1  177  50.8    5   18  27.8   32   41  78.0    19    82  101   72   63   13   \n2  218  37.6   19   64  29.7   35   42  83.3     4    36   40   78   22    3   \n3  195  38.5   21   68  30.9   17   21  81.0    35   134  169   65   20   10   \n4   50  32.0    7   20  35.0   11   12  91.7     3     9   12   12    7    0   \n\n   TO  PTS  DD2  TD3  \n0  12   93    0    0  \n1  40  217    0    0  \n2  24  218    0    0  \n3  38  188    2    0  \n4  14   50    0    0  ",
      "text/html": "<div>\n<style scoped>\n    .dataframe tbody tr th:only-of-type {\n        vertical-align: middle;\n    }\n\n    .dataframe tbody tr th {\n        vertical-align: top;\n    }\n\n    .dataframe thead th {\n        text-align: right;\n    }\n</style>\n<table border=\"1\" class=\"dataframe\">\n  <thead>\n    <tr style=\"text-align: right;\">\n      <th></th>\n      <th>Name</th>\n      <th>Team</th>\n      <th>Pos</th>\n      <th>Height</th>\n      <th>Weight</th>\n      <th>BMI</th>\n      <th>Birth_Place</th>\n      <th>Birthdate</th>\n      <th>Age</th>\n      <th>College</th>\n      <th>Experience</th>\n      <th>Games Played</th>\n      <th>MIN</th>\n      <th>FGM</th>\n      <th>FGA</th>\n      <th>FG%</th>\n      <th>3PM</th>\n      <th>3PA</th>\n      <th>3P%</th>\n      <th>FTM</th>\n      <th>FTA</th>\n      <th>FT%</th>\n      <th>OREB</th>\n      <th>DREB</th>\n      <th>REB</th>\n      <th>AST</th>\n      <th>STL</th>\n      <th>BLK</th>\n      <th>TO</th>\n      <th>PTS</th>\n      <th>DD2</th>\n      <th>TD3</th>\n    </tr>\n  </thead>\n  <tbody>\n    <tr>\n      <th>0</th>\n      <td>Aerial Powers</td>\n      <td>DAL</td>\n      <td>F</td>\n      <td>183</td>\n      <td>71.0</td>\n      <td>21.200991</td>\n      <td>US</td>\n      <td>January 17, 1994</td>\n      <td>23</td>\n      <td>Michigan State</td>\n      <td>2</td>\n      <td>8</td>\n      <td>173</td>\n      <td>30</td>\n      <td>85</td>\n      <td>35.3</td>\n      <td>12</td>\n      <td>32</td>\n      <td>37.5</td>\n      <td>21</td>\n      <td>26</td>\n      <td>80.8</td>\n      <td>6</td>\n      <td>22</td>\n      <td>28</td>\n      <td>12</td>\n      <td>3</td>\n      <td>6</td>\n      <td>12</td>\n      <td>93</td>\n      <td>0</td>\n      <td>0</td>\n    </tr>\n    <tr>\n      <th>1</th>\n      <td>Alana Beard</td>\n      <td>LA</td>\n      <td>G/F</td>\n      <td>185</td>\n      <td>73.0</td>\n      <td>21.329438</td>\n      <td>US</td>\n      <td>May 14, 1982</td>\n      <td>35</td>\n      <td>Duke</td>\n      <td>12</td>\n      <td>30</td>\n      <td>947</td>\n      <td>90</td>\n      <td>177</td>\n      <td>50.8</td>\n      <td>5</td>\n      <td>18</td>\n      <td>27.8</td>\n      <td>32</td>\n      <td>41</td>\n      <td>78.0</td>\n      <td>19</td>\n      <td>82</td>\n      <td>101</td>\n      <td>72</td>\n      <td>63</td>\n      <td>13</td>\n      <td>40</td>\n      <td>217</td>\n      <td>0</td>\n      <td>0</td>\n    </tr>\n    <tr>\n      <th>2</th>\n      <td>Alex Bentley</td>\n      <td>CON</td>\n      <td>G</td>\n      <td>170</td>\n      <td>69.0</td>\n      <td>23.875433</td>\n      <td>US</td>\n      <td>October 27, 1990</td>\n      <td>26</td>\n      <td>Penn State</td>\n      <td>4</td>\n      <td>26</td>\n      <td>617</td>\n      <td>82</td>\n      <td>218</td>\n      <td>37.6</td>\n      <td>19</td>\n      <td>64</td>\n      <td>29.7</td>\n      <td>35</td>\n      <td>42</td>\n      <td>83.3</td>\n      <td>4</td>\n      <td>36</td>\n      <td>40</td>\n      <td>78</td>\n      <td>22</td>\n      <td>3</td>\n      <td>24</td>\n      <td>218</td>\n      <td>0</td>\n      <td>0</td>\n    </tr>\n    <tr>\n      <th>3</th>\n      <td>Alex Montgomery</td>\n      <td>SAN</td>\n      <td>G/F</td>\n      <td>185</td>\n      <td>84.0</td>\n      <td>24.543462</td>\n      <td>US</td>\n      <td>December 11, 1988</td>\n      <td>28</td>\n      <td>Georgia Tech</td>\n      <td>6</td>\n      <td>31</td>\n      <td>721</td>\n      <td>75</td>\n      <td>195</td>\n      <td>38.5</td>\n      <td>21</td>\n      <td>68</td>\n      <td>30.9</td>\n      <td>17</td>\n      <td>21</td>\n      <td>81.0</td>\n      <td>35</td>\n      <td>134</td>\n      <td>169</td>\n      <td>65</td>\n      <td>20</td>\n      <td>10</td>\n      <td>38</td>\n      <td>188</td>\n      <td>2</td>\n      <td>0</td>\n    </tr>\n    <tr>\n      <th>4</th>\n      <td>Alexis Jones</td>\n      <td>MIN</td>\n      <td>G</td>\n      <td>175</td>\n      <td>78.0</td>\n      <td>25.469388</td>\n      <td>US</td>\n      <td>August 5, 1994</td>\n      <td>23</td>\n      <td>Baylor</td>\n      <td>R</td>\n      <td>24</td>\n      <td>137</td>\n      <td>16</td>\n      <td>50</td>\n      <td>32.0</td>\n      <td>7</td>\n      <td>20</td>\n      <td>35.0</td>\n      <td>11</td>\n      <td>12</td>\n      <td>91.7</td>\n      <td>3</td>\n      <td>9</td>\n      <td>12</td>\n      <td>12</td>\n      <td>7</td>\n      <td>0</td>\n      <td>14</td>\n      <td>50</td>\n      <td>0</td>\n      <td>0</td>\n    </tr>\n  </tbody>\n</table>\n</div>"
     },
     "metadata": {},
     "execution_count": 2
    }
   ],
   "source": [
    "#your code here\n",
    "\n",
    "wnba = pd.read_csv('../data/wnba.csv')\n",
    "\n",
    "wnba.head()"
   ]
  },
  {
   "cell_type": "markdown",
   "metadata": {},
   "source": [
    "### Check NaN values\n",
    "As you know, one of our first steps is to check if there are any NaN values in the dataset to find any issues. Look for the columns that cointain NaN values and count how many rows there are with that value."
   ]
  },
  {
   "cell_type": "code",
   "execution_count": 3,
   "metadata": {},
   "outputs": [
    {
     "output_type": "execute_result",
     "data": {
      "text/plain": "Name            0\nTeam            0\nPos             0\nHeight          0\nWeight          1\nBMI             1\nBirth_Place     0\nBirthdate       0\nAge             0\nCollege         0\nExperience      0\nGames Played    0\nMIN             0\nFGM             0\nFGA             0\nFG%             0\n3PM             0\n3PA             0\n3P%             0\nFTM             0\nFTA             0\nFT%             0\nOREB            0\nDREB            0\nREB             0\nAST             0\nSTL             0\nBLK             0\nTO              0\nPTS             0\nDD2             0\nTD3             0\ndtype: int64"
     },
     "metadata": {},
     "execution_count": 3
    }
   ],
   "source": [
    "#your code here\n",
    "\n",
    "wnba.isnull().sum()"
   ]
  },
  {
   "cell_type": "markdown",
   "metadata": {},
   "source": [
    "We can see that there are only two NaNs in the whole dataset, one in the Weight column and one in the BMI one. Let's look at the actual rows that contain the NaN values."
   ]
  },
  {
   "cell_type": "code",
   "execution_count": 4,
   "metadata": {},
   "outputs": [
    {
     "output_type": "execute_result",
     "data": {
      "text/plain": "            Name Team Pos  Height  Weight  BMI Birth_Place     Birthdate  Age  \\\n91  Makayla Epps  CHI   G     178     NaN  NaN          US  June 6, 1995   22   \n\n     College Experience  Games Played  MIN  FGM  FGA   FG%  3PM  3PA  3P%  \\\n91  Kentucky          R            14   52    2   14  14.3    0    5  0.0   \n\n    FTM  FTA   FT%  OREB  DREB  REB  AST  STL  BLK  TO  PTS  DD2  TD3  \n91    2    5  40.0     2     0    2    4    1    0   4    6    0    0  ",
      "text/html": "<div>\n<style scoped>\n    .dataframe tbody tr th:only-of-type {\n        vertical-align: middle;\n    }\n\n    .dataframe tbody tr th {\n        vertical-align: top;\n    }\n\n    .dataframe thead th {\n        text-align: right;\n    }\n</style>\n<table border=\"1\" class=\"dataframe\">\n  <thead>\n    <tr style=\"text-align: right;\">\n      <th></th>\n      <th>Name</th>\n      <th>Team</th>\n      <th>Pos</th>\n      <th>Height</th>\n      <th>Weight</th>\n      <th>BMI</th>\n      <th>Birth_Place</th>\n      <th>Birthdate</th>\n      <th>Age</th>\n      <th>College</th>\n      <th>Experience</th>\n      <th>Games Played</th>\n      <th>MIN</th>\n      <th>FGM</th>\n      <th>FGA</th>\n      <th>FG%</th>\n      <th>3PM</th>\n      <th>3PA</th>\n      <th>3P%</th>\n      <th>FTM</th>\n      <th>FTA</th>\n      <th>FT%</th>\n      <th>OREB</th>\n      <th>DREB</th>\n      <th>REB</th>\n      <th>AST</th>\n      <th>STL</th>\n      <th>BLK</th>\n      <th>TO</th>\n      <th>PTS</th>\n      <th>DD2</th>\n      <th>TD3</th>\n    </tr>\n  </thead>\n  <tbody>\n    <tr>\n      <th>91</th>\n      <td>Makayla Epps</td>\n      <td>CHI</td>\n      <td>G</td>\n      <td>178</td>\n      <td>NaN</td>\n      <td>NaN</td>\n      <td>US</td>\n      <td>June 6, 1995</td>\n      <td>22</td>\n      <td>Kentucky</td>\n      <td>R</td>\n      <td>14</td>\n      <td>52</td>\n      <td>2</td>\n      <td>14</td>\n      <td>14.3</td>\n      <td>0</td>\n      <td>5</td>\n      <td>0.0</td>\n      <td>2</td>\n      <td>5</td>\n      <td>40.0</td>\n      <td>2</td>\n      <td>0</td>\n      <td>2</td>\n      <td>4</td>\n      <td>1</td>\n      <td>0</td>\n      <td>4</td>\n      <td>6</td>\n      <td>0</td>\n      <td>0</td>\n    </tr>\n  </tbody>\n</table>\n</div>"
     },
     "metadata": {},
     "execution_count": 4
    }
   ],
   "source": [
    "#your code here\n",
    "\n",
    "wnba.loc[wnba['BMI'].isnull() == True]"
   ]
  },
  {
   "cell_type": "markdown",
   "metadata": {},
   "source": [
    "It looks like there is only a single row that has NaN values in it, which is good! Just in case, let's check how much removing a single row may influence our dataset by calculating the percentage of values we will be removing."
   ]
  },
  {
   "cell_type": "code",
   "execution_count": 5,
   "metadata": {},
   "outputs": [
    {
     "output_type": "execute_result",
     "data": {
      "text/plain": "0.006993006993006993"
     },
     "metadata": {},
     "execution_count": 5
    }
   ],
   "source": [
    "#your code here\n",
    "\n",
    "1 / len(wnba)"
   ]
  },
  {
   "cell_type": "markdown",
   "metadata": {},
   "source": [
    "It is very important to be as careful as possible when dealing with NaN values and only drop data when it is strictly necessary. This decision can also be influenced by the nature of our analysis. If, for example, our analysis will not require the Weight and BMI of the players at all we can simply keep the row, given that the NaN values are only present in the Weight and BMI column.\n",
    "\n",
    "In this specific example, let's say our decision is to drop it. Write some code to drop the NaN values. "
   ]
  },
  {
   "cell_type": "code",
   "execution_count": 6,
   "metadata": {},
   "outputs": [],
   "source": [
    "#your code here\n",
    "\n",
    "wnba = wnba.dropna()\n",
    "\n",
    "# len(wnba)"
   ]
  },
  {
   "cell_type": "markdown",
   "metadata": {},
   "source": [
    "**Do you think it is a good decision? Think about a case in which you wouldn't want to drop the value.**"
   ]
  },
  {
   "cell_type": "code",
   "execution_count": 7,
   "metadata": {},
   "outputs": [],
   "source": [
    "#your answer here\n",
    "\n",
    "# If the dataset was smaller I wouldn’t drop it because it could influence the outcome. But it seems to be a rather small percentage of our dataset so in that case it seems less likely that it wouldn’t influence our dataset."
   ]
  },
  {
   "cell_type": "markdown",
   "metadata": {},
   "source": [
    "### Let's make an overview of the dataset\n",
    "First, check the data types of our data:"
   ]
  },
  {
   "cell_type": "code",
   "execution_count": 8,
   "metadata": {},
   "outputs": [
    {
     "output_type": "execute_result",
     "data": {
      "text/plain": "Name             object\nTeam             object\nPos              object\nHeight            int64\nWeight          float64\nBMI             float64\nBirth_Place      object\nBirthdate        object\nAge               int64\nCollege          object\nExperience       object\nGames Played      int64\nMIN               int64\nFGM               int64\nFGA               int64\nFG%             float64\n3PM               int64\n3PA               int64\n3P%             float64\nFTM               int64\nFTA               int64\nFT%             float64\nOREB              int64\nDREB              int64\nREB               int64\nAST               int64\nSTL               int64\nBLK               int64\nTO                int64\nPTS               int64\nDD2               int64\nTD3               int64\ndtype: object"
     },
     "metadata": {},
     "execution_count": 8
    }
   ],
   "source": [
    "#your code here\n",
    "\n",
    "wnba.dtypes"
   ]
  },
  {
   "cell_type": "markdown",
   "metadata": {},
   "source": [
    "It looks like most of the data types are correct. Birthdate column could be casted to a `datetime` type, however, we won't use it in our analysis so for simplicity, let's leave it as an `object`. Weight column could also be casted to an `int64` type as all numbers are integers."
   ]
  },
  {
   "cell_type": "markdown",
   "metadata": {},
   "source": [
    "**Let's change the type of Weight column for practice.**"
   ]
  },
  {
   "cell_type": "code",
   "execution_count": 9,
   "metadata": {},
   "outputs": [
    {
     "output_type": "execute_result",
     "data": {
      "text/plain": "Name             object\nTeam             object\nPos              object\nHeight            int64\nWeight          float64\nBMI             float64\nBirth_Place      object\nBirthdate        object\nAge               int64\nCollege          object\nExperience       object\nGames Played      int64\nMIN               int64\nFGM               int64\nFGA               int64\nFG%             float64\n3PM               int64\n3PA               int64\n3P%             float64\nFTM               int64\nFTA               int64\nFT%             float64\nOREB              int64\nDREB              int64\nREB               int64\nAST               int64\nSTL               int64\nBLK               int64\nTO                int64\nPTS               int64\nDD2               int64\nTD3               int64\ndtype: object"
     },
     "metadata": {},
     "execution_count": 9
    }
   ],
   "source": [
    "#your code here\n",
    "\n",
    "wnba['Weight'].astype('int64')\n",
    "\n",
    "wnba.dtypes"
   ]
  },
  {
   "cell_type": "markdown",
   "metadata": {},
   "source": [
    "**After checking the data types, let's check for outliers using the describe() method.**"
   ]
  },
  {
   "cell_type": "code",
   "execution_count": 10,
   "metadata": {},
   "outputs": [
    {
     "output_type": "execute_result",
     "data": {
      "text/plain": "              count        mean         std         min         25%  \\\nHeight        142.0  184.612676    8.698128  165.000000  175.750000   \nWeight        142.0   78.978873   10.996110   55.000000   71.500000   \nBMI           142.0   23.091214    2.073691   18.390675   21.785876   \nAge           142.0   27.112676    3.667180   21.000000   24.000000   \nGames Played  142.0   24.429577    7.075477    2.000000   22.000000   \nMIN           142.0  500.105634  289.373393   12.000000  242.250000   \nFGM           142.0   74.401408   55.980754    1.000000   27.000000   \nFGA           142.0  168.704225  117.165809    3.000000   69.000000   \nFG%           142.0   43.102817    9.855199   16.700000   37.125000   \n3PM           142.0   14.830986   17.372829    0.000000    0.000000   \n3PA           142.0   43.697183   46.155302    0.000000    3.000000   \n3P%           142.0   24.978169   18.459075    0.000000    0.000000   \nFTM           142.0   39.535211   36.743053    0.000000   13.000000   \nFTA           142.0   49.422535   44.244697    0.000000   17.250000   \nFT%           142.0   75.828873   18.536151    0.000000   71.575000   \nOREB          142.0   22.063380   21.519648    0.000000    7.000000   \nDREB          142.0   61.591549   49.669854    2.000000   26.000000   \nREB           142.0   83.654930   68.200585    2.000000   34.250000   \nAST           142.0   44.514085   41.490790    0.000000   11.250000   \nSTL           142.0   17.725352   13.413312    0.000000    7.000000   \nBLK           142.0    9.781690   12.537669    0.000000    2.000000   \nTO            142.0   32.288732   21.447141    2.000000   14.000000   \nPTS           142.0  203.169014  153.032559    2.000000   77.250000   \nDD2           142.0    1.140845    2.909002    0.000000    0.000000   \nTD3           142.0    0.007042    0.083918    0.000000    0.000000   \n\n                     50%         75%         max  \nHeight        185.000000  191.000000   206.00000  \nWeight         79.000000   86.000000   113.00000  \nBMI            22.873314   24.180715    31.55588  \nAge            27.000000   30.000000    36.00000  \nGames Played   27.500000   29.000000    32.00000  \nMIN           506.000000  752.500000  1018.00000  \nFGM            69.000000  105.000000   227.00000  \nFGA           152.500000  244.750000   509.00000  \nFG%            42.050000   48.625000   100.00000  \n3PM            10.500000   22.000000    88.00000  \n3PA            32.000000   65.500000   225.00000  \n3P%            30.550000   36.175000   100.00000  \nFTM            29.000000   53.250000   168.00000  \nFTA            35.500000   66.500000   186.00000  \nFT%            80.000000   85.925000   100.00000  \nOREB           13.000000   31.000000   113.00000  \nDREB           50.000000   84.000000   226.00000  \nREB            62.500000  116.500000   334.00000  \nAST            34.000000   66.750000   206.00000  \nSTL            15.000000   27.500000    63.00000  \nBLK             5.000000   12.000000    64.00000  \nTO             28.000000   48.000000    87.00000  \nPTS           181.000000  277.750000   584.00000  \nDD2             0.000000    1.000000    17.00000  \nTD3             0.000000    0.000000     1.00000  ",
      "text/html": "<div>\n<style scoped>\n    .dataframe tbody tr th:only-of-type {\n        vertical-align: middle;\n    }\n\n    .dataframe tbody tr th {\n        vertical-align: top;\n    }\n\n    .dataframe thead th {\n        text-align: right;\n    }\n</style>\n<table border=\"1\" class=\"dataframe\">\n  <thead>\n    <tr style=\"text-align: right;\">\n      <th></th>\n      <th>count</th>\n      <th>mean</th>\n      <th>std</th>\n      <th>min</th>\n      <th>25%</th>\n      <th>50%</th>\n      <th>75%</th>\n      <th>max</th>\n    </tr>\n  </thead>\n  <tbody>\n    <tr>\n      <th>Height</th>\n      <td>142.0</td>\n      <td>184.612676</td>\n      <td>8.698128</td>\n      <td>165.000000</td>\n      <td>175.750000</td>\n      <td>185.000000</td>\n      <td>191.000000</td>\n      <td>206.00000</td>\n    </tr>\n    <tr>\n      <th>Weight</th>\n      <td>142.0</td>\n      <td>78.978873</td>\n      <td>10.996110</td>\n      <td>55.000000</td>\n      <td>71.500000</td>\n      <td>79.000000</td>\n      <td>86.000000</td>\n      <td>113.00000</td>\n    </tr>\n    <tr>\n      <th>BMI</th>\n      <td>142.0</td>\n      <td>23.091214</td>\n      <td>2.073691</td>\n      <td>18.390675</td>\n      <td>21.785876</td>\n      <td>22.873314</td>\n      <td>24.180715</td>\n      <td>31.55588</td>\n    </tr>\n    <tr>\n      <th>Age</th>\n      <td>142.0</td>\n      <td>27.112676</td>\n      <td>3.667180</td>\n      <td>21.000000</td>\n      <td>24.000000</td>\n      <td>27.000000</td>\n      <td>30.000000</td>\n      <td>36.00000</td>\n    </tr>\n    <tr>\n      <th>Games Played</th>\n      <td>142.0</td>\n      <td>24.429577</td>\n      <td>7.075477</td>\n      <td>2.000000</td>\n      <td>22.000000</td>\n      <td>27.500000</td>\n      <td>29.000000</td>\n      <td>32.00000</td>\n    </tr>\n    <tr>\n      <th>MIN</th>\n      <td>142.0</td>\n      <td>500.105634</td>\n      <td>289.373393</td>\n      <td>12.000000</td>\n      <td>242.250000</td>\n      <td>506.000000</td>\n      <td>752.500000</td>\n      <td>1018.00000</td>\n    </tr>\n    <tr>\n      <th>FGM</th>\n      <td>142.0</td>\n      <td>74.401408</td>\n      <td>55.980754</td>\n      <td>1.000000</td>\n      <td>27.000000</td>\n      <td>69.000000</td>\n      <td>105.000000</td>\n      <td>227.00000</td>\n    </tr>\n    <tr>\n      <th>FGA</th>\n      <td>142.0</td>\n      <td>168.704225</td>\n      <td>117.165809</td>\n      <td>3.000000</td>\n      <td>69.000000</td>\n      <td>152.500000</td>\n      <td>244.750000</td>\n      <td>509.00000</td>\n    </tr>\n    <tr>\n      <th>FG%</th>\n      <td>142.0</td>\n      <td>43.102817</td>\n      <td>9.855199</td>\n      <td>16.700000</td>\n      <td>37.125000</td>\n      <td>42.050000</td>\n      <td>48.625000</td>\n      <td>100.00000</td>\n    </tr>\n    <tr>\n      <th>3PM</th>\n      <td>142.0</td>\n      <td>14.830986</td>\n      <td>17.372829</td>\n      <td>0.000000</td>\n      <td>0.000000</td>\n      <td>10.500000</td>\n      <td>22.000000</td>\n      <td>88.00000</td>\n    </tr>\n    <tr>\n      <th>3PA</th>\n      <td>142.0</td>\n      <td>43.697183</td>\n      <td>46.155302</td>\n      <td>0.000000</td>\n      <td>3.000000</td>\n      <td>32.000000</td>\n      <td>65.500000</td>\n      <td>225.00000</td>\n    </tr>\n    <tr>\n      <th>3P%</th>\n      <td>142.0</td>\n      <td>24.978169</td>\n      <td>18.459075</td>\n      <td>0.000000</td>\n      <td>0.000000</td>\n      <td>30.550000</td>\n      <td>36.175000</td>\n      <td>100.00000</td>\n    </tr>\n    <tr>\n      <th>FTM</th>\n      <td>142.0</td>\n      <td>39.535211</td>\n      <td>36.743053</td>\n      <td>0.000000</td>\n      <td>13.000000</td>\n      <td>29.000000</td>\n      <td>53.250000</td>\n      <td>168.00000</td>\n    </tr>\n    <tr>\n      <th>FTA</th>\n      <td>142.0</td>\n      <td>49.422535</td>\n      <td>44.244697</td>\n      <td>0.000000</td>\n      <td>17.250000</td>\n      <td>35.500000</td>\n      <td>66.500000</td>\n      <td>186.00000</td>\n    </tr>\n    <tr>\n      <th>FT%</th>\n      <td>142.0</td>\n      <td>75.828873</td>\n      <td>18.536151</td>\n      <td>0.000000</td>\n      <td>71.575000</td>\n      <td>80.000000</td>\n      <td>85.925000</td>\n      <td>100.00000</td>\n    </tr>\n    <tr>\n      <th>OREB</th>\n      <td>142.0</td>\n      <td>22.063380</td>\n      <td>21.519648</td>\n      <td>0.000000</td>\n      <td>7.000000</td>\n      <td>13.000000</td>\n      <td>31.000000</td>\n      <td>113.00000</td>\n    </tr>\n    <tr>\n      <th>DREB</th>\n      <td>142.0</td>\n      <td>61.591549</td>\n      <td>49.669854</td>\n      <td>2.000000</td>\n      <td>26.000000</td>\n      <td>50.000000</td>\n      <td>84.000000</td>\n      <td>226.00000</td>\n    </tr>\n    <tr>\n      <th>REB</th>\n      <td>142.0</td>\n      <td>83.654930</td>\n      <td>68.200585</td>\n      <td>2.000000</td>\n      <td>34.250000</td>\n      <td>62.500000</td>\n      <td>116.500000</td>\n      <td>334.00000</td>\n    </tr>\n    <tr>\n      <th>AST</th>\n      <td>142.0</td>\n      <td>44.514085</td>\n      <td>41.490790</td>\n      <td>0.000000</td>\n      <td>11.250000</td>\n      <td>34.000000</td>\n      <td>66.750000</td>\n      <td>206.00000</td>\n    </tr>\n    <tr>\n      <th>STL</th>\n      <td>142.0</td>\n      <td>17.725352</td>\n      <td>13.413312</td>\n      <td>0.000000</td>\n      <td>7.000000</td>\n      <td>15.000000</td>\n      <td>27.500000</td>\n      <td>63.00000</td>\n    </tr>\n    <tr>\n      <th>BLK</th>\n      <td>142.0</td>\n      <td>9.781690</td>\n      <td>12.537669</td>\n      <td>0.000000</td>\n      <td>2.000000</td>\n      <td>5.000000</td>\n      <td>12.000000</td>\n      <td>64.00000</td>\n    </tr>\n    <tr>\n      <th>TO</th>\n      <td>142.0</td>\n      <td>32.288732</td>\n      <td>21.447141</td>\n      <td>2.000000</td>\n      <td>14.000000</td>\n      <td>28.000000</td>\n      <td>48.000000</td>\n      <td>87.00000</td>\n    </tr>\n    <tr>\n      <th>PTS</th>\n      <td>142.0</td>\n      <td>203.169014</td>\n      <td>153.032559</td>\n      <td>2.000000</td>\n      <td>77.250000</td>\n      <td>181.000000</td>\n      <td>277.750000</td>\n      <td>584.00000</td>\n    </tr>\n    <tr>\n      <th>DD2</th>\n      <td>142.0</td>\n      <td>1.140845</td>\n      <td>2.909002</td>\n      <td>0.000000</td>\n      <td>0.000000</td>\n      <td>0.000000</td>\n      <td>1.000000</td>\n      <td>17.00000</td>\n    </tr>\n    <tr>\n      <th>TD3</th>\n      <td>142.0</td>\n      <td>0.007042</td>\n      <td>0.083918</td>\n      <td>0.000000</td>\n      <td>0.000000</td>\n      <td>0.000000</td>\n      <td>0.000000</td>\n      <td>1.00000</td>\n    </tr>\n  </tbody>\n</table>\n</div>"
     },
     "metadata": {},
     "execution_count": 10
    }
   ],
   "source": [
    "#your code here\n",
    "\n",
    "wnba.describe().transpose()"
   ]
  },
  {
   "cell_type": "markdown",
   "metadata": {},
   "source": [
    "**Comment on your result. What do you see?**"
   ]
  },
  {
   "cell_type": "code",
   "execution_count": 11,
   "metadata": {},
   "outputs": [],
   "source": [
    "#your answer here\n",
    "\n",
    "# The max of the BMI seems much higher the the 75%. There is only a small group who made attempts and scored three pointers."
   ]
  },
  {
   "cell_type": "markdown",
   "metadata": {},
   "source": [
    "**Now we can save the cleaned data to a new .csv file called `wnba_clean.csv` in the data folder.**"
   ]
  },
  {
   "cell_type": "code",
   "execution_count": 12,
   "metadata": {},
   "outputs": [],
   "source": [
    "#your code here\n",
    "\n",
    "wnba.to_csv('../data/wnba_clean.csv')"
   ]
  }
 ],
 "metadata": {
  "kernelspec": {
   "display_name": "Python 3",
   "language": "python",
   "name": "python3"
  },
  "language_info": {
   "codemirror_mode": {
    "name": "ipython",
    "version": 3
   },
   "file_extension": ".py",
   "mimetype": "text/x-python",
   "name": "python",
   "nbconvert_exporter": "python",
   "pygments_lexer": "ipython3",
   "version": "3.8.3-final"
  }
 },
 "nbformat": 4,
 "nbformat_minor": 2
}