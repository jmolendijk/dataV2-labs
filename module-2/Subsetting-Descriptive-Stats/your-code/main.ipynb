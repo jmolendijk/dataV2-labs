{
 "cells": [
  {
   "cell_type": "markdown",
   "metadata": {},
   "source": [
    "# Subsetting and Descriptive Stats\n",
    "\n",
    "## Before your start:\n",
    "   - Remember that you just need to do one of the challenges.\n",
    "   - Keep in mind that you need to use some of the functions you learned in the previous lessons.\n",
    "   - All datasets are provided in IronHack's database.\n",
    "   - Elaborate your codes and outputs as much as you can.\n",
    "   - Try your best to answer the questions and complete the tasks and most importantly: enjoy the process!\n",
    "   \n",
    "#### Import all the necessary libraries here:"
   ]
  },
  {
   "cell_type": "code",
   "execution_count": 1,
   "metadata": {},
   "outputs": [],
   "source": [
    "# import libraries here\n",
    "\n",
    "import pandas as pd\n",
    "import matplotlib.pyplot as plt"
   ]
  },
  {
   "cell_type": "markdown",
   "metadata": {},
   "source": [
    "# [ONLY ONE MANDATORY] Challenge 1\n",
    "#### In this challenge we will use the `Temp_States`  dataset. \n",
    "\n",
    "#### First import it into a dataframe called `temp`."
   ]
  },
  {
   "cell_type": "code",
   "execution_count": 2,
   "metadata": {},
   "outputs": [],
   "source": [
    "# your code here"
   ]
  },
  {
   "cell_type": "markdown",
   "metadata": {},
   "source": [
    "#### Print `temp`."
   ]
  },
  {
   "cell_type": "code",
   "execution_count": 3,
   "metadata": {},
   "outputs": [],
   "source": [
    "# your code here"
   ]
  },
  {
   "cell_type": "markdown",
   "metadata": {},
   "source": [
    "#### Explore the data types of the *temp* dataframe. What types of data do we have? Comment your result."
   ]
  },
  {
   "cell_type": "code",
   "execution_count": 4,
   "metadata": {},
   "outputs": [],
   "source": [
    "# your code here"
   ]
  },
  {
   "cell_type": "code",
   "execution_count": 5,
   "metadata": {},
   "outputs": [
    {
     "output_type": "execute_result",
     "data": {
      "text/plain": "'\\nyour comments here\\n'"
     },
     "metadata": {},
     "execution_count": 5
    }
   ],
   "source": [
    "\"\"\"\n",
    "your comments here\n",
    "\"\"\""
   ]
  },
  {
   "cell_type": "markdown",
   "metadata": {},
   "source": [
    "#### Select the rows where state is New York."
   ]
  },
  {
   "cell_type": "code",
   "execution_count": 6,
   "metadata": {},
   "outputs": [],
   "source": [
    "# your code here"
   ]
  },
  {
   "cell_type": "markdown",
   "metadata": {},
   "source": [
    "#### What is the average temperature of cities in New York?"
   ]
  },
  {
   "cell_type": "code",
   "execution_count": 7,
   "metadata": {},
   "outputs": [],
   "source": [
    "# your code here"
   ]
  },
  {
   "cell_type": "markdown",
   "metadata": {},
   "source": [
    "#### Which states and cities have a temperature above 15 degrees Celsius?"
   ]
  },
  {
   "cell_type": "code",
   "execution_count": 8,
   "metadata": {},
   "outputs": [],
   "source": [
    "# your code here"
   ]
  },
  {
   "cell_type": "markdown",
   "metadata": {},
   "source": [
    "#### Now, return only the cities that have a temperature above 15 degrees Celsius."
   ]
  },
  {
   "cell_type": "code",
   "execution_count": 9,
   "metadata": {},
   "outputs": [],
   "source": [
    "# your code here"
   ]
  },
  {
   "cell_type": "markdown",
   "metadata": {},
   "source": [
    "#### Which cities have a temperature above 15 degrees Celcius and below 20 degrees Celsius?\n",
    "\n",
    "**Hint**: First, write the condition. Then, select the rows."
   ]
  },
  {
   "cell_type": "code",
   "execution_count": 10,
   "metadata": {},
   "outputs": [],
   "source": [
    "# your code here"
   ]
  },
  {
   "cell_type": "markdown",
   "metadata": {},
   "source": [
    "#### Find the mean and standard deviation of the temperature of each state."
   ]
  },
  {
   "cell_type": "code",
   "execution_count": 11,
   "metadata": {},
   "outputs": [],
   "source": [
    "# your code here"
   ]
  },
  {
   "cell_type": "markdown",
   "metadata": {
    "collapsed": true
   },
   "source": [
    "# [ONLY ONE MANDATORY]  Challenge 2"
   ]
  },
  {
   "cell_type": "markdown",
   "metadata": {},
   "source": [
    "#### Load the `employees` dataset into a dataframe. Call the dataframe `employees`."
   ]
  },
  {
   "cell_type": "code",
   "execution_count": 12,
   "metadata": {},
   "outputs": [],
   "source": [
    "# your code here"
   ]
  },
  {
   "cell_type": "markdown",
   "metadata": {},
   "source": [
    "#### Explore the data types of the `employees` dataframe. Comment your results."
   ]
  },
  {
   "cell_type": "code",
   "execution_count": 13,
   "metadata": {},
   "outputs": [],
   "source": [
    "# your code here"
   ]
  },
  {
   "cell_type": "code",
   "execution_count": 14,
   "metadata": {},
   "outputs": [
    {
     "output_type": "execute_result",
     "data": {
      "text/plain": "'\\nyour comments here\\n'"
     },
     "metadata": {},
     "execution_count": 14
    }
   ],
   "source": [
    "\"\"\"\n",
    "your comments here\n",
    "\"\"\""
   ]
  },
  {
   "cell_type": "markdown",
   "metadata": {},
   "source": [
    "#### What's the average salary in this company?"
   ]
  },
  {
   "cell_type": "code",
   "execution_count": 15,
   "metadata": {},
   "outputs": [],
   "source": [
    "# your code here"
   ]
  },
  {
   "cell_type": "markdown",
   "metadata": {},
   "source": [
    "#### What's the highest salary?"
   ]
  },
  {
   "cell_type": "code",
   "execution_count": 16,
   "metadata": {},
   "outputs": [],
   "source": [
    "# your code here"
   ]
  },
  {
   "cell_type": "markdown",
   "metadata": {},
   "source": [
    "#### What's the lowest salary?"
   ]
  },
  {
   "cell_type": "code",
   "execution_count": 17,
   "metadata": {},
   "outputs": [],
   "source": [
    "# your code here"
   ]
  },
  {
   "cell_type": "markdown",
   "metadata": {},
   "source": [
    "#### Who are the employees with the lowest salary?"
   ]
  },
  {
   "cell_type": "code",
   "execution_count": 18,
   "metadata": {},
   "outputs": [],
   "source": [
    "# your code here"
   ]
  },
  {
   "cell_type": "markdown",
   "metadata": {},
   "source": [
    "#### Find all the information about an employee called David."
   ]
  },
  {
   "cell_type": "code",
   "execution_count": 19,
   "metadata": {},
   "outputs": [],
   "source": [
    "# your code here"
   ]
  },
  {
   "cell_type": "markdown",
   "metadata": {},
   "source": [
    "#### Could you return only David's salary?"
   ]
  },
  {
   "cell_type": "code",
   "execution_count": 20,
   "metadata": {},
   "outputs": [],
   "source": [
    "# your code here"
   ]
  },
  {
   "cell_type": "markdown",
   "metadata": {},
   "source": [
    "#### Print all the rows where job title is associate."
   ]
  },
  {
   "cell_type": "code",
   "execution_count": 21,
   "metadata": {},
   "outputs": [],
   "source": [
    "# your code here"
   ]
  },
  {
   "cell_type": "markdown",
   "metadata": {},
   "source": [
    "#### Print the first 3 rows of your dataframe.\n",
    "**Tip**: There are 2 ways to do it. Do it both ways."
   ]
  },
  {
   "cell_type": "code",
   "execution_count": 22,
   "metadata": {},
   "outputs": [],
   "source": [
    "# Method 1\n",
    "# your code here"
   ]
  },
  {
   "cell_type": "code",
   "execution_count": 23,
   "metadata": {},
   "outputs": [],
   "source": [
    "# Method 2\n",
    "# your code here"
   ]
  },
  {
   "cell_type": "markdown",
   "metadata": {},
   "source": [
    "#### Find the employees whose title is associate and whose salary is above 55."
   ]
  },
  {
   "cell_type": "code",
   "execution_count": 24,
   "metadata": {},
   "outputs": [],
   "source": [
    "# your code here"
   ]
  },
  {
   "cell_type": "markdown",
   "metadata": {},
   "source": [
    "#### Group the employees by number of years of employment. What are the average salaries in each group?"
   ]
  },
  {
   "cell_type": "code",
   "execution_count": 25,
   "metadata": {},
   "outputs": [],
   "source": [
    "# your code here"
   ]
  },
  {
   "cell_type": "markdown",
   "metadata": {},
   "source": [
    "####  What is the average salary per title?"
   ]
  },
  {
   "cell_type": "code",
   "execution_count": 26,
   "metadata": {},
   "outputs": [],
   "source": [
    "# your code here"
   ]
  },
  {
   "cell_type": "markdown",
   "metadata": {},
   "source": [
    "####  Find the salary quartiles.\n"
   ]
  },
  {
   "cell_type": "code",
   "execution_count": 27,
   "metadata": {},
   "outputs": [],
   "source": [
    "# your code here"
   ]
  },
  {
   "cell_type": "markdown",
   "metadata": {},
   "source": [
    "#### Is the mean salary different per gender?"
   ]
  },
  {
   "cell_type": "code",
   "execution_count": 28,
   "metadata": {},
   "outputs": [],
   "source": [
    "# your code here"
   ]
  },
  {
   "cell_type": "markdown",
   "metadata": {},
   "source": [
    "#### Find the minimum, mean and maximum of all numeric columns for each company department.\n",
    "\n"
   ]
  },
  {
   "cell_type": "code",
   "execution_count": 29,
   "metadata": {},
   "outputs": [],
   "source": [
    "# your code here"
   ]
  },
  {
   "cell_type": "markdown",
   "metadata": {},
   "source": [
    "#### Bonus Question:  for each department, compute the difference between the maximum and the minimum salary.\n",
    "**Hint**: try using `agg` or `apply` combined with `lambda` functions."
   ]
  },
  {
   "cell_type": "code",
   "execution_count": 30,
   "metadata": {},
   "outputs": [],
   "source": [
    "# your code here"
   ]
  },
  {
   "cell_type": "markdown",
   "metadata": {
    "collapsed": true
   },
   "source": [
    "# [ONLY ONE MANDATORY] Challenge 3\n",
    "#### Open the `Orders` dataset. Name your dataset `orders`."
   ]
  },
  {
   "cell_type": "code",
   "execution_count": 31,
   "metadata": {},
   "outputs": [],
   "source": [
    "# your code here\n",
    "\n",
    "orders = pd.read_csv('../data/Orders.csv')"
   ]
  },
  {
   "cell_type": "markdown",
   "metadata": {},
   "source": [
    "#### Explore your dataset by looking at the data types and summary statistics. Comment your results."
   ]
  },
  {
   "cell_type": "code",
   "execution_count": 32,
   "metadata": {
    "tags": []
   },
   "outputs": [
    {
     "output_type": "execute_result",
     "data": {
      "text/plain": "Unnamed: 0        int64\nInvoiceNo         int64\nStockCode        object\nyear              int64\nmonth             int64\nday               int64\nhour              int64\nDescription      object\nQuantity          int64\nInvoiceDate      object\nUnitPrice       float64\nCustomerID        int64\nCountry          object\namount_spent    float64\ndtype: object"
     },
     "metadata": {},
     "execution_count": 32
    }
   ],
   "source": [
    "# your code here\n",
    "\n",
    "orders.dtypes"
   ]
  },
  {
   "cell_type": "code",
   "execution_count": 33,
   "metadata": {},
   "outputs": [
    {
     "output_type": "execute_result",
     "data": {
      "text/plain": "                 count           mean            std       min        25%  \\\nUnnamed: 0    397924.0  278465.221859  152771.368303       0.0  148333.75   \nInvoiceNo     397924.0  560617.126645   13106.167695  536365.0  549234.00   \nyear          397924.0    2010.934259       0.247829    2010.0    2011.00   \nmonth         397924.0       7.612537       3.416527       1.0       5.00   \nday           397924.0       3.614555       1.928274       1.0       2.00   \nhour          397924.0      12.728247       2.273535       6.0      11.00   \nQuantity      397924.0      13.021823     180.420210       1.0       2.00   \nUnitPrice     397924.0       3.116174      22.096788       0.0       1.25   \nCustomerID    397924.0   15294.315171    1713.169877   12346.0   13969.00   \namount_spent  397924.0      22.394749     309.055588       0.0       4.68   \n\n                    50%        75%        max  \nUnnamed: 0    284907.50  410079.25  541908.00  \nInvoiceNo     561893.00  572090.00  581587.00  \nyear            2011.00    2011.00    2011.00  \nmonth              8.00      11.00      12.00  \nday                3.00       5.00       7.00  \nhour              13.00      14.00      20.00  \nQuantity           6.00      12.00   80995.00  \nUnitPrice          1.95       3.75    8142.75  \nCustomerID     15159.00   16795.00   18287.00  \namount_spent      11.80      19.80  168469.60  ",
      "text/html": "<div>\n<style scoped>\n    .dataframe tbody tr th:only-of-type {\n        vertical-align: middle;\n    }\n\n    .dataframe tbody tr th {\n        vertical-align: top;\n    }\n\n    .dataframe thead th {\n        text-align: right;\n    }\n</style>\n<table border=\"1\" class=\"dataframe\">\n  <thead>\n    <tr style=\"text-align: right;\">\n      <th></th>\n      <th>count</th>\n      <th>mean</th>\n      <th>std</th>\n      <th>min</th>\n      <th>25%</th>\n      <th>50%</th>\n      <th>75%</th>\n      <th>max</th>\n    </tr>\n  </thead>\n  <tbody>\n    <tr>\n      <th>Unnamed: 0</th>\n      <td>397924.0</td>\n      <td>278465.221859</td>\n      <td>152771.368303</td>\n      <td>0.0</td>\n      <td>148333.75</td>\n      <td>284907.50</td>\n      <td>410079.25</td>\n      <td>541908.00</td>\n    </tr>\n    <tr>\n      <th>InvoiceNo</th>\n      <td>397924.0</td>\n      <td>560617.126645</td>\n      <td>13106.167695</td>\n      <td>536365.0</td>\n      <td>549234.00</td>\n      <td>561893.00</td>\n      <td>572090.00</td>\n      <td>581587.00</td>\n    </tr>\n    <tr>\n      <th>year</th>\n      <td>397924.0</td>\n      <td>2010.934259</td>\n      <td>0.247829</td>\n      <td>2010.0</td>\n      <td>2011.00</td>\n      <td>2011.00</td>\n      <td>2011.00</td>\n      <td>2011.00</td>\n    </tr>\n    <tr>\n      <th>month</th>\n      <td>397924.0</td>\n      <td>7.612537</td>\n      <td>3.416527</td>\n      <td>1.0</td>\n      <td>5.00</td>\n      <td>8.00</td>\n      <td>11.00</td>\n      <td>12.00</td>\n    </tr>\n    <tr>\n      <th>day</th>\n      <td>397924.0</td>\n      <td>3.614555</td>\n      <td>1.928274</td>\n      <td>1.0</td>\n      <td>2.00</td>\n      <td>3.00</td>\n      <td>5.00</td>\n      <td>7.00</td>\n    </tr>\n    <tr>\n      <th>hour</th>\n      <td>397924.0</td>\n      <td>12.728247</td>\n      <td>2.273535</td>\n      <td>6.0</td>\n      <td>11.00</td>\n      <td>13.00</td>\n      <td>14.00</td>\n      <td>20.00</td>\n    </tr>\n    <tr>\n      <th>Quantity</th>\n      <td>397924.0</td>\n      <td>13.021823</td>\n      <td>180.420210</td>\n      <td>1.0</td>\n      <td>2.00</td>\n      <td>6.00</td>\n      <td>12.00</td>\n      <td>80995.00</td>\n    </tr>\n    <tr>\n      <th>UnitPrice</th>\n      <td>397924.0</td>\n      <td>3.116174</td>\n      <td>22.096788</td>\n      <td>0.0</td>\n      <td>1.25</td>\n      <td>1.95</td>\n      <td>3.75</td>\n      <td>8142.75</td>\n    </tr>\n    <tr>\n      <th>CustomerID</th>\n      <td>397924.0</td>\n      <td>15294.315171</td>\n      <td>1713.169877</td>\n      <td>12346.0</td>\n      <td>13969.00</td>\n      <td>15159.00</td>\n      <td>16795.00</td>\n      <td>18287.00</td>\n    </tr>\n    <tr>\n      <th>amount_spent</th>\n      <td>397924.0</td>\n      <td>22.394749</td>\n      <td>309.055588</td>\n      <td>0.0</td>\n      <td>4.68</td>\n      <td>11.80</td>\n      <td>19.80</td>\n      <td>168469.60</td>\n    </tr>\n  </tbody>\n</table>\n</div>"
     },
     "metadata": {},
     "execution_count": 33
    }
   ],
   "source": [
    "orders.describe().T"
   ]
  },
  {
   "cell_type": "code",
   "execution_count": 34,
   "metadata": {},
   "outputs": [
    {
     "output_type": "execute_result",
     "data": {
      "text/plain": "'\\nyour comments here\\n\\nI didn’t see anything that really got my attention.\\n\\n'"
     },
     "metadata": {},
     "execution_count": 34
    }
   ],
   "source": [
    "\"\"\"\n",
    "your comments here\n",
    "\n",
    "I didn’t see anything that really got my attention.\n",
    "\n",
    "\"\"\""
   ]
  },
  {
   "cell_type": "markdown",
   "metadata": {},
   "source": [
    "####  What is the average purchase price?"
   ]
  },
  {
   "cell_type": "code",
   "execution_count": 35,
   "metadata": {},
   "outputs": [
    {
     "output_type": "execute_result",
     "data": {
      "text/plain": "3.1161744805540756"
     },
     "metadata": {},
     "execution_count": 35
    }
   ],
   "source": [
    "# your code here\n",
    "\n",
    "orders['UnitPrice'].mean()"
   ]
  },
  {
   "cell_type": "markdown",
   "metadata": {},
   "source": [
    "#### What are the highest and lowest purchase prices? "
   ]
  },
  {
   "cell_type": "code",
   "execution_count": 36,
   "metadata": {
    "tags": []
   },
   "outputs": [
    {
     "output_type": "stream",
     "name": "stdout",
     "text": "8142.75\n0.0\n"
    }
   ],
   "source": [
    "# your code here\n",
    "\n",
    "print(orders['UnitPrice'].max())\n",
    "\n",
    "print(orders['UnitPrice'].min())"
   ]
  },
  {
   "cell_type": "markdown",
   "metadata": {},
   "source": [
    "#### Select all the customers from Spain.\n",
    "**Hint**: Remember that you are not asked to find orders from Spain but customers. A customer might have more than one order associated. "
   ]
  },
  {
   "cell_type": "code",
   "execution_count": 37,
   "metadata": {
    "tags": []
   },
   "outputs": [
    {
     "output_type": "execute_result",
     "data": {
      "text/plain": "      Unnamed: 0  InvoiceNo StockCode  year  month  day  hour  \\\n4250        6421     536944     22383  2010     12    5    12   \n4251        6422     536944     22384  2010     12    5    12   \n4252        6423     536944     20727  2010     12    5    12   \n4253        6424     536944     20725  2010     12    5    12   \n4254        6425     536944     20728  2010     12    5    12   \n\n                  Description  Quantity          InvoiceDate  UnitPrice  \\\n4250  lunch bag suki  design         70  2010-12-03 12:20:00       1.65   \n4251  lunch bag pink polkadot       100  2010-12-03 12:20:00       1.45   \n4252  lunch bag  black skull.        60  2010-12-03 12:20:00       1.65   \n4253  lunch bag red retrospot        70  2010-12-03 12:20:00       1.65   \n4254      lunch bag cars blue       100  2010-12-03 12:20:00       1.45   \n\n      CustomerID Country  amount_spent  \n4250       12557   Spain         115.5  \n4251       12557   Spain         145.0  \n4252       12557   Spain          99.0  \n4253       12557   Spain         115.5  \n4254       12557   Spain         145.0  ",
      "text/html": "<div>\n<style scoped>\n    .dataframe tbody tr th:only-of-type {\n        vertical-align: middle;\n    }\n\n    .dataframe tbody tr th {\n        vertical-align: top;\n    }\n\n    .dataframe thead th {\n        text-align: right;\n    }\n</style>\n<table border=\"1\" class=\"dataframe\">\n  <thead>\n    <tr style=\"text-align: right;\">\n      <th></th>\n      <th>Unnamed: 0</th>\n      <th>InvoiceNo</th>\n      <th>StockCode</th>\n      <th>year</th>\n      <th>month</th>\n      <th>day</th>\n      <th>hour</th>\n      <th>Description</th>\n      <th>Quantity</th>\n      <th>InvoiceDate</th>\n      <th>UnitPrice</th>\n      <th>CustomerID</th>\n      <th>Country</th>\n      <th>amount_spent</th>\n    </tr>\n  </thead>\n  <tbody>\n    <tr>\n      <th>4250</th>\n      <td>6421</td>\n      <td>536944</td>\n      <td>22383</td>\n      <td>2010</td>\n      <td>12</td>\n      <td>5</td>\n      <td>12</td>\n      <td>lunch bag suki  design</td>\n      <td>70</td>\n      <td>2010-12-03 12:20:00</td>\n      <td>1.65</td>\n      <td>12557</td>\n      <td>Spain</td>\n      <td>115.5</td>\n    </tr>\n    <tr>\n      <th>4251</th>\n      <td>6422</td>\n      <td>536944</td>\n      <td>22384</td>\n      <td>2010</td>\n      <td>12</td>\n      <td>5</td>\n      <td>12</td>\n      <td>lunch bag pink polkadot</td>\n      <td>100</td>\n      <td>2010-12-03 12:20:00</td>\n      <td>1.45</td>\n      <td>12557</td>\n      <td>Spain</td>\n      <td>145.0</td>\n    </tr>\n    <tr>\n      <th>4252</th>\n      <td>6423</td>\n      <td>536944</td>\n      <td>20727</td>\n      <td>2010</td>\n      <td>12</td>\n      <td>5</td>\n      <td>12</td>\n      <td>lunch bag  black skull.</td>\n      <td>60</td>\n      <td>2010-12-03 12:20:00</td>\n      <td>1.65</td>\n      <td>12557</td>\n      <td>Spain</td>\n      <td>99.0</td>\n    </tr>\n    <tr>\n      <th>4253</th>\n      <td>6424</td>\n      <td>536944</td>\n      <td>20725</td>\n      <td>2010</td>\n      <td>12</td>\n      <td>5</td>\n      <td>12</td>\n      <td>lunch bag red retrospot</td>\n      <td>70</td>\n      <td>2010-12-03 12:20:00</td>\n      <td>1.65</td>\n      <td>12557</td>\n      <td>Spain</td>\n      <td>115.5</td>\n    </tr>\n    <tr>\n      <th>4254</th>\n      <td>6425</td>\n      <td>536944</td>\n      <td>20728</td>\n      <td>2010</td>\n      <td>12</td>\n      <td>5</td>\n      <td>12</td>\n      <td>lunch bag cars blue</td>\n      <td>100</td>\n      <td>2010-12-03 12:20:00</td>\n      <td>1.45</td>\n      <td>12557</td>\n      <td>Spain</td>\n      <td>145.0</td>\n    </tr>\n  </tbody>\n</table>\n</div>"
     },
     "metadata": {},
     "execution_count": 37
    }
   ],
   "source": [
    "# your code here\n",
    "\n",
    "spain = orders[orders['Country'] == 'Spain']\n",
    "\n",
    "spain.head()"
   ]
  },
  {
   "cell_type": "markdown",
   "metadata": {},
   "source": [
    "#### How many customers do we have in Spain?"
   ]
  },
  {
   "cell_type": "code",
   "execution_count": 38,
   "metadata": {},
   "outputs": [
    {
     "output_type": "execute_result",
     "data": {
      "text/plain": "30"
     },
     "metadata": {},
     "execution_count": 38
    }
   ],
   "source": [
    "# your code here\n",
    "\n",
    "customer_spain = spain['CustomerID'].nunique()\n",
    "customer_spain"
   ]
  },
  {
   "cell_type": "markdown",
   "metadata": {},
   "source": [
    "#### Select all the customers who have bought more than 50 items.\n",
    "**Hint**: Remember that you are not asked to find orders with more than 50 items but customers who bought more than 50 items. A customer with two orders of 30 items each should appear in the selection."
   ]
  },
  {
   "cell_type": "code",
   "execution_count": 39,
   "metadata": {
    "tags": []
   },
   "outputs": [
    {
     "output_type": "execute_result",
     "data": {
      "text/plain": "            Quantity\nCustomerID          \n14890             51\n15748             51\n12587             51\n15350             51\n15945             52\n...              ...\n12346          74215\n12415          77670\n14911          80515\n16446          80997\n14646         197491\n\n[4091 rows x 1 columns]",
      "text/html": "<div>\n<style scoped>\n    .dataframe tbody tr th:only-of-type {\n        vertical-align: middle;\n    }\n\n    .dataframe tbody tr th {\n        vertical-align: top;\n    }\n\n    .dataframe thead th {\n        text-align: right;\n    }\n</style>\n<table border=\"1\" class=\"dataframe\">\n  <thead>\n    <tr style=\"text-align: right;\">\n      <th></th>\n      <th>Quantity</th>\n    </tr>\n    <tr>\n      <th>CustomerID</th>\n      <th></th>\n    </tr>\n  </thead>\n  <tbody>\n    <tr>\n      <th>14890</th>\n      <td>51</td>\n    </tr>\n    <tr>\n      <th>15748</th>\n      <td>51</td>\n    </tr>\n    <tr>\n      <th>12587</th>\n      <td>51</td>\n    </tr>\n    <tr>\n      <th>15350</th>\n      <td>51</td>\n    </tr>\n    <tr>\n      <th>15945</th>\n      <td>52</td>\n    </tr>\n    <tr>\n      <th>...</th>\n      <td>...</td>\n    </tr>\n    <tr>\n      <th>12346</th>\n      <td>74215</td>\n    </tr>\n    <tr>\n      <th>12415</th>\n      <td>77670</td>\n    </tr>\n    <tr>\n      <th>14911</th>\n      <td>80515</td>\n    </tr>\n    <tr>\n      <th>16446</th>\n      <td>80997</td>\n    </tr>\n    <tr>\n      <th>14646</th>\n      <td>197491</td>\n    </tr>\n  </tbody>\n</table>\n<p>4091 rows × 1 columns</p>\n</div>"
     },
     "metadata": {},
     "execution_count": 39
    }
   ],
   "source": [
    "# your code here\n",
    "\n",
    "items_50 = orders.groupby('CustomerID').agg({'Quantity': 'sum'})\n",
    "items_50 = items_50[(items_50['Quantity'] > 50)]\n",
    "items_50.sort_values(by= 'Quantity')"
   ]
  },
  {
   "cell_type": "markdown",
   "metadata": {},
   "source": [
    "#### Select orders from Spain that include more than 50 items."
   ]
  },
  {
   "cell_type": "code",
   "execution_count": 40,
   "metadata": {},
   "outputs": [
    {
     "output_type": "execute_result",
     "data": {
      "text/plain": "            Quantity\nCustomerID          \n12445             62\n12551            100\n12450            128\n12547            134\n12544            136\n12442            182\n12538            191\n12448            243\n12417            267\n12510            353\n12556            358\n17097            459\n12596            474\n12421            484\n12545            523\n12354            530\n12462            536\n12455            566\n12550            569\n12546            633\n12541            680\n12502            820\n12507            905\n12454           1006\n12539           2067\n12484           2191\n12597           2236\n12557           4384\n12540           6685",
      "text/html": "<div>\n<style scoped>\n    .dataframe tbody tr th:only-of-type {\n        vertical-align: middle;\n    }\n\n    .dataframe tbody tr th {\n        vertical-align: top;\n    }\n\n    .dataframe thead th {\n        text-align: right;\n    }\n</style>\n<table border=\"1\" class=\"dataframe\">\n  <thead>\n    <tr style=\"text-align: right;\">\n      <th></th>\n      <th>Quantity</th>\n    </tr>\n    <tr>\n      <th>CustomerID</th>\n      <th></th>\n    </tr>\n  </thead>\n  <tbody>\n    <tr>\n      <th>12445</th>\n      <td>62</td>\n    </tr>\n    <tr>\n      <th>12551</th>\n      <td>100</td>\n    </tr>\n    <tr>\n      <th>12450</th>\n      <td>128</td>\n    </tr>\n    <tr>\n      <th>12547</th>\n      <td>134</td>\n    </tr>\n    <tr>\n      <th>12544</th>\n      <td>136</td>\n    </tr>\n    <tr>\n      <th>12442</th>\n      <td>182</td>\n    </tr>\n    <tr>\n      <th>12538</th>\n      <td>191</td>\n    </tr>\n    <tr>\n      <th>12448</th>\n      <td>243</td>\n    </tr>\n    <tr>\n      <th>12417</th>\n      <td>267</td>\n    </tr>\n    <tr>\n      <th>12510</th>\n      <td>353</td>\n    </tr>\n    <tr>\n      <th>12556</th>\n      <td>358</td>\n    </tr>\n    <tr>\n      <th>17097</th>\n      <td>459</td>\n    </tr>\n    <tr>\n      <th>12596</th>\n      <td>474</td>\n    </tr>\n    <tr>\n      <th>12421</th>\n      <td>484</td>\n    </tr>\n    <tr>\n      <th>12545</th>\n      <td>523</td>\n    </tr>\n    <tr>\n      <th>12354</th>\n      <td>530</td>\n    </tr>\n    <tr>\n      <th>12462</th>\n      <td>536</td>\n    </tr>\n    <tr>\n      <th>12455</th>\n      <td>566</td>\n    </tr>\n    <tr>\n      <th>12550</th>\n      <td>569</td>\n    </tr>\n    <tr>\n      <th>12546</th>\n      <td>633</td>\n    </tr>\n    <tr>\n      <th>12541</th>\n      <td>680</td>\n    </tr>\n    <tr>\n      <th>12502</th>\n      <td>820</td>\n    </tr>\n    <tr>\n      <th>12507</th>\n      <td>905</td>\n    </tr>\n    <tr>\n      <th>12454</th>\n      <td>1006</td>\n    </tr>\n    <tr>\n      <th>12539</th>\n      <td>2067</td>\n    </tr>\n    <tr>\n      <th>12484</th>\n      <td>2191</td>\n    </tr>\n    <tr>\n      <th>12597</th>\n      <td>2236</td>\n    </tr>\n    <tr>\n      <th>12557</th>\n      <td>4384</td>\n    </tr>\n    <tr>\n      <th>12540</th>\n      <td>6685</td>\n    </tr>\n  </tbody>\n</table>\n</div>"
     },
     "metadata": {},
     "execution_count": 40
    }
   ],
   "source": [
    "# your code here\n",
    "\n",
    "items_spain_50 = spain.groupby('CustomerID').agg({'Quantity': 'sum'})\n",
    "items_spain_50 = items_spain_50[(items_spain_50['Quantity'] > 50)]\n",
    "items_spain_50.sort_values(by= 'Quantity')"
   ]
  },
  {
   "cell_type": "markdown",
   "metadata": {},
   "source": [
    "#### Select all free orders."
   ]
  },
  {
   "cell_type": "code",
   "execution_count": 41,
   "metadata": {},
   "outputs": [
    {
     "output_type": "execute_result",
     "data": {
      "text/plain": "        Unnamed: 0  InvoiceNo StockCode  year  month  day  hour  \\\n6914          9302     537197     22841  2010     12    7    14   \n22539        33576     539263     22580  2010     12    4    14   \n25379        40089     539722     22423  2010     12    2    13   \n29080        47068     540372     22090  2011      1    4    16   \n29082        47070     540372     22553  2011      1    4    16   \n34494        56674     541109     22168  2011      1    4    15   \n53788        86789     543599    84535B  2011      2    4    13   \n85671       130188     547417     22062  2011      3    3    10   \n92875       139453     548318     22055  2011      3    3    12   \n97430       145208     548871     22162  2011      4    1    14   \n107192      157042     550188     22636  2011      4    4    18   \n128641      187613     553000     47566  2011      5    4    15   \n137127      198383     554037     22619  2011      5    5    14   \n194648      279324     561284     22167  2011      7    2    12   \n197173      282912     561669     22960  2011      7    4    17   \n199711      285657     561916         M  2011      8    1    11   \n208950      298054     562973     23157  2011      8    4    11   \n223931      314745     564651     23270  2011      8    5    14   \n223932      314746     564651     23268  2011      8    5    14   \n223933      314747     564651     22955  2011      8    5    14   \n223934      314748     564651     21786  2011      8    5    14   \n256263      358655     568158      PADS  2011      9    7    12   \n259399      361825     568384         M  2011      9    2     9   \n273926      379913     569716     22778  2011     10    4     8   \n286507      395529     571035         M  2011     10    4    12   \n307092      420404     572893     21208  2011     10    3    14   \n319882      436428     574138     23234  2011     11    4    11   \n320049      436597     574175     22065  2011     11    4    11   \n320407      436961     574252         M  2011     11    4    13   \n322279      439361     574469     22385  2011     11    5    11   \n328385      446125     574879     22625  2011     11    1    13   \n329006      446793     574920     22899  2011     11    1    16   \n329007      446794     574920     23480  2011     11    1    16   \n334242      454463     575579     22437  2011     11    4    11   \n334243      454464     575579     22089  2011     11    4    11   \n352746      479079     577129     22464  2011     11    4    19   \n353097      479546     577168         M  2011     11    5    10   \n354170      480649     577314     23407  2011     11    5    13   \n358629      485985     577696         M  2011     11    1    11   \n370473      502122     578841     84826  2011     11    5    15   \n\n                                Description  Quantity          InvoiceDate  \\\n6914           round cake tin vintage green         1  2010-12-05 14:02:00   \n22539          advent calendar gingham sack         4  2010-12-16 14:36:00   \n25379              regency cakestand 3 tier        10  2010-12-21 13:45:00   \n29080               paper bunting retrospot        24  2011-01-06 16:41:00   \n29082                plasters in tin skulls        24  2011-01-06 16:41:00   \n34494         organiser wood antique white          1  2011-01-13 15:10:00   \n53788          fairy cakes notebook a6 size        16  2011-02-10 13:08:00   \n85671   ceramic bowl with love heart design        36  2011-03-23 10:25:00   \n92875    mini cake stand  hanging strawbery         5  2011-03-30 12:45:00   \n97430           heart garland rustic padded         2  2011-04-04 14:42:00   \n107192   childs breakfast set circus parade         1  2011-04-14 18:57:00   \n128641                        party bunting         4  2011-05-12 15:21:00   \n137127            set of 6 soldier skittles        80  2011-05-20 14:13:00   \n194648           oval wall mirror diamante          1  2011-07-26 12:24:00   \n197173             jam making set with jars        11  2011-07-28 17:09:00   \n199711                               manual         1  2011-08-01 11:44:00   \n208950           set of 6 nativity magnets        240  2011-08-11 11:42:00   \n223931     set of 2 ceramic painted hearts         96  2011-08-26 14:19:00   \n223932  set of 2 ceramic christmas reindeer       192  2011-08-26 14:19:00   \n223933             36 foil star cake cases        144  2011-08-26 14:19:00   \n223934                   polkadot rain hat        144  2011-08-26 14:19:00   \n256263           pads to match all cushions         1  2011-09-25 12:22:00   \n259399                               manual         1  2011-09-27 09:46:00   \n273926                   glass cloche small         2  2011-10-06 08:17:00   \n286507                               manual         1  2011-10-13 12:50:00   \n307092          pastel colour honeycomb fan         5  2011-10-26 14:36:00   \n319882        biscuit tin vintage christmas       216  2011-11-03 11:26:00   \n320049       christmas pudding trinket pot         12  2011-11-03 11:47:00   \n320407                               manual         1  2011-11-03 13:24:00   \n322279            jumbo bag spaceboy design        12  2011-11-04 11:55:00   \n328385                   red kitchen scales         2  2011-11-07 13:22:00   \n329006         children's apron dolly girl          1  2011-11-07 16:34:00   \n329007       mini lights woodland mushrooms         1  2011-11-07 16:34:00   \n334242        set of 9 black skull balloons        20  2011-11-10 11:49:00   \n334243        paper bunting vintage paisley        24  2011-11-10 11:49:00   \n352746          hanging metal heart lantern         4  2011-11-17 19:52:00   \n353097                               manual         1  2011-11-18 10:42:00   \n354170       set of 2 trays home sweet home         2  2011-11-18 13:23:00   \n358629                               manual         1  2011-11-21 11:57:00   \n370473       asstd design 3d paper stickers     12540  2011-11-25 15:57:00   \n\n        UnitPrice  CustomerID         Country  amount_spent  \n6914          0.0       12647         Germany           0.0  \n22539         0.0       16560  United Kingdom           0.0  \n25379         0.0       14911            EIRE           0.0  \n29080         0.0       13081  United Kingdom           0.0  \n29082         0.0       13081  United Kingdom           0.0  \n34494         0.0       15107  United Kingdom           0.0  \n53788         0.0       17560  United Kingdom           0.0  \n85671         0.0       13239  United Kingdom           0.0  \n92875         0.0       13113  United Kingdom           0.0  \n97430         0.0       14410  United Kingdom           0.0  \n107192        0.0       12457     Switzerland           0.0  \n128641        0.0       17667  United Kingdom           0.0  \n137127        0.0       12415       Australia           0.0  \n194648        0.0       16818  United Kingdom           0.0  \n197173        0.0       12507           Spain           0.0  \n199711        0.0       15581  United Kingdom           0.0  \n208950        0.0       14911            EIRE           0.0  \n223931        0.0       14646     Netherlands           0.0  \n223932        0.0       14646     Netherlands           0.0  \n223933        0.0       14646     Netherlands           0.0  \n223934        0.0       14646     Netherlands           0.0  \n256263        0.0       16133  United Kingdom           0.0  \n259399        0.0       12748  United Kingdom           0.0  \n273926        0.0       15804  United Kingdom           0.0  \n286507        0.0       12446             RSA           0.0  \n307092        0.0       18059  United Kingdom           0.0  \n319882        0.0       12415       Australia           0.0  \n320049        0.0       14110  United Kingdom           0.0  \n320407        0.0       12437          France           0.0  \n322279        0.0       12431       Australia           0.0  \n328385        0.0       13014  United Kingdom           0.0  \n329006        0.0       13985  United Kingdom           0.0  \n329007        0.0       13985  United Kingdom           0.0  \n334242        0.0       13081  United Kingdom           0.0  \n334243        0.0       13081  United Kingdom           0.0  \n352746        0.0       15602  United Kingdom           0.0  \n353097        0.0       12603         Germany           0.0  \n354170        0.0       12444          Norway           0.0  \n358629        0.0       16406  United Kingdom           0.0  \n370473        0.0       13256  United Kingdom           0.0  ",
      "text/html": "<div>\n<style scoped>\n    .dataframe tbody tr th:only-of-type {\n        vertical-align: middle;\n    }\n\n    .dataframe tbody tr th {\n        vertical-align: top;\n    }\n\n    .dataframe thead th {\n        text-align: right;\n    }\n</style>\n<table border=\"1\" class=\"dataframe\">\n  <thead>\n    <tr style=\"text-align: right;\">\n      <th></th>\n      <th>Unnamed: 0</th>\n      <th>InvoiceNo</th>\n      <th>StockCode</th>\n      <th>year</th>\n      <th>month</th>\n      <th>day</th>\n      <th>hour</th>\n      <th>Description</th>\n      <th>Quantity</th>\n      <th>InvoiceDate</th>\n      <th>UnitPrice</th>\n      <th>CustomerID</th>\n      <th>Country</th>\n      <th>amount_spent</th>\n    </tr>\n  </thead>\n  <tbody>\n    <tr>\n      <th>6914</th>\n      <td>9302</td>\n      <td>537197</td>\n      <td>22841</td>\n      <td>2010</td>\n      <td>12</td>\n      <td>7</td>\n      <td>14</td>\n      <td>round cake tin vintage green</td>\n      <td>1</td>\n      <td>2010-12-05 14:02:00</td>\n      <td>0.0</td>\n      <td>12647</td>\n      <td>Germany</td>\n      <td>0.0</td>\n    </tr>\n    <tr>\n      <th>22539</th>\n      <td>33576</td>\n      <td>539263</td>\n      <td>22580</td>\n      <td>2010</td>\n      <td>12</td>\n      <td>4</td>\n      <td>14</td>\n      <td>advent calendar gingham sack</td>\n      <td>4</td>\n      <td>2010-12-16 14:36:00</td>\n      <td>0.0</td>\n      <td>16560</td>\n      <td>United Kingdom</td>\n      <td>0.0</td>\n    </tr>\n    <tr>\n      <th>25379</th>\n      <td>40089</td>\n      <td>539722</td>\n      <td>22423</td>\n      <td>2010</td>\n      <td>12</td>\n      <td>2</td>\n      <td>13</td>\n      <td>regency cakestand 3 tier</td>\n      <td>10</td>\n      <td>2010-12-21 13:45:00</td>\n      <td>0.0</td>\n      <td>14911</td>\n      <td>EIRE</td>\n      <td>0.0</td>\n    </tr>\n    <tr>\n      <th>29080</th>\n      <td>47068</td>\n      <td>540372</td>\n      <td>22090</td>\n      <td>2011</td>\n      <td>1</td>\n      <td>4</td>\n      <td>16</td>\n      <td>paper bunting retrospot</td>\n      <td>24</td>\n      <td>2011-01-06 16:41:00</td>\n      <td>0.0</td>\n      <td>13081</td>\n      <td>United Kingdom</td>\n      <td>0.0</td>\n    </tr>\n    <tr>\n      <th>29082</th>\n      <td>47070</td>\n      <td>540372</td>\n      <td>22553</td>\n      <td>2011</td>\n      <td>1</td>\n      <td>4</td>\n      <td>16</td>\n      <td>plasters in tin skulls</td>\n      <td>24</td>\n      <td>2011-01-06 16:41:00</td>\n      <td>0.0</td>\n      <td>13081</td>\n      <td>United Kingdom</td>\n      <td>0.0</td>\n    </tr>\n    <tr>\n      <th>34494</th>\n      <td>56674</td>\n      <td>541109</td>\n      <td>22168</td>\n      <td>2011</td>\n      <td>1</td>\n      <td>4</td>\n      <td>15</td>\n      <td>organiser wood antique white</td>\n      <td>1</td>\n      <td>2011-01-13 15:10:00</td>\n      <td>0.0</td>\n      <td>15107</td>\n      <td>United Kingdom</td>\n      <td>0.0</td>\n    </tr>\n    <tr>\n      <th>53788</th>\n      <td>86789</td>\n      <td>543599</td>\n      <td>84535B</td>\n      <td>2011</td>\n      <td>2</td>\n      <td>4</td>\n      <td>13</td>\n      <td>fairy cakes notebook a6 size</td>\n      <td>16</td>\n      <td>2011-02-10 13:08:00</td>\n      <td>0.0</td>\n      <td>17560</td>\n      <td>United Kingdom</td>\n      <td>0.0</td>\n    </tr>\n    <tr>\n      <th>85671</th>\n      <td>130188</td>\n      <td>547417</td>\n      <td>22062</td>\n      <td>2011</td>\n      <td>3</td>\n      <td>3</td>\n      <td>10</td>\n      <td>ceramic bowl with love heart design</td>\n      <td>36</td>\n      <td>2011-03-23 10:25:00</td>\n      <td>0.0</td>\n      <td>13239</td>\n      <td>United Kingdom</td>\n      <td>0.0</td>\n    </tr>\n    <tr>\n      <th>92875</th>\n      <td>139453</td>\n      <td>548318</td>\n      <td>22055</td>\n      <td>2011</td>\n      <td>3</td>\n      <td>3</td>\n      <td>12</td>\n      <td>mini cake stand  hanging strawbery</td>\n      <td>5</td>\n      <td>2011-03-30 12:45:00</td>\n      <td>0.0</td>\n      <td>13113</td>\n      <td>United Kingdom</td>\n      <td>0.0</td>\n    </tr>\n    <tr>\n      <th>97430</th>\n      <td>145208</td>\n      <td>548871</td>\n      <td>22162</td>\n      <td>2011</td>\n      <td>4</td>\n      <td>1</td>\n      <td>14</td>\n      <td>heart garland rustic padded</td>\n      <td>2</td>\n      <td>2011-04-04 14:42:00</td>\n      <td>0.0</td>\n      <td>14410</td>\n      <td>United Kingdom</td>\n      <td>0.0</td>\n    </tr>\n    <tr>\n      <th>107192</th>\n      <td>157042</td>\n      <td>550188</td>\n      <td>22636</td>\n      <td>2011</td>\n      <td>4</td>\n      <td>4</td>\n      <td>18</td>\n      <td>childs breakfast set circus parade</td>\n      <td>1</td>\n      <td>2011-04-14 18:57:00</td>\n      <td>0.0</td>\n      <td>12457</td>\n      <td>Switzerland</td>\n      <td>0.0</td>\n    </tr>\n    <tr>\n      <th>128641</th>\n      <td>187613</td>\n      <td>553000</td>\n      <td>47566</td>\n      <td>2011</td>\n      <td>5</td>\n      <td>4</td>\n      <td>15</td>\n      <td>party bunting</td>\n      <td>4</td>\n      <td>2011-05-12 15:21:00</td>\n      <td>0.0</td>\n      <td>17667</td>\n      <td>United Kingdom</td>\n      <td>0.0</td>\n    </tr>\n    <tr>\n      <th>137127</th>\n      <td>198383</td>\n      <td>554037</td>\n      <td>22619</td>\n      <td>2011</td>\n      <td>5</td>\n      <td>5</td>\n      <td>14</td>\n      <td>set of 6 soldier skittles</td>\n      <td>80</td>\n      <td>2011-05-20 14:13:00</td>\n      <td>0.0</td>\n      <td>12415</td>\n      <td>Australia</td>\n      <td>0.0</td>\n    </tr>\n    <tr>\n      <th>194648</th>\n      <td>279324</td>\n      <td>561284</td>\n      <td>22167</td>\n      <td>2011</td>\n      <td>7</td>\n      <td>2</td>\n      <td>12</td>\n      <td>oval wall mirror diamante</td>\n      <td>1</td>\n      <td>2011-07-26 12:24:00</td>\n      <td>0.0</td>\n      <td>16818</td>\n      <td>United Kingdom</td>\n      <td>0.0</td>\n    </tr>\n    <tr>\n      <th>197173</th>\n      <td>282912</td>\n      <td>561669</td>\n      <td>22960</td>\n      <td>2011</td>\n      <td>7</td>\n      <td>4</td>\n      <td>17</td>\n      <td>jam making set with jars</td>\n      <td>11</td>\n      <td>2011-07-28 17:09:00</td>\n      <td>0.0</td>\n      <td>12507</td>\n      <td>Spain</td>\n      <td>0.0</td>\n    </tr>\n    <tr>\n      <th>199711</th>\n      <td>285657</td>\n      <td>561916</td>\n      <td>M</td>\n      <td>2011</td>\n      <td>8</td>\n      <td>1</td>\n      <td>11</td>\n      <td>manual</td>\n      <td>1</td>\n      <td>2011-08-01 11:44:00</td>\n      <td>0.0</td>\n      <td>15581</td>\n      <td>United Kingdom</td>\n      <td>0.0</td>\n    </tr>\n    <tr>\n      <th>208950</th>\n      <td>298054</td>\n      <td>562973</td>\n      <td>23157</td>\n      <td>2011</td>\n      <td>8</td>\n      <td>4</td>\n      <td>11</td>\n      <td>set of 6 nativity magnets</td>\n      <td>240</td>\n      <td>2011-08-11 11:42:00</td>\n      <td>0.0</td>\n      <td>14911</td>\n      <td>EIRE</td>\n      <td>0.0</td>\n    </tr>\n    <tr>\n      <th>223931</th>\n      <td>314745</td>\n      <td>564651</td>\n      <td>23270</td>\n      <td>2011</td>\n      <td>8</td>\n      <td>5</td>\n      <td>14</td>\n      <td>set of 2 ceramic painted hearts</td>\n      <td>96</td>\n      <td>2011-08-26 14:19:00</td>\n      <td>0.0</td>\n      <td>14646</td>\n      <td>Netherlands</td>\n      <td>0.0</td>\n    </tr>\n    <tr>\n      <th>223932</th>\n      <td>314746</td>\n      <td>564651</td>\n      <td>23268</td>\n      <td>2011</td>\n      <td>8</td>\n      <td>5</td>\n      <td>14</td>\n      <td>set of 2 ceramic christmas reindeer</td>\n      <td>192</td>\n      <td>2011-08-26 14:19:00</td>\n      <td>0.0</td>\n      <td>14646</td>\n      <td>Netherlands</td>\n      <td>0.0</td>\n    </tr>\n    <tr>\n      <th>223933</th>\n      <td>314747</td>\n      <td>564651</td>\n      <td>22955</td>\n      <td>2011</td>\n      <td>8</td>\n      <td>5</td>\n      <td>14</td>\n      <td>36 foil star cake cases</td>\n      <td>144</td>\n      <td>2011-08-26 14:19:00</td>\n      <td>0.0</td>\n      <td>14646</td>\n      <td>Netherlands</td>\n      <td>0.0</td>\n    </tr>\n    <tr>\n      <th>223934</th>\n      <td>314748</td>\n      <td>564651</td>\n      <td>21786</td>\n      <td>2011</td>\n      <td>8</td>\n      <td>5</td>\n      <td>14</td>\n      <td>polkadot rain hat</td>\n      <td>144</td>\n      <td>2011-08-26 14:19:00</td>\n      <td>0.0</td>\n      <td>14646</td>\n      <td>Netherlands</td>\n      <td>0.0</td>\n    </tr>\n    <tr>\n      <th>256263</th>\n      <td>358655</td>\n      <td>568158</td>\n      <td>PADS</td>\n      <td>2011</td>\n      <td>9</td>\n      <td>7</td>\n      <td>12</td>\n      <td>pads to match all cushions</td>\n      <td>1</td>\n      <td>2011-09-25 12:22:00</td>\n      <td>0.0</td>\n      <td>16133</td>\n      <td>United Kingdom</td>\n      <td>0.0</td>\n    </tr>\n    <tr>\n      <th>259399</th>\n      <td>361825</td>\n      <td>568384</td>\n      <td>M</td>\n      <td>2011</td>\n      <td>9</td>\n      <td>2</td>\n      <td>9</td>\n      <td>manual</td>\n      <td>1</td>\n      <td>2011-09-27 09:46:00</td>\n      <td>0.0</td>\n      <td>12748</td>\n      <td>United Kingdom</td>\n      <td>0.0</td>\n    </tr>\n    <tr>\n      <th>273926</th>\n      <td>379913</td>\n      <td>569716</td>\n      <td>22778</td>\n      <td>2011</td>\n      <td>10</td>\n      <td>4</td>\n      <td>8</td>\n      <td>glass cloche small</td>\n      <td>2</td>\n      <td>2011-10-06 08:17:00</td>\n      <td>0.0</td>\n      <td>15804</td>\n      <td>United Kingdom</td>\n      <td>0.0</td>\n    </tr>\n    <tr>\n      <th>286507</th>\n      <td>395529</td>\n      <td>571035</td>\n      <td>M</td>\n      <td>2011</td>\n      <td>10</td>\n      <td>4</td>\n      <td>12</td>\n      <td>manual</td>\n      <td>1</td>\n      <td>2011-10-13 12:50:00</td>\n      <td>0.0</td>\n      <td>12446</td>\n      <td>RSA</td>\n      <td>0.0</td>\n    </tr>\n    <tr>\n      <th>307092</th>\n      <td>420404</td>\n      <td>572893</td>\n      <td>21208</td>\n      <td>2011</td>\n      <td>10</td>\n      <td>3</td>\n      <td>14</td>\n      <td>pastel colour honeycomb fan</td>\n      <td>5</td>\n      <td>2011-10-26 14:36:00</td>\n      <td>0.0</td>\n      <td>18059</td>\n      <td>United Kingdom</td>\n      <td>0.0</td>\n    </tr>\n    <tr>\n      <th>319882</th>\n      <td>436428</td>\n      <td>574138</td>\n      <td>23234</td>\n      <td>2011</td>\n      <td>11</td>\n      <td>4</td>\n      <td>11</td>\n      <td>biscuit tin vintage christmas</td>\n      <td>216</td>\n      <td>2011-11-03 11:26:00</td>\n      <td>0.0</td>\n      <td>12415</td>\n      <td>Australia</td>\n      <td>0.0</td>\n    </tr>\n    <tr>\n      <th>320049</th>\n      <td>436597</td>\n      <td>574175</td>\n      <td>22065</td>\n      <td>2011</td>\n      <td>11</td>\n      <td>4</td>\n      <td>11</td>\n      <td>christmas pudding trinket pot</td>\n      <td>12</td>\n      <td>2011-11-03 11:47:00</td>\n      <td>0.0</td>\n      <td>14110</td>\n      <td>United Kingdom</td>\n      <td>0.0</td>\n    </tr>\n    <tr>\n      <th>320407</th>\n      <td>436961</td>\n      <td>574252</td>\n      <td>M</td>\n      <td>2011</td>\n      <td>11</td>\n      <td>4</td>\n      <td>13</td>\n      <td>manual</td>\n      <td>1</td>\n      <td>2011-11-03 13:24:00</td>\n      <td>0.0</td>\n      <td>12437</td>\n      <td>France</td>\n      <td>0.0</td>\n    </tr>\n    <tr>\n      <th>322279</th>\n      <td>439361</td>\n      <td>574469</td>\n      <td>22385</td>\n      <td>2011</td>\n      <td>11</td>\n      <td>5</td>\n      <td>11</td>\n      <td>jumbo bag spaceboy design</td>\n      <td>12</td>\n      <td>2011-11-04 11:55:00</td>\n      <td>0.0</td>\n      <td>12431</td>\n      <td>Australia</td>\n      <td>0.0</td>\n    </tr>\n    <tr>\n      <th>328385</th>\n      <td>446125</td>\n      <td>574879</td>\n      <td>22625</td>\n      <td>2011</td>\n      <td>11</td>\n      <td>1</td>\n      <td>13</td>\n      <td>red kitchen scales</td>\n      <td>2</td>\n      <td>2011-11-07 13:22:00</td>\n      <td>0.0</td>\n      <td>13014</td>\n      <td>United Kingdom</td>\n      <td>0.0</td>\n    </tr>\n    <tr>\n      <th>329006</th>\n      <td>446793</td>\n      <td>574920</td>\n      <td>22899</td>\n      <td>2011</td>\n      <td>11</td>\n      <td>1</td>\n      <td>16</td>\n      <td>children's apron dolly girl</td>\n      <td>1</td>\n      <td>2011-11-07 16:34:00</td>\n      <td>0.0</td>\n      <td>13985</td>\n      <td>United Kingdom</td>\n      <td>0.0</td>\n    </tr>\n    <tr>\n      <th>329007</th>\n      <td>446794</td>\n      <td>574920</td>\n      <td>23480</td>\n      <td>2011</td>\n      <td>11</td>\n      <td>1</td>\n      <td>16</td>\n      <td>mini lights woodland mushrooms</td>\n      <td>1</td>\n      <td>2011-11-07 16:34:00</td>\n      <td>0.0</td>\n      <td>13985</td>\n      <td>United Kingdom</td>\n      <td>0.0</td>\n    </tr>\n    <tr>\n      <th>334242</th>\n      <td>454463</td>\n      <td>575579</td>\n      <td>22437</td>\n      <td>2011</td>\n      <td>11</td>\n      <td>4</td>\n      <td>11</td>\n      <td>set of 9 black skull balloons</td>\n      <td>20</td>\n      <td>2011-11-10 11:49:00</td>\n      <td>0.0</td>\n      <td>13081</td>\n      <td>United Kingdom</td>\n      <td>0.0</td>\n    </tr>\n    <tr>\n      <th>334243</th>\n      <td>454464</td>\n      <td>575579</td>\n      <td>22089</td>\n      <td>2011</td>\n      <td>11</td>\n      <td>4</td>\n      <td>11</td>\n      <td>paper bunting vintage paisley</td>\n      <td>24</td>\n      <td>2011-11-10 11:49:00</td>\n      <td>0.0</td>\n      <td>13081</td>\n      <td>United Kingdom</td>\n      <td>0.0</td>\n    </tr>\n    <tr>\n      <th>352746</th>\n      <td>479079</td>\n      <td>577129</td>\n      <td>22464</td>\n      <td>2011</td>\n      <td>11</td>\n      <td>4</td>\n      <td>19</td>\n      <td>hanging metal heart lantern</td>\n      <td>4</td>\n      <td>2011-11-17 19:52:00</td>\n      <td>0.0</td>\n      <td>15602</td>\n      <td>United Kingdom</td>\n      <td>0.0</td>\n    </tr>\n    <tr>\n      <th>353097</th>\n      <td>479546</td>\n      <td>577168</td>\n      <td>M</td>\n      <td>2011</td>\n      <td>11</td>\n      <td>5</td>\n      <td>10</td>\n      <td>manual</td>\n      <td>1</td>\n      <td>2011-11-18 10:42:00</td>\n      <td>0.0</td>\n      <td>12603</td>\n      <td>Germany</td>\n      <td>0.0</td>\n    </tr>\n    <tr>\n      <th>354170</th>\n      <td>480649</td>\n      <td>577314</td>\n      <td>23407</td>\n      <td>2011</td>\n      <td>11</td>\n      <td>5</td>\n      <td>13</td>\n      <td>set of 2 trays home sweet home</td>\n      <td>2</td>\n      <td>2011-11-18 13:23:00</td>\n      <td>0.0</td>\n      <td>12444</td>\n      <td>Norway</td>\n      <td>0.0</td>\n    </tr>\n    <tr>\n      <th>358629</th>\n      <td>485985</td>\n      <td>577696</td>\n      <td>M</td>\n      <td>2011</td>\n      <td>11</td>\n      <td>1</td>\n      <td>11</td>\n      <td>manual</td>\n      <td>1</td>\n      <td>2011-11-21 11:57:00</td>\n      <td>0.0</td>\n      <td>16406</td>\n      <td>United Kingdom</td>\n      <td>0.0</td>\n    </tr>\n    <tr>\n      <th>370473</th>\n      <td>502122</td>\n      <td>578841</td>\n      <td>84826</td>\n      <td>2011</td>\n      <td>11</td>\n      <td>5</td>\n      <td>15</td>\n      <td>asstd design 3d paper stickers</td>\n      <td>12540</td>\n      <td>2011-11-25 15:57:00</td>\n      <td>0.0</td>\n      <td>13256</td>\n      <td>United Kingdom</td>\n      <td>0.0</td>\n    </tr>\n  </tbody>\n</table>\n</div>"
     },
     "metadata": {},
     "execution_count": 41
    }
   ],
   "source": [
    "# your code here\n",
    "\n",
    "free = orders[orders['UnitPrice'] == 0]\n",
    "\n",
    "free"
   ]
  },
  {
   "cell_type": "markdown",
   "metadata": {},
   "source": [
    "#### Select all orders whose description starts with `lunch bag`.\n",
    "**Hint**: use string functions."
   ]
  },
  {
   "cell_type": "code",
   "execution_count": 42,
   "metadata": {},
   "outputs": [
    {
     "output_type": "execute_result",
     "data": {
      "text/plain": "        Unnamed: 0  InvoiceNo StockCode  year  month  day  hour  \\\n93              93     536378     20725  2010     12    3     9   \n172            174     536385     22662  2010     12    3     9   \n354            363     536401     22662  2010     12    3    11   \n359            368     536401     20725  2010     12    3    11   \n360            369     536401     22382  2010     12    3    11   \n...            ...        ...       ...   ...    ...  ...   ...   \n397465      540436     581486     23207  2011     12    5     9   \n397713      541695     581538     20727  2011     12    5    11   \n397714      541696     581538     20725  2011     12    5    11   \n397877      541862     581581     23681  2011     12    5    12   \n397880      541865     581583     20725  2011     12    5    12   \n\n                        Description  Quantity          InvoiceDate  UnitPrice  \\\n93          lunch bag red retrospot        10  2010-12-01 09:37:00       1.65   \n172     lunch bag dolly girl design        10  2010-12-01 09:56:00       1.65   \n354     lunch bag dolly girl design         1  2010-12-01 11:21:00       1.65   \n359         lunch bag red retrospot         1  2010-12-01 11:21:00       1.65   \n360      lunch bag spaceboy design          2  2010-12-01 11:21:00       1.65   \n...                             ...       ...                  ...        ...   \n397465    lunch bag alphabet design        10  2011-12-09 09:38:00       1.65   \n397713      lunch bag  black skull.         1  2011-12-09 11:34:00       1.65   \n397714      lunch bag red retrospot         1  2011-12-09 11:34:00       1.65   \n397877  lunch bag red vintage doily        10  2011-12-09 12:20:00       1.65   \n397880      lunch bag red retrospot        40  2011-12-09 12:23:00       1.45   \n\n        CustomerID         Country  amount_spent  \n93           14688  United Kingdom         16.50  \n172          17420  United Kingdom         16.50  \n354          15862  United Kingdom          1.65  \n359          15862  United Kingdom          1.65  \n360          15862  United Kingdom          3.30  \n...            ...             ...           ...  \n397465       17001  United Kingdom         16.50  \n397713       14446  United Kingdom          1.65  \n397714       14446  United Kingdom          1.65  \n397877       17581  United Kingdom         16.50  \n397880       13777  United Kingdom         58.00  \n\n[11556 rows x 14 columns]",
      "text/html": "<div>\n<style scoped>\n    .dataframe tbody tr th:only-of-type {\n        vertical-align: middle;\n    }\n\n    .dataframe tbody tr th {\n        vertical-align: top;\n    }\n\n    .dataframe thead th {\n        text-align: right;\n    }\n</style>\n<table border=\"1\" class=\"dataframe\">\n  <thead>\n    <tr style=\"text-align: right;\">\n      <th></th>\n      <th>Unnamed: 0</th>\n      <th>InvoiceNo</th>\n      <th>StockCode</th>\n      <th>year</th>\n      <th>month</th>\n      <th>day</th>\n      <th>hour</th>\n      <th>Description</th>\n      <th>Quantity</th>\n      <th>InvoiceDate</th>\n      <th>UnitPrice</th>\n      <th>CustomerID</th>\n      <th>Country</th>\n      <th>amount_spent</th>\n    </tr>\n  </thead>\n  <tbody>\n    <tr>\n      <th>93</th>\n      <td>93</td>\n      <td>536378</td>\n      <td>20725</td>\n      <td>2010</td>\n      <td>12</td>\n      <td>3</td>\n      <td>9</td>\n      <td>lunch bag red retrospot</td>\n      <td>10</td>\n      <td>2010-12-01 09:37:00</td>\n      <td>1.65</td>\n      <td>14688</td>\n      <td>United Kingdom</td>\n      <td>16.50</td>\n    </tr>\n    <tr>\n      <th>172</th>\n      <td>174</td>\n      <td>536385</td>\n      <td>22662</td>\n      <td>2010</td>\n      <td>12</td>\n      <td>3</td>\n      <td>9</td>\n      <td>lunch bag dolly girl design</td>\n      <td>10</td>\n      <td>2010-12-01 09:56:00</td>\n      <td>1.65</td>\n      <td>17420</td>\n      <td>United Kingdom</td>\n      <td>16.50</td>\n    </tr>\n    <tr>\n      <th>354</th>\n      <td>363</td>\n      <td>536401</td>\n      <td>22662</td>\n      <td>2010</td>\n      <td>12</td>\n      <td>3</td>\n      <td>11</td>\n      <td>lunch bag dolly girl design</td>\n      <td>1</td>\n      <td>2010-12-01 11:21:00</td>\n      <td>1.65</td>\n      <td>15862</td>\n      <td>United Kingdom</td>\n      <td>1.65</td>\n    </tr>\n    <tr>\n      <th>359</th>\n      <td>368</td>\n      <td>536401</td>\n      <td>20725</td>\n      <td>2010</td>\n      <td>12</td>\n      <td>3</td>\n      <td>11</td>\n      <td>lunch bag red retrospot</td>\n      <td>1</td>\n      <td>2010-12-01 11:21:00</td>\n      <td>1.65</td>\n      <td>15862</td>\n      <td>United Kingdom</td>\n      <td>1.65</td>\n    </tr>\n    <tr>\n      <th>360</th>\n      <td>369</td>\n      <td>536401</td>\n      <td>22382</td>\n      <td>2010</td>\n      <td>12</td>\n      <td>3</td>\n      <td>11</td>\n      <td>lunch bag spaceboy design</td>\n      <td>2</td>\n      <td>2010-12-01 11:21:00</td>\n      <td>1.65</td>\n      <td>15862</td>\n      <td>United Kingdom</td>\n      <td>3.30</td>\n    </tr>\n    <tr>\n      <th>...</th>\n      <td>...</td>\n      <td>...</td>\n      <td>...</td>\n      <td>...</td>\n      <td>...</td>\n      <td>...</td>\n      <td>...</td>\n      <td>...</td>\n      <td>...</td>\n      <td>...</td>\n      <td>...</td>\n      <td>...</td>\n      <td>...</td>\n      <td>...</td>\n    </tr>\n    <tr>\n      <th>397465</th>\n      <td>540436</td>\n      <td>581486</td>\n      <td>23207</td>\n      <td>2011</td>\n      <td>12</td>\n      <td>5</td>\n      <td>9</td>\n      <td>lunch bag alphabet design</td>\n      <td>10</td>\n      <td>2011-12-09 09:38:00</td>\n      <td>1.65</td>\n      <td>17001</td>\n      <td>United Kingdom</td>\n      <td>16.50</td>\n    </tr>\n    <tr>\n      <th>397713</th>\n      <td>541695</td>\n      <td>581538</td>\n      <td>20727</td>\n      <td>2011</td>\n      <td>12</td>\n      <td>5</td>\n      <td>11</td>\n      <td>lunch bag  black skull.</td>\n      <td>1</td>\n      <td>2011-12-09 11:34:00</td>\n      <td>1.65</td>\n      <td>14446</td>\n      <td>United Kingdom</td>\n      <td>1.65</td>\n    </tr>\n    <tr>\n      <th>397714</th>\n      <td>541696</td>\n      <td>581538</td>\n      <td>20725</td>\n      <td>2011</td>\n      <td>12</td>\n      <td>5</td>\n      <td>11</td>\n      <td>lunch bag red retrospot</td>\n      <td>1</td>\n      <td>2011-12-09 11:34:00</td>\n      <td>1.65</td>\n      <td>14446</td>\n      <td>United Kingdom</td>\n      <td>1.65</td>\n    </tr>\n    <tr>\n      <th>397877</th>\n      <td>541862</td>\n      <td>581581</td>\n      <td>23681</td>\n      <td>2011</td>\n      <td>12</td>\n      <td>5</td>\n      <td>12</td>\n      <td>lunch bag red vintage doily</td>\n      <td>10</td>\n      <td>2011-12-09 12:20:00</td>\n      <td>1.65</td>\n      <td>17581</td>\n      <td>United Kingdom</td>\n      <td>16.50</td>\n    </tr>\n    <tr>\n      <th>397880</th>\n      <td>541865</td>\n      <td>581583</td>\n      <td>20725</td>\n      <td>2011</td>\n      <td>12</td>\n      <td>5</td>\n      <td>12</td>\n      <td>lunch bag red retrospot</td>\n      <td>40</td>\n      <td>2011-12-09 12:23:00</td>\n      <td>1.45</td>\n      <td>13777</td>\n      <td>United Kingdom</td>\n      <td>58.00</td>\n    </tr>\n  </tbody>\n</table>\n<p>11556 rows × 14 columns</p>\n</div>"
     },
     "metadata": {},
     "execution_count": 42
    }
   ],
   "source": [
    "# your code here\n",
    "\n",
    "lunch_bag = orders[orders['Description'].str.startswith('lunch bag')]\n",
    "\n",
    "lunch_bag"
   ]
  },
  {
   "cell_type": "markdown",
   "metadata": {},
   "source": [
    "#### Select all `lunch bag` orders made in 2011."
   ]
  },
  {
   "cell_type": "code",
   "execution_count": 43,
   "metadata": {},
   "outputs": [
    {
     "output_type": "execute_result",
     "data": {
      "text/plain": "        Unnamed: 0  InvoiceNo StockCode  year  month  day  hour  \\\n26340        42678     540015     20725  2011      1    2    11   \n26341        42679     540015     20726  2011      1    2    11   \n26512        42851     540023     22382  2011      1    2    12   \n26513        42852     540023     20726  2011      1    2    12   \n26860        43616     540098     22384  2011      1    2    15   \n...            ...        ...       ...   ...    ...  ...   ...   \n397465      540436     581486     23207  2011     12    5     9   \n397713      541695     581538     20727  2011     12    5    11   \n397714      541696     581538     20725  2011     12    5    11   \n397877      541862     581581     23681  2011     12    5    12   \n397880      541865     581583     20725  2011     12    5    12   \n\n                        Description  Quantity          InvoiceDate  UnitPrice  \\\n26340       lunch bag red retrospot        10  2011-01-04 11:40:00       1.65   \n26341            lunch bag woodland        10  2011-01-04 11:40:00       1.65   \n26512    lunch bag spaceboy design          2  2011-01-04 12:58:00       1.65   \n26513            lunch bag woodland         1  2011-01-04 12:58:00       1.65   \n26860       lunch bag pink polkadot         1  2011-01-04 15:50:00       1.65   \n...                             ...       ...                  ...        ...   \n397465    lunch bag alphabet design        10  2011-12-09 09:38:00       1.65   \n397713      lunch bag  black skull.         1  2011-12-09 11:34:00       1.65   \n397714      lunch bag red retrospot         1  2011-12-09 11:34:00       1.65   \n397877  lunch bag red vintage doily        10  2011-12-09 12:20:00       1.65   \n397880      lunch bag red retrospot        40  2011-12-09 12:23:00       1.45   \n\n        CustomerID         Country  amount_spent  \n26340        13319  United Kingdom         16.50  \n26341        13319  United Kingdom         16.50  \n26512        15039  United Kingdom          3.30  \n26513        15039  United Kingdom          1.65  \n26860        16241  United Kingdom          1.65  \n...            ...             ...           ...  \n397465       17001  United Kingdom         16.50  \n397713       14446  United Kingdom          1.65  \n397714       14446  United Kingdom          1.65  \n397877       17581  United Kingdom         16.50  \n397880       13777  United Kingdom         58.00  \n\n[11234 rows x 14 columns]",
      "text/html": "<div>\n<style scoped>\n    .dataframe tbody tr th:only-of-type {\n        vertical-align: middle;\n    }\n\n    .dataframe tbody tr th {\n        vertical-align: top;\n    }\n\n    .dataframe thead th {\n        text-align: right;\n    }\n</style>\n<table border=\"1\" class=\"dataframe\">\n  <thead>\n    <tr style=\"text-align: right;\">\n      <th></th>\n      <th>Unnamed: 0</th>\n      <th>InvoiceNo</th>\n      <th>StockCode</th>\n      <th>year</th>\n      <th>month</th>\n      <th>day</th>\n      <th>hour</th>\n      <th>Description</th>\n      <th>Quantity</th>\n      <th>InvoiceDate</th>\n      <th>UnitPrice</th>\n      <th>CustomerID</th>\n      <th>Country</th>\n      <th>amount_spent</th>\n    </tr>\n  </thead>\n  <tbody>\n    <tr>\n      <th>26340</th>\n      <td>42678</td>\n      <td>540015</td>\n      <td>20725</td>\n      <td>2011</td>\n      <td>1</td>\n      <td>2</td>\n      <td>11</td>\n      <td>lunch bag red retrospot</td>\n      <td>10</td>\n      <td>2011-01-04 11:40:00</td>\n      <td>1.65</td>\n      <td>13319</td>\n      <td>United Kingdom</td>\n      <td>16.50</td>\n    </tr>\n    <tr>\n      <th>26341</th>\n      <td>42679</td>\n      <td>540015</td>\n      <td>20726</td>\n      <td>2011</td>\n      <td>1</td>\n      <td>2</td>\n      <td>11</td>\n      <td>lunch bag woodland</td>\n      <td>10</td>\n      <td>2011-01-04 11:40:00</td>\n      <td>1.65</td>\n      <td>13319</td>\n      <td>United Kingdom</td>\n      <td>16.50</td>\n    </tr>\n    <tr>\n      <th>26512</th>\n      <td>42851</td>\n      <td>540023</td>\n      <td>22382</td>\n      <td>2011</td>\n      <td>1</td>\n      <td>2</td>\n      <td>12</td>\n      <td>lunch bag spaceboy design</td>\n      <td>2</td>\n      <td>2011-01-04 12:58:00</td>\n      <td>1.65</td>\n      <td>15039</td>\n      <td>United Kingdom</td>\n      <td>3.30</td>\n    </tr>\n    <tr>\n      <th>26513</th>\n      <td>42852</td>\n      <td>540023</td>\n      <td>20726</td>\n      <td>2011</td>\n      <td>1</td>\n      <td>2</td>\n      <td>12</td>\n      <td>lunch bag woodland</td>\n      <td>1</td>\n      <td>2011-01-04 12:58:00</td>\n      <td>1.65</td>\n      <td>15039</td>\n      <td>United Kingdom</td>\n      <td>1.65</td>\n    </tr>\n    <tr>\n      <th>26860</th>\n      <td>43616</td>\n      <td>540098</td>\n      <td>22384</td>\n      <td>2011</td>\n      <td>1</td>\n      <td>2</td>\n      <td>15</td>\n      <td>lunch bag pink polkadot</td>\n      <td>1</td>\n      <td>2011-01-04 15:50:00</td>\n      <td>1.65</td>\n      <td>16241</td>\n      <td>United Kingdom</td>\n      <td>1.65</td>\n    </tr>\n    <tr>\n      <th>...</th>\n      <td>...</td>\n      <td>...</td>\n      <td>...</td>\n      <td>...</td>\n      <td>...</td>\n      <td>...</td>\n      <td>...</td>\n      <td>...</td>\n      <td>...</td>\n      <td>...</td>\n      <td>...</td>\n      <td>...</td>\n      <td>...</td>\n      <td>...</td>\n    </tr>\n    <tr>\n      <th>397465</th>\n      <td>540436</td>\n      <td>581486</td>\n      <td>23207</td>\n      <td>2011</td>\n      <td>12</td>\n      <td>5</td>\n      <td>9</td>\n      <td>lunch bag alphabet design</td>\n      <td>10</td>\n      <td>2011-12-09 09:38:00</td>\n      <td>1.65</td>\n      <td>17001</td>\n      <td>United Kingdom</td>\n      <td>16.50</td>\n    </tr>\n    <tr>\n      <th>397713</th>\n      <td>541695</td>\n      <td>581538</td>\n      <td>20727</td>\n      <td>2011</td>\n      <td>12</td>\n      <td>5</td>\n      <td>11</td>\n      <td>lunch bag  black skull.</td>\n      <td>1</td>\n      <td>2011-12-09 11:34:00</td>\n      <td>1.65</td>\n      <td>14446</td>\n      <td>United Kingdom</td>\n      <td>1.65</td>\n    </tr>\n    <tr>\n      <th>397714</th>\n      <td>541696</td>\n      <td>581538</td>\n      <td>20725</td>\n      <td>2011</td>\n      <td>12</td>\n      <td>5</td>\n      <td>11</td>\n      <td>lunch bag red retrospot</td>\n      <td>1</td>\n      <td>2011-12-09 11:34:00</td>\n      <td>1.65</td>\n      <td>14446</td>\n      <td>United Kingdom</td>\n      <td>1.65</td>\n    </tr>\n    <tr>\n      <th>397877</th>\n      <td>541862</td>\n      <td>581581</td>\n      <td>23681</td>\n      <td>2011</td>\n      <td>12</td>\n      <td>5</td>\n      <td>12</td>\n      <td>lunch bag red vintage doily</td>\n      <td>10</td>\n      <td>2011-12-09 12:20:00</td>\n      <td>1.65</td>\n      <td>17581</td>\n      <td>United Kingdom</td>\n      <td>16.50</td>\n    </tr>\n    <tr>\n      <th>397880</th>\n      <td>541865</td>\n      <td>581583</td>\n      <td>20725</td>\n      <td>2011</td>\n      <td>12</td>\n      <td>5</td>\n      <td>12</td>\n      <td>lunch bag red retrospot</td>\n      <td>40</td>\n      <td>2011-12-09 12:23:00</td>\n      <td>1.45</td>\n      <td>13777</td>\n      <td>United Kingdom</td>\n      <td>58.00</td>\n    </tr>\n  </tbody>\n</table>\n<p>11234 rows × 14 columns</p>\n</div>"
     },
     "metadata": {},
     "execution_count": 43
    }
   ],
   "source": [
    "# your code here\n",
    "\n",
    "\n",
    "lunch_bag2 = lunch_bag[lunch_bag['year'] == 2011]\n",
    "\n",
    "\n",
    "lunch_bag2"
   ]
  },
  {
   "cell_type": "markdown",
   "metadata": {},
   "source": [
    "#### Show the frequency distribution of the amount spent in Spain."
   ]
  },
  {
   "cell_type": "code",
   "execution_count": 44,
   "metadata": {},
   "outputs": [
    {
     "output_type": "display_data",
     "data": {
      "text/plain": "<Figure size 1440x720 with 1 Axes>",
      "image/svg+xml": "<?xml version=\"1.0\" encoding=\"utf-8\" standalone=\"no\"?>\n<!DOCTYPE svg PUBLIC \"-//W3C//DTD SVG 1.1//EN\"\n  \"http://www.w3.org/Graphics/SVG/1.1/DTD/svg11.dtd\">\n<!-- Created with matplotlib (https://matplotlib.org/) -->\n<svg height=\"574.678125pt\" version=\"1.1\" viewBox=\"0 0 1162.85 574.678125\" width=\"1162.85pt\" xmlns=\"http://www.w3.org/2000/svg\" xmlns:xlink=\"http://www.w3.org/1999/xlink\">\n <metadata>\n  <rdf:RDF xmlns:cc=\"http://creativecommons.org/ns#\" xmlns:dc=\"http://purl.org/dc/elements/1.1/\" xmlns:rdf=\"http://www.w3.org/1999/02/22-rdf-syntax-ns#\">\n   <cc:Work>\n    <dc:type rdf:resource=\"http://purl.org/dc/dcmitype/StillImage\"/>\n    <dc:date>2020-08-18T16:51:33.272215</dc:date>\n    <dc:format>image/svg+xml</dc:format>\n    <dc:creator>\n     <cc:Agent>\n      <dc:title>Matplotlib v3.3.0, https://matplotlib.org/</dc:title>\n     </cc:Agent>\n    </dc:creator>\n   </cc:Work>\n  </rdf:RDF>\n </metadata>\n <defs>\n  <style type=\"text/css\">*{stroke-linecap:butt;stroke-linejoin:round;}</style>\n </defs>\n <g id=\"figure_1\">\n  <g id=\"patch_1\">\n   <path d=\"M 0 574.678125 \nL 1162.85 574.678125 \nL 1162.85 0 \nL 0 0 \nz\n\" style=\"fill:none;\"/>\n  </g>\n  <g id=\"axes_1\">\n   <g id=\"patch_2\">\n    <path d=\"M 39.65 550.8 \nL 1155.65 550.8 \nL 1155.65 7.2 \nL 39.65 7.2 \nz\n\" style=\"fill:#ffffff;\"/>\n   </g>\n   <g id=\"patch_3\">\n    <path clip-path=\"url(#p58e908b770)\" d=\"M 90.377273 550.8 \nL 191.831818 550.8 \nL 191.831818 33.085714 \nL 90.377273 33.085714 \nz\n\" style=\"fill:#1f77b4;\"/>\n   </g>\n   <g id=\"patch_4\">\n    <path clip-path=\"url(#p58e908b770)\" d=\"M 191.831818 550.8 \nL 293.286364 550.8 \nL 293.286364 542.484161 \nL 191.831818 542.484161 \nz\n\" style=\"fill:#1f77b4;\"/>\n   </g>\n   <g id=\"patch_5\">\n    <path clip-path=\"url(#p58e908b770)\" d=\"M 293.286364 550.8 \nL 394.740909 550.8 \nL 394.740909 548.88096 \nL 293.286364 548.88096 \nz\n\" style=\"fill:#1f77b4;\"/>\n   </g>\n   <g id=\"patch_6\">\n    <path clip-path=\"url(#p58e908b770)\" d=\"M 394.740909 550.8 \nL 496.195455 550.8 \nL 496.195455 550.16032 \nL 394.740909 550.16032 \nz\n\" style=\"fill:#1f77b4;\"/>\n   </g>\n   <g id=\"patch_7\">\n    <path clip-path=\"url(#p58e908b770)\" d=\"M 496.195455 550.8 \nL 597.65 550.8 \nL 597.65 550.8 \nL 496.195455 550.8 \nz\n\" style=\"fill:#1f77b4;\"/>\n   </g>\n   <g id=\"patch_8\">\n    <path clip-path=\"url(#p58e908b770)\" d=\"M 597.65 550.8 \nL 699.104545 550.8 \nL 699.104545 550.8 \nL 597.65 550.8 \nz\n\" style=\"fill:#1f77b4;\"/>\n   </g>\n   <g id=\"patch_9\">\n    <path clip-path=\"url(#p58e908b770)\" d=\"M 699.104545 550.8 \nL 800.559091 550.8 \nL 800.559091 550.8 \nL 699.104545 550.8 \nz\n\" style=\"fill:#1f77b4;\"/>\n   </g>\n   <g id=\"patch_10\">\n    <path clip-path=\"url(#p58e908b770)\" d=\"M 800.559091 550.8 \nL 902.013636 550.8 \nL 902.013636 550.8 \nL 800.559091 550.8 \nz\n\" style=\"fill:#1f77b4;\"/>\n   </g>\n   <g id=\"patch_11\">\n    <path clip-path=\"url(#p58e908b770)\" d=\"M 902.013636 550.8 \nL 1003.468182 550.8 \nL 1003.468182 550.586773 \nL 902.013636 550.586773 \nz\n\" style=\"fill:#1f77b4;\"/>\n   </g>\n   <g id=\"patch_12\">\n    <path clip-path=\"url(#p58e908b770)\" d=\"M 1003.468182 550.8 \nL 1104.922727 550.8 \nL 1104.922727 549.733867 \nL 1003.468182 549.733867 \nz\n\" style=\"fill:#1f77b4;\"/>\n   </g>\n   <g id=\"matplotlib.axis_1\">\n    <g id=\"xtick_1\">\n     <g id=\"line2d_1\">\n      <path clip-path=\"url(#p58e908b770)\" d=\"M 90.377273 550.8 \nL 90.377273 7.2 \n\" style=\"fill:none;stroke:#b0b0b0;stroke-linecap:square;stroke-width:0.8;\"/>\n     </g>\n     <g id=\"line2d_2\">\n      <defs>\n       <path d=\"M 0 0 \nL 0 3.5 \n\" id=\"m867b31a7ac\" style=\"stroke:#000000;stroke-width:0.8;\"/>\n      </defs>\n      <g>\n       <use style=\"stroke:#000000;stroke-width:0.8;\" x=\"90.377273\" xlink:href=\"#m867b31a7ac\" y=\"550.8\"/>\n      </g>\n     </g>\n     <g id=\"text_1\">\n      <!-- 0 -->\n      <g transform=\"translate(87.196023 565.398438)scale(0.1 -0.1)\">\n       <defs>\n        <path d=\"M 31.78125 66.40625 \nQ 24.171875 66.40625 20.328125 58.90625 \nQ 16.5 51.421875 16.5 36.375 \nQ 16.5 21.390625 20.328125 13.890625 \nQ 24.171875 6.390625 31.78125 6.390625 \nQ 39.453125 6.390625 43.28125 13.890625 \nQ 47.125 21.390625 47.125 36.375 \nQ 47.125 51.421875 43.28125 58.90625 \nQ 39.453125 66.40625 31.78125 66.40625 \nz\nM 31.78125 74.21875 \nQ 44.046875 74.21875 50.515625 64.515625 \nQ 56.984375 54.828125 56.984375 36.375 \nQ 56.984375 17.96875 50.515625 8.265625 \nQ 44.046875 -1.421875 31.78125 -1.421875 \nQ 19.53125 -1.421875 13.0625 8.265625 \nQ 6.59375 17.96875 6.59375 36.375 \nQ 6.59375 54.828125 13.0625 64.515625 \nQ 19.53125 74.21875 31.78125 74.21875 \nz\n\" id=\"DejaVuSans-48\"/>\n       </defs>\n       <use xlink:href=\"#DejaVuSans-48\"/>\n      </g>\n     </g>\n    </g>\n    <g id=\"xtick_2\">\n     <g id=\"line2d_3\">\n      <path clip-path=\"url(#p58e908b770)\" d=\"M 240.680303 550.8 \nL 240.680303 7.2 \n\" style=\"fill:none;stroke:#b0b0b0;stroke-linecap:square;stroke-width:0.8;\"/>\n     </g>\n     <g id=\"line2d_4\">\n      <g>\n       <use style=\"stroke:#000000;stroke-width:0.8;\" x=\"240.680303\" xlink:href=\"#m867b31a7ac\" y=\"550.8\"/>\n      </g>\n     </g>\n     <g id=\"text_2\">\n      <!-- 200 -->\n      <g transform=\"translate(231.136553 565.398438)scale(0.1 -0.1)\">\n       <defs>\n        <path d=\"M 19.1875 8.296875 \nL 53.609375 8.296875 \nL 53.609375 0 \nL 7.328125 0 \nL 7.328125 8.296875 \nQ 12.9375 14.109375 22.625 23.890625 \nQ 32.328125 33.6875 34.8125 36.53125 \nQ 39.546875 41.84375 41.421875 45.53125 \nQ 43.3125 49.21875 43.3125 52.78125 \nQ 43.3125 58.59375 39.234375 62.25 \nQ 35.15625 65.921875 28.609375 65.921875 \nQ 23.96875 65.921875 18.8125 64.3125 \nQ 13.671875 62.703125 7.8125 59.421875 \nL 7.8125 69.390625 \nQ 13.765625 71.78125 18.9375 73 \nQ 24.125 74.21875 28.421875 74.21875 \nQ 39.75 74.21875 46.484375 68.546875 \nQ 53.21875 62.890625 53.21875 53.421875 \nQ 53.21875 48.921875 51.53125 44.890625 \nQ 49.859375 40.875 45.40625 35.40625 \nQ 44.1875 33.984375 37.640625 27.21875 \nQ 31.109375 20.453125 19.1875 8.296875 \nz\n\" id=\"DejaVuSans-50\"/>\n       </defs>\n       <use xlink:href=\"#DejaVuSans-50\"/>\n       <use x=\"63.623047\" xlink:href=\"#DejaVuSans-48\"/>\n       <use x=\"127.246094\" xlink:href=\"#DejaVuSans-48\"/>\n      </g>\n     </g>\n    </g>\n    <g id=\"xtick_3\">\n     <g id=\"line2d_5\">\n      <path clip-path=\"url(#p58e908b770)\" d=\"M 390.983333 550.8 \nL 390.983333 7.2 \n\" style=\"fill:none;stroke:#b0b0b0;stroke-linecap:square;stroke-width:0.8;\"/>\n     </g>\n     <g id=\"line2d_6\">\n      <g>\n       <use style=\"stroke:#000000;stroke-width:0.8;\" x=\"390.983333\" xlink:href=\"#m867b31a7ac\" y=\"550.8\"/>\n      </g>\n     </g>\n     <g id=\"text_3\">\n      <!-- 400 -->\n      <g transform=\"translate(381.439583 565.398438)scale(0.1 -0.1)\">\n       <defs>\n        <path d=\"M 37.796875 64.3125 \nL 12.890625 25.390625 \nL 37.796875 25.390625 \nz\nM 35.203125 72.90625 \nL 47.609375 72.90625 \nL 47.609375 25.390625 \nL 58.015625 25.390625 \nL 58.015625 17.1875 \nL 47.609375 17.1875 \nL 47.609375 0 \nL 37.796875 0 \nL 37.796875 17.1875 \nL 4.890625 17.1875 \nL 4.890625 26.703125 \nz\n\" id=\"DejaVuSans-52\"/>\n       </defs>\n       <use xlink:href=\"#DejaVuSans-52\"/>\n       <use x=\"63.623047\" xlink:href=\"#DejaVuSans-48\"/>\n       <use x=\"127.246094\" xlink:href=\"#DejaVuSans-48\"/>\n      </g>\n     </g>\n    </g>\n    <g id=\"xtick_4\">\n     <g id=\"line2d_7\">\n      <path clip-path=\"url(#p58e908b770)\" d=\"M 541.286364 550.8 \nL 541.286364 7.2 \n\" style=\"fill:none;stroke:#b0b0b0;stroke-linecap:square;stroke-width:0.8;\"/>\n     </g>\n     <g id=\"line2d_8\">\n      <g>\n       <use style=\"stroke:#000000;stroke-width:0.8;\" x=\"541.286364\" xlink:href=\"#m867b31a7ac\" y=\"550.8\"/>\n      </g>\n     </g>\n     <g id=\"text_4\">\n      <!-- 600 -->\n      <g transform=\"translate(531.742614 565.398438)scale(0.1 -0.1)\">\n       <defs>\n        <path d=\"M 33.015625 40.375 \nQ 26.375 40.375 22.484375 35.828125 \nQ 18.609375 31.296875 18.609375 23.390625 \nQ 18.609375 15.53125 22.484375 10.953125 \nQ 26.375 6.390625 33.015625 6.390625 \nQ 39.65625 6.390625 43.53125 10.953125 \nQ 47.40625 15.53125 47.40625 23.390625 \nQ 47.40625 31.296875 43.53125 35.828125 \nQ 39.65625 40.375 33.015625 40.375 \nz\nM 52.59375 71.296875 \nL 52.59375 62.3125 \nQ 48.875 64.0625 45.09375 64.984375 \nQ 41.3125 65.921875 37.59375 65.921875 \nQ 27.828125 65.921875 22.671875 59.328125 \nQ 17.53125 52.734375 16.796875 39.40625 \nQ 19.671875 43.65625 24.015625 45.921875 \nQ 28.375 48.1875 33.59375 48.1875 \nQ 44.578125 48.1875 50.953125 41.515625 \nQ 57.328125 34.859375 57.328125 23.390625 \nQ 57.328125 12.15625 50.6875 5.359375 \nQ 44.046875 -1.421875 33.015625 -1.421875 \nQ 20.359375 -1.421875 13.671875 8.265625 \nQ 6.984375 17.96875 6.984375 36.375 \nQ 6.984375 53.65625 15.1875 63.9375 \nQ 23.390625 74.21875 37.203125 74.21875 \nQ 40.921875 74.21875 44.703125 73.484375 \nQ 48.484375 72.75 52.59375 71.296875 \nz\n\" id=\"DejaVuSans-54\"/>\n       </defs>\n       <use xlink:href=\"#DejaVuSans-54\"/>\n       <use x=\"63.623047\" xlink:href=\"#DejaVuSans-48\"/>\n       <use x=\"127.246094\" xlink:href=\"#DejaVuSans-48\"/>\n      </g>\n     </g>\n    </g>\n    <g id=\"xtick_5\">\n     <g id=\"line2d_9\">\n      <path clip-path=\"url(#p58e908b770)\" d=\"M 691.589394 550.8 \nL 691.589394 7.2 \n\" style=\"fill:none;stroke:#b0b0b0;stroke-linecap:square;stroke-width:0.8;\"/>\n     </g>\n     <g id=\"line2d_10\">\n      <g>\n       <use style=\"stroke:#000000;stroke-width:0.8;\" x=\"691.589394\" xlink:href=\"#m867b31a7ac\" y=\"550.8\"/>\n      </g>\n     </g>\n     <g id=\"text_5\">\n      <!-- 800 -->\n      <g transform=\"translate(682.045644 565.398438)scale(0.1 -0.1)\">\n       <defs>\n        <path d=\"M 31.78125 34.625 \nQ 24.75 34.625 20.71875 30.859375 \nQ 16.703125 27.09375 16.703125 20.515625 \nQ 16.703125 13.921875 20.71875 10.15625 \nQ 24.75 6.390625 31.78125 6.390625 \nQ 38.8125 6.390625 42.859375 10.171875 \nQ 46.921875 13.96875 46.921875 20.515625 \nQ 46.921875 27.09375 42.890625 30.859375 \nQ 38.875 34.625 31.78125 34.625 \nz\nM 21.921875 38.8125 \nQ 15.578125 40.375 12.03125 44.71875 \nQ 8.5 49.078125 8.5 55.328125 \nQ 8.5 64.0625 14.71875 69.140625 \nQ 20.953125 74.21875 31.78125 74.21875 \nQ 42.671875 74.21875 48.875 69.140625 \nQ 55.078125 64.0625 55.078125 55.328125 \nQ 55.078125 49.078125 51.53125 44.71875 \nQ 48 40.375 41.703125 38.8125 \nQ 48.828125 37.15625 52.796875 32.3125 \nQ 56.78125 27.484375 56.78125 20.515625 \nQ 56.78125 9.90625 50.3125 4.234375 \nQ 43.84375 -1.421875 31.78125 -1.421875 \nQ 19.734375 -1.421875 13.25 4.234375 \nQ 6.78125 9.90625 6.78125 20.515625 \nQ 6.78125 27.484375 10.78125 32.3125 \nQ 14.796875 37.15625 21.921875 38.8125 \nz\nM 18.3125 54.390625 \nQ 18.3125 48.734375 21.84375 45.5625 \nQ 25.390625 42.390625 31.78125 42.390625 \nQ 38.140625 42.390625 41.71875 45.5625 \nQ 45.3125 48.734375 45.3125 54.390625 \nQ 45.3125 60.0625 41.71875 63.234375 \nQ 38.140625 66.40625 31.78125 66.40625 \nQ 25.390625 66.40625 21.84375 63.234375 \nQ 18.3125 60.0625 18.3125 54.390625 \nz\n\" id=\"DejaVuSans-56\"/>\n       </defs>\n       <use xlink:href=\"#DejaVuSans-56\"/>\n       <use x=\"63.623047\" xlink:href=\"#DejaVuSans-48\"/>\n       <use x=\"127.246094\" xlink:href=\"#DejaVuSans-48\"/>\n      </g>\n     </g>\n    </g>\n    <g id=\"xtick_6\">\n     <g id=\"line2d_11\">\n      <path clip-path=\"url(#p58e908b770)\" d=\"M 841.892424 550.8 \nL 841.892424 7.2 \n\" style=\"fill:none;stroke:#b0b0b0;stroke-linecap:square;stroke-width:0.8;\"/>\n     </g>\n     <g id=\"line2d_12\">\n      <g>\n       <use style=\"stroke:#000000;stroke-width:0.8;\" x=\"841.892424\" xlink:href=\"#m867b31a7ac\" y=\"550.8\"/>\n      </g>\n     </g>\n     <g id=\"text_6\">\n      <!-- 1000 -->\n      <g transform=\"translate(829.167424 565.398438)scale(0.1 -0.1)\">\n       <defs>\n        <path d=\"M 12.40625 8.296875 \nL 28.515625 8.296875 \nL 28.515625 63.921875 \nL 10.984375 60.40625 \nL 10.984375 69.390625 \nL 28.421875 72.90625 \nL 38.28125 72.90625 \nL 38.28125 8.296875 \nL 54.390625 8.296875 \nL 54.390625 0 \nL 12.40625 0 \nz\n\" id=\"DejaVuSans-49\"/>\n       </defs>\n       <use xlink:href=\"#DejaVuSans-49\"/>\n       <use x=\"63.623047\" xlink:href=\"#DejaVuSans-48\"/>\n       <use x=\"127.246094\" xlink:href=\"#DejaVuSans-48\"/>\n       <use x=\"190.869141\" xlink:href=\"#DejaVuSans-48\"/>\n      </g>\n     </g>\n    </g>\n    <g id=\"xtick_7\">\n     <g id=\"line2d_13\">\n      <path clip-path=\"url(#p58e908b770)\" d=\"M 992.195455 550.8 \nL 992.195455 7.2 \n\" style=\"fill:none;stroke:#b0b0b0;stroke-linecap:square;stroke-width:0.8;\"/>\n     </g>\n     <g id=\"line2d_14\">\n      <g>\n       <use style=\"stroke:#000000;stroke-width:0.8;\" x=\"992.195455\" xlink:href=\"#m867b31a7ac\" y=\"550.8\"/>\n      </g>\n     </g>\n     <g id=\"text_7\">\n      <!-- 1200 -->\n      <g transform=\"translate(979.470455 565.398438)scale(0.1 -0.1)\">\n       <use xlink:href=\"#DejaVuSans-49\"/>\n       <use x=\"63.623047\" xlink:href=\"#DejaVuSans-50\"/>\n       <use x=\"127.246094\" xlink:href=\"#DejaVuSans-48\"/>\n       <use x=\"190.869141\" xlink:href=\"#DejaVuSans-48\"/>\n      </g>\n     </g>\n    </g>\n    <g id=\"xtick_8\">\n     <g id=\"line2d_15\">\n      <path clip-path=\"url(#p58e908b770)\" d=\"M 1142.498485 550.8 \nL 1142.498485 7.2 \n\" style=\"fill:none;stroke:#b0b0b0;stroke-linecap:square;stroke-width:0.8;\"/>\n     </g>\n     <g id=\"line2d_16\">\n      <g>\n       <use style=\"stroke:#000000;stroke-width:0.8;\" x=\"1142.498485\" xlink:href=\"#m867b31a7ac\" y=\"550.8\"/>\n      </g>\n     </g>\n     <g id=\"text_8\">\n      <!-- 1400 -->\n      <g transform=\"translate(1129.773485 565.398438)scale(0.1 -0.1)\">\n       <use xlink:href=\"#DejaVuSans-49\"/>\n       <use x=\"63.623047\" xlink:href=\"#DejaVuSans-52\"/>\n       <use x=\"127.246094\" xlink:href=\"#DejaVuSans-48\"/>\n       <use x=\"190.869141\" xlink:href=\"#DejaVuSans-48\"/>\n      </g>\n     </g>\n    </g>\n   </g>\n   <g id=\"matplotlib.axis_2\">\n    <g id=\"ytick_1\">\n     <g id=\"line2d_17\">\n      <path clip-path=\"url(#p58e908b770)\" d=\"M 39.65 550.8 \nL 1155.65 550.8 \n\" style=\"fill:none;stroke:#b0b0b0;stroke-linecap:square;stroke-width:0.8;\"/>\n     </g>\n     <g id=\"line2d_18\">\n      <defs>\n       <path d=\"M 0 0 \nL -3.5 0 \n\" id=\"m5740968f9e\" style=\"stroke:#000000;stroke-width:0.8;\"/>\n      </defs>\n      <g>\n       <use style=\"stroke:#000000;stroke-width:0.8;\" x=\"39.65\" xlink:href=\"#m5740968f9e\" y=\"550.8\"/>\n      </g>\n     </g>\n     <g id=\"text_9\">\n      <!-- 0 -->\n      <g transform=\"translate(26.2875 554.599219)scale(0.1 -0.1)\">\n       <use xlink:href=\"#DejaVuSans-48\"/>\n      </g>\n     </g>\n    </g>\n    <g id=\"ytick_2\">\n     <g id=\"line2d_19\">\n      <path clip-path=\"url(#p58e908b770)\" d=\"M 39.65 444.186679 \nL 1155.65 444.186679 \n\" style=\"fill:none;stroke:#b0b0b0;stroke-linecap:square;stroke-width:0.8;\"/>\n     </g>\n     <g id=\"line2d_20\">\n      <g>\n       <use style=\"stroke:#000000;stroke-width:0.8;\" x=\"39.65\" xlink:href=\"#m5740968f9e\" y=\"444.186679\"/>\n      </g>\n     </g>\n     <g id=\"text_10\">\n      <!-- 500 -->\n      <g transform=\"translate(13.5625 447.985898)scale(0.1 -0.1)\">\n       <defs>\n        <path d=\"M 10.796875 72.90625 \nL 49.515625 72.90625 \nL 49.515625 64.59375 \nL 19.828125 64.59375 \nL 19.828125 46.734375 \nQ 21.96875 47.46875 24.109375 47.828125 \nQ 26.265625 48.1875 28.421875 48.1875 \nQ 40.625 48.1875 47.75 41.5 \nQ 54.890625 34.8125 54.890625 23.390625 \nQ 54.890625 11.625 47.5625 5.09375 \nQ 40.234375 -1.421875 26.90625 -1.421875 \nQ 22.3125 -1.421875 17.546875 -0.640625 \nQ 12.796875 0.140625 7.71875 1.703125 \nL 7.71875 11.625 \nQ 12.109375 9.234375 16.796875 8.0625 \nQ 21.484375 6.890625 26.703125 6.890625 \nQ 35.15625 6.890625 40.078125 11.328125 \nQ 45.015625 15.765625 45.015625 23.390625 \nQ 45.015625 31 40.078125 35.4375 \nQ 35.15625 39.890625 26.703125 39.890625 \nQ 22.75 39.890625 18.8125 39.015625 \nQ 14.890625 38.140625 10.796875 36.28125 \nz\n\" id=\"DejaVuSans-53\"/>\n       </defs>\n       <use xlink:href=\"#DejaVuSans-53\"/>\n       <use x=\"63.623047\" xlink:href=\"#DejaVuSans-48\"/>\n       <use x=\"127.246094\" xlink:href=\"#DejaVuSans-48\"/>\n      </g>\n     </g>\n    </g>\n    <g id=\"ytick_3\">\n     <g id=\"line2d_21\">\n      <path clip-path=\"url(#p58e908b770)\" d=\"M 39.65 337.573358 \nL 1155.65 337.573358 \n\" style=\"fill:none;stroke:#b0b0b0;stroke-linecap:square;stroke-width:0.8;\"/>\n     </g>\n     <g id=\"line2d_22\">\n      <g>\n       <use style=\"stroke:#000000;stroke-width:0.8;\" x=\"39.65\" xlink:href=\"#m5740968f9e\" y=\"337.573358\"/>\n      </g>\n     </g>\n     <g id=\"text_11\">\n      <!-- 1000 -->\n      <g transform=\"translate(7.2 341.372577)scale(0.1 -0.1)\">\n       <use xlink:href=\"#DejaVuSans-49\"/>\n       <use x=\"63.623047\" xlink:href=\"#DejaVuSans-48\"/>\n       <use x=\"127.246094\" xlink:href=\"#DejaVuSans-48\"/>\n       <use x=\"190.869141\" xlink:href=\"#DejaVuSans-48\"/>\n      </g>\n     </g>\n    </g>\n    <g id=\"ytick_4\">\n     <g id=\"line2d_23\">\n      <path clip-path=\"url(#p58e908b770)\" d=\"M 39.65 230.960038 \nL 1155.65 230.960038 \n\" style=\"fill:none;stroke:#b0b0b0;stroke-linecap:square;stroke-width:0.8;\"/>\n     </g>\n     <g id=\"line2d_24\">\n      <g>\n       <use style=\"stroke:#000000;stroke-width:0.8;\" x=\"39.65\" xlink:href=\"#m5740968f9e\" y=\"230.960038\"/>\n      </g>\n     </g>\n     <g id=\"text_12\">\n      <!-- 1500 -->\n      <g transform=\"translate(7.2 234.759256)scale(0.1 -0.1)\">\n       <use xlink:href=\"#DejaVuSans-49\"/>\n       <use x=\"63.623047\" xlink:href=\"#DejaVuSans-53\"/>\n       <use x=\"127.246094\" xlink:href=\"#DejaVuSans-48\"/>\n       <use x=\"190.869141\" xlink:href=\"#DejaVuSans-48\"/>\n      </g>\n     </g>\n    </g>\n    <g id=\"ytick_5\">\n     <g id=\"line2d_25\">\n      <path clip-path=\"url(#p58e908b770)\" d=\"M 39.65 124.346717 \nL 1155.65 124.346717 \n\" style=\"fill:none;stroke:#b0b0b0;stroke-linecap:square;stroke-width:0.8;\"/>\n     </g>\n     <g id=\"line2d_26\">\n      <g>\n       <use style=\"stroke:#000000;stroke-width:0.8;\" x=\"39.65\" xlink:href=\"#m5740968f9e\" y=\"124.346717\"/>\n      </g>\n     </g>\n     <g id=\"text_13\">\n      <!-- 2000 -->\n      <g transform=\"translate(7.2 128.145936)scale(0.1 -0.1)\">\n       <use xlink:href=\"#DejaVuSans-50\"/>\n       <use x=\"63.623047\" xlink:href=\"#DejaVuSans-48\"/>\n       <use x=\"127.246094\" xlink:href=\"#DejaVuSans-48\"/>\n       <use x=\"190.869141\" xlink:href=\"#DejaVuSans-48\"/>\n      </g>\n     </g>\n    </g>\n    <g id=\"ytick_6\">\n     <g id=\"line2d_27\">\n      <path clip-path=\"url(#p58e908b770)\" d=\"M 39.65 17.733396 \nL 1155.65 17.733396 \n\" style=\"fill:none;stroke:#b0b0b0;stroke-linecap:square;stroke-width:0.8;\"/>\n     </g>\n     <g id=\"line2d_28\">\n      <g>\n       <use style=\"stroke:#000000;stroke-width:0.8;\" x=\"39.65\" xlink:href=\"#m5740968f9e\" y=\"17.733396\"/>\n      </g>\n     </g>\n     <g id=\"text_14\">\n      <!-- 2500 -->\n      <g transform=\"translate(7.2 21.532615)scale(0.1 -0.1)\">\n       <use xlink:href=\"#DejaVuSans-50\"/>\n       <use x=\"63.623047\" xlink:href=\"#DejaVuSans-53\"/>\n       <use x=\"127.246094\" xlink:href=\"#DejaVuSans-48\"/>\n       <use x=\"190.869141\" xlink:href=\"#DejaVuSans-48\"/>\n      </g>\n     </g>\n    </g>\n   </g>\n   <g id=\"patch_13\">\n    <path d=\"M 39.65 550.8 \nL 39.65 7.2 \n\" style=\"fill:none;stroke:#000000;stroke-linecap:square;stroke-linejoin:miter;stroke-width:0.8;\"/>\n   </g>\n   <g id=\"patch_14\">\n    <path d=\"M 1155.65 550.8 \nL 1155.65 7.2 \n\" style=\"fill:none;stroke:#000000;stroke-linecap:square;stroke-linejoin:miter;stroke-width:0.8;\"/>\n   </g>\n   <g id=\"patch_15\">\n    <path d=\"M 39.65 550.8 \nL 1155.65 550.8 \n\" style=\"fill:none;stroke:#000000;stroke-linecap:square;stroke-linejoin:miter;stroke-width:0.8;\"/>\n   </g>\n   <g id=\"patch_16\">\n    <path d=\"M 39.65 7.2 \nL 1155.65 7.2 \n\" style=\"fill:none;stroke:#000000;stroke-linecap:square;stroke-linejoin:miter;stroke-width:0.8;\"/>\n   </g>\n  </g>\n </g>\n <defs>\n  <clipPath id=\"p58e908b770\">\n   <rect height=\"543.6\" width=\"1116\" x=\"39.65\" y=\"7.2\"/>\n  </clipPath>\n </defs>\n</svg>\n",
      "image/png": "[encoded data removed]"
     },
     "metadata": {
      "needs_background": "light"
     }
    }
   ],
   "source": [
    "# your code here\n",
    "\n",
    "spain_fd = spain['amount_spent'].sort_values()\n",
    "\n",
    "spain_fd.hist(figsize=(20,10));"
   ]
  },
  {
   "cell_type": "markdown",
   "metadata": {},
   "source": [
    "#### Select all orders made in the month of August."
   ]
  },
  {
   "cell_type": "code",
   "execution_count": 45,
   "metadata": {},
   "outputs": [
    {
     "output_type": "execute_result",
     "data": {
      "text/plain": "        Unnamed: 0  InvoiceNo StockCode  year  month  day  hour  \\\n199475      285421     561904     22075  2011      8    1     8   \n199476      285422     561904    85049E  2011      8    1     8   \n199477      285423     561905     21385  2011      8    1     9   \n199478      285424     561905    84970L  2011      8    1     9   \n199479      285425     561905    84970S  2011      8    1     9   \n...            ...        ...       ...   ...    ...  ...   ...   \n226483      320688     565067     22644  2011      8    3    17   \n226484      320689     565067     22645  2011      8    3    17   \n226485      320690     565067     22637  2011      8    3    17   \n226486      320691     565067     22646  2011      8    3    17   \n226487      320692     565067     22741  2011      8    3    17   \n\n                                Description  Quantity          InvoiceDate  \\\n199475         6 ribbons elegant christmas         96  2011-08-01 08:30:00   \n199476            scandinavian reds ribbons       156  2011-08-01 08:30:00   \n199477      ivory hanging decoration  heart        24  2011-08-01 09:31:00   \n199478     single heart zinc t-light holder        12  2011-08-01 09:31:00   \n199479    hanging heart zinc t-light holder        12  2011-08-01 09:31:00   \n...                                     ...       ...                  ...   \n226483       ceramic cherry cake money bank         2  2011-08-31 17:16:00   \n226484  ceramic heart fairy cake money bank         2  2011-08-31 17:16:00   \n226485                piggy bank retrospot          2  2011-08-31 17:16:00   \n226486   ceramic strawberry cake money bank         2  2011-08-31 17:16:00   \n226487                       funky diva pen        48  2011-08-31 17:16:00   \n\n        UnitPrice  CustomerID         Country  amount_spent  \n199475       1.45       17941  United Kingdom        139.20  \n199476       1.06       17941  United Kingdom        165.36  \n199477       0.85       14947  United Kingdom         20.40  \n199478       0.95       14947  United Kingdom         11.40  \n199479       0.85       14947  United Kingdom         10.20  \n...           ...         ...             ...           ...  \n226483       1.45       15856  United Kingdom          2.90  \n226484       1.45       15856  United Kingdom          2.90  \n226485       2.55       15856  United Kingdom          5.10  \n226486       1.45       15856  United Kingdom          2.90  \n226487       0.85       15856  United Kingdom         40.80  \n\n[27013 rows x 14 columns]",
      "text/html": "<div>\n<style scoped>\n    .dataframe tbody tr th:only-of-type {\n        vertical-align: middle;\n    }\n\n    .dataframe tbody tr th {\n        vertical-align: top;\n    }\n\n    .dataframe thead th {\n        text-align: right;\n    }\n</style>\n<table border=\"1\" class=\"dataframe\">\n  <thead>\n    <tr style=\"text-align: right;\">\n      <th></th>\n      <th>Unnamed: 0</th>\n      <th>InvoiceNo</th>\n      <th>StockCode</th>\n      <th>year</th>\n      <th>month</th>\n      <th>day</th>\n      <th>hour</th>\n      <th>Description</th>\n      <th>Quantity</th>\n      <th>InvoiceDate</th>\n      <th>UnitPrice</th>\n      <th>CustomerID</th>\n      <th>Country</th>\n      <th>amount_spent</th>\n    </tr>\n  </thead>\n  <tbody>\n    <tr>\n      <th>199475</th>\n      <td>285421</td>\n      <td>561904</td>\n      <td>22075</td>\n      <td>2011</td>\n      <td>8</td>\n      <td>1</td>\n      <td>8</td>\n      <td>6 ribbons elegant christmas</td>\n      <td>96</td>\n      <td>2011-08-01 08:30:00</td>\n      <td>1.45</td>\n      <td>17941</td>\n      <td>United Kingdom</td>\n      <td>139.20</td>\n    </tr>\n    <tr>\n      <th>199476</th>\n      <td>285422</td>\n      <td>561904</td>\n      <td>85049E</td>\n      <td>2011</td>\n      <td>8</td>\n      <td>1</td>\n      <td>8</td>\n      <td>scandinavian reds ribbons</td>\n      <td>156</td>\n      <td>2011-08-01 08:30:00</td>\n      <td>1.06</td>\n      <td>17941</td>\n      <td>United Kingdom</td>\n      <td>165.36</td>\n    </tr>\n    <tr>\n      <th>199477</th>\n      <td>285423</td>\n      <td>561905</td>\n      <td>21385</td>\n      <td>2011</td>\n      <td>8</td>\n      <td>1</td>\n      <td>9</td>\n      <td>ivory hanging decoration  heart</td>\n      <td>24</td>\n      <td>2011-08-01 09:31:00</td>\n      <td>0.85</td>\n      <td>14947</td>\n      <td>United Kingdom</td>\n      <td>20.40</td>\n    </tr>\n    <tr>\n      <th>199478</th>\n      <td>285424</td>\n      <td>561905</td>\n      <td>84970L</td>\n      <td>2011</td>\n      <td>8</td>\n      <td>1</td>\n      <td>9</td>\n      <td>single heart zinc t-light holder</td>\n      <td>12</td>\n      <td>2011-08-01 09:31:00</td>\n      <td>0.95</td>\n      <td>14947</td>\n      <td>United Kingdom</td>\n      <td>11.40</td>\n    </tr>\n    <tr>\n      <th>199479</th>\n      <td>285425</td>\n      <td>561905</td>\n      <td>84970S</td>\n      <td>2011</td>\n      <td>8</td>\n      <td>1</td>\n      <td>9</td>\n      <td>hanging heart zinc t-light holder</td>\n      <td>12</td>\n      <td>2011-08-01 09:31:00</td>\n      <td>0.85</td>\n      <td>14947</td>\n      <td>United Kingdom</td>\n      <td>10.20</td>\n    </tr>\n    <tr>\n      <th>...</th>\n      <td>...</td>\n      <td>...</td>\n      <td>...</td>\n      <td>...</td>\n      <td>...</td>\n      <td>...</td>\n      <td>...</td>\n      <td>...</td>\n      <td>...</td>\n      <td>...</td>\n      <td>...</td>\n      <td>...</td>\n      <td>...</td>\n      <td>...</td>\n    </tr>\n    <tr>\n      <th>226483</th>\n      <td>320688</td>\n      <td>565067</td>\n      <td>22644</td>\n      <td>2011</td>\n      <td>8</td>\n      <td>3</td>\n      <td>17</td>\n      <td>ceramic cherry cake money bank</td>\n      <td>2</td>\n      <td>2011-08-31 17:16:00</td>\n      <td>1.45</td>\n      <td>15856</td>\n      <td>United Kingdom</td>\n      <td>2.90</td>\n    </tr>\n    <tr>\n      <th>226484</th>\n      <td>320689</td>\n      <td>565067</td>\n      <td>22645</td>\n      <td>2011</td>\n      <td>8</td>\n      <td>3</td>\n      <td>17</td>\n      <td>ceramic heart fairy cake money bank</td>\n      <td>2</td>\n      <td>2011-08-31 17:16:00</td>\n      <td>1.45</td>\n      <td>15856</td>\n      <td>United Kingdom</td>\n      <td>2.90</td>\n    </tr>\n    <tr>\n      <th>226485</th>\n      <td>320690</td>\n      <td>565067</td>\n      <td>22637</td>\n      <td>2011</td>\n      <td>8</td>\n      <td>3</td>\n      <td>17</td>\n      <td>piggy bank retrospot</td>\n      <td>2</td>\n      <td>2011-08-31 17:16:00</td>\n      <td>2.55</td>\n      <td>15856</td>\n      <td>United Kingdom</td>\n      <td>5.10</td>\n    </tr>\n    <tr>\n      <th>226486</th>\n      <td>320691</td>\n      <td>565067</td>\n      <td>22646</td>\n      <td>2011</td>\n      <td>8</td>\n      <td>3</td>\n      <td>17</td>\n      <td>ceramic strawberry cake money bank</td>\n      <td>2</td>\n      <td>2011-08-31 17:16:00</td>\n      <td>1.45</td>\n      <td>15856</td>\n      <td>United Kingdom</td>\n      <td>2.90</td>\n    </tr>\n    <tr>\n      <th>226487</th>\n      <td>320692</td>\n      <td>565067</td>\n      <td>22741</td>\n      <td>2011</td>\n      <td>8</td>\n      <td>3</td>\n      <td>17</td>\n      <td>funky diva pen</td>\n      <td>48</td>\n      <td>2011-08-31 17:16:00</td>\n      <td>0.85</td>\n      <td>15856</td>\n      <td>United Kingdom</td>\n      <td>40.80</td>\n    </tr>\n  </tbody>\n</table>\n<p>27013 rows × 14 columns</p>\n</div>"
     },
     "metadata": {},
     "execution_count": 45
    }
   ],
   "source": [
    "# your code here\n",
    "\n",
    "august = orders[orders['month'] == 8]\n",
    "\n",
    "august"
   ]
  },
  {
   "cell_type": "markdown",
   "metadata": {},
   "source": [
    "#### Find the number of orders made by each country in the month of August.\n",
    "**Hint**: Use value_counts()."
   ]
  },
  {
   "cell_type": "code",
   "execution_count": 46,
   "metadata": {},
   "outputs": [
    {
     "output_type": "execute_result",
     "data": {
      "text/plain": "                 Quantity\nCountry                  \nUnited Kingdom     310832\nNetherlands         29876\nAustralia           12570\nGermany              9641\nEIRE                 9331\nFrance               7958\nIsrael               3028\nSwitzerland          2998\nBelgium              2069\nChannel Islands      2009\nSpain                1600\nSweden               1314\nItaly                1147\nPortugal             1026\nAustria               790\nFinland               693\nNorway                636\nMalta                 382\nDenmark               338\nIceland               277\nPoland                186\nUnspecified           185\nCanada                 52",
      "text/html": "<div>\n<style scoped>\n    .dataframe tbody tr th:only-of-type {\n        vertical-align: middle;\n    }\n\n    .dataframe tbody tr th {\n        vertical-align: top;\n    }\n\n    .dataframe thead th {\n        text-align: right;\n    }\n</style>\n<table border=\"1\" class=\"dataframe\">\n  <thead>\n    <tr style=\"text-align: right;\">\n      <th></th>\n      <th>Quantity</th>\n    </tr>\n    <tr>\n      <th>Country</th>\n      <th></th>\n    </tr>\n  </thead>\n  <tbody>\n    <tr>\n      <th>United Kingdom</th>\n      <td>310832</td>\n    </tr>\n    <tr>\n      <th>Netherlands</th>\n      <td>29876</td>\n    </tr>\n    <tr>\n      <th>Australia</th>\n      <td>12570</td>\n    </tr>\n    <tr>\n      <th>Germany</th>\n      <td>9641</td>\n    </tr>\n    <tr>\n      <th>EIRE</th>\n      <td>9331</td>\n    </tr>\n    <tr>\n      <th>France</th>\n      <td>7958</td>\n    </tr>\n    <tr>\n      <th>Israel</th>\n      <td>3028</td>\n    </tr>\n    <tr>\n      <th>Switzerland</th>\n      <td>2998</td>\n    </tr>\n    <tr>\n      <th>Belgium</th>\n      <td>2069</td>\n    </tr>\n    <tr>\n      <th>Channel Islands</th>\n      <td>2009</td>\n    </tr>\n    <tr>\n      <th>Spain</th>\n      <td>1600</td>\n    </tr>\n    <tr>\n      <th>Sweden</th>\n      <td>1314</td>\n    </tr>\n    <tr>\n      <th>Italy</th>\n      <td>1147</td>\n    </tr>\n    <tr>\n      <th>Portugal</th>\n      <td>1026</td>\n    </tr>\n    <tr>\n      <th>Austria</th>\n      <td>790</td>\n    </tr>\n    <tr>\n      <th>Finland</th>\n      <td>693</td>\n    </tr>\n    <tr>\n      <th>Norway</th>\n      <td>636</td>\n    </tr>\n    <tr>\n      <th>Malta</th>\n      <td>382</td>\n    </tr>\n    <tr>\n      <th>Denmark</th>\n      <td>338</td>\n    </tr>\n    <tr>\n      <th>Iceland</th>\n      <td>277</td>\n    </tr>\n    <tr>\n      <th>Poland</th>\n      <td>186</td>\n    </tr>\n    <tr>\n      <th>Unspecified</th>\n      <td>185</td>\n    </tr>\n    <tr>\n      <th>Canada</th>\n      <td>52</td>\n    </tr>\n  </tbody>\n</table>\n</div>"
     },
     "metadata": {},
     "execution_count": 46
    }
   ],
   "source": [
    "# your code here\n",
    "\n",
    "august_countrys = august.groupby('Country').agg({'Quantity': 'sum'})\n",
    "august_countrys.sort_values('Quantity', ascending=False)"
   ]
  },
  {
   "cell_type": "markdown",
   "metadata": {},
   "source": [
    "#### What's the  average amount of money spent by country?"
   ]
  },
  {
   "cell_type": "code",
   "execution_count": 47,
   "metadata": {
    "tags": []
   },
   "outputs": [
    {
     "output_type": "execute_result",
     "data": {
      "text/plain": "                      amount_spent\nCountry                           \nAustralia               116.895620\nAustria                  25.624824\nBahrain                  32.258824\nBelgium                  20.283772\nBrazil                   35.737500\nCanada                   24.280662\nChannel Islands          27.340160\nCyprus                   22.134169\nCzech Republic           33.069600\nDenmark                  49.882474\nEIRE                     36.687745\nEuropean Community       21.670833\nFinland                  32.913985\nFrance                   25.056827\nGermany                  25.311562\nGreece                   32.831172\nIceland                  23.681319\nIsrael                   29.119718\nItaly                    23.064960\nJapan                   116.561900\nLebanon                  37.641778\nLithuania                47.458857\nMalta                    24.335625\nNetherlands             120.798282\nNorway                   33.736418\nPoland                   22.226212\nPortugal                 22.872702\nRSA                      17.281207\nSaudi Arabia             16.213333\nSingapore                95.852658\nSpain                    24.779521\nSweden                   85.096075\nSwitzerland              30.642752\nUSA                      20.002179\nUnited Arab Emirates     27.974706\nUnited Kingdom           20.625073\nUnspecified              10.930615",
      "text/html": "<div>\n<style scoped>\n    .dataframe tbody tr th:only-of-type {\n        vertical-align: middle;\n    }\n\n    .dataframe tbody tr th {\n        vertical-align: top;\n    }\n\n    .dataframe thead th {\n        text-align: right;\n    }\n</style>\n<table border=\"1\" class=\"dataframe\">\n  <thead>\n    <tr style=\"text-align: right;\">\n      <th></th>\n      <th>amount_spent</th>\n    </tr>\n    <tr>\n      <th>Country</th>\n      <th></th>\n    </tr>\n  </thead>\n  <tbody>\n    <tr>\n      <th>Australia</th>\n      <td>116.895620</td>\n    </tr>\n    <tr>\n      <th>Austria</th>\n      <td>25.624824</td>\n    </tr>\n    <tr>\n      <th>Bahrain</th>\n      <td>32.258824</td>\n    </tr>\n    <tr>\n      <th>Belgium</th>\n      <td>20.283772</td>\n    </tr>\n    <tr>\n      <th>Brazil</th>\n      <td>35.737500</td>\n    </tr>\n    <tr>\n      <th>Canada</th>\n      <td>24.280662</td>\n    </tr>\n    <tr>\n      <th>Channel Islands</th>\n      <td>27.340160</td>\n    </tr>\n    <tr>\n      <th>Cyprus</th>\n      <td>22.134169</td>\n    </tr>\n    <tr>\n      <th>Czech Republic</th>\n      <td>33.069600</td>\n    </tr>\n    <tr>\n      <th>Denmark</th>\n      <td>49.882474</td>\n    </tr>\n    <tr>\n      <th>EIRE</th>\n      <td>36.687745</td>\n    </tr>\n    <tr>\n      <th>European Community</th>\n      <td>21.670833</td>\n    </tr>\n    <tr>\n      <th>Finland</th>\n      <td>32.913985</td>\n    </tr>\n    <tr>\n      <th>France</th>\n      <td>25.056827</td>\n    </tr>\n    <tr>\n      <th>Germany</th>\n      <td>25.311562</td>\n    </tr>\n    <tr>\n      <th>Greece</th>\n      <td>32.831172</td>\n    </tr>\n    <tr>\n      <th>Iceland</th>\n      <td>23.681319</td>\n    </tr>\n    <tr>\n      <th>Israel</th>\n      <td>29.119718</td>\n    </tr>\n    <tr>\n      <th>Italy</th>\n      <td>23.064960</td>\n    </tr>\n    <tr>\n      <th>Japan</th>\n      <td>116.561900</td>\n    </tr>\n    <tr>\n      <th>Lebanon</th>\n      <td>37.641778</td>\n    </tr>\n    <tr>\n      <th>Lithuania</th>\n      <td>47.458857</td>\n    </tr>\n    <tr>\n      <th>Malta</th>\n      <td>24.335625</td>\n    </tr>\n    <tr>\n      <th>Netherlands</th>\n      <td>120.798282</td>\n    </tr>\n    <tr>\n      <th>Norway</th>\n      <td>33.736418</td>\n    </tr>\n    <tr>\n      <th>Poland</th>\n      <td>22.226212</td>\n    </tr>\n    <tr>\n      <th>Portugal</th>\n      <td>22.872702</td>\n    </tr>\n    <tr>\n      <th>RSA</th>\n      <td>17.281207</td>\n    </tr>\n    <tr>\n      <th>Saudi Arabia</th>\n      <td>16.213333</td>\n    </tr>\n    <tr>\n      <th>Singapore</th>\n      <td>95.852658</td>\n    </tr>\n    <tr>\n      <th>Spain</th>\n      <td>24.779521</td>\n    </tr>\n    <tr>\n      <th>Sweden</th>\n      <td>85.096075</td>\n    </tr>\n    <tr>\n      <th>Switzerland</th>\n      <td>30.642752</td>\n    </tr>\n    <tr>\n      <th>USA</th>\n      <td>20.002179</td>\n    </tr>\n    <tr>\n      <th>United Arab Emirates</th>\n      <td>27.974706</td>\n    </tr>\n    <tr>\n      <th>United Kingdom</th>\n      <td>20.625073</td>\n    </tr>\n    <tr>\n      <th>Unspecified</th>\n      <td>10.930615</td>\n    </tr>\n  </tbody>\n</table>\n</div>"
     },
     "metadata": {},
     "execution_count": 47
    }
   ],
   "source": [
    "# your code here\n",
    "\n",
    "orders.groupby(by='Country').agg({'amount_spent': 'mean'})"
   ]
  },
  {
   "cell_type": "markdown",
   "metadata": {},
   "source": [
    "#### What's the most expensive item?"
   ]
  },
  {
   "cell_type": "code",
   "execution_count": 48,
   "metadata": {
    "tags": []
   },
   "outputs": [
    {
     "output_type": "stream",
     "name": "stdout",
     "text": "8142.75\n"
    }
   ],
   "source": [
    "# your code here\n",
    "\n",
    "print(orders['UnitPrice'].max())"
   ]
  },
  {
   "cell_type": "markdown",
   "metadata": {},
   "source": [
    "#### What is the average amount spent per year?"
   ]
  },
  {
   "cell_type": "code",
   "execution_count": 49,
   "metadata": {},
   "outputs": [
    {
     "output_type": "execute_result",
     "data": {
      "text/plain": "      amount_spent\nyear              \n2010     21.892733\n2011     22.430074",
      "text/html": "<div>\n<style scoped>\n    .dataframe tbody tr th:only-of-type {\n        vertical-align: middle;\n    }\n\n    .dataframe tbody tr th {\n        vertical-align: top;\n    }\n\n    .dataframe thead th {\n        text-align: right;\n    }\n</style>\n<table border=\"1\" class=\"dataframe\">\n  <thead>\n    <tr style=\"text-align: right;\">\n      <th></th>\n      <th>amount_spent</th>\n    </tr>\n    <tr>\n      <th>year</th>\n      <th></th>\n    </tr>\n  </thead>\n  <tbody>\n    <tr>\n      <th>2010</th>\n      <td>21.892733</td>\n    </tr>\n    <tr>\n      <th>2011</th>\n      <td>22.430074</td>\n    </tr>\n  </tbody>\n</table>\n</div>"
     },
     "metadata": {},
     "execution_count": 49
    }
   ],
   "source": [
    "# your code here\n",
    "\n",
    "orders.groupby(by='year').agg({'amount_spent': 'mean'})"
   ]
  }
 ],
 "metadata": {
  "anaconda-cloud": {},
  "kernelspec": {
   "display_name": "Python 3",
   "language": "python",
   "name": "python3"
  },
  "language_info": {
   "codemirror_mode": {
    "name": "ipython",
    "version": 3
   },
   "file_extension": ".py",
   "mimetype": "text/x-python",
   "name": "python",
   "nbconvert_exporter": "python",
   "pygments_lexer": "ipython3",
   "version": "3.8.3-final"
  }
 },
 "nbformat": 4,
 "nbformat_minor": 1
}