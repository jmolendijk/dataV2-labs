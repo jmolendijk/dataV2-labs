{
 "cells": [
  {
   "cell_type": "markdown",
   "metadata": {},
   "source": [
    "# Descriptive Statistics Review"
   ]
  },
  {
   "cell_type": "markdown",
   "metadata": {},
   "source": [
    "## Before you start:\n",
    "\n",
    "- Read the README.md file\n",
    "- Comment as much as you can\n",
    "- Happy learning!"
   ]
  },
  {
   "cell_type": "markdown",
   "metadata": {},
   "source": [
    "## Context"
   ]
  },
  {
   "cell_type": "markdown",
   "metadata": {},
   "source": [
    "![img](./diamonds.jpg)"
   ]
  },
  {
   "cell_type": "markdown",
   "metadata": {},
   "source": [
    "In this lab we are going to work with data to understand the characteristics of a diamond that are most likely to influence its price. In this first part of the lab, we will explore and clean our data. \n",
    "\n",
    "The dataset we will be using is comprised of approximately 54k rows and 11 different columns. As always, a row represents a single observation (in this case a diamond) and each of the columns represent a different feature of a diamond.\n",
    "\n",
    "The following codebook was provided together with the dataset to clarify what each column represents:\n"
   ]
  },
  {
   "cell_type": "markdown",
   "metadata": {},
   "source": [
    "| Column  | Description  |\n",
    "|---|---|\n",
    "| Price  | Price in US dollars (326-18,823)  |\n",
    "| Carat  | Weight of the diamond (0.2--5.01)  |\n",
    "| Cut  | Quality of the cut (Fair, Good, Very Good, Premium, Ideal)  |\n",
    "| Color  | Diamond colour, from J (worst) to D (best)  |\n",
    "| Clarity  | A measurement of how clear the diamond is (I1 (worst), SI2, SI1, VS2, VS1, VVS2, VVS1, IF (best))   |\n",
    "| x  | Length in mm (0--10.74)  |\n",
    "| y  | Width in mm (0--58.9)  |\n",
    "| z  | Depth in mm (0--31.8)  |\n",
    "| Depth  | Total depth percentage = z / mean(x, y) = 2 * z / (x + y) (43--79)  |\n",
    "| Table  | Width of top of diamond relative to widest point (43--95)  |"
   ]
  },
  {
   "cell_type": "markdown",
   "metadata": {},
   "source": [
    "## Libraries\n",
    "Pandas and numpy will be needed for the analysis of the data. Don't worry about the seaborn and matplotlib import at the moment, you will learn more about them next week, but we will be using some of their functionalities."
   ]
  },
  {
   "cell_type": "code",
   "execution_count": 1,
   "metadata": {},
   "outputs": [],
   "source": [
    "import pandas as pd\n",
    "import numpy as np\n",
    "import seaborn as sns\n",
    "import matplotlib.pyplot as plt"
   ]
  },
  {
   "cell_type": "markdown",
   "metadata": {},
   "source": [
    "First import the data from the .csv file provided and assign it to a variable named `diamonds` and drop the column with the index."
   ]
  },
  {
   "cell_type": "code",
   "execution_count": 2,
   "metadata": {},
   "outputs": [],
   "source": [
    "#your code here\n",
    "\n",
    "diamonds = pd.read_csv('diamonds.csv')"
   ]
  },
  {
   "cell_type": "markdown",
   "metadata": {},
   "source": [
    "# 1. Taking the first look at the data.\n",
    "Let's see how the data looks by using pandas methods like `head()`, `info()` and `describe()`. \n",
    "\n",
    "**First, use the `head` method.**"
   ]
  },
  {
   "cell_type": "code",
   "execution_count": 3,
   "metadata": {
    "tags": []
   },
   "outputs": [
    {
     "output_type": "execute_result",
     "data": {
      "text/plain": "   Unnamed: 0  carat      cut color clarity  depth  table  price     x     y  \\\n0           1   0.23    Ideal     E     SI2   61.5   55.0    326  3.95  3.98   \n1           2   0.21  Premium     E     SI1   59.8   61.0    326  3.89  3.84   \n2           3   0.23     Good     E     VS1   56.9   65.0    327  4.05  4.07   \n3           4   0.29  Premium     I     VS2   62.4   58.0    334  4.20  4.23   \n4           5   0.31     Good     J     SI2   63.3   58.0    335  4.34  4.35   \n\n      z  \n0  2.43  \n1  2.31  \n2  2.31  \n3  2.63  \n4  2.75  ",
      "text/html": "<div>\n<style scoped>\n    .dataframe tbody tr th:only-of-type {\n        vertical-align: middle;\n    }\n\n    .dataframe tbody tr th {\n        vertical-align: top;\n    }\n\n    .dataframe thead th {\n        text-align: right;\n    }\n</style>\n<table border=\"1\" class=\"dataframe\">\n  <thead>\n    <tr style=\"text-align: right;\">\n      <th></th>\n      <th>Unnamed: 0</th>\n      <th>carat</th>\n      <th>cut</th>\n      <th>color</th>\n      <th>clarity</th>\n      <th>depth</th>\n      <th>table</th>\n      <th>price</th>\n      <th>x</th>\n      <th>y</th>\n      <th>z</th>\n    </tr>\n  </thead>\n  <tbody>\n    <tr>\n      <th>0</th>\n      <td>1</td>\n      <td>0.23</td>\n      <td>Ideal</td>\n      <td>E</td>\n      <td>SI2</td>\n      <td>61.5</td>\n      <td>55.0</td>\n      <td>326</td>\n      <td>3.95</td>\n      <td>3.98</td>\n      <td>2.43</td>\n    </tr>\n    <tr>\n      <th>1</th>\n      <td>2</td>\n      <td>0.21</td>\n      <td>Premium</td>\n      <td>E</td>\n      <td>SI1</td>\n      <td>59.8</td>\n      <td>61.0</td>\n      <td>326</td>\n      <td>3.89</td>\n      <td>3.84</td>\n      <td>2.31</td>\n    </tr>\n    <tr>\n      <th>2</th>\n      <td>3</td>\n      <td>0.23</td>\n      <td>Good</td>\n      <td>E</td>\n      <td>VS1</td>\n      <td>56.9</td>\n      <td>65.0</td>\n      <td>327</td>\n      <td>4.05</td>\n      <td>4.07</td>\n      <td>2.31</td>\n    </tr>\n    <tr>\n      <th>3</th>\n      <td>4</td>\n      <td>0.29</td>\n      <td>Premium</td>\n      <td>I</td>\n      <td>VS2</td>\n      <td>62.4</td>\n      <td>58.0</td>\n      <td>334</td>\n      <td>4.20</td>\n      <td>4.23</td>\n      <td>2.63</td>\n    </tr>\n    <tr>\n      <th>4</th>\n      <td>5</td>\n      <td>0.31</td>\n      <td>Good</td>\n      <td>J</td>\n      <td>SI2</td>\n      <td>63.3</td>\n      <td>58.0</td>\n      <td>335</td>\n      <td>4.34</td>\n      <td>4.35</td>\n      <td>2.75</td>\n    </tr>\n  </tbody>\n</table>\n</div>"
     },
     "metadata": {},
     "execution_count": 3
    }
   ],
   "source": [
    "#your code here\n",
    "\n",
    "diamonds.head()"
   ]
  },
  {
   "cell_type": "markdown",
   "metadata": {},
   "source": [
    "We can see the first 5 rows of the dataset using the `head` method. This by itself doesn't tell us much about the data that we have, but we can have a first look at the features (columns) and some of the values that each one takes.\n",
    "\n",
    "**What do you see? Make some comments about the values you see in each column, comparing them with the codebook. Is that what you would expect for these variables?**"
   ]
  },
  {
   "cell_type": "code",
   "execution_count": 4,
   "metadata": {
    "tags": []
   },
   "outputs": [
    {
     "output_type": "stream",
     "name": "stdout",
     "text": "<class 'pandas.core.frame.DataFrame'>\nRangeIndex: 53940 entries, 0 to 53939\nData columns (total 11 columns):\n #   Column      Non-Null Count  Dtype  \n---  ------      --------------  -----  \n 0   Unnamed: 0  53940 non-null  int64  \n 1   carat       53940 non-null  float64\n 2   cut         53940 non-null  object \n 3   color       53940 non-null  object \n 4   clarity     53940 non-null  object \n 5   depth       53940 non-null  float64\n 6   table       53940 non-null  float64\n 7   price       53940 non-null  int64  \n 8   x           53940 non-null  float64\n 9   y           53940 non-null  float64\n 10  z           53940 non-null  float64\ndtypes: float64(6), int64(2), object(3)\nmemory usage: 4.5+ MB\n"
    },
    {
     "output_type": "execute_result",
     "data": {
      "text/plain": "              count          mean           std    min       25%       50%  \\\nUnnamed: 0  53940.0  26970.500000  15571.281097    1.0  13485.75  26970.50   \ncarat       53940.0      0.797940      0.474011    0.2      0.40      0.70   \ndepth       53940.0     61.749405      1.432621   43.0     61.00     61.80   \ntable       53940.0     57.457184      2.234491   43.0     56.00     57.00   \nprice       53940.0   3932.799722   3989.439738  326.0    950.00   2401.00   \nx           53940.0      5.731157      1.121761    0.0      4.71      5.70   \ny           53940.0      5.734526      1.142135    0.0      4.72      5.71   \nz           53940.0      3.538734      0.705699    0.0      2.91      3.53   \n\n                 75%       max  \nUnnamed: 0  40455.25  53940.00  \ncarat           1.04      5.01  \ndepth          62.50     79.00  \ntable          59.00     95.00  \nprice        5324.25  18823.00  \nx               6.54     10.74  \ny               6.54     58.90  \nz               4.04     31.80  ",
      "text/html": "<div>\n<style scoped>\n    .dataframe tbody tr th:only-of-type {\n        vertical-align: middle;\n    }\n\n    .dataframe tbody tr th {\n        vertical-align: top;\n    }\n\n    .dataframe thead th {\n        text-align: right;\n    }\n</style>\n<table border=\"1\" class=\"dataframe\">\n  <thead>\n    <tr style=\"text-align: right;\">\n      <th></th>\n      <th>count</th>\n      <th>mean</th>\n      <th>std</th>\n      <th>min</th>\n      <th>25%</th>\n      <th>50%</th>\n      <th>75%</th>\n      <th>max</th>\n    </tr>\n  </thead>\n  <tbody>\n    <tr>\n      <th>Unnamed: 0</th>\n      <td>53940.0</td>\n      <td>26970.500000</td>\n      <td>15571.281097</td>\n      <td>1.0</td>\n      <td>13485.75</td>\n      <td>26970.50</td>\n      <td>40455.25</td>\n      <td>53940.00</td>\n    </tr>\n    <tr>\n      <th>carat</th>\n      <td>53940.0</td>\n      <td>0.797940</td>\n      <td>0.474011</td>\n      <td>0.2</td>\n      <td>0.40</td>\n      <td>0.70</td>\n      <td>1.04</td>\n      <td>5.01</td>\n    </tr>\n    <tr>\n      <th>depth</th>\n      <td>53940.0</td>\n      <td>61.749405</td>\n      <td>1.432621</td>\n      <td>43.0</td>\n      <td>61.00</td>\n      <td>61.80</td>\n      <td>62.50</td>\n      <td>79.00</td>\n    </tr>\n    <tr>\n      <th>table</th>\n      <td>53940.0</td>\n      <td>57.457184</td>\n      <td>2.234491</td>\n      <td>43.0</td>\n      <td>56.00</td>\n      <td>57.00</td>\n      <td>59.00</td>\n      <td>95.00</td>\n    </tr>\n    <tr>\n      <th>price</th>\n      <td>53940.0</td>\n      <td>3932.799722</td>\n      <td>3989.439738</td>\n      <td>326.0</td>\n      <td>950.00</td>\n      <td>2401.00</td>\n      <td>5324.25</td>\n      <td>18823.00</td>\n    </tr>\n    <tr>\n      <th>x</th>\n      <td>53940.0</td>\n      <td>5.731157</td>\n      <td>1.121761</td>\n      <td>0.0</td>\n      <td>4.71</td>\n      <td>5.70</td>\n      <td>6.54</td>\n      <td>10.74</td>\n    </tr>\n    <tr>\n      <th>y</th>\n      <td>53940.0</td>\n      <td>5.734526</td>\n      <td>1.142135</td>\n      <td>0.0</td>\n      <td>4.72</td>\n      <td>5.71</td>\n      <td>6.54</td>\n      <td>58.90</td>\n    </tr>\n    <tr>\n      <th>z</th>\n      <td>53940.0</td>\n      <td>3.538734</td>\n      <td>0.705699</td>\n      <td>0.0</td>\n      <td>2.91</td>\n      <td>3.53</td>\n      <td>4.04</td>\n      <td>31.80</td>\n    </tr>\n  </tbody>\n</table>\n</div>"
     },
     "metadata": {},
     "execution_count": 4
    }
   ],
   "source": [
    "#your code here\n",
    "\n",
    "diamonds.info()\n",
    "\n",
    "diamonds.describe().transpose()\n",
    "\n",
    "# The price seems to be an integer and not a float number. Some of the columns like the color and clarity have values that seems hard to categorise."
   ]
  },
  {
   "cell_type": "markdown",
   "metadata": {},
   "source": [
    "It is very important to know the amount of data we have, because everything will depend on that, from the quality of the analysis to the choice of our infrastracture.\n",
    "\n",
    "**Check the shape of the data**"
   ]
  },
  {
   "cell_type": "code",
   "execution_count": 5,
   "metadata": {},
   "outputs": [
    {
     "output_type": "execute_result",
     "data": {
      "text/plain": "(53940, 11)"
     },
     "metadata": {},
     "execution_count": 5
    }
   ],
   "source": [
    "#your code here\n",
    "\n",
    "diamonds.shape"
   ]
  },
  {
   "cell_type": "markdown",
   "metadata": {},
   "source": [
    "The `clarity` column is confusing because we are not diamond experts. Let's create a new column with a new scale that is more understandable for us.\n",
    "\n",
    "**Create a new column with numbers from 0 to 7. The lowest would be 0 with value `I1` and the greatest 7 with value `IF`**"
   ]
  },
  {
   "cell_type": "code",
   "execution_count": 6,
   "metadata": {},
   "outputs": [
    {
     "output_type": "execute_result",
     "data": {
      "text/plain": "   Unnamed: 0  carat      cut color  clarity  depth  table  price     x     y  \\\n0           1   0.23    Ideal     E        1   61.5   55.0    326  3.95  3.98   \n1           2   0.21  Premium     E        2   59.8   61.0    326  3.89  3.84   \n2           3   0.23     Good     E        4   56.9   65.0    327  4.05  4.07   \n3           4   0.29  Premium     I        3   62.4   58.0    334  4.20  4.23   \n4           5   0.31     Good     J        1   63.3   58.0    335  4.34  4.35   \n\n      z  \n0  2.43  \n1  2.31  \n2  2.31  \n3  2.63  \n4  2.75  ",
      "text/html": "<div>\n<style scoped>\n    .dataframe tbody tr th:only-of-type {\n        vertical-align: middle;\n    }\n\n    .dataframe tbody tr th {\n        vertical-align: top;\n    }\n\n    .dataframe thead th {\n        text-align: right;\n    }\n</style>\n<table border=\"1\" class=\"dataframe\">\n  <thead>\n    <tr style=\"text-align: right;\">\n      <th></th>\n      <th>Unnamed: 0</th>\n      <th>carat</th>\n      <th>cut</th>\n      <th>color</th>\n      <th>clarity</th>\n      <th>depth</th>\n      <th>table</th>\n      <th>price</th>\n      <th>x</th>\n      <th>y</th>\n      <th>z</th>\n    </tr>\n  </thead>\n  <tbody>\n    <tr>\n      <th>0</th>\n      <td>1</td>\n      <td>0.23</td>\n      <td>Ideal</td>\n      <td>E</td>\n      <td>1</td>\n      <td>61.5</td>\n      <td>55.0</td>\n      <td>326</td>\n      <td>3.95</td>\n      <td>3.98</td>\n      <td>2.43</td>\n    </tr>\n    <tr>\n      <th>1</th>\n      <td>2</td>\n      <td>0.21</td>\n      <td>Premium</td>\n      <td>E</td>\n      <td>2</td>\n      <td>59.8</td>\n      <td>61.0</td>\n      <td>326</td>\n      <td>3.89</td>\n      <td>3.84</td>\n      <td>2.31</td>\n    </tr>\n    <tr>\n      <th>2</th>\n      <td>3</td>\n      <td>0.23</td>\n      <td>Good</td>\n      <td>E</td>\n      <td>4</td>\n      <td>56.9</td>\n      <td>65.0</td>\n      <td>327</td>\n      <td>4.05</td>\n      <td>4.07</td>\n      <td>2.31</td>\n    </tr>\n    <tr>\n      <th>3</th>\n      <td>4</td>\n      <td>0.29</td>\n      <td>Premium</td>\n      <td>I</td>\n      <td>3</td>\n      <td>62.4</td>\n      <td>58.0</td>\n      <td>334</td>\n      <td>4.20</td>\n      <td>4.23</td>\n      <td>2.63</td>\n    </tr>\n    <tr>\n      <th>4</th>\n      <td>5</td>\n      <td>0.31</td>\n      <td>Good</td>\n      <td>J</td>\n      <td>1</td>\n      <td>63.3</td>\n      <td>58.0</td>\n      <td>335</td>\n      <td>4.34</td>\n      <td>4.35</td>\n      <td>2.75</td>\n    </tr>\n  </tbody>\n</table>\n</div>"
     },
     "metadata": {},
     "execution_count": 6
    }
   ],
   "source": [
    "#your code here\n",
    "\n",
    "clarity_l = ['I1', 'SI2', 'SI1', 'VS2', 'VS1', 'VVS2', 'VVS1', 'IF']\n",
    "clarity_n = [0,1,2,3,4,5,6,7]\n",
    "\n",
    "for i in range(8):\n",
    "    diamonds['clarity'] = diamonds['clarity'].replace(clarity_l[i], clarity_n[i])\n",
    "\n",
    "diamonds.head()"
   ]
  },
  {
   "cell_type": "markdown",
   "metadata": {},
   "source": [
    "It makes sense to do the same with the `color` column.\n",
    "\n",
    "**Do the same with values from 0 to 6. Read the codebook to see the match**"
   ]
  },
  {
   "cell_type": "code",
   "execution_count": 7,
   "metadata": {},
   "outputs": [
    {
     "output_type": "execute_result",
     "data": {
      "text/plain": "   Unnamed: 0  carat      cut  color  clarity  depth  table  price     x  \\\n0           1   0.23    Ideal      5        1   61.5   55.0    326  3.95   \n1           2   0.21  Premium      5        2   59.8   61.0    326  3.89   \n2           3   0.23     Good      5        4   56.9   65.0    327  4.05   \n3           4   0.29  Premium      1        3   62.4   58.0    334  4.20   \n4           5   0.31     Good      0        1   63.3   58.0    335  4.34   \n\n      y     z  \n0  3.98  2.43  \n1  3.84  2.31  \n2  4.07  2.31  \n3  4.23  2.63  \n4  4.35  2.75  ",
      "text/html": "<div>\n<style scoped>\n    .dataframe tbody tr th:only-of-type {\n        vertical-align: middle;\n    }\n\n    .dataframe tbody tr th {\n        vertical-align: top;\n    }\n\n    .dataframe thead th {\n        text-align: right;\n    }\n</style>\n<table border=\"1\" class=\"dataframe\">\n  <thead>\n    <tr style=\"text-align: right;\">\n      <th></th>\n      <th>Unnamed: 0</th>\n      <th>carat</th>\n      <th>cut</th>\n      <th>color</th>\n      <th>clarity</th>\n      <th>depth</th>\n      <th>table</th>\n      <th>price</th>\n      <th>x</th>\n      <th>y</th>\n      <th>z</th>\n    </tr>\n  </thead>\n  <tbody>\n    <tr>\n      <th>0</th>\n      <td>1</td>\n      <td>0.23</td>\n      <td>Ideal</td>\n      <td>5</td>\n      <td>1</td>\n      <td>61.5</td>\n      <td>55.0</td>\n      <td>326</td>\n      <td>3.95</td>\n      <td>3.98</td>\n      <td>2.43</td>\n    </tr>\n    <tr>\n      <th>1</th>\n      <td>2</td>\n      <td>0.21</td>\n      <td>Premium</td>\n      <td>5</td>\n      <td>2</td>\n      <td>59.8</td>\n      <td>61.0</td>\n      <td>326</td>\n      <td>3.89</td>\n      <td>3.84</td>\n      <td>2.31</td>\n    </tr>\n    <tr>\n      <th>2</th>\n      <td>3</td>\n      <td>0.23</td>\n      <td>Good</td>\n      <td>5</td>\n      <td>4</td>\n      <td>56.9</td>\n      <td>65.0</td>\n      <td>327</td>\n      <td>4.05</td>\n      <td>4.07</td>\n      <td>2.31</td>\n    </tr>\n    <tr>\n      <th>3</th>\n      <td>4</td>\n      <td>0.29</td>\n      <td>Premium</td>\n      <td>1</td>\n      <td>3</td>\n      <td>62.4</td>\n      <td>58.0</td>\n      <td>334</td>\n      <td>4.20</td>\n      <td>4.23</td>\n      <td>2.63</td>\n    </tr>\n    <tr>\n      <th>4</th>\n      <td>5</td>\n      <td>0.31</td>\n      <td>Good</td>\n      <td>0</td>\n      <td>1</td>\n      <td>63.3</td>\n      <td>58.0</td>\n      <td>335</td>\n      <td>4.34</td>\n      <td>4.35</td>\n      <td>2.75</td>\n    </tr>\n  </tbody>\n</table>\n</div>"
     },
     "metadata": {},
     "execution_count": 7
    }
   ],
   "source": [
    "#your code here\n",
    "\n",
    "color_l = ['J', 'I', 'H', 'G', 'F', 'E', 'D']\n",
    "color_n = [0,1,2,3,4,5,6]\n",
    "\n",
    "for i in range(7):\n",
    "    diamonds['color'] = diamonds['color'].replace(color_l[i], color_n[i])\n",
    "\n",
    "diamonds.head()"
   ]
  },
  {
   "cell_type": "markdown",
   "metadata": {},
   "source": [
    "With the `info` method, we can see the features of the dataset, and the amount of observations (rows) that have a non-null value and the types of the features. \n",
    "\n",
    "**Now use the `info` method and comparing with the shape, comment on what you see**"
   ]
  },
  {
   "cell_type": "code",
   "execution_count": 8,
   "metadata": {
    "tags": []
   },
   "outputs": [
    {
     "output_type": "stream",
     "name": "stdout",
     "text": "<class 'pandas.core.frame.DataFrame'>\nRangeIndex: 53940 entries, 0 to 53939\nData columns (total 11 columns):\n #   Column      Non-Null Count  Dtype  \n---  ------      --------------  -----  \n 0   Unnamed: 0  53940 non-null  int64  \n 1   carat       53940 non-null  float64\n 2   cut         53940 non-null  object \n 3   color       53940 non-null  int64  \n 4   clarity     53940 non-null  int64  \n 5   depth       53940 non-null  float64\n 6   table       53940 non-null  float64\n 7   price       53940 non-null  int64  \n 8   x           53940 non-null  float64\n 9   y           53940 non-null  float64\n 10  z           53940 non-null  float64\ndtypes: float64(6), int64(4), object(1)\nmemory usage: 4.5+ MB\n"
    }
   ],
   "source": [
    "#your code here\n",
    "\n",
    "diamonds.info()\n",
    "\n",
    "# There seems to be the same amount of rows and columns as in the shape output."
   ]
  },
  {
   "cell_type": "markdown",
   "metadata": {},
   "source": [
    "In the last line of the info output, you have some information about the types of the columns. As you know, it is a good idea to check if the types of each column is what you expect. If a column has the right type, we will be able to do all the operations that we want to do. \n",
    "\n",
    "For instance, if we have a column that is a `date` with a `string` format, we will have the data but we won't be able to do a simple operation, such as format the date the way that we would like.\n",
    "\n",
    "Changing the data type to the one we needs can help us to solve a lot of problems in our data.\n",
    "\n",
    "**Check the types of each column and comment if it matches with the expected**"
   ]
  },
  {
   "cell_type": "code",
   "execution_count": 9,
   "metadata": {
    "tags": []
   },
   "outputs": [
    {
     "output_type": "execute_result",
     "data": {
      "text/plain": "Unnamed: 0      int64\ncarat         float64\ncut            object\ncolor           int64\nclarity         int64\ndepth         float64\ntable         float64\nprice           int64\nx             float64\ny             float64\nz             float64\ndtype: object"
     },
     "metadata": {},
     "execution_count": 9
    }
   ],
   "source": [
    "#your code here\n",
    "\n",
    "diamonds.dtypes\n",
    "\n",
    "# All the columns seem to have the right types for further processing."
   ]
  },
  {
   "cell_type": "markdown",
   "metadata": {},
   "source": [
    "# 2. A deeper look: checking the basic statistics.\n",
    "\n",
    "The `describe` method gives us an overview of our data. From here we can see all the descriptive metrics for our variables.\n",
    "\n",
    "**Use the `describe` method and comment on what you see**"
   ]
  },
  {
   "cell_type": "code",
   "execution_count": 10,
   "metadata": {},
   "outputs": [
    {
     "output_type": "execute_result",
     "data": {
      "text/plain": "              count          mean           std    min       25%       50%  \\\nUnnamed: 0  53940.0  26970.500000  15571.281097    1.0  13485.75  26970.50   \ncarat       53940.0      0.797940      0.474011    0.2      0.40      0.70   \ncolor       53940.0      3.405803      1.701105    0.0      2.00      3.00   \nclarity     53940.0      3.051020      1.647136    0.0      2.00      3.00   \ndepth       53940.0     61.749405      1.432621   43.0     61.00     61.80   \ntable       53940.0     57.457184      2.234491   43.0     56.00     57.00   \nprice       53940.0   3932.799722   3989.439738  326.0    950.00   2401.00   \nx           53940.0      5.731157      1.121761    0.0      4.71      5.70   \ny           53940.0      5.734526      1.142135    0.0      4.72      5.71   \nz           53940.0      3.538734      0.705699    0.0      2.91      3.53   \n\n                 75%       max  \nUnnamed: 0  40455.25  53940.00  \ncarat           1.04      5.01  \ncolor           5.00      6.00  \nclarity         4.00      7.00  \ndepth          62.50     79.00  \ntable          59.00     95.00  \nprice        5324.25  18823.00  \nx               6.54     10.74  \ny               6.54     58.90  \nz               4.04     31.80  ",
      "text/html": "<div>\n<style scoped>\n    .dataframe tbody tr th:only-of-type {\n        vertical-align: middle;\n    }\n\n    .dataframe tbody tr th {\n        vertical-align: top;\n    }\n\n    .dataframe thead th {\n        text-align: right;\n    }\n</style>\n<table border=\"1\" class=\"dataframe\">\n  <thead>\n    <tr style=\"text-align: right;\">\n      <th></th>\n      <th>count</th>\n      <th>mean</th>\n      <th>std</th>\n      <th>min</th>\n      <th>25%</th>\n      <th>50%</th>\n      <th>75%</th>\n      <th>max</th>\n    </tr>\n  </thead>\n  <tbody>\n    <tr>\n      <th>Unnamed: 0</th>\n      <td>53940.0</td>\n      <td>26970.500000</td>\n      <td>15571.281097</td>\n      <td>1.0</td>\n      <td>13485.75</td>\n      <td>26970.50</td>\n      <td>40455.25</td>\n      <td>53940.00</td>\n    </tr>\n    <tr>\n      <th>carat</th>\n      <td>53940.0</td>\n      <td>0.797940</td>\n      <td>0.474011</td>\n      <td>0.2</td>\n      <td>0.40</td>\n      <td>0.70</td>\n      <td>1.04</td>\n      <td>5.01</td>\n    </tr>\n    <tr>\n      <th>color</th>\n      <td>53940.0</td>\n      <td>3.405803</td>\n      <td>1.701105</td>\n      <td>0.0</td>\n      <td>2.00</td>\n      <td>3.00</td>\n      <td>5.00</td>\n      <td>6.00</td>\n    </tr>\n    <tr>\n      <th>clarity</th>\n      <td>53940.0</td>\n      <td>3.051020</td>\n      <td>1.647136</td>\n      <td>0.0</td>\n      <td>2.00</td>\n      <td>3.00</td>\n      <td>4.00</td>\n      <td>7.00</td>\n    </tr>\n    <tr>\n      <th>depth</th>\n      <td>53940.0</td>\n      <td>61.749405</td>\n      <td>1.432621</td>\n      <td>43.0</td>\n      <td>61.00</td>\n      <td>61.80</td>\n      <td>62.50</td>\n      <td>79.00</td>\n    </tr>\n    <tr>\n      <th>table</th>\n      <td>53940.0</td>\n      <td>57.457184</td>\n      <td>2.234491</td>\n      <td>43.0</td>\n      <td>56.00</td>\n      <td>57.00</td>\n      <td>59.00</td>\n      <td>95.00</td>\n    </tr>\n    <tr>\n      <th>price</th>\n      <td>53940.0</td>\n      <td>3932.799722</td>\n      <td>3989.439738</td>\n      <td>326.0</td>\n      <td>950.00</td>\n      <td>2401.00</td>\n      <td>5324.25</td>\n      <td>18823.00</td>\n    </tr>\n    <tr>\n      <th>x</th>\n      <td>53940.0</td>\n      <td>5.731157</td>\n      <td>1.121761</td>\n      <td>0.0</td>\n      <td>4.71</td>\n      <td>5.70</td>\n      <td>6.54</td>\n      <td>10.74</td>\n    </tr>\n    <tr>\n      <th>y</th>\n      <td>53940.0</td>\n      <td>5.734526</td>\n      <td>1.142135</td>\n      <td>0.0</td>\n      <td>4.72</td>\n      <td>5.71</td>\n      <td>6.54</td>\n      <td>58.90</td>\n    </tr>\n    <tr>\n      <th>z</th>\n      <td>53940.0</td>\n      <td>3.538734</td>\n      <td>0.705699</td>\n      <td>0.0</td>\n      <td>2.91</td>\n      <td>3.53</td>\n      <td>4.04</td>\n      <td>31.80</td>\n    </tr>\n  </tbody>\n</table>\n</div>"
     },
     "metadata": {},
     "execution_count": 10
    }
   ],
   "source": [
    "#your code and comments here\n",
    "\n",
    "diamonds.describe().transpose()\n",
    "\n",
    "# There seems to be some weird values in the x, y and z columns. They can’t be 0."
   ]
  },
  {
   "cell_type": "markdown",
   "metadata": {},
   "source": [
    "You have probably noticed that the columns x, y and z have a minimum value of 0. This means that there are one or more rows (or observations) in our dataset that are supposedly representing a diamond that has lenght, width or depth of 0. Considering that we're talking about a physical object, this is impossible!\n",
    "\n",
    "Now let's proceed to check the rows that have a value of 0 in any of the x, y or z columns. By doing this we want to check if the data we are missing can be obtained using the data that we do have.\n",
    "\n",
    "**Check the columns with `x`, `y` and `z` with value 0 in all of them and comment what you see**"
   ]
  },
  {
   "cell_type": "code",
   "execution_count": 11,
   "metadata": {},
   "outputs": [
    {
     "output_type": "execute_result",
     "data": {
      "text/plain": "       Unnamed: 0  carat        cut  color  clarity  depth  table  price  \\\n2207         2208   1.00    Premium      3        1   59.1   59.0   3142   \n2314         2315   1.01    Premium      2        0   58.1   59.0   3167   \n4791         4792   1.10    Premium      3        1   63.0   59.0   3696   \n5471         5472   1.01    Premium      4        1   59.2   58.0   3837   \n10167       10168   1.50       Good      3        0   64.0   61.0   4731   \n11182       11183   1.07      Ideal      4        1   61.6   56.0   4954   \n11963       11964   1.00  Very Good      2        3   63.3   53.0   5139   \n13601       13602   1.15      Ideal      3        3   59.2   56.0   5564   \n15951       15952   1.14       Fair      3        4   57.5   67.0   6381   \n24394       24395   2.18    Premium      2        1   59.4   61.0  12631   \n24520       24521   1.56      Ideal      3        3   62.2   54.0  12800   \n26123       26124   2.25    Premium      1        2   61.3   58.0  15397   \n26243       26244   1.20    Premium      6        6   62.1   59.0  15686   \n27112       27113   2.20    Premium      2        2   61.2   59.0  17265   \n27429       27430   2.25    Premium      2        1   62.8   59.0  18034   \n27503       27504   2.02    Premium      2        3   62.7   53.0  18207   \n27739       27740   2.80       Good      3        1   63.8   58.0  18788   \n49556       49557   0.71       Good      4        1   64.1   60.0   2130   \n49557       49558   0.71       Good      4        1   64.1   60.0   2130   \n51506       51507   1.12    Premium      3        0   60.4   59.0   2383   \n\n          x     y    z  \n2207   6.55  6.48  0.0  \n2314   6.66  6.60  0.0  \n4791   6.50  6.47  0.0  \n5471   6.50  6.47  0.0  \n10167  7.15  7.04  0.0  \n11182  0.00  6.62  0.0  \n11963  0.00  0.00  0.0  \n13601  6.88  6.83  0.0  \n15951  0.00  0.00  0.0  \n24394  8.49  8.45  0.0  \n24520  0.00  0.00  0.0  \n26123  8.52  8.42  0.0  \n26243  0.00  0.00  0.0  \n27112  8.42  8.37  0.0  \n27429  0.00  0.00  0.0  \n27503  8.02  7.95  0.0  \n27739  8.90  8.85  0.0  \n49556  0.00  0.00  0.0  \n49557  0.00  0.00  0.0  \n51506  6.71  6.67  0.0  ",
      "text/html": "<div>\n<style scoped>\n    .dataframe tbody tr th:only-of-type {\n        vertical-align: middle;\n    }\n\n    .dataframe tbody tr th {\n        vertical-align: top;\n    }\n\n    .dataframe thead th {\n        text-align: right;\n    }\n</style>\n<table border=\"1\" class=\"dataframe\">\n  <thead>\n    <tr style=\"text-align: right;\">\n      <th></th>\n      <th>Unnamed: 0</th>\n      <th>carat</th>\n      <th>cut</th>\n      <th>color</th>\n      <th>clarity</th>\n      <th>depth</th>\n      <th>table</th>\n      <th>price</th>\n      <th>x</th>\n      <th>y</th>\n      <th>z</th>\n    </tr>\n  </thead>\n  <tbody>\n    <tr>\n      <th>2207</th>\n      <td>2208</td>\n      <td>1.00</td>\n      <td>Premium</td>\n      <td>3</td>\n      <td>1</td>\n      <td>59.1</td>\n      <td>59.0</td>\n      <td>3142</td>\n      <td>6.55</td>\n      <td>6.48</td>\n      <td>0.0</td>\n    </tr>\n    <tr>\n      <th>2314</th>\n      <td>2315</td>\n      <td>1.01</td>\n      <td>Premium</td>\n      <td>2</td>\n      <td>0</td>\n      <td>58.1</td>\n      <td>59.0</td>\n      <td>3167</td>\n      <td>6.66</td>\n      <td>6.60</td>\n      <td>0.0</td>\n    </tr>\n    <tr>\n      <th>4791</th>\n      <td>4792</td>\n      <td>1.10</td>\n      <td>Premium</td>\n      <td>3</td>\n      <td>1</td>\n      <td>63.0</td>\n      <td>59.0</td>\n      <td>3696</td>\n      <td>6.50</td>\n      <td>6.47</td>\n      <td>0.0</td>\n    </tr>\n    <tr>\n      <th>5471</th>\n      <td>5472</td>\n      <td>1.01</td>\n      <td>Premium</td>\n      <td>4</td>\n      <td>1</td>\n      <td>59.2</td>\n      <td>58.0</td>\n      <td>3837</td>\n      <td>6.50</td>\n      <td>6.47</td>\n      <td>0.0</td>\n    </tr>\n    <tr>\n      <th>10167</th>\n      <td>10168</td>\n      <td>1.50</td>\n      <td>Good</td>\n      <td>3</td>\n      <td>0</td>\n      <td>64.0</td>\n      <td>61.0</td>\n      <td>4731</td>\n      <td>7.15</td>\n      <td>7.04</td>\n      <td>0.0</td>\n    </tr>\n    <tr>\n      <th>11182</th>\n      <td>11183</td>\n      <td>1.07</td>\n      <td>Ideal</td>\n      <td>4</td>\n      <td>1</td>\n      <td>61.6</td>\n      <td>56.0</td>\n      <td>4954</td>\n      <td>0.00</td>\n      <td>6.62</td>\n      <td>0.0</td>\n    </tr>\n    <tr>\n      <th>11963</th>\n      <td>11964</td>\n      <td>1.00</td>\n      <td>Very Good</td>\n      <td>2</td>\n      <td>3</td>\n      <td>63.3</td>\n      <td>53.0</td>\n      <td>5139</td>\n      <td>0.00</td>\n      <td>0.00</td>\n      <td>0.0</td>\n    </tr>\n    <tr>\n      <th>13601</th>\n      <td>13602</td>\n      <td>1.15</td>\n      <td>Ideal</td>\n      <td>3</td>\n      <td>3</td>\n      <td>59.2</td>\n      <td>56.0</td>\n      <td>5564</td>\n      <td>6.88</td>\n      <td>6.83</td>\n      <td>0.0</td>\n    </tr>\n    <tr>\n      <th>15951</th>\n      <td>15952</td>\n      <td>1.14</td>\n      <td>Fair</td>\n      <td>3</td>\n      <td>4</td>\n      <td>57.5</td>\n      <td>67.0</td>\n      <td>6381</td>\n      <td>0.00</td>\n      <td>0.00</td>\n      <td>0.0</td>\n    </tr>\n    <tr>\n      <th>24394</th>\n      <td>24395</td>\n      <td>2.18</td>\n      <td>Premium</td>\n      <td>2</td>\n      <td>1</td>\n      <td>59.4</td>\n      <td>61.0</td>\n      <td>12631</td>\n      <td>8.49</td>\n      <td>8.45</td>\n      <td>0.0</td>\n    </tr>\n    <tr>\n      <th>24520</th>\n      <td>24521</td>\n      <td>1.56</td>\n      <td>Ideal</td>\n      <td>3</td>\n      <td>3</td>\n      <td>62.2</td>\n      <td>54.0</td>\n      <td>12800</td>\n      <td>0.00</td>\n      <td>0.00</td>\n      <td>0.0</td>\n    </tr>\n    <tr>\n      <th>26123</th>\n      <td>26124</td>\n      <td>2.25</td>\n      <td>Premium</td>\n      <td>1</td>\n      <td>2</td>\n      <td>61.3</td>\n      <td>58.0</td>\n      <td>15397</td>\n      <td>8.52</td>\n      <td>8.42</td>\n      <td>0.0</td>\n    </tr>\n    <tr>\n      <th>26243</th>\n      <td>26244</td>\n      <td>1.20</td>\n      <td>Premium</td>\n      <td>6</td>\n      <td>6</td>\n      <td>62.1</td>\n      <td>59.0</td>\n      <td>15686</td>\n      <td>0.00</td>\n      <td>0.00</td>\n      <td>0.0</td>\n    </tr>\n    <tr>\n      <th>27112</th>\n      <td>27113</td>\n      <td>2.20</td>\n      <td>Premium</td>\n      <td>2</td>\n      <td>2</td>\n      <td>61.2</td>\n      <td>59.0</td>\n      <td>17265</td>\n      <td>8.42</td>\n      <td>8.37</td>\n      <td>0.0</td>\n    </tr>\n    <tr>\n      <th>27429</th>\n      <td>27430</td>\n      <td>2.25</td>\n      <td>Premium</td>\n      <td>2</td>\n      <td>1</td>\n      <td>62.8</td>\n      <td>59.0</td>\n      <td>18034</td>\n      <td>0.00</td>\n      <td>0.00</td>\n      <td>0.0</td>\n    </tr>\n    <tr>\n      <th>27503</th>\n      <td>27504</td>\n      <td>2.02</td>\n      <td>Premium</td>\n      <td>2</td>\n      <td>3</td>\n      <td>62.7</td>\n      <td>53.0</td>\n      <td>18207</td>\n      <td>8.02</td>\n      <td>7.95</td>\n      <td>0.0</td>\n    </tr>\n    <tr>\n      <th>27739</th>\n      <td>27740</td>\n      <td>2.80</td>\n      <td>Good</td>\n      <td>3</td>\n      <td>1</td>\n      <td>63.8</td>\n      <td>58.0</td>\n      <td>18788</td>\n      <td>8.90</td>\n      <td>8.85</td>\n      <td>0.0</td>\n    </tr>\n    <tr>\n      <th>49556</th>\n      <td>49557</td>\n      <td>0.71</td>\n      <td>Good</td>\n      <td>4</td>\n      <td>1</td>\n      <td>64.1</td>\n      <td>60.0</td>\n      <td>2130</td>\n      <td>0.00</td>\n      <td>0.00</td>\n      <td>0.0</td>\n    </tr>\n    <tr>\n      <th>49557</th>\n      <td>49558</td>\n      <td>0.71</td>\n      <td>Good</td>\n      <td>4</td>\n      <td>1</td>\n      <td>64.1</td>\n      <td>60.0</td>\n      <td>2130</td>\n      <td>0.00</td>\n      <td>0.00</td>\n      <td>0.0</td>\n    </tr>\n    <tr>\n      <th>51506</th>\n      <td>51507</td>\n      <td>1.12</td>\n      <td>Premium</td>\n      <td>3</td>\n      <td>0</td>\n      <td>60.4</td>\n      <td>59.0</td>\n      <td>2383</td>\n      <td>6.71</td>\n      <td>6.67</td>\n      <td>0.0</td>\n    </tr>\n  </tbody>\n</table>\n</div>"
     },
     "metadata": {},
     "execution_count": 11
    }
   ],
   "source": [
    "#your code here\n",
    "\n",
    "diamonds[(diamonds['x'] == 0) | (diamonds['y'] == 0) | (diamonds['z'] == 0)]"
   ]
  },
  {
   "cell_type": "markdown",
   "metadata": {},
   "source": [
    "As you can see, we have 20 rows that have a value of 0 in some or all the aforementioned columns.\n",
    "Most of them (12) are missing the z value, which we can obtain using the columns depth, x and y. \n",
    "\n",
    "20 rows with issues represent just 0.03% of our data (20 out of 53940) so it wouldn't be a big deal to remove them. Still, lets try to keep all the data we have. \n",
    "\n",
    "For those 12 rows, we will create a function that applies the formula given in the codebook and get the value of z. We will drop the other rows (8), since they are missing all 3 values or 2 of them.\n",
    "\n",
    "**Create a function named `calculate_z` that applies the function in the codebook to one single row you give to the function**"
   ]
  },
  {
   "cell_type": "code",
   "execution_count": 12,
   "metadata": {},
   "outputs": [],
   "source": [
    "#your code here\n",
    "\n",
    "def calculate_z(dataframe):\n",
    "    if dataframe['z'] == 0:\n",
    "        return ((dataframe['depth'] * (dataframe['x'] + dataframe['y'])) / 200)\n",
    "    else:\n",
    "        return dataframe['z']"
   ]
  },
  {
   "cell_type": "markdown",
   "metadata": {},
   "source": [
    "**Apply it just to the rows with incorrect values**"
   ]
  },
  {
   "cell_type": "code",
   "execution_count": 13,
   "metadata": {},
   "outputs": [
    {
     "output_type": "execute_result",
     "data": {
      "text/plain": "Empty DataFrame\nColumns: [Unnamed: 0, carat, cut, color, clarity, depth, table, price, x, y, z]\nIndex: []",
      "text/html": "<div>\n<style scoped>\n    .dataframe tbody tr th:only-of-type {\n        vertical-align: middle;\n    }\n\n    .dataframe tbody tr th {\n        vertical-align: top;\n    }\n\n    .dataframe thead th {\n        text-align: right;\n    }\n</style>\n<table border=\"1\" class=\"dataframe\">\n  <thead>\n    <tr style=\"text-align: right;\">\n      <th></th>\n      <th>Unnamed: 0</th>\n      <th>carat</th>\n      <th>cut</th>\n      <th>color</th>\n      <th>clarity</th>\n      <th>depth</th>\n      <th>table</th>\n      <th>price</th>\n      <th>x</th>\n      <th>y</th>\n      <th>z</th>\n    </tr>\n  </thead>\n  <tbody>\n  </tbody>\n</table>\n</div>"
     },
     "metadata": {},
     "execution_count": 13
    }
   ],
   "source": [
    "#your code here\n",
    "\n",
    "diamonds['z'] = diamonds.apply(lambda dataframe: calculate_z(dataframe), axis=1)\n",
    "\n",
    "diamonds = diamonds[diamonds['x'] != 0].dropna()\n",
    "diamonds = diamonds[diamonds['y'] != 0].dropna()\n",
    "\n",
    "diamonds[(diamonds['x'] == 0) | (diamonds['y'] == 0) | (diamonds['z'] == 0)]"
   ]
  },
  {
   "cell_type": "markdown",
   "metadata": {},
   "source": [
    "If we leave the other 8 values as they are, it would negatively affect our analysis, because these are data that do not make logical sense. Therefore it is better to consider those values as NaN values, since they are probably the result of a mistake or error during process of measuring and storing these values in a dataset.\n",
    "\n",
    "To replace them we can use the pandas .replace() method and np.NaN.\n",
    "\n",
    "**Replace the zero values in the `z` column for a NaN**"
   ]
  },
  {
   "cell_type": "code",
   "execution_count": 14,
   "metadata": {},
   "outputs": [
    {
     "output_type": "execute_result",
     "data": {
      "text/plain": "Empty DataFrame\nColumns: [Unnamed: 0, carat, cut, color, clarity, depth, table, price, x, y, z]\nIndex: []",
      "text/html": "<div>\n<style scoped>\n    .dataframe tbody tr th:only-of-type {\n        vertical-align: middle;\n    }\n\n    .dataframe tbody tr th {\n        vertical-align: top;\n    }\n\n    .dataframe thead th {\n        text-align: right;\n    }\n</style>\n<table border=\"1\" class=\"dataframe\">\n  <thead>\n    <tr style=\"text-align: right;\">\n      <th></th>\n      <th>Unnamed: 0</th>\n      <th>carat</th>\n      <th>cut</th>\n      <th>color</th>\n      <th>clarity</th>\n      <th>depth</th>\n      <th>table</th>\n      <th>price</th>\n      <th>x</th>\n      <th>y</th>\n      <th>z</th>\n    </tr>\n  </thead>\n  <tbody>\n  </tbody>\n</table>\n</div>"
     },
     "metadata": {},
     "execution_count": 14
    }
   ],
   "source": [
    "#your code here\n",
    "\n",
    "diamonds['z'].replace(0, np.nan, inplace=True)\n",
    "\n",
    "diamonds[(diamonds['x'] == 0) | (diamonds['y'] == 0) | (diamonds['z'] == 0)]"
   ]
  },
  {
   "cell_type": "markdown",
   "metadata": {},
   "source": [
    "----\n",
    "# Bonus: check the new z values\n",
    "Since we need to be 100% sure of our data, let's create a function that validates our z. To do so, we will use the same formula, but this time we will calculate the value of depth with the new value assigned to z.\n",
    "\n",
    "**Create a function named `validate_z` that compares the `z`  in cells above with the one thrown by the formula and run it with the rows you changed in the cells above**"
   ]
  },
  {
   "cell_type": "code",
   "execution_count": 15,
   "metadata": {},
   "outputs": [],
   "source": [
    "#your code here"
   ]
  },
  {
   "cell_type": "markdown",
   "metadata": {},
   "source": [
    "Let's check the data again with the `describe()` method."
   ]
  },
  {
   "cell_type": "markdown",
   "metadata": {},
   "source": [
    "The minimum value for x, y and z should now be a positive number, as it should be for the physical measurements of an object."
   ]
  },
  {
   "cell_type": "markdown",
   "metadata": {},
   "source": [
    "Let's finish by checking for NaN values in the data. Since we introduced them ourselves using 'replace', we will surely find some, but there may be more that are unrelated to the x, y and z columns. Checking NaNs is a fundamental part of data cleaning and it's always better to do this kind of operations before proceeding with analysis.\n",
    "\n",
    "**Check how many NaNs do you have, comment what you would do with those values, and then do so**"
   ]
  },
  {
   "cell_type": "code",
   "execution_count": 16,
   "metadata": {},
   "outputs": [],
   "source": [
    "#your code here"
   ]
  },
  {
   "cell_type": "markdown",
   "metadata": {},
   "source": [
    "# 3. Checking for outliers\n",
    "Now we are going to revisit the summary table to check for outliers.\n",
    "\n",
    "**Use the `describe` method again and comment on what you see. After that, check if you have any outliers** "
   ]
  },
  {
   "cell_type": "code",
   "execution_count": 17,
   "metadata": {},
   "outputs": [
    {
     "output_type": "execute_result",
     "data": {
      "text/plain": "              count          mean           std     min       25%       50%  \\\nUnnamed: 0  53932.0  26970.488040  15571.469710    1.00  13485.75  26971.50   \ncarat       53932.0      0.797879      0.473986    0.20      0.40      0.70   \ncolor       53932.0      3.405789      1.701165    0.00      2.00      3.00   \nclarity     53932.0      3.051101      1.647109    0.00      2.00      3.00   \ndepth       53932.0     61.749336      1.432514   43.00     61.00     61.80   \ntable       53932.0     57.457029      2.234064   43.00     56.00     57.00   \nprice       53932.0   3932.136079   3988.734835  326.00    949.75   2401.00   \nx           53932.0      5.732007      1.119670    3.73      4.71      5.70   \ny           53932.0      5.735254      1.140343    3.68      4.72      5.71   \nz           53932.0      3.540265      0.702667    1.07      2.91      3.53   \n\n                 75%       max  \nUnnamed: 0  40455.25  53940.00  \ncarat           1.04      5.01  \ncolor           5.00      6.00  \nclarity         4.00      7.00  \ndepth          62.50     79.00  \ntable          59.00     95.00  \nprice        5324.00  18823.00  \nx               6.54     10.74  \ny               6.54     58.90  \nz               4.04     31.80  ",
      "text/html": "<div>\n<style scoped>\n    .dataframe tbody tr th:only-of-type {\n        vertical-align: middle;\n    }\n\n    .dataframe tbody tr th {\n        vertical-align: top;\n    }\n\n    .dataframe thead th {\n        text-align: right;\n    }\n</style>\n<table border=\"1\" class=\"dataframe\">\n  <thead>\n    <tr style=\"text-align: right;\">\n      <th></th>\n      <th>count</th>\n      <th>mean</th>\n      <th>std</th>\n      <th>min</th>\n      <th>25%</th>\n      <th>50%</th>\n      <th>75%</th>\n      <th>max</th>\n    </tr>\n  </thead>\n  <tbody>\n    <tr>\n      <th>Unnamed: 0</th>\n      <td>53932.0</td>\n      <td>26970.488040</td>\n      <td>15571.469710</td>\n      <td>1.00</td>\n      <td>13485.75</td>\n      <td>26971.50</td>\n      <td>40455.25</td>\n      <td>53940.00</td>\n    </tr>\n    <tr>\n      <th>carat</th>\n      <td>53932.0</td>\n      <td>0.797879</td>\n      <td>0.473986</td>\n      <td>0.20</td>\n      <td>0.40</td>\n      <td>0.70</td>\n      <td>1.04</td>\n      <td>5.01</td>\n    </tr>\n    <tr>\n      <th>color</th>\n      <td>53932.0</td>\n      <td>3.405789</td>\n      <td>1.701165</td>\n      <td>0.00</td>\n      <td>2.00</td>\n      <td>3.00</td>\n      <td>5.00</td>\n      <td>6.00</td>\n    </tr>\n    <tr>\n      <th>clarity</th>\n      <td>53932.0</td>\n      <td>3.051101</td>\n      <td>1.647109</td>\n      <td>0.00</td>\n      <td>2.00</td>\n      <td>3.00</td>\n      <td>4.00</td>\n      <td>7.00</td>\n    </tr>\n    <tr>\n      <th>depth</th>\n      <td>53932.0</td>\n      <td>61.749336</td>\n      <td>1.432514</td>\n      <td>43.00</td>\n      <td>61.00</td>\n      <td>61.80</td>\n      <td>62.50</td>\n      <td>79.00</td>\n    </tr>\n    <tr>\n      <th>table</th>\n      <td>53932.0</td>\n      <td>57.457029</td>\n      <td>2.234064</td>\n      <td>43.00</td>\n      <td>56.00</td>\n      <td>57.00</td>\n      <td>59.00</td>\n      <td>95.00</td>\n    </tr>\n    <tr>\n      <th>price</th>\n      <td>53932.0</td>\n      <td>3932.136079</td>\n      <td>3988.734835</td>\n      <td>326.00</td>\n      <td>949.75</td>\n      <td>2401.00</td>\n      <td>5324.00</td>\n      <td>18823.00</td>\n    </tr>\n    <tr>\n      <th>x</th>\n      <td>53932.0</td>\n      <td>5.732007</td>\n      <td>1.119670</td>\n      <td>3.73</td>\n      <td>4.71</td>\n      <td>5.70</td>\n      <td>6.54</td>\n      <td>10.74</td>\n    </tr>\n    <tr>\n      <th>y</th>\n      <td>53932.0</td>\n      <td>5.735254</td>\n      <td>1.140343</td>\n      <td>3.68</td>\n      <td>4.72</td>\n      <td>5.71</td>\n      <td>6.54</td>\n      <td>58.90</td>\n    </tr>\n    <tr>\n      <th>z</th>\n      <td>53932.0</td>\n      <td>3.540265</td>\n      <td>0.702667</td>\n      <td>1.07</td>\n      <td>2.91</td>\n      <td>3.53</td>\n      <td>4.04</td>\n      <td>31.80</td>\n    </tr>\n  </tbody>\n</table>\n</div>"
     },
     "metadata": {},
     "execution_count": 17
    }
   ],
   "source": [
    "#your code here\n",
    "\n",
    "diamonds.describe().transpose()"
   ]
  },
  {
   "cell_type": "code",
   "execution_count": 18,
   "metadata": {},
   "outputs": [],
   "source": [
    "#your comments here\n",
    "\n",
    "# There seems to be some some values in the color and clarity column that have values of 0 as well."
   ]
  },
  {
   "cell_type": "markdown",
   "metadata": {},
   "source": [
    "To manage these outliers, we are going to filter our DataFrame, we're going to take all the values that have a price higher than the 75th percentile.\n",
    "\n",
    "**Look for that quantile and filter the dataframe to clearly see the outliers. What do you think?**"
   ]
  },
  {
   "cell_type": "code",
   "execution_count": 19,
   "metadata": {
    "tags": []
   },
   "outputs": [
    {
     "output_type": "execute_result",
     "data": {
      "text/plain": "price    5324.0\nName: 0.75, dtype: float64"
     },
     "metadata": {},
     "execution_count": 19
    }
   ],
   "source": [
    "#your code here\n",
    "\n",
    "diamonds.filter(items=['price']).quantile(.75)"
   ]
  },
  {
   "cell_type": "markdown",
   "metadata": {},
   "source": [
    "Our dataset is really big and the outliers are really far apart from the rest of the values. To see this more clearly we will use a boxplot, which plots the median, 25th and 75th quartile, the maximum and minimum, as well as any outliers."
   ]
  },
  {
   "cell_type": "code",
   "execution_count": 20,
   "metadata": {},
   "outputs": [
    {
     "output_type": "display_data",
     "data": {
      "text/plain": "<Figure size 720x360 with 2 Axes>",
      "image/svg+xml": "<?xml version=\"1.0\" encoding=\"utf-8\" standalone=\"no\"?>\n<!DOCTYPE svg PUBLIC \"-//W3C//DTD SVG 1.1//EN\"\n  \"http://www.w3.org/Graphics/SVG/1.1/DTD/svg11.dtd\">\n<!-- Created with matplotlib (https://matplotlib.org/) -->\n<svg height=\"289.7pt\" version=\"1.1\" viewBox=\"0 0 605.803125 289.7\" width=\"605.803125pt\" xmlns=\"http://www.w3.org/2000/svg\" xmlns:xlink=\"http://www.w3.org/1999/xlink\">\n <metadata>\n  <rdf:RDF xmlns:cc=\"http://creativecommons.org/ns#\" xmlns:dc=\"http://purl.org/dc/elements/1.1/\" xmlns:rdf=\"http://www.w3.org/1999/02/22-rdf-syntax-ns#\">\n   <cc:Work>\n    <dc:type rdf:resource=\"http://purl.org/dc/dcmitype/StillImage\"/>\n    <dc:date>2020-08-20T21:50:15.983397</dc:date>\n    <dc:format>image/svg+xml</dc:format>\n    <dc:creator>\n     <cc:Agent>\n      <dc:title>Matplotlib v3.3.0, https://matplotlib.org/</dc:title>\n     </cc:Agent>\n    </dc:creator>\n   </cc:Work>\n  </rdf:RDF>\n </metadata>\n <defs>\n  <style type=\"text/css\">*{stroke-linecap:butt;stroke-linejoin:round;}</style>\n </defs>\n <g id=\"figure_1\">\n  <g id=\"patch_1\">\n   <path d=\"M 0 289.7 \nL 605.803125 289.7 \nL 605.803125 0 \nL 0 0 \nz\n\" style=\"fill:none;\"/>\n  </g>\n  <g id=\"axes_1\">\n   <g id=\"patch_2\">\n    <path d=\"M 40.603125 279 \nL 263.803125 279 \nL 263.803125 7.2 \nL 40.603125 7.2 \nz\n\" style=\"fill:#ffffff;\"/>\n   </g>\n   <g id=\"patch_3\">\n    <path clip-path=\"url(#p33dac73623)\" d=\"M 62.923125 261.991805 \nL 241.483125 261.991805 \nL 241.483125 253.847917 \nL 62.923125 253.847917 \nL 62.923125 261.991805 \nz\n\" style=\"fill:#3274a1;stroke:#3f3f3f;stroke-linejoin:miter;stroke-width:1.5;\"/>\n   </g>\n   <g id=\"matplotlib.axis_1\">\n    <g id=\"xtick_1\">\n     <g id=\"line2d_1\">\n      <defs>\n       <path d=\"M 0 0 \nL 0 3.5 \n\" id=\"maff238074f\" style=\"stroke:#000000;stroke-width:0.8;\"/>\n      </defs>\n      <g>\n       <use style=\"stroke:#000000;stroke-width:0.8;\" x=\"152.203125\" xlink:href=\"#maff238074f\" y=\"279\"/>\n      </g>\n     </g>\n    </g>\n   </g>\n   <g id=\"matplotlib.axis_2\">\n    <g id=\"ytick_1\">\n     <g id=\"line2d_2\">\n      <defs>\n       <path d=\"M 0 0 \nL -3.5 0 \n\" id=\"m5b2ed361bd\" style=\"stroke:#000000;stroke-width:0.8;\"/>\n      </defs>\n      <g>\n       <use style=\"stroke:#000000;stroke-width:0.8;\" x=\"40.603125\" xlink:href=\"#m5b2ed361bd\" y=\"238.365582\"/>\n      </g>\n     </g>\n     <g id=\"text_1\">\n      <!-- 10 -->\n      <g transform=\"translate(20.878125 242.164801)scale(0.1 -0.1)\">\n       <defs>\n        <path d=\"M 12.40625 8.296875 \nL 28.515625 8.296875 \nL 28.515625 63.921875 \nL 10.984375 60.40625 \nL 10.984375 69.390625 \nL 28.421875 72.90625 \nL 38.28125 72.90625 \nL 38.28125 8.296875 \nL 54.390625 8.296875 \nL 54.390625 0 \nL 12.40625 0 \nz\n\" id=\"DejaVuSans-49\"/>\n        <path d=\"M 31.78125 66.40625 \nQ 24.171875 66.40625 20.328125 58.90625 \nQ 16.5 51.421875 16.5 36.375 \nQ 16.5 21.390625 20.328125 13.890625 \nQ 24.171875 6.390625 31.78125 6.390625 \nQ 39.453125 6.390625 43.28125 13.890625 \nQ 47.125 21.390625 47.125 36.375 \nQ 47.125 51.421875 43.28125 58.90625 \nQ 39.453125 66.40625 31.78125 66.40625 \nz\nM 31.78125 74.21875 \nQ 44.046875 74.21875 50.515625 64.515625 \nQ 56.984375 54.828125 56.984375 36.375 \nQ 56.984375 17.96875 50.515625 8.265625 \nQ 44.046875 -1.421875 31.78125 -1.421875 \nQ 19.53125 -1.421875 13.0625 8.265625 \nQ 6.59375 17.96875 6.59375 36.375 \nQ 6.59375 54.828125 13.0625 64.515625 \nQ 19.53125 74.21875 31.78125 74.21875 \nz\n\" id=\"DejaVuSans-48\"/>\n       </defs>\n       <use xlink:href=\"#DejaVuSans-49\"/>\n       <use x=\"63.623047\" xlink:href=\"#DejaVuSans-48\"/>\n      </g>\n     </g>\n    </g>\n    <g id=\"ytick_2\">\n     <g id=\"line2d_3\">\n      <g>\n       <use style=\"stroke:#000000;stroke-width:0.8;\" x=\"40.603125\" xlink:href=\"#m5b2ed361bd\" y=\"193.618949\"/>\n      </g>\n     </g>\n     <g id=\"text_2\">\n      <!-- 20 -->\n      <g transform=\"translate(20.878125 197.418168)scale(0.1 -0.1)\">\n       <defs>\n        <path d=\"M 19.1875 8.296875 \nL 53.609375 8.296875 \nL 53.609375 0 \nL 7.328125 0 \nL 7.328125 8.296875 \nQ 12.9375 14.109375 22.625 23.890625 \nQ 32.328125 33.6875 34.8125 36.53125 \nQ 39.546875 41.84375 41.421875 45.53125 \nQ 43.3125 49.21875 43.3125 52.78125 \nQ 43.3125 58.59375 39.234375 62.25 \nQ 35.15625 65.921875 28.609375 65.921875 \nQ 23.96875 65.921875 18.8125 64.3125 \nQ 13.671875 62.703125 7.8125 59.421875 \nL 7.8125 69.390625 \nQ 13.765625 71.78125 18.9375 73 \nQ 24.125 74.21875 28.421875 74.21875 \nQ 39.75 74.21875 46.484375 68.546875 \nQ 53.21875 62.890625 53.21875 53.421875 \nQ 53.21875 48.921875 51.53125 44.890625 \nQ 49.859375 40.875 45.40625 35.40625 \nQ 44.1875 33.984375 37.640625 27.21875 \nQ 31.109375 20.453125 19.1875 8.296875 \nz\n\" id=\"DejaVuSans-50\"/>\n       </defs>\n       <use xlink:href=\"#DejaVuSans-50\"/>\n       <use x=\"63.623047\" xlink:href=\"#DejaVuSans-48\"/>\n      </g>\n     </g>\n    </g>\n    <g id=\"ytick_3\">\n     <g id=\"line2d_4\">\n      <g>\n       <use style=\"stroke:#000000;stroke-width:0.8;\" x=\"40.603125\" xlink:href=\"#m5b2ed361bd\" y=\"148.872316\"/>\n      </g>\n     </g>\n     <g id=\"text_3\">\n      <!-- 30 -->\n      <g transform=\"translate(20.878125 152.671534)scale(0.1 -0.1)\">\n       <defs>\n        <path d=\"M 40.578125 39.3125 \nQ 47.65625 37.796875 51.625 33 \nQ 55.609375 28.21875 55.609375 21.1875 \nQ 55.609375 10.40625 48.1875 4.484375 \nQ 40.765625 -1.421875 27.09375 -1.421875 \nQ 22.515625 -1.421875 17.65625 -0.515625 \nQ 12.796875 0.390625 7.625 2.203125 \nL 7.625 11.71875 \nQ 11.71875 9.328125 16.59375 8.109375 \nQ 21.484375 6.890625 26.8125 6.890625 \nQ 36.078125 6.890625 40.9375 10.546875 \nQ 45.796875 14.203125 45.796875 21.1875 \nQ 45.796875 27.640625 41.28125 31.265625 \nQ 36.765625 34.90625 28.71875 34.90625 \nL 20.21875 34.90625 \nL 20.21875 43.015625 \nL 29.109375 43.015625 \nQ 36.375 43.015625 40.234375 45.921875 \nQ 44.09375 48.828125 44.09375 54.296875 \nQ 44.09375 59.90625 40.109375 62.90625 \nQ 36.140625 65.921875 28.71875 65.921875 \nQ 24.65625 65.921875 20.015625 65.03125 \nQ 15.375 64.15625 9.8125 62.3125 \nL 9.8125 71.09375 \nQ 15.4375 72.65625 20.34375 73.4375 \nQ 25.25 74.21875 29.59375 74.21875 \nQ 40.828125 74.21875 47.359375 69.109375 \nQ 53.90625 64.015625 53.90625 55.328125 \nQ 53.90625 49.265625 50.4375 45.09375 \nQ 46.96875 40.921875 40.578125 39.3125 \nz\n\" id=\"DejaVuSans-51\"/>\n       </defs>\n       <use xlink:href=\"#DejaVuSans-51\"/>\n       <use x=\"63.623047\" xlink:href=\"#DejaVuSans-48\"/>\n      </g>\n     </g>\n    </g>\n    <g id=\"ytick_4\">\n     <g id=\"line2d_5\">\n      <g>\n       <use style=\"stroke:#000000;stroke-width:0.8;\" x=\"40.603125\" xlink:href=\"#m5b2ed361bd\" y=\"104.125682\"/>\n      </g>\n     </g>\n     <g id=\"text_4\">\n      <!-- 40 -->\n      <g transform=\"translate(20.878125 107.924901)scale(0.1 -0.1)\">\n       <defs>\n        <path d=\"M 37.796875 64.3125 \nL 12.890625 25.390625 \nL 37.796875 25.390625 \nz\nM 35.203125 72.90625 \nL 47.609375 72.90625 \nL 47.609375 25.390625 \nL 58.015625 25.390625 \nL 58.015625 17.1875 \nL 47.609375 17.1875 \nL 47.609375 0 \nL 37.796875 0 \nL 37.796875 17.1875 \nL 4.890625 17.1875 \nL 4.890625 26.703125 \nz\n\" id=\"DejaVuSans-52\"/>\n       </defs>\n       <use xlink:href=\"#DejaVuSans-52\"/>\n       <use x=\"63.623047\" xlink:href=\"#DejaVuSans-48\"/>\n      </g>\n     </g>\n    </g>\n    <g id=\"ytick_5\">\n     <g id=\"line2d_6\">\n      <g>\n       <use style=\"stroke:#000000;stroke-width:0.8;\" x=\"40.603125\" xlink:href=\"#m5b2ed361bd\" y=\"59.379049\"/>\n      </g>\n     </g>\n     <g id=\"text_5\">\n      <!-- 50 -->\n      <g transform=\"translate(20.878125 63.178268)scale(0.1 -0.1)\">\n       <defs>\n        <path d=\"M 10.796875 72.90625 \nL 49.515625 72.90625 \nL 49.515625 64.59375 \nL 19.828125 64.59375 \nL 19.828125 46.734375 \nQ 21.96875 47.46875 24.109375 47.828125 \nQ 26.265625 48.1875 28.421875 48.1875 \nQ 40.625 48.1875 47.75 41.5 \nQ 54.890625 34.8125 54.890625 23.390625 \nQ 54.890625 11.625 47.5625 5.09375 \nQ 40.234375 -1.421875 26.90625 -1.421875 \nQ 22.3125 -1.421875 17.546875 -0.640625 \nQ 12.796875 0.140625 7.71875 1.703125 \nL 7.71875 11.625 \nQ 12.109375 9.234375 16.796875 8.0625 \nQ 21.484375 6.890625 26.703125 6.890625 \nQ 35.15625 6.890625 40.078125 11.328125 \nQ 45.015625 15.765625 45.015625 23.390625 \nQ 45.015625 31 40.078125 35.4375 \nQ 35.15625 39.890625 26.703125 39.890625 \nQ 22.75 39.890625 18.8125 39.015625 \nQ 14.890625 38.140625 10.796875 36.28125 \nz\n\" id=\"DejaVuSans-53\"/>\n       </defs>\n       <use xlink:href=\"#DejaVuSans-53\"/>\n       <use x=\"63.623047\" xlink:href=\"#DejaVuSans-48\"/>\n      </g>\n     </g>\n    </g>\n    <g id=\"ytick_6\">\n     <g id=\"line2d_7\">\n      <g>\n       <use style=\"stroke:#000000;stroke-width:0.8;\" x=\"40.603125\" xlink:href=\"#m5b2ed361bd\" y=\"14.632416\"/>\n      </g>\n     </g>\n     <g id=\"text_6\">\n      <!-- 60 -->\n      <g transform=\"translate(20.878125 18.431635)scale(0.1 -0.1)\">\n       <defs>\n        <path d=\"M 33.015625 40.375 \nQ 26.375 40.375 22.484375 35.828125 \nQ 18.609375 31.296875 18.609375 23.390625 \nQ 18.609375 15.53125 22.484375 10.953125 \nQ 26.375 6.390625 33.015625 6.390625 \nQ 39.65625 6.390625 43.53125 10.953125 \nQ 47.40625 15.53125 47.40625 23.390625 \nQ 47.40625 31.296875 43.53125 35.828125 \nQ 39.65625 40.375 33.015625 40.375 \nz\nM 52.59375 71.296875 \nL 52.59375 62.3125 \nQ 48.875 64.0625 45.09375 64.984375 \nQ 41.3125 65.921875 37.59375 65.921875 \nQ 27.828125 65.921875 22.671875 59.328125 \nQ 17.53125 52.734375 16.796875 39.40625 \nQ 19.671875 43.65625 24.015625 45.921875 \nQ 28.375 48.1875 33.59375 48.1875 \nQ 44.578125 48.1875 50.953125 41.515625 \nQ 57.328125 34.859375 57.328125 23.390625 \nQ 57.328125 12.15625 50.6875 5.359375 \nQ 44.046875 -1.421875 33.015625 -1.421875 \nQ 20.359375 -1.421875 13.671875 8.265625 \nQ 6.984375 17.96875 6.984375 36.375 \nQ 6.984375 53.65625 15.1875 63.9375 \nQ 23.390625 74.21875 37.203125 74.21875 \nQ 40.921875 74.21875 44.703125 73.484375 \nQ 48.484375 72.75 52.59375 71.296875 \nz\n\" id=\"DejaVuSans-54\"/>\n       </defs>\n       <use xlink:href=\"#DejaVuSans-54\"/>\n       <use x=\"63.623047\" xlink:href=\"#DejaVuSans-48\"/>\n      </g>\n     </g>\n    </g>\n    <g id=\"text_7\">\n     <!-- y -->\n     <g transform=\"translate(14.798437 146.059375)rotate(-90)scale(0.1 -0.1)\">\n      <defs>\n       <path d=\"M 32.171875 -5.078125 \nQ 28.375 -14.84375 24.75 -17.8125 \nQ 21.140625 -20.796875 15.09375 -20.796875 \nL 7.90625 -20.796875 \nL 7.90625 -13.28125 \nL 13.1875 -13.28125 \nQ 16.890625 -13.28125 18.9375 -11.515625 \nQ 21 -9.765625 23.484375 -3.21875 \nL 25.09375 0.875 \nL 2.984375 54.6875 \nL 12.5 54.6875 \nL 29.59375 11.921875 \nL 46.6875 54.6875 \nL 56.203125 54.6875 \nz\n\" id=\"DejaVuSans-121\"/>\n      </defs>\n      <use xlink:href=\"#DejaVuSans-121\"/>\n     </g>\n    </g>\n   </g>\n   <g id=\"line2d_8\">\n    <path clip-path=\"url(#p33dac73623)\" d=\"M 152.203125 261.991805 \nL 152.203125 266.645455 \n\" style=\"fill:none;stroke:#3f3f3f;stroke-linecap:square;stroke-width:1.5;\"/>\n   </g>\n   <g id=\"line2d_9\">\n    <path clip-path=\"url(#p33dac73623)\" d=\"M 152.203125 253.847917 \nL 152.203125 241.676833 \n\" style=\"fill:none;stroke:#3f3f3f;stroke-linecap:square;stroke-width:1.5;\"/>\n   </g>\n   <g id=\"line2d_10\">\n    <path clip-path=\"url(#p33dac73623)\" d=\"M 107.563125 266.645455 \nL 196.843125 266.645455 \n\" style=\"fill:none;stroke:#3f3f3f;stroke-linecap:square;stroke-width:1.5;\"/>\n   </g>\n   <g id=\"line2d_11\">\n    <path clip-path=\"url(#p33dac73623)\" d=\"M 107.563125 241.676833 \nL 196.843125 241.676833 \n\" style=\"fill:none;stroke:#3f3f3f;stroke-linecap:square;stroke-width:1.5;\"/>\n   </g>\n   <g id=\"line2d_12\">\n    <defs>\n     <path d=\"M -0 3.535534 \nL 2.12132 0 \nL -0 -3.535534 \nL -2.12132 -0 \nz\n\" id=\"me7232c8b3b\" style=\"stroke:#3f3f3f;stroke-linejoin:miter;\"/>\n    </defs>\n    <g clip-path=\"url(#p33dac73623)\">\n     <use style=\"fill:#3f3f3f;stroke:#3f3f3f;stroke-linejoin:miter;\" x=\"152.203125\" xlink:href=\"#me7232c8b3b\" y=\"241.139874\"/>\n     <use style=\"fill:#3f3f3f;stroke:#3f3f3f;stroke-linejoin:miter;\" x=\"152.203125\" xlink:href=\"#me7232c8b3b\" y=\"241.4531\"/>\n     <use style=\"fill:#3f3f3f;stroke:#3f3f3f;stroke-linejoin:miter;\" x=\"152.203125\" xlink:href=\"#me7232c8b3b\" y=\"240.692407\"/>\n     <use style=\"fill:#3f3f3f;stroke:#3f3f3f;stroke-linejoin:miter;\" x=\"152.203125\" xlink:href=\"#me7232c8b3b\" y=\"19.554545\"/>\n     <use style=\"fill:#3f3f3f;stroke:#3f3f3f;stroke-linejoin:miter;\" x=\"152.203125\" xlink:href=\"#me7232c8b3b\" y=\"241.05038\"/>\n     <use style=\"fill:#3f3f3f;stroke:#3f3f3f;stroke-linejoin:miter;\" x=\"152.203125\" xlink:href=\"#me7232c8b3b\" y=\"240.960887\"/>\n     <use style=\"fill:#3f3f3f;stroke:#3f3f3f;stroke-linejoin:miter;\" x=\"152.203125\" xlink:href=\"#me7232c8b3b\" y=\"240.200194\"/>\n     <use style=\"fill:#3f3f3f;stroke:#3f3f3f;stroke-linejoin:miter;\" x=\"152.203125\" xlink:href=\"#me7232c8b3b\" y=\"241.18462\"/>\n     <use style=\"fill:#3f3f3f;stroke:#3f3f3f;stroke-linejoin:miter;\" x=\"152.203125\" xlink:href=\"#me7232c8b3b\" y=\"237.918116\"/>\n     <use style=\"fill:#3f3f3f;stroke:#3f3f3f;stroke-linejoin:miter;\" x=\"152.203125\" xlink:href=\"#me7232c8b3b\" y=\"238.634062\"/>\n     <use style=\"fill:#3f3f3f;stroke:#3f3f3f;stroke-linejoin:miter;\" x=\"152.203125\" xlink:href=\"#me7232c8b3b\" y=\"241.31886\"/>\n     <use style=\"fill:#3f3f3f;stroke:#3f3f3f;stroke-linejoin:miter;\" x=\"152.203125\" xlink:href=\"#me7232c8b3b\" y=\"238.634062\"/>\n     <use style=\"fill:#3f3f3f;stroke:#3f3f3f;stroke-linejoin:miter;\" x=\"152.203125\" xlink:href=\"#me7232c8b3b\" y=\"239.215768\"/>\n     <use style=\"fill:#3f3f3f;stroke:#3f3f3f;stroke-linejoin:miter;\" x=\"152.203125\" xlink:href=\"#me7232c8b3b\" y=\"239.036782\"/>\n     <use style=\"fill:#3f3f3f;stroke:#3f3f3f;stroke-linejoin:miter;\" x=\"152.203125\" xlink:href=\"#me7232c8b3b\" y=\"235.949264\"/>\n     <use style=\"fill:#3f3f3f;stroke:#3f3f3f;stroke-linejoin:miter;\" x=\"152.203125\" xlink:href=\"#me7232c8b3b\" y=\"241.4531\"/>\n     <use style=\"fill:#3f3f3f;stroke:#3f3f3f;stroke-linejoin:miter;\" x=\"152.203125\" xlink:href=\"#me7232c8b3b\" y=\"237.649636\"/>\n     <use style=\"fill:#3f3f3f;stroke:#3f3f3f;stroke-linejoin:miter;\" x=\"152.203125\" xlink:href=\"#me7232c8b3b\" y=\"240.7819\"/>\n     <use style=\"fill:#3f3f3f;stroke:#3f3f3f;stroke-linejoin:miter;\" x=\"152.203125\" xlink:href=\"#me7232c8b3b\" y=\"241.139874\"/>\n     <use style=\"fill:#3f3f3f;stroke:#3f3f3f;stroke-linejoin:miter;\" x=\"152.203125\" xlink:href=\"#me7232c8b3b\" y=\"240.021208\"/>\n     <use style=\"fill:#3f3f3f;stroke:#3f3f3f;stroke-linejoin:miter;\" x=\"152.203125\" xlink:href=\"#me7232c8b3b\" y=\"241.408353\"/>\n     <use style=\"fill:#3f3f3f;stroke:#3f3f3f;stroke-linejoin:miter;\" x=\"152.203125\" xlink:href=\"#me7232c8b3b\" y=\"140.817922\"/>\n    </g>\n   </g>\n   <g id=\"line2d_13\">\n    <path clip-path=\"url(#p33dac73623)\" d=\"M 62.923125 257.561888 \nL 241.483125 257.561888 \n\" style=\"fill:none;stroke:#3f3f3f;stroke-linecap:square;stroke-width:1.5;\"/>\n   </g>\n   <g id=\"patch_4\">\n    <path d=\"M 40.603125 279 \nL 40.603125 7.2 \n\" style=\"fill:none;stroke:#000000;stroke-linecap:square;stroke-linejoin:miter;stroke-width:0.8;\"/>\n   </g>\n   <g id=\"patch_5\">\n    <path d=\"M 263.803125 279 \nL 263.803125 7.2 \n\" style=\"fill:none;stroke:#000000;stroke-linecap:square;stroke-linejoin:miter;stroke-width:0.8;\"/>\n   </g>\n   <g id=\"patch_6\">\n    <path d=\"M 40.603125 279 \nL 263.803125 279 \n\" style=\"fill:none;stroke:#000000;stroke-linecap:square;stroke-linejoin:miter;stroke-width:0.8;\"/>\n   </g>\n   <g id=\"patch_7\">\n    <path d=\"M 40.603125 7.2 \nL 263.803125 7.2 \n\" style=\"fill:none;stroke:#000000;stroke-linecap:square;stroke-linejoin:miter;stroke-width:0.8;\"/>\n   </g>\n  </g>\n  <g id=\"axes_2\">\n   <g id=\"patch_8\">\n    <path d=\"M 375.403125 279 \nL 598.603125 279 \nL 598.603125 7.2 \nL 375.403125 7.2 \nz\n\" style=\"fill:#ffffff;\"/>\n   </g>\n   <g id=\"patch_9\">\n    <path clip-path=\"url(#pe5d9e2977a)\" d=\"M 397.723125 251.850555 \nL 576.283125 251.850555 \nL 576.283125 242.764556 \nL 397.723125 242.764556 \nL 397.723125 251.850555 \nz\n\" style=\"fill:#3274a1;stroke:#3f3f3f;stroke-linejoin:miter;stroke-width:1.5;\"/>\n   </g>\n   <g id=\"matplotlib.axis_3\">\n    <g id=\"xtick_2\">\n     <g id=\"line2d_14\">\n      <g>\n       <use style=\"stroke:#000000;stroke-width:0.8;\" x=\"487.003125\" xlink:href=\"#maff238074f\" y=\"279\"/>\n      </g>\n     </g>\n    </g>\n   </g>\n   <g id=\"matplotlib.axis_4\">\n    <g id=\"ytick_7\">\n     <g id=\"line2d_15\">\n      <g>\n       <use style=\"stroke:#000000;stroke-width:0.8;\" x=\"375.403125\" xlink:href=\"#m5b2ed361bd\" y=\"275.24901\"/>\n      </g>\n     </g>\n     <g id=\"text_8\">\n      <!-- 0 -->\n      <g transform=\"translate(362.040625 279.048229)scale(0.1 -0.1)\">\n       <use xlink:href=\"#DejaVuSans-48\"/>\n      </g>\n     </g>\n    </g>\n    <g id=\"ytick_8\">\n     <g id=\"line2d_16\">\n      <g>\n       <use style=\"stroke:#000000;stroke-width:0.8;\" x=\"375.403125\" xlink:href=\"#m5b2ed361bd\" y=\"235.045478\"/>\n      </g>\n     </g>\n     <g id=\"text_9\">\n      <!-- 5 -->\n      <g transform=\"translate(362.040625 238.844697)scale(0.1 -0.1)\">\n       <use xlink:href=\"#DejaVuSans-53\"/>\n      </g>\n     </g>\n    </g>\n    <g id=\"ytick_9\">\n     <g id=\"line2d_17\">\n      <g>\n       <use style=\"stroke:#000000;stroke-width:0.8;\" x=\"375.403125\" xlink:href=\"#m5b2ed361bd\" y=\"194.841946\"/>\n      </g>\n     </g>\n     <g id=\"text_10\">\n      <!-- 10 -->\n      <g transform=\"translate(355.678125 198.641165)scale(0.1 -0.1)\">\n       <use xlink:href=\"#DejaVuSans-49\"/>\n       <use x=\"63.623047\" xlink:href=\"#DejaVuSans-48\"/>\n      </g>\n     </g>\n    </g>\n    <g id=\"ytick_10\">\n     <g id=\"line2d_18\">\n      <g>\n       <use style=\"stroke:#000000;stroke-width:0.8;\" x=\"375.403125\" xlink:href=\"#m5b2ed361bd\" y=\"154.638414\"/>\n      </g>\n     </g>\n     <g id=\"text_11\">\n      <!-- 15 -->\n      <g transform=\"translate(355.678125 158.437633)scale(0.1 -0.1)\">\n       <use xlink:href=\"#DejaVuSans-49\"/>\n       <use x=\"63.623047\" xlink:href=\"#DejaVuSans-53\"/>\n      </g>\n     </g>\n    </g>\n    <g id=\"ytick_11\">\n     <g id=\"line2d_19\">\n      <g>\n       <use style=\"stroke:#000000;stroke-width:0.8;\" x=\"375.403125\" xlink:href=\"#m5b2ed361bd\" y=\"114.434882\"/>\n      </g>\n     </g>\n     <g id=\"text_12\">\n      <!-- 20 -->\n      <g transform=\"translate(355.678125 118.2341)scale(0.1 -0.1)\">\n       <use xlink:href=\"#DejaVuSans-50\"/>\n       <use x=\"63.623047\" xlink:href=\"#DejaVuSans-48\"/>\n      </g>\n     </g>\n    </g>\n    <g id=\"ytick_12\">\n     <g id=\"line2d_20\">\n      <g>\n       <use style=\"stroke:#000000;stroke-width:0.8;\" x=\"375.403125\" xlink:href=\"#m5b2ed361bd\" y=\"74.231349\"/>\n      </g>\n     </g>\n     <g id=\"text_13\">\n      <!-- 25 -->\n      <g transform=\"translate(355.678125 78.030568)scale(0.1 -0.1)\">\n       <use xlink:href=\"#DejaVuSans-50\"/>\n       <use x=\"63.623047\" xlink:href=\"#DejaVuSans-53\"/>\n      </g>\n     </g>\n    </g>\n    <g id=\"ytick_13\">\n     <g id=\"line2d_21\">\n      <g>\n       <use style=\"stroke:#000000;stroke-width:0.8;\" x=\"375.403125\" xlink:href=\"#m5b2ed361bd\" y=\"34.027817\"/>\n      </g>\n     </g>\n     <g id=\"text_14\">\n      <!-- 30 -->\n      <g transform=\"translate(355.678125 37.827036)scale(0.1 -0.1)\">\n       <use xlink:href=\"#DejaVuSans-51\"/>\n       <use x=\"63.623047\" xlink:href=\"#DejaVuSans-48\"/>\n      </g>\n     </g>\n    </g>\n    <g id=\"text_15\">\n     <!-- z -->\n     <g transform=\"translate(349.598437 145.724219)rotate(-90)scale(0.1 -0.1)\">\n      <defs>\n       <path d=\"M 5.515625 54.6875 \nL 48.1875 54.6875 \nL 48.1875 46.484375 \nL 14.40625 7.171875 \nL 48.1875 7.171875 \nL 48.1875 0 \nL 4.296875 0 \nL 4.296875 8.203125 \nL 38.09375 47.515625 \nL 5.515625 47.515625 \nz\n\" id=\"DejaVuSans-122\"/>\n      </defs>\n      <use xlink:href=\"#DejaVuSans-122\"/>\n     </g>\n    </g>\n   </g>\n   <g id=\"line2d_22\">\n    <path clip-path=\"url(#pe5d9e2977a)\" d=\"M 487.003125 251.850555 \nL 487.003125 263.911614 \n\" style=\"fill:none;stroke:#3f3f3f;stroke-linecap:square;stroke-width:1.5;\"/>\n   </g>\n   <g id=\"line2d_23\">\n    <path clip-path=\"url(#pe5d9e2977a)\" d=\"M 487.003125 242.764556 \nL 487.003125 229.175763 \n\" style=\"fill:none;stroke:#3f3f3f;stroke-linecap:square;stroke-width:1.5;\"/>\n   </g>\n   <g id=\"line2d_24\">\n    <path clip-path=\"url(#pe5d9e2977a)\" d=\"M 442.363125 263.911614 \nL 531.643125 263.911614 \n\" style=\"fill:none;stroke:#3f3f3f;stroke-linecap:square;stroke-width:1.5;\"/>\n   </g>\n   <g id=\"line2d_25\">\n    <path clip-path=\"url(#pe5d9e2977a)\" d=\"M 442.363125 229.175763 \nL 531.643125 229.175763 \n\" style=\"fill:none;stroke:#3f3f3f;stroke-linecap:square;stroke-width:1.5;\"/>\n   </g>\n   <g id=\"line2d_26\">\n    <g clip-path=\"url(#pe5d9e2977a)\">\n     <use style=\"fill:#3f3f3f;stroke:#3f3f3f;stroke-linejoin:miter;\" x=\"487.003125\" xlink:href=\"#me7232c8b3b\" y=\"266.645455\"/>\n     <use style=\"fill:#3f3f3f;stroke:#3f3f3f;stroke-linejoin:miter;\" x=\"487.003125\" xlink:href=\"#me7232c8b3b\" y=\"228.854134\"/>\n     <use style=\"fill:#3f3f3f;stroke:#3f3f3f;stroke-linejoin:miter;\" x=\"487.003125\" xlink:href=\"#me7232c8b3b\" y=\"228.934541\"/>\n     <use style=\"fill:#3f3f3f;stroke:#3f3f3f;stroke-linejoin:miter;\" x=\"487.003125\" xlink:href=\"#me7232c8b3b\" y=\"227.245993\"/>\n     <use style=\"fill:#3f3f3f;stroke:#3f3f3f;stroke-linejoin:miter;\" x=\"487.003125\" xlink:href=\"#me7232c8b3b\" y=\"227.165586\"/>\n     <use style=\"fill:#3f3f3f;stroke:#3f3f3f;stroke-linejoin:miter;\" x=\"487.003125\" xlink:href=\"#me7232c8b3b\" y=\"227.728435\"/>\n     <use style=\"fill:#3f3f3f;stroke:#3f3f3f;stroke-linejoin:miter;\" x=\"487.003125\" xlink:href=\"#me7232c8b3b\" y=\"228.69332\"/>\n     <use style=\"fill:#3f3f3f;stroke:#3f3f3f;stroke-linejoin:miter;\" x=\"487.003125\" xlink:href=\"#me7232c8b3b\" y=\"223.949303\"/>\n     <use style=\"fill:#3f3f3f;stroke:#3f3f3f;stroke-linejoin:miter;\" x=\"487.003125\" xlink:href=\"#me7232c8b3b\" y=\"210.440916\"/>\n     <use style=\"fill:#3f3f3f;stroke:#3f3f3f;stroke-linejoin:miter;\" x=\"487.003125\" xlink:href=\"#me7232c8b3b\" y=\"228.210878\"/>\n     <use style=\"fill:#3f3f3f;stroke:#3f3f3f;stroke-linejoin:miter;\" x=\"487.003125\" xlink:href=\"#me7232c8b3b\" y=\"227.648028\"/>\n     <use style=\"fill:#3f3f3f;stroke:#3f3f3f;stroke-linejoin:miter;\" x=\"487.003125\" xlink:href=\"#me7232c8b3b\" y=\"226.763551\"/>\n     <use style=\"fill:#3f3f3f;stroke:#3f3f3f;stroke-linejoin:miter;\" x=\"487.003125\" xlink:href=\"#me7232c8b3b\" y=\"225.637852\"/>\n     <use style=\"fill:#3f3f3f;stroke:#3f3f3f;stroke-linejoin:miter;\" x=\"487.003125\" xlink:href=\"#me7232c8b3b\" y=\"225.075002\"/>\n     <use style=\"fill:#3f3f3f;stroke:#3f3f3f;stroke-linejoin:miter;\" x=\"487.003125\" xlink:href=\"#me7232c8b3b\" y=\"229.014948\"/>\n     <use style=\"fill:#3f3f3f;stroke:#3f3f3f;stroke-linejoin:miter;\" x=\"487.003125\" xlink:href=\"#me7232c8b3b\" y=\"225.718259\"/>\n     <use style=\"fill:#3f3f3f;stroke:#3f3f3f;stroke-linejoin:miter;\" x=\"487.003125\" xlink:href=\"#me7232c8b3b\" y=\"224.833781\"/>\n     <use style=\"fill:#3f3f3f;stroke:#3f3f3f;stroke-linejoin:miter;\" x=\"487.003125\" xlink:href=\"#me7232c8b3b\" y=\"224.512153\"/>\n     <use style=\"fill:#3f3f3f;stroke:#3f3f3f;stroke-linejoin:miter;\" x=\"487.003125\" xlink:href=\"#me7232c8b3b\" y=\"225.95948\"/>\n     <use style=\"fill:#3f3f3f;stroke:#3f3f3f;stroke-linejoin:miter;\" x=\"487.003125\" xlink:href=\"#me7232c8b3b\" y=\"228.130471\"/>\n     <use style=\"fill:#3f3f3f;stroke:#3f3f3f;stroke-linejoin:miter;\" x=\"487.003125\" xlink:href=\"#me7232c8b3b\" y=\"223.547268\"/>\n     <use style=\"fill:#3f3f3f;stroke:#3f3f3f;stroke-linejoin:miter;\" x=\"487.003125\" xlink:href=\"#me7232c8b3b\" y=\"219.124879\"/>\n     <use style=\"fill:#3f3f3f;stroke:#3f3f3f;stroke-linejoin:miter;\" x=\"487.003125\" xlink:href=\"#me7232c8b3b\" y=\"227.808842\"/>\n     <use style=\"fill:#3f3f3f;stroke:#3f3f3f;stroke-linejoin:miter;\" x=\"487.003125\" xlink:href=\"#me7232c8b3b\" y=\"227.808842\"/>\n     <use style=\"fill:#3f3f3f;stroke:#3f3f3f;stroke-linejoin:miter;\" x=\"487.003125\" xlink:href=\"#me7232c8b3b\" y=\"228.854134\"/>\n     <use style=\"fill:#3f3f3f;stroke:#3f3f3f;stroke-linejoin:miter;\" x=\"487.003125\" xlink:href=\"#me7232c8b3b\" y=\"228.854134\"/>\n     <use style=\"fill:#3f3f3f;stroke:#3f3f3f;stroke-linejoin:miter;\" x=\"487.003125\" xlink:href=\"#me7232c8b3b\" y=\"221.215463\"/>\n     <use style=\"fill:#3f3f3f;stroke:#3f3f3f;stroke-linejoin:miter;\" x=\"487.003125\" xlink:href=\"#me7232c8b3b\" y=\"226.763551\"/>\n     <use style=\"fill:#3f3f3f;stroke:#3f3f3f;stroke-linejoin:miter;\" x=\"487.003125\" xlink:href=\"#me7232c8b3b\" y=\"19.554545\"/>\n    </g>\n   </g>\n   <g id=\"line2d_27\">\n    <path clip-path=\"url(#pe5d9e2977a)\" d=\"M 397.723125 246.865317 \nL 576.283125 246.865317 \n\" style=\"fill:none;stroke:#3f3f3f;stroke-linecap:square;stroke-width:1.5;\"/>\n   </g>\n   <g id=\"patch_10\">\n    <path d=\"M 375.403125 279 \nL 375.403125 7.2 \n\" style=\"fill:none;stroke:#000000;stroke-linecap:square;stroke-linejoin:miter;stroke-width:0.8;\"/>\n   </g>\n   <g id=\"patch_11\">\n    <path d=\"M 598.603125 279 \nL 598.603125 7.2 \n\" style=\"fill:none;stroke:#000000;stroke-linecap:square;stroke-linejoin:miter;stroke-width:0.8;\"/>\n   </g>\n   <g id=\"patch_12\">\n    <path d=\"M 375.403125 279 \nL 598.603125 279 \n\" style=\"fill:none;stroke:#000000;stroke-linecap:square;stroke-linejoin:miter;stroke-width:0.8;\"/>\n   </g>\n   <g id=\"patch_13\">\n    <path d=\"M 375.403125 7.2 \nL 598.603125 7.2 \n\" style=\"fill:none;stroke:#000000;stroke-linecap:square;stroke-linejoin:miter;stroke-width:0.8;\"/>\n   </g>\n  </g>\n </g>\n <defs>\n  <clipPath id=\"p33dac73623\">\n   <rect height=\"271.8\" width=\"223.2\" x=\"40.603125\" y=\"7.2\"/>\n  </clipPath>\n  <clipPath id=\"pe5d9e2977a\">\n   <rect height=\"271.8\" width=\"223.2\" x=\"375.403125\" y=\"7.2\"/>\n  </clipPath>\n </defs>\n</svg>\n",
      "image/png": "[encoded data removed]"
     },
     "metadata": {
      "needs_background": "light"
     }
    }
   ],
   "source": [
    "#Run this code\n",
    "fig, ax = plt.subplots(1,2, figsize=(10, 5))\n",
    "sns.boxplot(y=diamonds.y, ax=ax[0])\n",
    "sns.boxplot(y=diamonds.z, ax=ax[1])\n",
    "plt.subplots_adjust(wspace=0.5)"
   ]
  },
  {
   "cell_type": "markdown",
   "metadata": {},
   "source": [
    "Now we can see that all the values are within an acceptable range, but we have 2 big outliers in y and 1 in z. Now we know that our max values for y should be around 10 and the values for z should be around 6, so let's filter our dataset to find values higher than 10 in it.\n"
   ]
  },
  {
   "cell_type": "code",
   "execution_count": 21,
   "metadata": {
    "tags": []
   },
   "outputs": [
    {
     "output_type": "execute_result",
     "data": {
      "text/plain": "       Unnamed: 0  carat        cut  color  clarity  depth  table  price  \\\n48410       48411   0.51  Very Good      5        4   61.8   54.7   1970   \n\n          x     y     z  \n48410  5.12  5.15  31.8  ",
      "text/html": "<div>\n<style scoped>\n    .dataframe tbody tr th:only-of-type {\n        vertical-align: middle;\n    }\n\n    .dataframe tbody tr th {\n        vertical-align: top;\n    }\n\n    .dataframe thead th {\n        text-align: right;\n    }\n</style>\n<table border=\"1\" class=\"dataframe\">\n  <thead>\n    <tr style=\"text-align: right;\">\n      <th></th>\n      <th>Unnamed: 0</th>\n      <th>carat</th>\n      <th>cut</th>\n      <th>color</th>\n      <th>clarity</th>\n      <th>depth</th>\n      <th>table</th>\n      <th>price</th>\n      <th>x</th>\n      <th>y</th>\n      <th>z</th>\n    </tr>\n  </thead>\n  <tbody>\n    <tr>\n      <th>48410</th>\n      <td>48411</td>\n      <td>0.51</td>\n      <td>Very Good</td>\n      <td>5</td>\n      <td>4</td>\n      <td>61.8</td>\n      <td>54.7</td>\n      <td>1970</td>\n      <td>5.12</td>\n      <td>5.15</td>\n      <td>31.8</td>\n    </tr>\n  </tbody>\n</table>\n</div>"
     },
     "metadata": {},
     "execution_count": 21
    }
   ],
   "source": [
    "#your code here\n",
    "\n",
    "outlier_z = diamonds[diamonds['z'] > 10]\n",
    "\n",
    "outlier_z"
   ]
  },
  {
   "cell_type": "markdown",
   "metadata": {},
   "source": [
    "Now that we have found the outlier, let's use the function we defined earlier to correct this value. First, we need to change the value to 0 (because that's how we defined the function before) and then we will apply it.\n",
    "\n",
    "**Apply `calculate_z` for the row with the outlier**"
   ]
  },
  {
   "cell_type": "code",
   "execution_count": 22,
   "metadata": {},
   "outputs": [],
   "source": [
    "#your code here\n",
    "\n",
    "diamonds.at[48410,'z'] = 0\n",
    "\n",
    "diamonds['z'] = diamonds.apply(lambda dataframe: calculate_z(dataframe), axis=1)"
   ]
  },
  {
   "cell_type": "markdown",
   "metadata": {},
   "source": [
    "Let's check if we actually corrected the outlier."
   ]
  },
  {
   "cell_type": "code",
   "execution_count": 23,
   "metadata": {},
   "outputs": [
    {
     "output_type": "execute_result",
     "data": {
      "text/plain": "Unnamed: 0        48411\ncarat              0.51\ncut           Very Good\ncolor                 5\nclarity               4\ndepth              61.8\ntable              54.7\nprice              1970\nx                  5.12\ny                  5.15\nz               3.17343\nName: 48410, dtype: object"
     },
     "metadata": {},
     "execution_count": 23
    }
   ],
   "source": [
    "diamonds.loc[48410]"
   ]
  },
  {
   "cell_type": "markdown",
   "metadata": {},
   "source": [
    "Cool! Now let's validate our new `z`. We will check if we obtain the same value of depth using our validate function. If the formula applies, this means could approximate the real value of `z`.\n",
    "\n",
    "**Apply `validate_z` to the row used earlier**"
   ]
  },
  {
   "cell_type": "code",
   "execution_count": 24,
   "metadata": {},
   "outputs": [],
   "source": [
    "#your code here"
   ]
  },
  {
   "cell_type": "markdown",
   "metadata": {},
   "source": [
    "Now let's do the same for `y`. First, let's filter the DataFrame to find the outliers. We said that the maximum values should be around 10, so let's check what are the values above 10.\n",
    "\n",
    "**Check the values greater than 10 in the `y` column** "
   ]
  },
  {
   "cell_type": "code",
   "execution_count": 25,
   "metadata": {},
   "outputs": [
    {
     "output_type": "execute_result",
     "data": {
      "text/plain": "       Unnamed: 0  carat      cut  color  clarity  depth  table  price      x  \\\n24067       24068   2.00  Premium      2        1   58.9   57.0  12210   8.09   \n25998       25999   4.01  Premium      1        0   61.0   61.0  15223  10.14   \n27415       27416   5.01     Fair      0        0   65.5   59.0  18018  10.74   \n27630       27631   4.50     Fair      0        0   65.8   58.0  18531  10.23   \n49189       49190   0.51    Ideal      5        4   61.8   55.0   2075   5.15   \n\n           y     z  \n24067  58.90  8.06  \n25998  10.10  6.17  \n27415  10.54  6.98  \n27630  10.16  6.72  \n49189  31.80  5.12  ",
      "text/html": "<div>\n<style scoped>\n    .dataframe tbody tr th:only-of-type {\n        vertical-align: middle;\n    }\n\n    .dataframe tbody tr th {\n        vertical-align: top;\n    }\n\n    .dataframe thead th {\n        text-align: right;\n    }\n</style>\n<table border=\"1\" class=\"dataframe\">\n  <thead>\n    <tr style=\"text-align: right;\">\n      <th></th>\n      <th>Unnamed: 0</th>\n      <th>carat</th>\n      <th>cut</th>\n      <th>color</th>\n      <th>clarity</th>\n      <th>depth</th>\n      <th>table</th>\n      <th>price</th>\n      <th>x</th>\n      <th>y</th>\n      <th>z</th>\n    </tr>\n  </thead>\n  <tbody>\n    <tr>\n      <th>24067</th>\n      <td>24068</td>\n      <td>2.00</td>\n      <td>Premium</td>\n      <td>2</td>\n      <td>1</td>\n      <td>58.9</td>\n      <td>57.0</td>\n      <td>12210</td>\n      <td>8.09</td>\n      <td>58.90</td>\n      <td>8.06</td>\n    </tr>\n    <tr>\n      <th>25998</th>\n      <td>25999</td>\n      <td>4.01</td>\n      <td>Premium</td>\n      <td>1</td>\n      <td>0</td>\n      <td>61.0</td>\n      <td>61.0</td>\n      <td>15223</td>\n      <td>10.14</td>\n      <td>10.10</td>\n      <td>6.17</td>\n    </tr>\n    <tr>\n      <th>27415</th>\n      <td>27416</td>\n      <td>5.01</td>\n      <td>Fair</td>\n      <td>0</td>\n      <td>0</td>\n      <td>65.5</td>\n      <td>59.0</td>\n      <td>18018</td>\n      <td>10.74</td>\n      <td>10.54</td>\n      <td>6.98</td>\n    </tr>\n    <tr>\n      <th>27630</th>\n      <td>27631</td>\n      <td>4.50</td>\n      <td>Fair</td>\n      <td>0</td>\n      <td>0</td>\n      <td>65.8</td>\n      <td>58.0</td>\n      <td>18531</td>\n      <td>10.23</td>\n      <td>10.16</td>\n      <td>6.72</td>\n    </tr>\n    <tr>\n      <th>49189</th>\n      <td>49190</td>\n      <td>0.51</td>\n      <td>Ideal</td>\n      <td>5</td>\n      <td>4</td>\n      <td>61.8</td>\n      <td>55.0</td>\n      <td>2075</td>\n      <td>5.15</td>\n      <td>31.80</td>\n      <td>5.12</td>\n    </tr>\n  </tbody>\n</table>\n</div>"
     },
     "metadata": {},
     "execution_count": 25
    }
   ],
   "source": [
    "#your code here\n",
    "\n",
    "outlier_y = diamonds[diamonds['y'] > 10]\n",
    "\n",
    "outlier_y"
   ]
  },
  {
   "cell_type": "markdown",
   "metadata": {},
   "source": [
    "We can clearly see that the 31.8 in row 49189 is an outlier for the y value. Also, we can see that the 58.9 value for `y` in row 24067 is actually its depth, so it was a mistake when they introduced the data. Let's create a function to fix these outliers.\n",
    "\n",
    "**Create a function named `calculate_y` to calculate `y` using `z` and `x` the same way you did above**"
   ]
  },
  {
   "cell_type": "code",
   "execution_count": 26,
   "metadata": {
    "tags": []
   },
   "outputs": [
    {
     "output_type": "stream",
     "name": "stdout",
     "text": "Unnamed: 0      24068\ncarat               2\ncut           Premium\ncolor               2\nclarity             1\ndepth            58.9\ntable              57\nprice           12210\nx                8.09\ny             19.2784\nz                8.06\nName: 24067, dtype: object\nUnnamed: 0      49190\ncarat            0.51\ncut             Ideal\ncolor               5\nclarity             4\ndepth            61.8\ntable              55\nprice            2075\nx                5.15\ny             11.4196\nz                5.12\nName: 49189, dtype: object\n"
    }
   ],
   "source": [
    "#your code here\n",
    "\n",
    "def calculate_y(dataframe):\n",
    "    if dataframe['y'] == 0:\n",
    "        return ((dataframe['z'] * 2) / (dataframe['depth'] * 0.01) - dataframe['x'])\n",
    "    else:\n",
    "        return dataframe['y']\n",
    "\n",
    "diamonds.at[24067,'y'] = 0\n",
    "diamonds.at[49189,'y'] = 0\n",
    "\n",
    "diamonds['y'] = diamonds.apply(lambda dataframe: calculate_y(dataframe), axis=1)\n",
    "\n",
    "print(diamonds.loc[24067])\n",
    "print(diamonds.loc[49189])"
   ]
  },
  {
   "cell_type": "markdown",
   "metadata": {},
   "source": [
    "We will check the rows that had an outlier in `y`, to check that the values were changed.\n",
    "\n",
    "**Check those rows (also validating with your function) and comment what you see**"
   ]
  },
  {
   "cell_type": "markdown",
   "metadata": {},
   "source": [
    "Now that we have corrected or dropped all of our outliers, lets plot another box plot to double check."
   ]
  },
  {
   "cell_type": "code",
   "execution_count": 27,
   "metadata": {},
   "outputs": [
    {
     "output_type": "display_data",
     "data": {
      "text/plain": "<Figure size 720x360 with 2 Axes>",
      "image/svg+xml": "<?xml version=\"1.0\" encoding=\"utf-8\" standalone=\"no\"?>\n<!DOCTYPE svg PUBLIC \"-//W3C//DTD SVG 1.1//EN\"\n  \"http://www.w3.org/Graphics/SVG/1.1/DTD/svg11.dtd\">\n<!-- Created with matplotlib (https://matplotlib.org/) -->\n<svg height=\"292.575035pt\" version=\"1.1\" viewBox=\"0 0 605.803125 292.575035\" width=\"605.803125pt\" xmlns=\"http://www.w3.org/2000/svg\" xmlns:xlink=\"http://www.w3.org/1999/xlink\">\n <metadata>\n  <rdf:RDF xmlns:cc=\"http://creativecommons.org/ns#\" xmlns:dc=\"http://purl.org/dc/elements/1.1/\" xmlns:rdf=\"http://www.w3.org/1999/02/22-rdf-syntax-ns#\">\n   <cc:Work>\n    <dc:type rdf:resource=\"http://purl.org/dc/dcmitype/StillImage\"/>\n    <dc:date>2020-08-20T21:50:18.500437</dc:date>\n    <dc:format>image/svg+xml</dc:format>\n    <dc:creator>\n     <cc:Agent>\n      <dc:title>Matplotlib v3.3.0, https://matplotlib.org/</dc:title>\n     </cc:Agent>\n    </dc:creator>\n   </cc:Work>\n  </rdf:RDF>\n </metadata>\n <defs>\n  <style type=\"text/css\">*{stroke-linecap:butt;stroke-linejoin:round;}</style>\n </defs>\n <g id=\"figure_1\">\n  <g id=\"patch_1\">\n   <path d=\"M 0 292.575035 \nL 605.803125 292.575035 \nL 605.803125 0 \nL 0 0 \nz\n\" style=\"fill:none;\"/>\n  </g>\n  <g id=\"axes_1\">\n   <g id=\"patch_2\">\n    <path d=\"M 40.603125 281.875035 \nL 263.803125 281.875035 \nL 263.803125 10.075035 \nL 40.603125 10.075035 \nz\n\" style=\"fill:#ffffff;\"/>\n   </g>\n   <g id=\"patch_3\">\n    <path clip-path=\"url(#pcf47f6f151)\" d=\"M 62.923125 253.046095 \nL 241.483125 253.046095 \nL 241.483125 224.215904 \nL 62.923125 224.215904 \nL 62.923125 253.046095 \nz\n\" style=\"fill:#3274a1;stroke:#3f3f3f;stroke-linejoin:miter;stroke-width:1.5;\"/>\n   </g>\n   <g id=\"matplotlib.axis_1\">\n    <g id=\"xtick_1\">\n     <g id=\"line2d_1\">\n      <defs>\n       <path d=\"M 0 0 \nL 0 3.5 \n\" id=\"maa3b5a9df3\" style=\"stroke:#000000;stroke-width:0.8;\"/>\n      </defs>\n      <g>\n       <use style=\"stroke:#000000;stroke-width:0.8;\" x=\"152.203125\" xlink:href=\"#maa3b5a9df3\" y=\"281.875035\"/>\n      </g>\n     </g>\n    </g>\n   </g>\n   <g id=\"matplotlib.axis_2\">\n    <g id=\"ytick_1\">\n     <g id=\"line2d_2\">\n      <defs>\n       <path d=\"M 0 0 \nL -3.5 0 \n\" id=\"m0d58dd152f\" style=\"stroke:#000000;stroke-width:0.8;\"/>\n      </defs>\n      <g>\n       <use style=\"stroke:#000000;stroke-width:0.8;\" x=\"40.603125\" xlink:href=\"#m0d58dd152f\" y=\"264.451445\"/>\n      </g>\n     </g>\n     <g id=\"text_1\">\n      <!-- 4 -->\n      <g transform=\"translate(27.240625 268.250664)scale(0.1 -0.1)\">\n       <defs>\n        <path d=\"M 37.796875 64.3125 \nL 12.890625 25.390625 \nL 37.796875 25.390625 \nz\nM 35.203125 72.90625 \nL 47.609375 72.90625 \nL 47.609375 25.390625 \nL 58.015625 25.390625 \nL 58.015625 17.1875 \nL 47.609375 17.1875 \nL 47.609375 0 \nL 37.796875 0 \nL 37.796875 17.1875 \nL 4.890625 17.1875 \nL 4.890625 26.703125 \nz\n\" id=\"DejaVuSans-52\"/>\n       </defs>\n       <use xlink:href=\"#DejaVuSans-52\"/>\n      </g>\n     </g>\n    </g>\n    <g id=\"ytick_2\">\n     <g id=\"line2d_3\">\n      <g>\n       <use style=\"stroke:#000000;stroke-width:0.8;\" x=\"40.603125\" xlink:href=\"#m0d58dd152f\" y=\"232.769917\"/>\n      </g>\n     </g>\n     <g id=\"text_2\">\n      <!-- 6 -->\n      <g transform=\"translate(27.240625 236.569136)scale(0.1 -0.1)\">\n       <defs>\n        <path d=\"M 33.015625 40.375 \nQ 26.375 40.375 22.484375 35.828125 \nQ 18.609375 31.296875 18.609375 23.390625 \nQ 18.609375 15.53125 22.484375 10.953125 \nQ 26.375 6.390625 33.015625 6.390625 \nQ 39.65625 6.390625 43.53125 10.953125 \nQ 47.40625 15.53125 47.40625 23.390625 \nQ 47.40625 31.296875 43.53125 35.828125 \nQ 39.65625 40.375 33.015625 40.375 \nz\nM 52.59375 71.296875 \nL 52.59375 62.3125 \nQ 48.875 64.0625 45.09375 64.984375 \nQ 41.3125 65.921875 37.59375 65.921875 \nQ 27.828125 65.921875 22.671875 59.328125 \nQ 17.53125 52.734375 16.796875 39.40625 \nQ 19.671875 43.65625 24.015625 45.921875 \nQ 28.375 48.1875 33.59375 48.1875 \nQ 44.578125 48.1875 50.953125 41.515625 \nQ 57.328125 34.859375 57.328125 23.390625 \nQ 57.328125 12.15625 50.6875 5.359375 \nQ 44.046875 -1.421875 33.015625 -1.421875 \nQ 20.359375 -1.421875 13.671875 8.265625 \nQ 6.984375 17.96875 6.984375 36.375 \nQ 6.984375 53.65625 15.1875 63.9375 \nQ 23.390625 74.21875 37.203125 74.21875 \nQ 40.921875 74.21875 44.703125 73.484375 \nQ 48.484375 72.75 52.59375 71.296875 \nz\n\" id=\"DejaVuSans-54\"/>\n       </defs>\n       <use xlink:href=\"#DejaVuSans-54\"/>\n      </g>\n     </g>\n    </g>\n    <g id=\"ytick_3\">\n     <g id=\"line2d_4\">\n      <g>\n       <use style=\"stroke:#000000;stroke-width:0.8;\" x=\"40.603125\" xlink:href=\"#m0d58dd152f\" y=\"201.088389\"/>\n      </g>\n     </g>\n     <g id=\"text_3\">\n      <!-- 8 -->\n      <g transform=\"translate(27.240625 204.887607)scale(0.1 -0.1)\">\n       <defs>\n        <path d=\"M 31.78125 34.625 \nQ 24.75 34.625 20.71875 30.859375 \nQ 16.703125 27.09375 16.703125 20.515625 \nQ 16.703125 13.921875 20.71875 10.15625 \nQ 24.75 6.390625 31.78125 6.390625 \nQ 38.8125 6.390625 42.859375 10.171875 \nQ 46.921875 13.96875 46.921875 20.515625 \nQ 46.921875 27.09375 42.890625 30.859375 \nQ 38.875 34.625 31.78125 34.625 \nz\nM 21.921875 38.8125 \nQ 15.578125 40.375 12.03125 44.71875 \nQ 8.5 49.078125 8.5 55.328125 \nQ 8.5 64.0625 14.71875 69.140625 \nQ 20.953125 74.21875 31.78125 74.21875 \nQ 42.671875 74.21875 48.875 69.140625 \nQ 55.078125 64.0625 55.078125 55.328125 \nQ 55.078125 49.078125 51.53125 44.71875 \nQ 48 40.375 41.703125 38.8125 \nQ 48.828125 37.15625 52.796875 32.3125 \nQ 56.78125 27.484375 56.78125 20.515625 \nQ 56.78125 9.90625 50.3125 4.234375 \nQ 43.84375 -1.421875 31.78125 -1.421875 \nQ 19.734375 -1.421875 13.25 4.234375 \nQ 6.78125 9.90625 6.78125 20.515625 \nQ 6.78125 27.484375 10.78125 32.3125 \nQ 14.796875 37.15625 21.921875 38.8125 \nz\nM 18.3125 54.390625 \nQ 18.3125 48.734375 21.84375 45.5625 \nQ 25.390625 42.390625 31.78125 42.390625 \nQ 38.140625 42.390625 41.71875 45.5625 \nQ 45.3125 48.734375 45.3125 54.390625 \nQ 45.3125 60.0625 41.71875 63.234375 \nQ 38.140625 66.40625 31.78125 66.40625 \nQ 25.390625 66.40625 21.84375 63.234375 \nQ 18.3125 60.0625 18.3125 54.390625 \nz\n\" id=\"DejaVuSans-56\"/>\n       </defs>\n       <use xlink:href=\"#DejaVuSans-56\"/>\n      </g>\n     </g>\n    </g>\n    <g id=\"ytick_4\">\n     <g id=\"line2d_5\">\n      <g>\n       <use style=\"stroke:#000000;stroke-width:0.8;\" x=\"40.603125\" xlink:href=\"#m0d58dd152f\" y=\"169.40686\"/>\n      </g>\n     </g>\n     <g id=\"text_4\">\n      <!-- 10 -->\n      <g transform=\"translate(20.878125 173.206079)scale(0.1 -0.1)\">\n       <defs>\n        <path d=\"M 12.40625 8.296875 \nL 28.515625 8.296875 \nL 28.515625 63.921875 \nL 10.984375 60.40625 \nL 10.984375 69.390625 \nL 28.421875 72.90625 \nL 38.28125 72.90625 \nL 38.28125 8.296875 \nL 54.390625 8.296875 \nL 54.390625 0 \nL 12.40625 0 \nz\n\" id=\"DejaVuSans-49\"/>\n        <path d=\"M 31.78125 66.40625 \nQ 24.171875 66.40625 20.328125 58.90625 \nQ 16.5 51.421875 16.5 36.375 \nQ 16.5 21.390625 20.328125 13.890625 \nQ 24.171875 6.390625 31.78125 6.390625 \nQ 39.453125 6.390625 43.28125 13.890625 \nQ 47.125 21.390625 47.125 36.375 \nQ 47.125 51.421875 43.28125 58.90625 \nQ 39.453125 66.40625 31.78125 66.40625 \nz\nM 31.78125 74.21875 \nQ 44.046875 74.21875 50.515625 64.515625 \nQ 56.984375 54.828125 56.984375 36.375 \nQ 56.984375 17.96875 50.515625 8.265625 \nQ 44.046875 -1.421875 31.78125 -1.421875 \nQ 19.53125 -1.421875 13.0625 8.265625 \nQ 6.59375 17.96875 6.59375 36.375 \nQ 6.59375 54.828125 13.0625 64.515625 \nQ 19.53125 74.21875 31.78125 74.21875 \nz\n\" id=\"DejaVuSans-48\"/>\n       </defs>\n       <use xlink:href=\"#DejaVuSans-49\"/>\n       <use x=\"63.623047\" xlink:href=\"#DejaVuSans-48\"/>\n      </g>\n     </g>\n    </g>\n    <g id=\"ytick_5\">\n     <g id=\"line2d_6\">\n      <g>\n       <use style=\"stroke:#000000;stroke-width:0.8;\" x=\"40.603125\" xlink:href=\"#m0d58dd152f\" y=\"137.725332\"/>\n      </g>\n     </g>\n     <g id=\"text_5\">\n      <!-- 12 -->\n      <g transform=\"translate(20.878125 141.524551)scale(0.1 -0.1)\">\n       <defs>\n        <path d=\"M 19.1875 8.296875 \nL 53.609375 8.296875 \nL 53.609375 0 \nL 7.328125 0 \nL 7.328125 8.296875 \nQ 12.9375 14.109375 22.625 23.890625 \nQ 32.328125 33.6875 34.8125 36.53125 \nQ 39.546875 41.84375 41.421875 45.53125 \nQ 43.3125 49.21875 43.3125 52.78125 \nQ 43.3125 58.59375 39.234375 62.25 \nQ 35.15625 65.921875 28.609375 65.921875 \nQ 23.96875 65.921875 18.8125 64.3125 \nQ 13.671875 62.703125 7.8125 59.421875 \nL 7.8125 69.390625 \nQ 13.765625 71.78125 18.9375 73 \nQ 24.125 74.21875 28.421875 74.21875 \nQ 39.75 74.21875 46.484375 68.546875 \nQ 53.21875 62.890625 53.21875 53.421875 \nQ 53.21875 48.921875 51.53125 44.890625 \nQ 49.859375 40.875 45.40625 35.40625 \nQ 44.1875 33.984375 37.640625 27.21875 \nQ 31.109375 20.453125 19.1875 8.296875 \nz\n\" id=\"DejaVuSans-50\"/>\n       </defs>\n       <use xlink:href=\"#DejaVuSans-49\"/>\n       <use x=\"63.623047\" xlink:href=\"#DejaVuSans-50\"/>\n      </g>\n     </g>\n    </g>\n    <g id=\"ytick_6\">\n     <g id=\"line2d_7\">\n      <g>\n       <use style=\"stroke:#000000;stroke-width:0.8;\" x=\"40.603125\" xlink:href=\"#m0d58dd152f\" y=\"106.043804\"/>\n      </g>\n     </g>\n     <g id=\"text_6\">\n      <!-- 14 -->\n      <g transform=\"translate(20.878125 109.843022)scale(0.1 -0.1)\">\n       <use xlink:href=\"#DejaVuSans-49\"/>\n       <use x=\"63.623047\" xlink:href=\"#DejaVuSans-52\"/>\n      </g>\n     </g>\n    </g>\n    <g id=\"ytick_7\">\n     <g id=\"line2d_8\">\n      <g>\n       <use style=\"stroke:#000000;stroke-width:0.8;\" x=\"40.603125\" xlink:href=\"#m0d58dd152f\" y=\"74.362275\"/>\n      </g>\n     </g>\n     <g id=\"text_7\">\n      <!-- 16 -->\n      <g transform=\"translate(20.878125 78.161494)scale(0.1 -0.1)\">\n       <use xlink:href=\"#DejaVuSans-49\"/>\n       <use x=\"63.623047\" xlink:href=\"#DejaVuSans-54\"/>\n      </g>\n     </g>\n    </g>\n    <g id=\"ytick_8\">\n     <g id=\"line2d_9\">\n      <g>\n       <use style=\"stroke:#000000;stroke-width:0.8;\" x=\"40.603125\" xlink:href=\"#m0d58dd152f\" y=\"42.680747\"/>\n      </g>\n     </g>\n     <g id=\"text_8\">\n      <!-- 18 -->\n      <g transform=\"translate(20.878125 46.479966)scale(0.1 -0.1)\">\n       <use xlink:href=\"#DejaVuSans-49\"/>\n       <use x=\"63.623047\" xlink:href=\"#DejaVuSans-56\"/>\n      </g>\n     </g>\n    </g>\n    <g id=\"ytick_9\">\n     <g id=\"line2d_10\">\n      <g>\n       <use style=\"stroke:#000000;stroke-width:0.8;\" x=\"40.603125\" xlink:href=\"#m0d58dd152f\" y=\"10.999219\"/>\n      </g>\n     </g>\n     <g id=\"text_9\">\n      <!-- 20 -->\n      <g transform=\"translate(20.878125 14.798438)scale(0.1 -0.1)\">\n       <use xlink:href=\"#DejaVuSans-50\"/>\n       <use x=\"63.623047\" xlink:href=\"#DejaVuSans-48\"/>\n      </g>\n     </g>\n    </g>\n    <g id=\"text_10\">\n     <!-- y -->\n     <g transform=\"translate(14.798437 148.93441)rotate(-90)scale(0.1 -0.1)\">\n      <defs>\n       <path d=\"M 32.171875 -5.078125 \nQ 28.375 -14.84375 24.75 -17.8125 \nQ 21.140625 -20.796875 15.09375 -20.796875 \nL 7.90625 -20.796875 \nL 7.90625 -13.28125 \nL 13.1875 -13.28125 \nQ 16.890625 -13.28125 18.9375 -11.515625 \nQ 21 -9.765625 23.484375 -3.21875 \nL 25.09375 0.875 \nL 2.984375 54.6875 \nL 12.5 54.6875 \nL 29.59375 11.921875 \nL 46.6875 54.6875 \nL 56.203125 54.6875 \nz\n\" id=\"DejaVuSans-121\"/>\n      </defs>\n      <use xlink:href=\"#DejaVuSans-121\"/>\n     </g>\n    </g>\n   </g>\n   <g id=\"line2d_11\">\n    <path clip-path=\"url(#pcf47f6f151)\" d=\"M 152.203125 253.046095 \nL 152.203125 269.52049 \n\" style=\"fill:none;stroke:#3f3f3f;stroke-linecap:square;stroke-width:1.5;\"/>\n   </g>\n   <g id=\"line2d_12\">\n    <path clip-path=\"url(#pcf47f6f151)\" d=\"M 152.203125 224.215904 \nL 152.203125 181.129026 \n\" style=\"fill:none;stroke:#3f3f3f;stroke-linecap:square;stroke-width:1.5;\"/>\n   </g>\n   <g id=\"line2d_13\">\n    <path clip-path=\"url(#pcf47f6f151)\" d=\"M 107.563125 269.52049 \nL 196.843125 269.52049 \n\" style=\"fill:none;stroke:#3f3f3f;stroke-linecap:square;stroke-width:1.5;\"/>\n   </g>\n   <g id=\"line2d_14\">\n    <path clip-path=\"url(#pcf47f6f151)\" d=\"M 107.563125 181.129026 \nL 196.843125 181.129026 \n\" style=\"fill:none;stroke:#3f3f3f;stroke-linecap:square;stroke-width:1.5;\"/>\n   </g>\n   <g id=\"line2d_15\">\n    <defs>\n     <path d=\"M -0 3.535534 \nL 2.12132 0 \nL -0 -3.535534 \nL -2.12132 -0 \nz\n\" id=\"m574450f428\" style=\"stroke:#3f3f3f;stroke-linejoin:miter;\"/>\n    </defs>\n    <g clip-path=\"url(#pcf47f6f151)\">\n     <use style=\"fill:#3f3f3f;stroke:#3f3f3f;stroke-linejoin:miter;\" x=\"152.203125\" xlink:href=\"#m574450f428\" y=\"179.228134\"/>\n     <use style=\"fill:#3f3f3f;stroke:#3f3f3f;stroke-linejoin:miter;\" x=\"152.203125\" xlink:href=\"#m574450f428\" y=\"180.336988\"/>\n     <use style=\"fill:#3f3f3f;stroke:#3f3f3f;stroke-linejoin:miter;\" x=\"152.203125\" xlink:href=\"#m574450f428\" y=\"177.644058\"/>\n     <use style=\"fill:#3f3f3f;stroke:#3f3f3f;stroke-linejoin:miter;\" x=\"152.203125\" xlink:href=\"#m574450f428\" y=\"22.429581\"/>\n     <use style=\"fill:#3f3f3f;stroke:#3f3f3f;stroke-linejoin:miter;\" x=\"152.203125\" xlink:href=\"#m574450f428\" y=\"178.911319\"/>\n     <use style=\"fill:#3f3f3f;stroke:#3f3f3f;stroke-linejoin:miter;\" x=\"152.203125\" xlink:href=\"#m574450f428\" y=\"178.594504\"/>\n     <use style=\"fill:#3f3f3f;stroke:#3f3f3f;stroke-linejoin:miter;\" x=\"152.203125\" xlink:href=\"#m574450f428\" y=\"175.901574\"/>\n     <use style=\"fill:#3f3f3f;stroke:#3f3f3f;stroke-linejoin:miter;\" x=\"152.203125\" xlink:href=\"#m574450f428\" y=\"179.386542\"/>\n     <use style=\"fill:#3f3f3f;stroke:#3f3f3f;stroke-linejoin:miter;\" x=\"152.203125\" xlink:href=\"#m574450f428\" y=\"167.822784\"/>\n     <use style=\"fill:#3f3f3f;stroke:#3f3f3f;stroke-linejoin:miter;\" x=\"152.203125\" xlink:href=\"#m574450f428\" y=\"170.357306\"/>\n     <use style=\"fill:#3f3f3f;stroke:#3f3f3f;stroke-linejoin:miter;\" x=\"152.203125\" xlink:href=\"#m574450f428\" y=\"179.861765\"/>\n     <use style=\"fill:#3f3f3f;stroke:#3f3f3f;stroke-linejoin:miter;\" x=\"152.203125\" xlink:href=\"#m574450f428\" y=\"170.357306\"/>\n     <use style=\"fill:#3f3f3f;stroke:#3f3f3f;stroke-linejoin:miter;\" x=\"152.203125\" xlink:href=\"#m574450f428\" y=\"172.416605\"/>\n     <use style=\"fill:#3f3f3f;stroke:#3f3f3f;stroke-linejoin:miter;\" x=\"152.203125\" xlink:href=\"#m574450f428\" y=\"171.782975\"/>\n     <use style=\"fill:#3f3f3f;stroke:#3f3f3f;stroke-linejoin:miter;\" x=\"152.203125\" xlink:href=\"#m574450f428\" y=\"160.852848\"/>\n     <use style=\"fill:#3f3f3f;stroke:#3f3f3f;stroke-linejoin:miter;\" x=\"152.203125\" xlink:href=\"#m574450f428\" y=\"180.336988\"/>\n     <use style=\"fill:#3f3f3f;stroke:#3f3f3f;stroke-linejoin:miter;\" x=\"152.203125\" xlink:href=\"#m574450f428\" y=\"166.872338\"/>\n     <use style=\"fill:#3f3f3f;stroke:#3f3f3f;stroke-linejoin:miter;\" x=\"152.203125\" xlink:href=\"#m574450f428\" y=\"177.960873\"/>\n     <use style=\"fill:#3f3f3f;stroke:#3f3f3f;stroke-linejoin:miter;\" x=\"152.203125\" xlink:href=\"#m574450f428\" y=\"179.228134\"/>\n     <use style=\"fill:#3f3f3f;stroke:#3f3f3f;stroke-linejoin:miter;\" x=\"152.203125\" xlink:href=\"#m574450f428\" y=\"175.267943\"/>\n     <use style=\"fill:#3f3f3f;stroke:#3f3f3f;stroke-linejoin:miter;\" x=\"152.203125\" xlink:href=\"#m574450f428\" y=\"180.17858\"/>\n     <use style=\"fill:#3f3f3f;stroke:#3f3f3f;stroke-linejoin:miter;\" x=\"152.203125\" xlink:href=\"#m574450f428\" y=\"146.91964\"/>\n    </g>\n   </g>\n   <g id=\"line2d_16\">\n    <path clip-path=\"url(#pcf47f6f151)\" d=\"M 62.923125 237.363739 \nL 241.483125 237.363739 \n\" style=\"fill:none;stroke:#3f3f3f;stroke-linecap:square;stroke-width:1.5;\"/>\n   </g>\n   <g id=\"patch_4\">\n    <path d=\"M 40.603125 281.875035 \nL 40.603125 10.075035 \n\" style=\"fill:none;stroke:#000000;stroke-linecap:square;stroke-linejoin:miter;stroke-width:0.8;\"/>\n   </g>\n   <g id=\"patch_5\">\n    <path d=\"M 263.803125 281.875035 \nL 263.803125 10.075035 \n\" style=\"fill:none;stroke:#000000;stroke-linecap:square;stroke-linejoin:miter;stroke-width:0.8;\"/>\n   </g>\n   <g id=\"patch_6\">\n    <path d=\"M 40.603125 281.875035 \nL 263.803125 281.875035 \n\" style=\"fill:none;stroke:#000000;stroke-linecap:square;stroke-linejoin:miter;stroke-width:0.8;\"/>\n   </g>\n   <g id=\"patch_7\">\n    <path d=\"M 40.603125 10.075035 \nL 263.803125 10.075035 \n\" style=\"fill:none;stroke:#000000;stroke-linecap:square;stroke-linejoin:miter;stroke-width:0.8;\"/>\n   </g>\n  </g>\n  <g id=\"axes_2\">\n   <g id=\"patch_8\">\n    <path d=\"M 375.403125 281.875035 \nL 598.603125 281.875035 \nL 598.603125 10.075035 \nL 375.403125 10.075035 \nz\n\" style=\"fill:#ffffff;\"/>\n   </g>\n   <g id=\"patch_9\">\n    <path clip-path=\"url(#pfc993ea2bb)\" d=\"M 397.723125 204.477961 \nL 576.283125 204.477961 \nL 576.283125 164.533365 \nL 397.723125 164.533365 \nL 397.723125 204.477961 \nz\n\" style=\"fill:#3274a1;stroke:#3f3f3f;stroke-linejoin:miter;stroke-width:1.5;\"/>\n   </g>\n   <g id=\"matplotlib.axis_3\">\n    <g id=\"xtick_2\">\n     <g id=\"line2d_17\">\n      <g>\n       <use style=\"stroke:#000000;stroke-width:0.8;\" x=\"487.003125\" xlink:href=\"#maa3b5a9df3\" y=\"281.875035\"/>\n      </g>\n     </g>\n    </g>\n   </g>\n   <g id=\"matplotlib.axis_4\">\n    <g id=\"ytick_10\">\n     <g id=\"line2d_18\">\n      <g>\n       <use style=\"stroke:#000000;stroke-width:0.8;\" x=\"375.403125\" xlink:href=\"#m0d58dd152f\" y=\"271.994934\"/>\n      </g>\n     </g>\n     <g id=\"text_11\">\n      <!-- 1 -->\n      <g transform=\"translate(362.040625 275.794153)scale(0.1 -0.1)\">\n       <use xlink:href=\"#DejaVuSans-49\"/>\n      </g>\n     </g>\n    </g>\n    <g id=\"ytick_11\">\n     <g id=\"line2d_19\">\n      <g>\n       <use style=\"stroke:#000000;stroke-width:0.8;\" x=\"375.403125\" xlink:href=\"#m0d58dd152f\" y=\"236.645734\"/>\n      </g>\n     </g>\n     <g id=\"text_12\">\n      <!-- 2 -->\n      <g transform=\"translate(362.040625 240.444952)scale(0.1 -0.1)\">\n       <use xlink:href=\"#DejaVuSans-50\"/>\n      </g>\n     </g>\n    </g>\n    <g id=\"ytick_12\">\n     <g id=\"line2d_20\">\n      <g>\n       <use style=\"stroke:#000000;stroke-width:0.8;\" x=\"375.403125\" xlink:href=\"#m0d58dd152f\" y=\"201.296533\"/>\n      </g>\n     </g>\n     <g id=\"text_13\">\n      <!-- 3 -->\n      <g transform=\"translate(362.040625 205.095752)scale(0.1 -0.1)\">\n       <defs>\n        <path d=\"M 40.578125 39.3125 \nQ 47.65625 37.796875 51.625 33 \nQ 55.609375 28.21875 55.609375 21.1875 \nQ 55.609375 10.40625 48.1875 4.484375 \nQ 40.765625 -1.421875 27.09375 -1.421875 \nQ 22.515625 -1.421875 17.65625 -0.515625 \nQ 12.796875 0.390625 7.625 2.203125 \nL 7.625 11.71875 \nQ 11.71875 9.328125 16.59375 8.109375 \nQ 21.484375 6.890625 26.8125 6.890625 \nQ 36.078125 6.890625 40.9375 10.546875 \nQ 45.796875 14.203125 45.796875 21.1875 \nQ 45.796875 27.640625 41.28125 31.265625 \nQ 36.765625 34.90625 28.71875 34.90625 \nL 20.21875 34.90625 \nL 20.21875 43.015625 \nL 29.109375 43.015625 \nQ 36.375 43.015625 40.234375 45.921875 \nQ 44.09375 48.828125 44.09375 54.296875 \nQ 44.09375 59.90625 40.109375 62.90625 \nQ 36.140625 65.921875 28.71875 65.921875 \nQ 24.65625 65.921875 20.015625 65.03125 \nQ 15.375 64.15625 9.8125 62.3125 \nL 9.8125 71.09375 \nQ 15.4375 72.65625 20.34375 73.4375 \nQ 25.25 74.21875 29.59375 74.21875 \nQ 40.828125 74.21875 47.359375 69.109375 \nQ 53.90625 64.015625 53.90625 55.328125 \nQ 53.90625 49.265625 50.4375 45.09375 \nQ 46.96875 40.921875 40.578125 39.3125 \nz\n\" id=\"DejaVuSans-51\"/>\n       </defs>\n       <use xlink:href=\"#DejaVuSans-51\"/>\n      </g>\n     </g>\n    </g>\n    <g id=\"ytick_13\">\n     <g id=\"line2d_21\">\n      <g>\n       <use style=\"stroke:#000000;stroke-width:0.8;\" x=\"375.403125\" xlink:href=\"#m0d58dd152f\" y=\"165.947333\"/>\n      </g>\n     </g>\n     <g id=\"text_14\">\n      <!-- 4 -->\n      <g transform=\"translate(362.040625 169.746552)scale(0.1 -0.1)\">\n       <use xlink:href=\"#DejaVuSans-52\"/>\n      </g>\n     </g>\n    </g>\n    <g id=\"ytick_14\">\n     <g id=\"line2d_22\">\n      <g>\n       <use style=\"stroke:#000000;stroke-width:0.8;\" x=\"375.403125\" xlink:href=\"#m0d58dd152f\" y=\"130.598133\"/>\n      </g>\n     </g>\n     <g id=\"text_15\">\n      <!-- 5 -->\n      <g transform=\"translate(362.040625 134.397352)scale(0.1 -0.1)\">\n       <defs>\n        <path d=\"M 10.796875 72.90625 \nL 49.515625 72.90625 \nL 49.515625 64.59375 \nL 19.828125 64.59375 \nL 19.828125 46.734375 \nQ 21.96875 47.46875 24.109375 47.828125 \nQ 26.265625 48.1875 28.421875 48.1875 \nQ 40.625 48.1875 47.75 41.5 \nQ 54.890625 34.8125 54.890625 23.390625 \nQ 54.890625 11.625 47.5625 5.09375 \nQ 40.234375 -1.421875 26.90625 -1.421875 \nQ 22.3125 -1.421875 17.546875 -0.640625 \nQ 12.796875 0.140625 7.71875 1.703125 \nL 7.71875 11.625 \nQ 12.109375 9.234375 16.796875 8.0625 \nQ 21.484375 6.890625 26.703125 6.890625 \nQ 35.15625 6.890625 40.078125 11.328125 \nQ 45.015625 15.765625 45.015625 23.390625 \nQ 45.015625 31 40.078125 35.4375 \nQ 35.15625 39.890625 26.703125 39.890625 \nQ 22.75 39.890625 18.8125 39.015625 \nQ 14.890625 38.140625 10.796875 36.28125 \nz\n\" id=\"DejaVuSans-53\"/>\n       </defs>\n       <use xlink:href=\"#DejaVuSans-53\"/>\n      </g>\n     </g>\n    </g>\n    <g id=\"ytick_15\">\n     <g id=\"line2d_23\">\n      <g>\n       <use style=\"stroke:#000000;stroke-width:0.8;\" x=\"375.403125\" xlink:href=\"#m0d58dd152f\" y=\"95.248933\"/>\n      </g>\n     </g>\n     <g id=\"text_16\">\n      <!-- 6 -->\n      <g transform=\"translate(362.040625 99.048152)scale(0.1 -0.1)\">\n       <use xlink:href=\"#DejaVuSans-54\"/>\n      </g>\n     </g>\n    </g>\n    <g id=\"ytick_16\">\n     <g id=\"line2d_24\">\n      <g>\n       <use style=\"stroke:#000000;stroke-width:0.8;\" x=\"375.403125\" xlink:href=\"#m0d58dd152f\" y=\"59.899733\"/>\n      </g>\n     </g>\n     <g id=\"text_17\">\n      <!-- 7 -->\n      <g transform=\"translate(362.040625 63.698952)scale(0.1 -0.1)\">\n       <defs>\n        <path d=\"M 8.203125 72.90625 \nL 55.078125 72.90625 \nL 55.078125 68.703125 \nL 28.609375 0 \nL 18.3125 0 \nL 43.21875 64.59375 \nL 8.203125 64.59375 \nz\n\" id=\"DejaVuSans-55\"/>\n       </defs>\n       <use xlink:href=\"#DejaVuSans-55\"/>\n      </g>\n     </g>\n    </g>\n    <g id=\"ytick_17\">\n     <g id=\"line2d_25\">\n      <g>\n       <use style=\"stroke:#000000;stroke-width:0.8;\" x=\"375.403125\" xlink:href=\"#m0d58dd152f\" y=\"24.550533\"/>\n      </g>\n     </g>\n     <g id=\"text_18\">\n      <!-- 8 -->\n      <g transform=\"translate(362.040625 28.349751)scale(0.1 -0.1)\">\n       <use xlink:href=\"#DejaVuSans-56\"/>\n      </g>\n     </g>\n    </g>\n    <g id=\"text_19\">\n     <!-- z -->\n     <g transform=\"translate(355.960937 148.599254)rotate(-90)scale(0.1 -0.1)\">\n      <defs>\n       <path d=\"M 5.515625 54.6875 \nL 48.1875 54.6875 \nL 48.1875 46.484375 \nL 14.40625 7.171875 \nL 48.1875 7.171875 \nL 48.1875 0 \nL 4.296875 0 \nL 4.296875 8.203125 \nL 38.09375 47.515625 \nL 5.515625 47.515625 \nz\n\" id=\"DejaVuSans-122\"/>\n      </defs>\n      <use xlink:href=\"#DejaVuSans-122\"/>\n     </g>\n    </g>\n   </g>\n   <g id=\"line2d_26\">\n    <path clip-path=\"url(#pfc993ea2bb)\" d=\"M 487.003125 204.477961 \nL 487.003125 257.501762 \n\" style=\"fill:none;stroke:#3f3f3f;stroke-linecap:square;stroke-width:1.5;\"/>\n   </g>\n   <g id=\"line2d_27\">\n    <path clip-path=\"url(#pfc993ea2bb)\" d=\"M 487.003125 164.533365 \nL 487.003125 104.793217 \n\" style=\"fill:none;stroke:#3f3f3f;stroke-linecap:square;stroke-width:1.5;\"/>\n   </g>\n   <g id=\"line2d_28\">\n    <path clip-path=\"url(#pfc993ea2bb)\" d=\"M 442.363125 257.501762 \nL 531.643125 257.501762 \n\" style=\"fill:none;stroke:#3f3f3f;stroke-linecap:square;stroke-width:1.5;\"/>\n   </g>\n   <g id=\"line2d_29\">\n    <path clip-path=\"url(#pfc993ea2bb)\" d=\"M 442.363125 104.793217 \nL 531.643125 104.793217 \n\" style=\"fill:none;stroke:#3f3f3f;stroke-linecap:square;stroke-width:1.5;\"/>\n   </g>\n   <g id=\"line2d_30\">\n    <g clip-path=\"url(#pfc993ea2bb)\">\n     <use style=\"fill:#3f3f3f;stroke:#3f3f3f;stroke-linejoin:miter;\" x=\"487.003125\" xlink:href=\"#m574450f428\" y=\"269.52049\"/>\n     <use style=\"fill:#3f3f3f;stroke:#3f3f3f;stroke-linejoin:miter;\" x=\"487.003125\" xlink:href=\"#m574450f428\" y=\"103.379249\"/>\n     <use style=\"fill:#3f3f3f;stroke:#3f3f3f;stroke-linejoin:miter;\" x=\"487.003125\" xlink:href=\"#m574450f428\" y=\"103.732741\"/>\n     <use style=\"fill:#3f3f3f;stroke:#3f3f3f;stroke-linejoin:miter;\" x=\"487.003125\" xlink:href=\"#m574450f428\" y=\"96.309409\"/>\n     <use style=\"fill:#3f3f3f;stroke:#3f3f3f;stroke-linejoin:miter;\" x=\"487.003125\" xlink:href=\"#m574450f428\" y=\"95.955917\"/>\n     <use style=\"fill:#3f3f3f;stroke:#3f3f3f;stroke-linejoin:miter;\" x=\"487.003125\" xlink:href=\"#m574450f428\" y=\"98.430361\"/>\n     <use style=\"fill:#3f3f3f;stroke:#3f3f3f;stroke-linejoin:miter;\" x=\"487.003125\" xlink:href=\"#m574450f428\" y=\"102.672265\"/>\n     <use style=\"fill:#3f3f3f;stroke:#3f3f3f;stroke-linejoin:miter;\" x=\"487.003125\" xlink:href=\"#m574450f428\" y=\"81.816237\"/>\n     <use style=\"fill:#3f3f3f;stroke:#3f3f3f;stroke-linejoin:miter;\" x=\"487.003125\" xlink:href=\"#m574450f428\" y=\"22.429581\"/>\n     <use style=\"fill:#3f3f3f;stroke:#3f3f3f;stroke-linejoin:miter;\" x=\"487.003125\" xlink:href=\"#m574450f428\" y=\"100.551313\"/>\n     <use style=\"fill:#3f3f3f;stroke:#3f3f3f;stroke-linejoin:miter;\" x=\"487.003125\" xlink:href=\"#m574450f428\" y=\"98.076869\"/>\n     <use style=\"fill:#3f3f3f;stroke:#3f3f3f;stroke-linejoin:miter;\" x=\"487.003125\" xlink:href=\"#m574450f428\" y=\"94.188457\"/>\n     <use style=\"fill:#3f3f3f;stroke:#3f3f3f;stroke-linejoin:miter;\" x=\"487.003125\" xlink:href=\"#m574450f428\" y=\"89.239569\"/>\n     <use style=\"fill:#3f3f3f;stroke:#3f3f3f;stroke-linejoin:miter;\" x=\"487.003125\" xlink:href=\"#m574450f428\" y=\"86.765125\"/>\n     <use style=\"fill:#3f3f3f;stroke:#3f3f3f;stroke-linejoin:miter;\" x=\"487.003125\" xlink:href=\"#m574450f428\" y=\"104.086233\"/>\n     <use style=\"fill:#3f3f3f;stroke:#3f3f3f;stroke-linejoin:miter;\" x=\"487.003125\" xlink:href=\"#m574450f428\" y=\"89.593061\"/>\n     <use style=\"fill:#3f3f3f;stroke:#3f3f3f;stroke-linejoin:miter;\" x=\"487.003125\" xlink:href=\"#m574450f428\" y=\"85.704649\"/>\n     <use style=\"fill:#3f3f3f;stroke:#3f3f3f;stroke-linejoin:miter;\" x=\"487.003125\" xlink:href=\"#m574450f428\" y=\"84.290681\"/>\n     <use style=\"fill:#3f3f3f;stroke:#3f3f3f;stroke-linejoin:miter;\" x=\"487.003125\" xlink:href=\"#m574450f428\" y=\"90.653537\"/>\n     <use style=\"fill:#3f3f3f;stroke:#3f3f3f;stroke-linejoin:miter;\" x=\"487.003125\" xlink:href=\"#m574450f428\" y=\"100.197821\"/>\n     <use style=\"fill:#3f3f3f;stroke:#3f3f3f;stroke-linejoin:miter;\" x=\"487.003125\" xlink:href=\"#m574450f428\" y=\"80.048777\"/>\n     <use style=\"fill:#3f3f3f;stroke:#3f3f3f;stroke-linejoin:miter;\" x=\"487.003125\" xlink:href=\"#m574450f428\" y=\"60.606717\"/>\n     <use style=\"fill:#3f3f3f;stroke:#3f3f3f;stroke-linejoin:miter;\" x=\"487.003125\" xlink:href=\"#m574450f428\" y=\"98.783853\"/>\n     <use style=\"fill:#3f3f3f;stroke:#3f3f3f;stroke-linejoin:miter;\" x=\"487.003125\" xlink:href=\"#m574450f428\" y=\"98.783853\"/>\n     <use style=\"fill:#3f3f3f;stroke:#3f3f3f;stroke-linejoin:miter;\" x=\"487.003125\" xlink:href=\"#m574450f428\" y=\"103.379249\"/>\n     <use style=\"fill:#3f3f3f;stroke:#3f3f3f;stroke-linejoin:miter;\" x=\"487.003125\" xlink:href=\"#m574450f428\" y=\"103.379249\"/>\n     <use style=\"fill:#3f3f3f;stroke:#3f3f3f;stroke-linejoin:miter;\" x=\"487.003125\" xlink:href=\"#m574450f428\" y=\"69.797509\"/>\n     <use style=\"fill:#3f3f3f;stroke:#3f3f3f;stroke-linejoin:miter;\" x=\"487.003125\" xlink:href=\"#m574450f428\" y=\"94.188457\"/>\n    </g>\n   </g>\n   <g id=\"line2d_31\">\n    <path clip-path=\"url(#pfc993ea2bb)\" d=\"M 397.723125 182.561457 \nL 576.283125 182.561457 \n\" style=\"fill:none;stroke:#3f3f3f;stroke-linecap:square;stroke-width:1.5;\"/>\n   </g>\n   <g id=\"patch_10\">\n    <path d=\"M 375.403125 281.875035 \nL 375.403125 10.075035 \n\" style=\"fill:none;stroke:#000000;stroke-linecap:square;stroke-linejoin:miter;stroke-width:0.8;\"/>\n   </g>\n   <g id=\"patch_11\">\n    <path d=\"M 598.603125 281.875035 \nL 598.603125 10.075035 \n\" style=\"fill:none;stroke:#000000;stroke-linecap:square;stroke-linejoin:miter;stroke-width:0.8;\"/>\n   </g>\n   <g id=\"patch_12\">\n    <path d=\"M 375.403125 281.875035 \nL 598.603125 281.875035 \n\" style=\"fill:none;stroke:#000000;stroke-linecap:square;stroke-linejoin:miter;stroke-width:0.8;\"/>\n   </g>\n   <g id=\"patch_13\">\n    <path d=\"M 375.403125 10.075035 \nL 598.603125 10.075035 \n\" style=\"fill:none;stroke:#000000;stroke-linecap:square;stroke-linejoin:miter;stroke-width:0.8;\"/>\n   </g>\n  </g>\n </g>\n <defs>\n  <clipPath id=\"pcf47f6f151\">\n   <rect height=\"271.8\" width=\"223.2\" x=\"40.603125\" y=\"10.075035\"/>\n  </clipPath>\n  <clipPath id=\"pfc993ea2bb\">\n   <rect height=\"271.8\" width=\"223.2\" x=\"375.403125\" y=\"10.075035\"/>\n  </clipPath>\n </defs>\n</svg>\n",
      "image/png": "[encoded data removed]"
     },
     "metadata": {
      "needs_background": "light"
     }
    }
   ],
   "source": [
    "#Run this code\n",
    "fig, ax = plt.subplots(1,2, figsize=(10, 5))\n",
    "sns.boxplot(y=diamonds.y, ax=ax[0])\n",
    "sns.boxplot(y=diamonds.z, ax=ax[1])\n",
    "plt.subplots_adjust(wspace=0.5)"
   ]
  },
  {
   "cell_type": "markdown",
   "metadata": {},
   "source": [
    "**What do you think? Are these values more reasonable?**\n"
   ]
  },
  {
   "cell_type": "code",
   "execution_count": 28,
   "metadata": {},
   "outputs": [],
   "source": [
    "#your thoughts here\n",
    "\n",
    "# The values seem now more reasonable and there seem to be no more outliers."
   ]
  },
  {
   "cell_type": "markdown",
   "metadata": {},
   "source": [
    "**Once you are happy with your cleaning, save the cleaned data and continue to csv. Your new csv should be named ``diamonds_clean``**"
   ]
  },
  {
   "cell_type": "code",
   "execution_count": 29,
   "metadata": {},
   "outputs": [],
   "source": [
    "#your code here\n",
    "\n",
    "diamonds.to_csv('diamonds_clean.csv')"
   ]
  }
 ],
 "metadata": {
  "kernelspec": {
   "display_name": "Python 3",
   "language": "python",
   "name": "python3"
  },
  "language_info": {
   "codemirror_mode": {
    "name": "ipython",
    "version": 3
   },
   "file_extension": ".py",
   "mimetype": "text/x-python",
   "name": "python",
   "nbconvert_exporter": "python",
   "pygments_lexer": "ipython3",
   "version": "3.8.3-final"
  }
 },
 "nbformat": 4,
 "nbformat_minor": 2
}