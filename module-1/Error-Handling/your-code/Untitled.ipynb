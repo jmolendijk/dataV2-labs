{
 "cells": [
  {
   "cell_type": "code",
   "execution_count": 10,
   "metadata": {},
   "outputs": [],
   "source": [
    "import math\n",
    "def sqrt_for_all(x):\n",
    "    if number = 0\n",
    "    raise Error(\"the number is not valid\")\n",
    "    if number <=0\n",
    "    print(Number*number)\n",
    "    else:\n",
    "        print (\"The square root of the number is:\")\n",
    "    \n",
    "\n",
    "return math.sqrt(x)\n",
    "\n",
    "sqrt_for_all(-1)\n",
    "\n",
    "\n",
    "# Modify the code below to handle positive and negative numbers by adding an if statement and performing a transformation:\\n\",\n",
    " if number % 2 != 0:\n",
    "        raise ValueError(\"The number entered is not even!\")\n",
    "    else:\n",
    "        print(\"Number accepted.\")\n",
    "        \n",
    "even_number(7)\n",
    "\n",
    "\n"
   ]
  },
  {
   "cell_type": "code",
   "execution_count": null,
   "metadata": {},
   "outputs": [],
   "source": []
  }
 ],
 "metadata": {
  "kernelspec": {
   "display_name": "Python 3",
   "language": "python",
   "name": "python3"
  },
  "language_info": {
   "codemirror_mode": {
    "name": "ipython",
    "version": 3
   },
   "file_extension": ".py",
   "mimetype": "text/x-python",
   "name": "python",
   "nbconvert_exporter": "python",
   "pygments_lexer": "ipython3",
   "version": "3.8.3"
  }
 },
 "nbformat": 4,
 "nbformat_minor": 4
}
