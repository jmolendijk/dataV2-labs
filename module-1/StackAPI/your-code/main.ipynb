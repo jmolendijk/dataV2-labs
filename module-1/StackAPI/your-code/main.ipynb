{
 "cells": [
  {
   "cell_type": "markdown",
   "metadata": {},
   "source": [
    "# StackAPI\n",
    "\n",
    "#### Import the necessary libraries here:"
   ]
  },
  {
   "cell_type": "code",
   "execution_count": 1,
   "metadata": {},
   "outputs": [],
   "source": [
    "# your code here\n",
    "\n",
    "import pandas as pd\n",
    "\n",
    "from stackapi import StackAPI\n",
    "SITE = StackAPI('stackoverflow')\n",
    "comments = SITE.fetch('comments')\n",
    "questions = SITE.fetch('questions', fromdate=1596240000, todate=1597190400)"
   ]
  },
  {
   "cell_type": "markdown",
   "metadata": {},
   "source": [
    "#### Question 1: Find the questions and answers of last month."
   ]
  },
  {
   "cell_type": "code",
   "execution_count": 2,
   "metadata": {},
   "outputs": [
    {
     "output_type": "execute_result",
     "data": {
      "text/plain": "     index  backoff  has_more  page  quota_max  quota_remaining  total  \\\n0        0        0      True     5        300              300      0   \n1        1        0      True     5        300              300      0   \n2        2        0      True     5        300              300      0   \n3        3        0      True     5        300              300      0   \n4        4        0      True     5        300              300      0   \n..     ...      ...       ...   ...        ...              ...    ...   \n495    495        0      True     5        300              300      0   \n496    496        0      True     5        300              300      0   \n497    497        0      True     5        300              300      0   \n498    498        0      True     5        300              300      0   \n499    499        0      True     5        300              300      0   \n\n                                                 items  \n0    {'tags': ['c#', 'design-patterns', 'reflection...  \n1    {'tags': ['java', 'jpa'], 'owner': {'reputatio...  \n2    {'tags': ['xslt'], 'owner': {'reputation': 1, ...  \n3    {'tags': ['windows', 'wmic', 'taskmanager'], '...  \n4    {'tags': ['reporting-services', 'count', 'ssrs...  \n..                                                 ...  \n495  {'tags': ['csdl'], 'owner': {'reputation': 1, ...  \n496  {'tags': ['javascript', 'object', 'key', 'key-...  \n497  {'tags': ['sql', 'sql-server', 'azure', 'high-...  \n498  {'tags': ['r', 'dataframe', 'date', 'calculate...  \n499  {'tags': ['angular', 'graphql', 'nativescript'...  \n\n[500 rows x 8 columns]",
      "text/html": "<div>\n<style scoped>\n    .dataframe tbody tr th:only-of-type {\n        vertical-align: middle;\n    }\n\n    .dataframe tbody tr th {\n        vertical-align: top;\n    }\n\n    .dataframe thead th {\n        text-align: right;\n    }\n</style>\n<table border=\"1\" class=\"dataframe\">\n  <thead>\n    <tr style=\"text-align: right;\">\n      <th></th>\n      <th>index</th>\n      <th>backoff</th>\n      <th>has_more</th>\n      <th>page</th>\n      <th>quota_max</th>\n      <th>quota_remaining</th>\n      <th>total</th>\n      <th>items</th>\n    </tr>\n  </thead>\n  <tbody>\n    <tr>\n      <th>0</th>\n      <td>0</td>\n      <td>0</td>\n      <td>True</td>\n      <td>5</td>\n      <td>300</td>\n      <td>300</td>\n      <td>0</td>\n      <td>{'tags': ['c#', 'design-patterns', 'reflection...</td>\n    </tr>\n    <tr>\n      <th>1</th>\n      <td>1</td>\n      <td>0</td>\n      <td>True</td>\n      <td>5</td>\n      <td>300</td>\n      <td>300</td>\n      <td>0</td>\n      <td>{'tags': ['java', 'jpa'], 'owner': {'reputatio...</td>\n    </tr>\n    <tr>\n      <th>2</th>\n      <td>2</td>\n      <td>0</td>\n      <td>True</td>\n      <td>5</td>\n      <td>300</td>\n      <td>300</td>\n      <td>0</td>\n      <td>{'tags': ['xslt'], 'owner': {'reputation': 1, ...</td>\n    </tr>\n    <tr>\n      <th>3</th>\n      <td>3</td>\n      <td>0</td>\n      <td>True</td>\n      <td>5</td>\n      <td>300</td>\n      <td>300</td>\n      <td>0</td>\n      <td>{'tags': ['windows', 'wmic', 'taskmanager'], '...</td>\n    </tr>\n    <tr>\n      <th>4</th>\n      <td>4</td>\n      <td>0</td>\n      <td>True</td>\n      <td>5</td>\n      <td>300</td>\n      <td>300</td>\n      <td>0</td>\n      <td>{'tags': ['reporting-services', 'count', 'ssrs...</td>\n    </tr>\n    <tr>\n      <th>...</th>\n      <td>...</td>\n      <td>...</td>\n      <td>...</td>\n      <td>...</td>\n      <td>...</td>\n      <td>...</td>\n      <td>...</td>\n      <td>...</td>\n    </tr>\n    <tr>\n      <th>495</th>\n      <td>495</td>\n      <td>0</td>\n      <td>True</td>\n      <td>5</td>\n      <td>300</td>\n      <td>300</td>\n      <td>0</td>\n      <td>{'tags': ['csdl'], 'owner': {'reputation': 1, ...</td>\n    </tr>\n    <tr>\n      <th>496</th>\n      <td>496</td>\n      <td>0</td>\n      <td>True</td>\n      <td>5</td>\n      <td>300</td>\n      <td>300</td>\n      <td>0</td>\n      <td>{'tags': ['javascript', 'object', 'key', 'key-...</td>\n    </tr>\n    <tr>\n      <th>497</th>\n      <td>497</td>\n      <td>0</td>\n      <td>True</td>\n      <td>5</td>\n      <td>300</td>\n      <td>300</td>\n      <td>0</td>\n      <td>{'tags': ['sql', 'sql-server', 'azure', 'high-...</td>\n    </tr>\n    <tr>\n      <th>498</th>\n      <td>498</td>\n      <td>0</td>\n      <td>True</td>\n      <td>5</td>\n      <td>300</td>\n      <td>300</td>\n      <td>0</td>\n      <td>{'tags': ['r', 'dataframe', 'date', 'calculate...</td>\n    </tr>\n    <tr>\n      <th>499</th>\n      <td>499</td>\n      <td>0</td>\n      <td>True</td>\n      <td>5</td>\n      <td>300</td>\n      <td>300</td>\n      <td>0</td>\n      <td>{'tags': ['angular', 'graphql', 'nativescript'...</td>\n    </tr>\n  </tbody>\n</table>\n<p>500 rows × 8 columns</p>\n</div>"
     },
     "metadata": {},
     "execution_count": 2
    }
   ],
   "source": [
    "# your code here\n",
    "\n",
    "questions_dataframe = pd.DataFrame(questions)\n",
    "\n",
    "questions_dataframe.reset_index()"
   ]
  },
  {
   "cell_type": "markdown",
   "metadata": {},
   "source": [
    "#### Question 2: Find the most voted question today with at least a score of 5 and tagged with 'python'. "
   ]
  },
  {
   "cell_type": "code",
   "execution_count": 3,
   "metadata": {},
   "outputs": [
    {
     "output_type": "execute_result",
     "data": {
      "text/plain": "    index  backoff  has_more  page  quota_max  quota_remaining  total  \\\n0       0        0     False     1        300              300      0   \n1       1        0     False     1        300              300      0   \n2       2        0     False     1        300              300      0   \n3       3        0     False     1        300              300      0   \n4       4        0     False     1        300              300      0   \n5       5        0     False     1        300              300      0   \n6       6        0     False     1        300              300      0   \n7       7        0     False     1        300              300      0   \n8       8        0     False     1        300              300      0   \n9       9        0     False     1        300              300      0   \n10     10        0     False     1        300              300      0   \n11     11        0     False     1        300              300      0   \n12     12        0     False     1        300              300      0   \n13     13        0     False     1        300              300      0   \n14     14        0     False     1        300              300      0   \n15     15        0     False     1        300              300      0   \n16     16        0     False     1        300              300      0   \n17     17        0     False     1        300              300      0   \n18     18        0     False     1        300              300      0   \n19     19        0     False     1        300              300      0   \n20     20        0     False     1        300              300      0   \n21     21        0     False     1        300              300      0   \n22     22        0     False     1        300              300      0   \n23     23        0     False     1        300              300      0   \n24     24        0     False     1        300              300      0   \n25     25        0     False     1        300              300      0   \n26     26        0     False     1        300              300      0   \n\n                                                items  \n0   {'tags': ['java', 'python', 'regex', 'performa...  \n1   {'tags': ['python', 'numpy', 'nan'], 'owner': ...  \n2   {'tags': ['python', 'pandas', 'dataframe'], 'o...  \n3   {'tags': ['python', 'pandas', 'dataframe'], 'o...  \n4   {'tags': ['python', 'pandas'], 'owner': {'repu...  \n5   {'tags': ['python', 'arrays', 'list'], 'owner'...  \n6   {'tags': ['python', 'list', 'for-loop'], 'owne...  \n7   {'tags': ['python', 'pygame'], 'owner': {'repu...  \n8   {'tags': ['python', 'python-3.x', 'web-scrapin...  \n9   {'tags': ['python', 'python-import', 'python-m...  \n10  {'tags': ['python'], 'owner': {'reputation': 1...  \n11  {'tags': ['python', 'plotly'], 'owner': {'repu...  \n12  {'tags': ['python', 'pandas'], 'owner': {'repu...  \n13  {'tags': ['python', 'pandas', 'dataframe'], 'o...  \n14  {'tags': ['python', 'python-3.x', 'pandas', 'd...  \n15  {'tags': ['python', 'pandas', 'join', 'merge',...  \n16  {'tags': ['python', 'file-upload', 'jupyter-no...  \n17  {'tags': ['python', 'python-3.x', 'random'], '...  \n18  {'tags': ['python', 'decorator', 'in-place'], ...  \n19  {'tags': ['python', 'pandas', 'matplotlib', 'r...  \n20  {'tags': ['python', 'python-3.x', 'pandas', 'm...  \n21  {'tags': ['python', 'python-3.x', 'google-clou...  \n22  {'tags': ['python', 'discord.py'], 'owner': {'...  \n23  {'tags': ['python', 'pandas', 'dataframe'], 'o...  \n24  {'tags': ['python', 'pandas', 'dataframe', 'ag...  \n25  {'tags': ['python', 'arabic', 'right-to-left',...  \n26  {'tags': ['python', 'python-3.x', 'python-requ...  ",
      "text/html": "<div>\n<style scoped>\n    .dataframe tbody tr th:only-of-type {\n        vertical-align: middle;\n    }\n\n    .dataframe tbody tr th {\n        vertical-align: top;\n    }\n\n    .dataframe thead th {\n        text-align: right;\n    }\n</style>\n<table border=\"1\" class=\"dataframe\">\n  <thead>\n    <tr style=\"text-align: right;\">\n      <th></th>\n      <th>index</th>\n      <th>backoff</th>\n      <th>has_more</th>\n      <th>page</th>\n      <th>quota_max</th>\n      <th>quota_remaining</th>\n      <th>total</th>\n      <th>items</th>\n    </tr>\n  </thead>\n  <tbody>\n    <tr>\n      <th>0</th>\n      <td>0</td>\n      <td>0</td>\n      <td>False</td>\n      <td>1</td>\n      <td>300</td>\n      <td>300</td>\n      <td>0</td>\n      <td>{'tags': ['java', 'python', 'regex', 'performa...</td>\n    </tr>\n    <tr>\n      <th>1</th>\n      <td>1</td>\n      <td>0</td>\n      <td>False</td>\n      <td>1</td>\n      <td>300</td>\n      <td>300</td>\n      <td>0</td>\n      <td>{'tags': ['python', 'numpy', 'nan'], 'owner': ...</td>\n    </tr>\n    <tr>\n      <th>2</th>\n      <td>2</td>\n      <td>0</td>\n      <td>False</td>\n      <td>1</td>\n      <td>300</td>\n      <td>300</td>\n      <td>0</td>\n      <td>{'tags': ['python', 'pandas', 'dataframe'], 'o...</td>\n    </tr>\n    <tr>\n      <th>3</th>\n      <td>3</td>\n      <td>0</td>\n      <td>False</td>\n      <td>1</td>\n      <td>300</td>\n      <td>300</td>\n      <td>0</td>\n      <td>{'tags': ['python', 'pandas', 'dataframe'], 'o...</td>\n    </tr>\n    <tr>\n      <th>4</th>\n      <td>4</td>\n      <td>0</td>\n      <td>False</td>\n      <td>1</td>\n      <td>300</td>\n      <td>300</td>\n      <td>0</td>\n      <td>{'tags': ['python', 'pandas'], 'owner': {'repu...</td>\n    </tr>\n    <tr>\n      <th>5</th>\n      <td>5</td>\n      <td>0</td>\n      <td>False</td>\n      <td>1</td>\n      <td>300</td>\n      <td>300</td>\n      <td>0</td>\n      <td>{'tags': ['python', 'arrays', 'list'], 'owner'...</td>\n    </tr>\n    <tr>\n      <th>6</th>\n      <td>6</td>\n      <td>0</td>\n      <td>False</td>\n      <td>1</td>\n      <td>300</td>\n      <td>300</td>\n      <td>0</td>\n      <td>{'tags': ['python', 'list', 'for-loop'], 'owne...</td>\n    </tr>\n    <tr>\n      <th>7</th>\n      <td>7</td>\n      <td>0</td>\n      <td>False</td>\n      <td>1</td>\n      <td>300</td>\n      <td>300</td>\n      <td>0</td>\n      <td>{'tags': ['python', 'pygame'], 'owner': {'repu...</td>\n    </tr>\n    <tr>\n      <th>8</th>\n      <td>8</td>\n      <td>0</td>\n      <td>False</td>\n      <td>1</td>\n      <td>300</td>\n      <td>300</td>\n      <td>0</td>\n      <td>{'tags': ['python', 'python-3.x', 'web-scrapin...</td>\n    </tr>\n    <tr>\n      <th>9</th>\n      <td>9</td>\n      <td>0</td>\n      <td>False</td>\n      <td>1</td>\n      <td>300</td>\n      <td>300</td>\n      <td>0</td>\n      <td>{'tags': ['python', 'python-import', 'python-m...</td>\n    </tr>\n    <tr>\n      <th>10</th>\n      <td>10</td>\n      <td>0</td>\n      <td>False</td>\n      <td>1</td>\n      <td>300</td>\n      <td>300</td>\n      <td>0</td>\n      <td>{'tags': ['python'], 'owner': {'reputation': 1...</td>\n    </tr>\n    <tr>\n      <th>11</th>\n      <td>11</td>\n      <td>0</td>\n      <td>False</td>\n      <td>1</td>\n      <td>300</td>\n      <td>300</td>\n      <td>0</td>\n      <td>{'tags': ['python', 'plotly'], 'owner': {'repu...</td>\n    </tr>\n    <tr>\n      <th>12</th>\n      <td>12</td>\n      <td>0</td>\n      <td>False</td>\n      <td>1</td>\n      <td>300</td>\n      <td>300</td>\n      <td>0</td>\n      <td>{'tags': ['python', 'pandas'], 'owner': {'repu...</td>\n    </tr>\n    <tr>\n      <th>13</th>\n      <td>13</td>\n      <td>0</td>\n      <td>False</td>\n      <td>1</td>\n      <td>300</td>\n      <td>300</td>\n      <td>0</td>\n      <td>{'tags': ['python', 'pandas', 'dataframe'], 'o...</td>\n    </tr>\n    <tr>\n      <th>14</th>\n      <td>14</td>\n      <td>0</td>\n      <td>False</td>\n      <td>1</td>\n      <td>300</td>\n      <td>300</td>\n      <td>0</td>\n      <td>{'tags': ['python', 'python-3.x', 'pandas', 'd...</td>\n    </tr>\n    <tr>\n      <th>15</th>\n      <td>15</td>\n      <td>0</td>\n      <td>False</td>\n      <td>1</td>\n      <td>300</td>\n      <td>300</td>\n      <td>0</td>\n      <td>{'tags': ['python', 'pandas', 'join', 'merge',...</td>\n    </tr>\n    <tr>\n      <th>16</th>\n      <td>16</td>\n      <td>0</td>\n      <td>False</td>\n      <td>1</td>\n      <td>300</td>\n      <td>300</td>\n      <td>0</td>\n      <td>{'tags': ['python', 'file-upload', 'jupyter-no...</td>\n    </tr>\n    <tr>\n      <th>17</th>\n      <td>17</td>\n      <td>0</td>\n      <td>False</td>\n      <td>1</td>\n      <td>300</td>\n      <td>300</td>\n      <td>0</td>\n      <td>{'tags': ['python', 'python-3.x', 'random'], '...</td>\n    </tr>\n    <tr>\n      <th>18</th>\n      <td>18</td>\n      <td>0</td>\n      <td>False</td>\n      <td>1</td>\n      <td>300</td>\n      <td>300</td>\n      <td>0</td>\n      <td>{'tags': ['python', 'decorator', 'in-place'], ...</td>\n    </tr>\n    <tr>\n      <th>19</th>\n      <td>19</td>\n      <td>0</td>\n      <td>False</td>\n      <td>1</td>\n      <td>300</td>\n      <td>300</td>\n      <td>0</td>\n      <td>{'tags': ['python', 'pandas', 'matplotlib', 'r...</td>\n    </tr>\n    <tr>\n      <th>20</th>\n      <td>20</td>\n      <td>0</td>\n      <td>False</td>\n      <td>1</td>\n      <td>300</td>\n      <td>300</td>\n      <td>0</td>\n      <td>{'tags': ['python', 'python-3.x', 'pandas', 'm...</td>\n    </tr>\n    <tr>\n      <th>21</th>\n      <td>21</td>\n      <td>0</td>\n      <td>False</td>\n      <td>1</td>\n      <td>300</td>\n      <td>300</td>\n      <td>0</td>\n      <td>{'tags': ['python', 'python-3.x', 'google-clou...</td>\n    </tr>\n    <tr>\n      <th>22</th>\n      <td>22</td>\n      <td>0</td>\n      <td>False</td>\n      <td>1</td>\n      <td>300</td>\n      <td>300</td>\n      <td>0</td>\n      <td>{'tags': ['python', 'discord.py'], 'owner': {'...</td>\n    </tr>\n    <tr>\n      <th>23</th>\n      <td>23</td>\n      <td>0</td>\n      <td>False</td>\n      <td>1</td>\n      <td>300</td>\n      <td>300</td>\n      <td>0</td>\n      <td>{'tags': ['python', 'pandas', 'dataframe'], 'o...</td>\n    </tr>\n    <tr>\n      <th>24</th>\n      <td>24</td>\n      <td>0</td>\n      <td>False</td>\n      <td>1</td>\n      <td>300</td>\n      <td>300</td>\n      <td>0</td>\n      <td>{'tags': ['python', 'pandas', 'dataframe', 'ag...</td>\n    </tr>\n    <tr>\n      <th>25</th>\n      <td>25</td>\n      <td>0</td>\n      <td>False</td>\n      <td>1</td>\n      <td>300</td>\n      <td>300</td>\n      <td>0</td>\n      <td>{'tags': ['python', 'arabic', 'right-to-left',...</td>\n    </tr>\n    <tr>\n      <th>26</th>\n      <td>26</td>\n      <td>0</td>\n      <td>False</td>\n      <td>1</td>\n      <td>300</td>\n      <td>300</td>\n      <td>0</td>\n      <td>{'tags': ['python', 'python-3.x', 'python-requ...</td>\n    </tr>\n  </tbody>\n</table>\n</div>"
     },
     "metadata": {},
     "execution_count": 3
    }
   ],
   "source": [
    "# your code here\n",
    "\n",
    "questions2 = SITE.fetch('questions', fromdate=1596240000, todate=1597190400,\n",
    "    min=5, tagged='python', sort='votes')\n",
    "\n",
    "questions_dataframe2 = pd.DataFrame(questions2)\n",
    "\n",
    "questions_dataframe2.reset_index()"
   ]
  },
  {
   "cell_type": "markdown",
   "metadata": {},
   "source": [
    "#### Question 3: Find the answers with id 6784 and 6473."
   ]
  },
  {
   "cell_type": "code",
   "execution_count": 4,
   "metadata": {},
   "outputs": [
    {
     "output_type": "execute_result",
     "data": {
      "text/plain": "   index  backoff  has_more  page  quota_max  quota_remaining  total  \\\n0      0        0     False     1        300              300      0   \n1      1        0     False     1        300              300      0   \n\n                                               items  \n0  {'badge_type': 'tag_based', 'award_count': 1, ...  \n1  {'badge_type': 'tag_based', 'award_count': 1, ...  ",
      "text/html": "<div>\n<style scoped>\n    .dataframe tbody tr th:only-of-type {\n        vertical-align: middle;\n    }\n\n    .dataframe tbody tr th {\n        vertical-align: top;\n    }\n\n    .dataframe thead th {\n        text-align: right;\n    }\n</style>\n<table border=\"1\" class=\"dataframe\">\n  <thead>\n    <tr style=\"text-align: right;\">\n      <th></th>\n      <th>index</th>\n      <th>backoff</th>\n      <th>has_more</th>\n      <th>page</th>\n      <th>quota_max</th>\n      <th>quota_remaining</th>\n      <th>total</th>\n      <th>items</th>\n    </tr>\n  </thead>\n  <tbody>\n    <tr>\n      <th>0</th>\n      <td>0</td>\n      <td>0</td>\n      <td>False</td>\n      <td>1</td>\n      <td>300</td>\n      <td>300</td>\n      <td>0</td>\n      <td>{'badge_type': 'tag_based', 'award_count': 1, ...</td>\n    </tr>\n    <tr>\n      <th>1</th>\n      <td>1</td>\n      <td>0</td>\n      <td>False</td>\n      <td>1</td>\n      <td>300</td>\n      <td>300</td>\n      <td>0</td>\n      <td>{'badge_type': 'tag_based', 'award_count': 1, ...</td>\n    </tr>\n  </tbody>\n</table>\n</div>"
     },
     "metadata": {},
     "execution_count": 4
    }
   ],
   "source": [
    "# your code here\n",
    "\n",
    "questions3 = SITE.fetch('badges', ids=[6784, 6473])\n",
    "\n",
    "questions_dataframe3 = pd.DataFrame(questions3)\n",
    "\n",
    "questions_dataframe3.reset_index()"
   ]
  }
 ],
 "metadata": {
  "kernelspec": {
   "display_name": "Python 3.8.3 64-bit",
   "language": "python",
   "name": "python_defaultSpec_1597222752314"
  },
  "language_info": {
   "codemirror_mode": {
    "name": "ipython",
    "version": 3
   },
   "file_extension": ".py",
   "mimetype": "text/x-python",
   "name": "python",
   "nbconvert_exporter": "python",
   "pygments_lexer": "ipython3",
   "version": "3.7.3"
  }
 },
 "nbformat": 4,
 "nbformat_minor": 2
}