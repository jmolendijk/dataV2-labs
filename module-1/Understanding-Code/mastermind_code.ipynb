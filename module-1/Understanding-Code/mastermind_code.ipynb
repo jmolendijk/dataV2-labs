{
 "cells": [
  {
   "cell_type": "markdown",
   "metadata": {},
   "source": [
    "# Welcome to Mastermind ! \n",
    "\n",
    "The rules are pretty easy : you play against the Computer.  \n",
    "  \n",
    "Computer will chose a combination of 4 numbers, in a range from 1 to 6, with repetitions and order.  \n",
    "  \n",
    "You will be asked to choose a level : \n",
    ">'Easy' gives you 12 tries  \n",
    ">  \n",
    ">'Medium' gives you 9 tries \n",
    ">  \n",
    ">'Hard' gives you 6 tries to guess Computer's code. \n",
    "    \n",
    "Then, for each try, you'll have to enter your guess for the code. Enter any numerical code using numbers from 1 to 6, without any space or punctuation.   \n",
    "\n",
    "\n",
    "\n",
    "## Will you be the Mastermind and beat the Computer ?\n",
    "## Let's play 👩‍💻"
   ]
  },
  {
   "cell_type": "code",
   "execution_count": 2,
   "metadata": {},
   "outputs": [
    {
     "ename": "NameError",
     "evalue": "name 'lets_play' is not defined",
     "output_type": "error",
     "traceback": [
      "\u001b[0;31m---------------------------------------------------------------------------\u001b[0m",
      "\u001b[0;31mNameError\u001b[0m                                 Traceback (most recent call last)",
      "\u001b[0;32m<ipython-input-2-cf5d0155d650>\u001b[0m in \u001b[0;36m<module>\u001b[0;34m\u001b[0m\n\u001b[0;32m----> 1\u001b[0;31m \u001b[0mlets_play\u001b[0m\u001b[0;34m(\u001b[0m\u001b[0;34m)\u001b[0m\u001b[0;34m\u001b[0m\u001b[0;34m\u001b[0m\u001b[0m\n\u001b[0m",
      "\u001b[0;31mNameError\u001b[0m: name 'lets_play' is not defined"
     ]
    }
   ],
   "source": [
    "lets_play()"
   ]
  },
  {
   "cell_type": "code",
   "execution_count": null,
   "metadata": {},
   "outputs": [],
   "source": [
    "\n",
    "\n",
    "\n",
    "\n",
    "\n",
    "\n",
    "\n",
    "\n",
    "\n",
    "\n",
    "\n",
    "\n",
    "\n",
    "\n",
    "\n",
    "\n"
   ]
  },
  {
   "cell_type": "code",
   "execution_count": null,
   "metadata": {},
   "outputs": [],
   "source": [
    "import itertools\n",
    "import re\n",
    "\n",
    "var = [i for i in range(1,7)]\n",
    "#print(var)\n",
    "\n",
    "all_comb_tup = list(itertools.product(var, repeat=4))\n",
    "#print(all_comb_tup[0])\n",
    "#print(len(all_comb_tup))\n",
    "#print(type(all_comb_tup[0]))\n",
    "\n",
    "all_comb = []\n",
    "lst_comb = []\n",
    "\n",
    "for tup in all_comb_tup:\n",
    "    lst = list(tup)\n",
    "    for l in lst:\n",
    "        string = str(l)\n",
    "        lst_comb.append(string)\n",
    "    comb = ''.join(lst_comb)\n",
    "    all_comb.append(comb)\n",
    "    lst_comb = []\n",
    "        \n",
    "#print(all_comb[1295])"
   ]
  },
  {
   "cell_type": "code",
   "execution_count": null,
   "metadata": {},
   "outputs": [],
   "source": [
    "# Choice of level by user :\n",
    "\n",
    "levels = {'easy' : 12, 'medium' : 9, 'hard' : 6}\n",
    "\n",
    "def ask_user_level():\n",
    "    user_level = False\n",
    "    global level\n",
    "    level = str(input(\"\\nChoose a level : 'easy', 'medium' or 'hard' ? \"))\n",
    "\n",
    "    while user_level == False:\n",
    "        if level in levels.keys():\n",
    "            user_level = True\n",
    "        else:\n",
    "            level = str(input(\"\\nOopsy! 😵 Try again : 'easy', 'medium' or 'hard' ? \"))\n",
    "    return level\n",
    "\n",
    "#ask_user_level()"
   ]
  },
  {
   "cell_type": "code",
   "execution_count": null,
   "metadata": {},
   "outputs": [],
   "source": [
    "# Computer randomly select a code from all_combinations :\n",
    "\n",
    "def random_computer(level):\n",
    "    import random\n",
    "    global computer\n",
    "    computer = random.choice(all_comb)\n",
    "    \n",
    "    print(\"\\nComputer has chosen a code. You have now\",\n",
    "          str(levels[level]),\n",
    "          \"tries to find it.\\nGood luck ! 🤞\\n\")\n",
    "\n",
    "#random_computer(level)\n",
    "#print(computer)"
   ]
  },
  {
   "cell_type": "code",
   "execution_count": null,
   "metadata": {},
   "outputs": [],
   "source": [
    "def ask_try_user():\n",
    "    global try_user\n",
    "    try_user = str(input(\"Enter your guess for the 4 digit code: \"))\n",
    "    while try_user not in all_comb:\n",
    "        try_user = str(input(\"This is an invalid code, try again: \"))\n",
    "    return try_user\n",
    "\n",
    "#ask_try_user()"
   ]
  },
  {
   "cell_type": "code",
   "execution_count": null,
   "metadata": {},
   "outputs": [],
   "source": [
    "#user now guess the code\n",
    "\n",
    "def run_game(computer, level):\n",
    "    tries = 1\n",
    "\n",
    "    while tries <= int(levels[level]):\n",
    "    \n",
    "        print('\\n\\nThis is your #'+str(tries)+\" try.\")\n",
    "        try_user = str(input(\"Enter your guess for the 4 digit code: \"))\n",
    "        while try_user not in all_comb:\n",
    "            try_user = str(input(\"This is an invalid code, try again: \"))\n",
    "        tries += 1\n",
    "    \n",
    "        if computer == try_user:\n",
    "            print(\"\\n🟢\\n🟢\\n🟢\\n🟢 \\n\\nYou win ! 🏆\")\n",
    "            break\n",
    "        \n",
    "        for i in range(4):\n",
    "            if computer[i] == try_user[i]:\n",
    "                print(try_user[i], \"🟢\")\n",
    "            else:\n",
    "                print(try_user[i], \"🔴\")\n",
    "            \n",
    "    else:\n",
    "        print(\"\\nSorry, Computer wins ! 😥\\nThe code was \"+computer)\n",
    "\n",
    "#run_game()"
   ]
  },
  {
   "cell_type": "code",
   "execution_count": null,
   "metadata": {},
   "outputs": [],
   "source": [
    "#GAME TIME !\n",
    "\n",
    "def game_time():\n",
    "    ask_user_level()\n",
    "    random_computer(level)\n",
    "    run_game(computer, level)\n",
    "\n",
    "\n"
   ]
  },
  {
   "cell_type": "code",
   "execution_count": null,
   "metadata": {},
   "outputs": [],
   "source": [
    "def lets_play():\n",
    "    game = False\n",
    "    print(\"I, Computer 👩‍💻, challenge you to a Mastermind game! 🌐\\nDo you wanna play?\\n\")\n",
    "    play_game = input(\"\\nSelect 'yes' or 'no' : \")\n",
    "    while game == False:\n",
    "        if play_game == 'yes':\n",
    "            game_time()\n",
    "            game = True\n",
    "        elif play_game == 'no':\n",
    "            print(\"\\nOk, bye bye ! 🙋‍♀️ \")\n",
    "            game = True\n",
    "        else:\n",
    "            play_game = input(\"I didn't understand. Write 'yes' or 'no' : \")"
   ]
  }
 ],
 "metadata": {
  "kernelspec": {
   "display_name": "Python 3",
   "language": "python",
   "name": "python3"
  },
  "language_info": {
   "codemirror_mode": {
    "name": "ipython",
    "version": 3
   },
   "file_extension": ".py",
   "mimetype": "text/x-python",
   "name": "python",
   "nbconvert_exporter": "python",
   "pygments_lexer": "ipython3",
   "version": "3.8.3"
  }
 },
 "nbformat": 4,
 "nbformat_minor": 4
}
