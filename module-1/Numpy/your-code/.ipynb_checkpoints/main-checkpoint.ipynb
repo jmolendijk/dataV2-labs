{
 "cells": [
  {
   "cell_type": "markdown",
   "metadata": {},
   "source": [
    "# Introduction to NumPy\n",
    "\n",
    "\n",
    "#### 1. Import NumPy under the name np."
   ]
  },
  {
   "cell_type": "code",
   "execution_count": 2,
   "metadata": {},
   "outputs": [],
   "source": [
    "import numpy as np "
   ]
  },
  {
   "cell_type": "markdown",
   "metadata": {},
   "source": [
    "#### 2. Print your NumPy version."
   ]
  },
  {
   "cell_type": "code",
   "execution_count": 3,
   "metadata": {},
   "outputs": [
    {
     "name": "stdout",
     "output_type": "stream",
     "text": [
      "1.18.1\n"
     ]
    }
   ],
   "source": [
    "import numpy as np\n",
    "print(np.__version__)"
   ]
  },
  {
   "cell_type": "markdown",
   "metadata": {},
   "source": [
    "#### 3. Generate a 2x3x5 3-dimensional array with random values. Assign the array to variable *a*.\n",
    "**Challenge**: there are at least three easy ways that use numpy to generate random arrays. How many ways can you find?"
   ]
  },
  {
   "cell_type": "code",
   "execution_count": 5,
   "metadata": {},
   "outputs": [
    {
     "name": "stdout",
     "output_type": "stream",
     "text": [
      "[[[0.55246586 0.18121942 0.45674392 0.91296383 0.67511919]\n",
      "  [0.98717336 0.43317939 0.15583991 0.49128624 0.17494274]\n",
      "  [0.89604565 0.66487433 0.55655871 0.13427489 0.13033207]]\n",
      "\n",
      " [[0.43336821 0.19643365 0.38920153 0.43258308 0.57957371]\n",
      "  [0.39108771 0.67493921 0.2847163  0.08093828 0.61924716]\n",
      "  [0.92670382 0.96394611 0.90738931 0.49697626 0.77915769]]]\n"
     ]
    }
   ],
   "source": [
    "a = np.random.random([2, 3, 5])\n",
    "#print(a)"
   ]
  },
  {
   "cell_type": "code",
   "execution_count": 140,
   "metadata": {},
   "outputs": [
    {
     "name": "stdout",
     "output_type": "stream",
     "text": [
      "[[[1.55246586 1.18121942 1.45674392 1.91296383 1.67511919]\n",
      "  [1.98717336 1.43317939 1.15583991 1.49128624 1.17494274]\n",
      "  [1.89604565 1.66487433 1.55655871 1.13427489 1.13033207]]\n",
      "\n",
      " [[1.43336821 1.19643365 1.38920153 1.43258308 1.57957371]\n",
      "  [1.39108771 1.67493921 1.2847163  1.08093828 1.61924716]\n",
      "  [1.92670382 1.96394611 1.90738931 1.49697626 1.77915769]]]\n"
     ]
    }
   ],
   "source": [
    "a_try=np.empty((2,3,5))\n",
    "print(a_try)"
   ]
  },
  {
   "cell_type": "code",
   "execution_count": null,
   "metadata": {},
   "outputs": [],
   "source": []
  },
  {
   "cell_type": "markdown",
   "metadata": {},
   "source": [
    "#### 4. Print *a*.\n"
   ]
  },
  {
   "cell_type": "code",
   "execution_count": 9,
   "metadata": {},
   "outputs": [
    {
     "name": "stdout",
     "output_type": "stream",
     "text": [
      "[[[0.55246586 0.18121942 0.45674392 0.91296383 0.67511919]\n",
      "  [0.98717336 0.43317939 0.15583991 0.49128624 0.17494274]\n",
      "  [0.89604565 0.66487433 0.55655871 0.13427489 0.13033207]]\n",
      "\n",
      " [[0.43336821 0.19643365 0.38920153 0.43258308 0.57957371]\n",
      "  [0.39108771 0.67493921 0.2847163  0.08093828 0.61924716]\n",
      "  [0.92670382 0.96394611 0.90738931 0.49697626 0.77915769]]]\n"
     ]
    }
   ],
   "source": [
    "print(a)"
   ]
  },
  {
   "cell_type": "markdown",
   "metadata": {},
   "source": [
    "#### 5. Create a 5x2x3 3-dimensional array with all values equaling 1. Assign the array to variable *b*."
   ]
  },
  {
   "cell_type": "code",
   "execution_count": 4,
   "metadata": {},
   "outputs": [],
   "source": [
    "b = np.ones([5, 2, 3])\n",
    "#print(b)"
   ]
  },
  {
   "cell_type": "markdown",
   "metadata": {},
   "source": [
    "#### 6. Print *b*.\n"
   ]
  },
  {
   "cell_type": "code",
   "execution_count": 16,
   "metadata": {},
   "outputs": [
    {
     "name": "stdout",
     "output_type": "stream",
     "text": [
      "[[[1. 1. 1.]\n",
      "  [1. 1. 1.]]\n",
      "\n",
      " [[1. 1. 1.]\n",
      "  [1. 1. 1.]]\n",
      "\n",
      " [[1. 1. 1.]\n",
      "  [1. 1. 1.]]\n",
      "\n",
      " [[1. 1. 1.]\n",
      "  [1. 1. 1.]]\n",
      "\n",
      " [[1. 1. 1.]\n",
      "  [1. 1. 1.]]]\n"
     ]
    }
   ],
   "source": [
    "print(b)"
   ]
  },
  {
   "cell_type": "markdown",
   "metadata": {},
   "source": [
    "#### 7. Do *a* and *b* have the same size? How do you prove that in Python code?"
   ]
  },
  {
   "cell_type": "code",
   "execution_count": 9,
   "metadata": {},
   "outputs": [
    {
     "name": "stdout",
     "output_type": "stream",
     "text": [
      "2\n",
      "5\n",
      "3\n",
      "2\n"
     ]
    }
   ],
   "source": [
    "a = np.random.random([2, 3, 5])\n",
    "b = np.ones([5, 2, 3])\n",
    "\n",
    "len(a) != len(b)\n",
    "len(a[0]) != len(b[0])\n",
    "\n",
    "total_size_a = len(a)* len(a[0])\n",
    "total_size_b = len(b)* len(b[0])\n",
    "\n",
    "#print(len(a))\n",
    "#print(len(b))\n",
    "\n",
    "#print(len(a[0]))\n",
    "#print(len(b[0]))\n",
    "\n",
    "#No they don't have the same size. I prove this by checking the length of both array's. (But here you look at the number of groups. )\n",
    "#Second thing I did was looking if the rows have the same numbers. "
   ]
  },
  {
   "cell_type": "markdown",
   "metadata": {},
   "source": [
    "#### 8. Are you able to add *a* and *b*? Why or why not?\n"
   ]
  },
  {
   "cell_type": "code",
   "execution_count": 28,
   "metadata": {},
   "outputs": [
    {
     "ename": "ValueError",
     "evalue": "operands could not be broadcast together with shapes (2,3,5) (5,2,3) ",
     "output_type": "error",
     "traceback": [
      "\u001b[0;31m---------------------------------------------------------------------------\u001b[0m",
      "\u001b[0;31mValueError\u001b[0m                                Traceback (most recent call last)",
      "\u001b[0;32m<ipython-input-28-4af42938bf4c>\u001b[0m in \u001b[0;36m<module>\u001b[0;34m\u001b[0m\n\u001b[0;32m----> 1\u001b[0;31m \u001b[0msum_a_b\u001b[0m \u001b[0;34m=\u001b[0m \u001b[0mnp\u001b[0m\u001b[0;34m.\u001b[0m\u001b[0madd\u001b[0m\u001b[0;34m(\u001b[0m\u001b[0ma\u001b[0m\u001b[0;34m,\u001b[0m \u001b[0mb\u001b[0m\u001b[0;34m)\u001b[0m\u001b[0;34m\u001b[0m\u001b[0;34m\u001b[0m\u001b[0m\n\u001b[0m\u001b[1;32m      2\u001b[0m \u001b[0mprint\u001b[0m\u001b[0;34m(\u001b[0m\u001b[0msum_a_b\u001b[0m\u001b[0;34m)\u001b[0m\u001b[0;34m\u001b[0m\u001b[0;34m\u001b[0m\u001b[0m\n\u001b[1;32m      3\u001b[0m \u001b[0;34m\u001b[0m\u001b[0m\n\u001b[1;32m      4\u001b[0m \u001b[0;31m#I can't add a and b togheter because the shapes are different. I receive a ValueError.\u001b[0m\u001b[0;34m\u001b[0m\u001b[0;34m\u001b[0m\u001b[0;34m\u001b[0m\u001b[0m\n",
      "\u001b[0;31mValueError\u001b[0m: operands could not be broadcast together with shapes (2,3,5) (5,2,3) "
     ]
    }
   ],
   "source": [
    "sum_a_b = np.add(a, b)\n",
    "print(sum_a_b)\n",
    "\n",
    "#I can't add a and b togheter because the shapes are different. I receive a ValueError."
   ]
  },
  {
   "cell_type": "markdown",
   "metadata": {},
   "source": [
    "#### 9. Transpose *b* so that it has the same structure of *a* (i.e. become a 2x3x5 array). Assign the transposed array to variable *c*."
   ]
  },
  {
   "cell_type": "code",
   "execution_count": 54,
   "metadata": {},
   "outputs": [
    {
     "name": "stdout",
     "output_type": "stream",
     "text": [
      "[[[1. 1. 1. 1. 1.]\n",
      "  [1. 1. 1. 1. 1.]]\n",
      "\n",
      " [[1. 1. 1. 1. 1.]\n",
      "  [1. 1. 1. 1. 1.]]\n",
      "\n",
      " [[1. 1. 1. 1. 1.]\n",
      "  [1. 1. 1. 1. 1.]]]\n"
     ]
    }
   ],
   "source": [
    "c = np.transpose(b)\n",
    "\n",
    "#print(c)"
   ]
  },
  {
   "cell_type": "markdown",
   "metadata": {},
   "source": [
    "#### 10. Try to add *a* and *c*. Now it should work. Assign the sum to variable *d*. But why does it work now?"
   ]
  },
  {
   "cell_type": "code",
   "execution_count": 30,
   "metadata": {},
   "outputs": [
    {
     "name": "stdout",
     "output_type": "stream",
     "text": [
      "[[[1.55246586 1.18121942 1.45674392 1.91296383 1.67511919]\n",
      "  [1.98717336 1.43317939 1.15583991 1.49128624 1.17494274]\n",
      "  [1.89604565 1.66487433 1.55655871 1.13427489 1.13033207]]\n",
      "\n",
      " [[1.43336821 1.19643365 1.38920153 1.43258308 1.57957371]\n",
      "  [1.39108771 1.67493921 1.2847163  1.08093828 1.61924716]\n",
      "  [1.92670382 1.96394611 1.90738931 1.49697626 1.77915769]]]\n"
     ]
    }
   ],
   "source": [
    "d = np.add(a, c)\n",
    "print(d)"
   ]
  },
  {
   "cell_type": "markdown",
   "metadata": {},
   "source": [
    "#### 11. Print *a* and *d*. Notice the difference and relation of the two array in terms of the values? Explain."
   ]
  },
  {
   "cell_type": "code",
   "execution_count": 33,
   "metadata": {},
   "outputs": [
    {
     "name": "stdout",
     "output_type": "stream",
     "text": [
      "[[[0.55246586 0.18121942 0.45674392 0.91296383 0.67511919]\n",
      "  [0.98717336 0.43317939 0.15583991 0.49128624 0.17494274]\n",
      "  [0.89604565 0.66487433 0.55655871 0.13427489 0.13033207]]\n",
      "\n",
      " [[0.43336821 0.19643365 0.38920153 0.43258308 0.57957371]\n",
      "  [0.39108771 0.67493921 0.2847163  0.08093828 0.61924716]\n",
      "  [0.92670382 0.96394611 0.90738931 0.49697626 0.77915769]]]\n",
      "*\n",
      "[[[1.55246586 1.18121942 1.45674392 1.91296383 1.67511919]\n",
      "  [1.98717336 1.43317939 1.15583991 1.49128624 1.17494274]\n",
      "  [1.89604565 1.66487433 1.55655871 1.13427489 1.13033207]]\n",
      "\n",
      " [[1.43336821 1.19643365 1.38920153 1.43258308 1.57957371]\n",
      "  [1.39108771 1.67493921 1.2847163  1.08093828 1.61924716]\n",
      "  [1.92670382 1.96394611 1.90738931 1.49697626 1.77915769]]]\n"
     ]
    }
   ],
   "source": [
    "print(a)\n",
    "print(\"*\")\n",
    "print(d)\n",
    "\n",
    "#The difference between 'a' and 'd' is that the values of 'd' are 1 higher or you could say that the values 'a' are one less than 'd'. \n",
    "#'d' are the same values as 'a' but is they are exactly 1 higher."
   ]
  },
  {
   "cell_type": "markdown",
   "metadata": {},
   "source": [
    "#### 12. Multiply *a* and *c*. Assign the result to *e*."
   ]
  },
  {
   "cell_type": "code",
   "execution_count": 39,
   "metadata": {},
   "outputs": [
    {
     "name": "stdout",
     "output_type": "stream",
     "text": [
      "[[[0.55246586 0.18121942 0.45674392 0.91296383 0.67511919]\n",
      "  [0.98717336 0.43317939 0.15583991 0.49128624 0.17494274]\n",
      "  [0.89604565 0.66487433 0.55655871 0.13427489 0.13033207]]\n",
      "\n",
      " [[0.43336821 0.19643365 0.38920153 0.43258308 0.57957371]\n",
      "  [0.39108771 0.67493921 0.2847163  0.08093828 0.61924716]\n",
      "  [0.92670382 0.96394611 0.90738931 0.49697626 0.77915769]]]\n"
     ]
    }
   ],
   "source": [
    "e = np.multiply(a, c)\n",
    "#print(e)"
   ]
  },
  {
   "cell_type": "markdown",
   "metadata": {},
   "source": [
    "#### 13. Does *e* equal to *a*? Why or why not?\n"
   ]
  },
  {
   "cell_type": "code",
   "execution_count": null,
   "metadata": {},
   "outputs": [],
   "source": [
    "# e is equal to a for as long as the value of all elements in the array c remain unchanged. "
   ]
  },
  {
   "cell_type": "markdown",
   "metadata": {},
   "source": [
    "#### 14. Identify the max, min, and mean values in *d*. Assign those values to variables *d_max*, *d_min* and *d_mean*."
   ]
  },
  {
   "cell_type": "code",
   "execution_count": 48,
   "metadata": {},
   "outputs": [],
   "source": [
    "d_max = d.max()\n",
    "d_min = d.min()\n",
    "d_mean = d.mean()\n",
    "\n",
    "#print(d_max)\n",
    "#print(\"*\")\n",
    "#print(d)\n",
    "#print(\"*\")\n",
    "#print(d_min)\n",
    "#print(\"*\")\n",
    "#print(d_mean)"
   ]
  },
  {
   "cell_type": "markdown",
   "metadata": {},
   "source": [
    "#### 15. Now we want to label the values in *d*. First create an empty array *f* with the same shape (i.e. 2x3x5) as *d* using `np.empty`.\n"
   ]
  },
  {
   "cell_type": "code",
   "execution_count": 51,
   "metadata": {},
   "outputs": [],
   "source": [
    "f = np.empty([2, 3, 5])"
   ]
  },
  {
   "cell_type": "markdown",
   "metadata": {},
   "source": [
    "#### 16. Populate the values in *f*. \n",
    "\n",
    "For each value in *d*, if it's larger than *d_min* but smaller than *d_mean*, assign 25 to the corresponding value in *f*. If a value in *d* is larger than *d_mean* but smaller than *d_max*, assign 75 to the corresponding value in *f*. If a value equals to *d_mean*, assign 50 to the corresponding value in *f*. Assign 0 to the corresponding value(s) in *f* for *d_min* in *d*. Assign 100 to the corresponding value(s) in *f* for *d_max* in *d*. In the end, f should have only the following values: 0, 25, 50, 75, and 100.\n",
    "\n",
    "**Note**: you don't have to use Numpy in this question."
   ]
  },
  {
   "cell_type": "code",
   "execution_count": 115,
   "metadata": {},
   "outputs": [
    {
     "name": "stdout",
     "output_type": "stream",
     "text": [
      "[[ 75  25  25  75  75]\n",
      " [100  25  25  25  25]\n",
      " [ 75  75  75  25  25]\n",
      " [ 25  25  25  25  75]\n",
      " [ 25  75  25   0  75]\n",
      " [ 75  75  75  25  75]]\n",
      "*\n",
      "[[[1.55246586 1.18121942 1.45674392 1.91296383 1.67511919]\n",
      "  [1.98717336 1.43317939 1.15583991 1.49128624 1.17494274]\n",
      "  [1.89604565 1.66487433 1.55655871 1.13427489 1.13033207]]\n",
      "\n",
      " [[1.43336821 1.19643365 1.38920153 1.43258308 1.57957371]\n",
      "  [1.39108771 1.67493921 1.2847163  1.08093828 1.61924716]\n",
      "  [1.92670382 1.96394611 1.90738931 1.49697626 1.77915769]]]\n"
     ]
    }
   ],
   "source": [
    "#print(d)\n",
    "try_out = d\n",
    "d_max = d.max()\n",
    "d_min = d.min()\n",
    "d_mean = d.mean()\n",
    "\n",
    "def populate (x):\n",
    "    main_list = []\n",
    "    for d1 in x:”\n",
    "        for d2 in d1:\n",
    "            sub_list = []\n",
    "            main_list.append(sub_list)\n",
    "            for d3 in d2:\n",
    "                if d3 == d_min: \n",
    "                    num = 0\n",
    "                    sub_list.append(num)\n",
    "                elif d3 == d_max: \n",
    "                    num = 100\n",
    "                    sub_list.append(num)\n",
    "                elif d3 > d_min and d3 < d_mean:\n",
    "                    num = 25\n",
    "                    sub_list.append(num)\n",
    "                elif d3 > d_mean and d3 < d_max: \n",
    "                    num = 75\n",
    "                    sub_list.append(num)\n",
    "                elif d3 == d_mean: \n",
    "                    num = 50\n",
    "                    sub_list.append(num)\n",
    "                    \n",
    "    arr_one = np.array(main_list)\n",
    "    return(arr_one)\n",
    "        \n",
    "        \n",
    "#print(populate(d))\n",
    "#print(\"*\")\n",
    "#print(d)\n",
    "\n",
    "#@Jan is there a more easy way of complete this challenge?  --> I think I made it to long in code. "
   ]
  },
  {
   "cell_type": "markdown",
   "metadata": {},
   "source": [
    "#### 17. Print *d* and *f*. Do you have your expected *f*?\n",
    "For instance, if your *d* is:\n",
    "```python\n",
    "[[[1.85836099, 1.67064465, 1.62576044, 1.40243961, 1.88454931],\n",
    "[1.75354326, 1.69403643, 1.36729252, 1.61415071, 1.12104981],\n",
    "[1.72201435, 1.1862918 , 1.87078449, 1.7726778 , 1.88180042]],\n",
    "[[1.44747908, 1.31673383, 1.02000951, 1.52218947, 1.97066381],\n",
    "[1.79129243, 1.74983003, 1.96028037, 1.85166831, 1.65450881],\n",
    "[1.18068344, 1.9587381 , 1.00656599, 1.93402165, 1.73514584]]]\n",
    "```\n",
    "Your *f* should be:\n",
    "```python\n",
    "[[[ 75.,  75.,  75.,  25.,  75.],\n",
    "[ 75.,  75.,  25.,  25.,  25.],\n",
    "[ 75.,  25.,  75.,  75.,  75.]],\n",
    "[[ 25.,  25.,  25.,  25., 100.],\n",
    "[ 75.,  75.,  75.,  75.,  75.],\n",
    "[ 25.,  75.,   0.,  75.,  75.]]]\n",
    "```"
   ]
  },
  {
   "cell_type": "code",
   "execution_count": 106,
   "metadata": {},
   "outputs": [
    {
     "name": "stdout",
     "output_type": "stream",
     "text": [
      "[[[1.55246586 1.18121942 1.45674392 1.91296383 1.67511919]\n",
      "  [1.98717336 1.43317939 1.15583991 1.49128624 1.17494274]\n",
      "  [1.89604565 1.66487433 1.55655871 1.13427489 1.13033207]]\n",
      "\n",
      " [[1.43336821 1.19643365 1.38920153 1.43258308 1.57957371]\n",
      "  [1.39108771 1.67493921 1.2847163  1.08093828 1.61924716]\n",
      "  [1.92670382 1.96394611 1.90738931 1.49697626 1.77915769]]]\n",
      "*\n",
      "[[75, 25, 25, 75, 75], [100, 25, 25, 25, 25], [75, 75, 75, 25, 25], [25, 25, 25, 25, 75], [25, 75, 25, 0, 75], [75, 75, 75, 25, 75]]\n"
     ]
    }
   ],
   "source": [
    "print(d)\n",
    "print(\"*\")\n",
    "print(populate(d))"
   ]
  },
  {
   "cell_type": "markdown",
   "metadata": {},
   "source": [
    "#### 18. Bonus question: instead of using numbers (i.e. 0, 25, 50, 75, and 100), use string values  (\"A\", \"B\", \"C\", \"D\", and \"E\") to label the array elements. For the example above, the expected result is:\n",
    "\n",
    "```python\n",
    "[[[ 'D',  'D',  'D',  'B',  'D'],\n",
    "[ 'D',  'D',  'B',  'B',  'B'],\n",
    "[ 'D',  'B',  'D',  'D',  'D']],\n",
    "[[ 'B',  'B',  'B',  'B',  'E'],\n",
    "[ 'D',  'D',  'D',  'D',  'D'],\n",
    "[ 'B',  'D',   'A',  'D', 'D']]]\n",
    "```\n",
    "**Note**: you don't have to use Numpy in this question."
   ]
  },
  {
   "cell_type": "code",
   "execution_count": 112,
   "metadata": {},
   "outputs": [
    {
     "name": "stdout",
     "output_type": "stream",
     "text": [
      "[['D' 'B' 'B' 'D' 'D']\n",
      " ['E' 'B' 'B' 'B' 'B']\n",
      " ['D' 'D' 'D' 'B' 'B']\n",
      " ['B' 'B' 'B' 'B' 'D']\n",
      " ['B' 'D' 'B' 'A' 'D']\n",
      " ['D' 'D' 'D' 'B' 'D']]\n"
     ]
    }
   ],
   "source": [
    "\n",
    "def bonus (x):\n",
    "    main_list = []\n",
    "    for d1 in x:\n",
    "        for d2 in d1:\n",
    "            sub_list = []\n",
    "            main_list.append(sub_list)\n",
    "            for d3 in d2:\n",
    "                if d3 == d_min: \n",
    "                    num = \"A\"\n",
    "                    sub_list.append(num)\n",
    "                elif d3 == d_max: \n",
    "                    num = \"E\"\n",
    "                    sub_list.append(num)\n",
    "                elif d3 > d_min and d3 < d_mean:\n",
    "                    num = \"B\"\n",
    "                    sub_list.append(num)\n",
    "                elif d3 > d_mean and d3 < d_max: \n",
    "                    num = \"D\"\n",
    "                    sub_list.append(num)\n",
    "                elif d3 == d_mean: \n",
    "                    num = \"C\"\n",
    "                    sub_list.append(num)\n",
    "    \n",
    "    bertje = np.array(main_list)\n",
    "    return(bertje)\n",
    "\n",
    "print(bonus(d))"
   ]
  },
  {
   "cell_type": "code",
   "execution_count": null,
   "metadata": {},
   "outputs": [],
   "source": []
  }
 ],
 "metadata": {
  "kernelspec": {
   "display_name": "Python 3",
   "language": "python",
   "name": "python3"
  },
  "language_info": {
   "codemirror_mode": {
    "name": "ipython",
    "version": 3
   },
   "file_extension": ".py",
   "mimetype": "text/x-python",
   "name": "python",
   "nbconvert_exporter": "python",
   "pygments_lexer": "ipython3",
   "version": "3.7.6"
  }
 },
 "nbformat": 4,
 "nbformat_minor": 2
}
