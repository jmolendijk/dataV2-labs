{
 "cells": [
  {
   "cell_type": "markdown",
   "metadata": {},
   "source": [
    "# Introduction to NumPy\n",
    "\n",
    "\n",
    "#### 1. Import NumPy under the name np."
   ]
  },
  {
   "cell_type": "code",
   "execution_count": 1,
   "metadata": {},
   "outputs": [],
   "source": [
    "import numpy as np"
   ]
  },
  {
   "cell_type": "markdown",
   "metadata": {},
   "source": [
    "#### 2. Print your NumPy version."
   ]
  },
  {
   "cell_type": "code",
   "execution_count": 2,
   "metadata": {},
   "outputs": [
    {
     "data": {
      "text/plain": [
       "'1.18.1'"
      ]
     },
     "execution_count": 2,
     "metadata": {},
     "output_type": "execute_result"
    }
   ],
   "source": [
    "np.version.version"
   ]
  },
  {
   "cell_type": "markdown",
   "metadata": {},
   "source": [
    "#### 3. Generate a 2x3x5 3-dimensional array with random values. Assign the array to variable *a*.\n",
    "**Challenge**: there are at least three easy ways that use numpy to generate random arrays. How many ways can you find?"
   ]
  },
  {
   "cell_type": "code",
   "execution_count": 3,
   "metadata": {},
   "outputs": [],
   "source": [
    "a = np.random.random((2,3,5))"
   ]
  },
  {
   "cell_type": "code",
   "execution_count": null,
   "metadata": {},
   "outputs": [],
   "source": [
    "#a = np.random.rand(2,3,5)"
   ]
  },
  {
   "cell_type": "code",
   "execution_count": 29,
   "metadata": {},
   "outputs": [],
   "source": [
    "#a = np.empty((2,3,5))"
   ]
  },
  {
   "cell_type": "markdown",
   "metadata": {},
   "source": [
    "#### 4. Print *a*.\n"
   ]
  },
  {
   "cell_type": "code",
   "execution_count": 4,
   "metadata": {},
   "outputs": [
    {
     "name": "stdout",
     "output_type": "stream",
     "text": [
      "[[[0.32477206 0.64555235 0.27935086 0.54260587 0.58939083]\n",
      "  [0.5842703  0.08718538 0.82161084 0.93983551 0.68001766]\n",
      "  [0.11026034 0.61635228 0.61780757 0.69139471 0.67300248]]\n",
      "\n",
      " [[0.48912728 0.77143901 0.68698566 0.2595494  0.39927796]\n",
      "  [0.87461811 0.14912491 0.79185022 0.51503026 0.02458013]\n",
      "  [0.25778171 0.3798574  0.52268806 0.29602001 0.29501402]]]\n"
     ]
    }
   ],
   "source": [
    "print(a)"
   ]
  },
  {
   "cell_type": "markdown",
   "metadata": {},
   "source": [
    "#### 5. Create a 5x2x3 3-dimensional array with all values equaling 1. Assign the array to variable *b*."
   ]
  },
  {
   "cell_type": "code",
   "execution_count": 5,
   "metadata": {},
   "outputs": [],
   "source": [
    "b = np.ones((5,2,3), dtype = int)"
   ]
  },
  {
   "cell_type": "markdown",
   "metadata": {},
   "source": [
    "#### 6. Print *b*.\n"
   ]
  },
  {
   "cell_type": "code",
   "execution_count": 6,
   "metadata": {},
   "outputs": [
    {
     "name": "stdout",
     "output_type": "stream",
     "text": [
      "[[[1 1 1]\n",
      "  [1 1 1]]\n",
      "\n",
      " [[1 1 1]\n",
      "  [1 1 1]]\n",
      "\n",
      " [[1 1 1]\n",
      "  [1 1 1]]\n",
      "\n",
      " [[1 1 1]\n",
      "  [1 1 1]]\n",
      "\n",
      " [[1 1 1]\n",
      "  [1 1 1]]]\n"
     ]
    }
   ],
   "source": [
    "print(b)"
   ]
  },
  {
   "cell_type": "markdown",
   "metadata": {},
   "source": [
    "#### 7. Do *a* and *b* have the same size? How do you prove that in Python code?"
   ]
  },
  {
   "cell_type": "code",
   "execution_count": 7,
   "metadata": {},
   "outputs": [
    {
     "data": {
      "text/plain": [
       "True"
      ]
     },
     "execution_count": 7,
     "metadata": {},
     "output_type": "execute_result"
    }
   ],
   "source": [
    "a.size == b.size"
   ]
  },
  {
   "cell_type": "markdown",
   "metadata": {},
   "source": [
    "#### 8. Are you able to add *a* and *b*? Why or why not?\n"
   ]
  },
  {
   "cell_type": "code",
   "execution_count": 8,
   "metadata": {},
   "outputs": [
    {
     "data": {
      "text/plain": [
       "False"
      ]
     },
     "execution_count": 8,
     "metadata": {},
     "output_type": "execute_result"
    }
   ],
   "source": [
    "#np.add(a, b)\n",
    "\n",
    "#Can't add them, even though the size is the same, the shapes are different\n",
    "a.shape == b.shape"
   ]
  },
  {
   "cell_type": "markdown",
   "metadata": {},
   "source": [
    "#### 9. Transpose *b* so that it has the same structure of *a* (i.e. become a 2x3x5 array). Assign the transposed array to variable *c*."
   ]
  },
  {
   "cell_type": "code",
   "execution_count": 9,
   "metadata": {},
   "outputs": [],
   "source": [
    "c = b.reshape(2,3,5)\n",
    "#print(c.shape)\n",
    "#print(c)"
   ]
  },
  {
   "cell_type": "markdown",
   "metadata": {},
   "source": [
    "#### 10. Try to add *a* and *c*. Now it should work. Assign the sum to variable *d*. But why does it work now?"
   ]
  },
  {
   "cell_type": "code",
   "execution_count": 20,
   "metadata": {},
   "outputs": [
    {
     "data": {
      "text/plain": [
       "True"
      ]
     },
     "execution_count": 20,
     "metadata": {},
     "output_type": "execute_result"
    }
   ],
   "source": [
    "d = np.add(a, c)\n",
    "a.shape == c.shape"
   ]
  },
  {
   "cell_type": "markdown",
   "metadata": {},
   "source": [
    "#### 11. Print *a* and *d*. Notice the difference and relation of the two array in terms of the values? Explain."
   ]
  },
  {
   "cell_type": "code",
   "execution_count": 21,
   "metadata": {},
   "outputs": [
    {
     "name": "stdout",
     "output_type": "stream",
     "text": [
      "a: [[[0.32477206 0.64555235 0.27935086 0.54260587 0.58939083]\n",
      "  [0.5842703  0.08718538 0.82161084 0.93983551 0.68001766]\n",
      "  [0.11026034 0.61635228 0.61780757 0.69139471 0.67300248]]\n",
      "\n",
      " [[0.48912728 0.77143901 0.68698566 0.2595494  0.39927796]\n",
      "  [0.87461811 0.14912491 0.79185022 0.51503026 0.02458013]\n",
      "  [0.25778171 0.3798574  0.52268806 0.29602001 0.29501402]]]\n",
      "\n",
      "d: [[[1.32477206 1.64555235 1.27935086 1.54260587 1.58939083]\n",
      "  [1.5842703  1.08718538 1.82161084 1.93983551 1.68001766]\n",
      "  [1.11026034 1.61635228 1.61780757 1.69139471 1.67300248]]\n",
      "\n",
      " [[1.48912728 1.77143901 1.68698566 1.2595494  1.39927796]\n",
      "  [1.87461811 1.14912491 1.79185022 1.51503026 1.02458013]\n",
      "  [1.25778171 1.3798574  1.52268806 1.29602001 1.29501402]]]\n",
      "\n",
      "sum: [[[1.32477206 1.64555235 1.27935086 1.54260587 1.58939083]\n",
      "  [1.5842703  1.08718538 1.82161084 1.93983551 1.68001766]\n",
      "  [1.11026034 1.61635228 1.61780757 1.69139471 1.67300248]]\n",
      "\n",
      " [[1.48912728 1.77143901 1.68698566 1.2595494  1.39927796]\n",
      "  [1.87461811 1.14912491 1.79185022 1.51503026 1.02458013]\n",
      "  [1.25778171 1.3798574  1.52268806 1.29602001 1.29501402]]]\n"
     ]
    },
    {
     "data": {
      "text/plain": [
       "array([[[ True,  True,  True,  True,  True],\n",
       "        [ True,  True,  True,  True,  True],\n",
       "        [ True,  True,  True,  True,  True]],\n",
       "\n",
       "       [[ True,  True,  True,  True,  True],\n",
       "        [ True,  True,  True,  True,  True],\n",
       "        [ True,  True,  True,  True,  True]]])"
      ]
     },
     "execution_count": 21,
     "metadata": {},
     "output_type": "execute_result"
    }
   ],
   "source": [
    "print('a:', a)\n",
    " \n",
    "print('\\nd:', d)\n",
    "\n",
    "print('\\nsum:', a+1)\n",
    "\n",
    "#c is a matrix of only 1s, so adding c to a is the same as adding 1 to the matrix a\n",
    "\n",
    "d == a+1"
   ]
  },
  {
   "cell_type": "markdown",
   "metadata": {},
   "source": [
    "#### 12. Multiply *a* and *c*. Assign the result to *e*."
   ]
  },
  {
   "cell_type": "code",
   "execution_count": 22,
   "metadata": {},
   "outputs": [],
   "source": [
    "e = a*c"
   ]
  },
  {
   "cell_type": "markdown",
   "metadata": {},
   "source": [
    "#### 13. Does *e* equal to *a*? Why or why not?\n"
   ]
  },
  {
   "cell_type": "code",
   "execution_count": 23,
   "metadata": {},
   "outputs": [
    {
     "name": "stdout",
     "output_type": "stream",
     "text": [
      "[[[ True  True  True  True  True]\n",
      "  [ True  True  True  True  True]\n",
      "  [ True  True  True  True  True]]\n",
      "\n",
      " [[ True  True  True  True  True]\n",
      "  [ True  True  True  True  True]\n",
      "  [ True  True  True  True  True]]]\n"
     ]
    }
   ],
   "source": [
    "print(e == a)\n",
    "\n",
    "#c is a matrix of 1, \n",
    "#so multiplying a by c equals multiplying each value in a by 1, \n",
    "#which is why a = e"
   ]
  },
  {
   "cell_type": "markdown",
   "metadata": {},
   "source": [
    "#### 14. Identify the max, min, and mean values in *d*. Assign those values to variables *d_max*, *d_min* and *d_mean*."
   ]
  },
  {
   "cell_type": "code",
   "execution_count": 24,
   "metadata": {},
   "outputs": [
    {
     "name": "stdout",
     "output_type": "stream",
     "text": [
      "Max: 1.9398355132398581\n",
      "Min: 1.024580126185306\n",
      "Mean: 1.4972117722539202\n"
     ]
    }
   ],
   "source": [
    "d_max = np.max(d)\n",
    "print('Max:', d_max)\n",
    "d_min = np.min(d)\n",
    "print('Min:', d_min)\n",
    "d_mean = np.mean(d)\n",
    "print('Mean:', d_mean)"
   ]
  },
  {
   "cell_type": "markdown",
   "metadata": {},
   "source": [
    "#### 15. Now we want to label the values in *d*. First create an empty array *f* with the same shape (i.e. 2x3x5) as *d* using `np.empty`.\n"
   ]
  },
  {
   "cell_type": "code",
   "execution_count": 25,
   "metadata": {},
   "outputs": [],
   "source": [
    "f = np.empty((2,3,5))"
   ]
  },
  {
   "cell_type": "markdown",
   "metadata": {},
   "source": [
    "#### 16. Populate the values in *f*. \n",
    "\n",
    "For each value in *d*, if it's larger than *d_min* but smaller than *d_mean*, assign 25 to the corresponding value in *f*. If a value in *d* is larger than *d_mean* but smaller than *d_max*, assign 75 to the corresponding value in *f*. If a value equals to *d_mean*, assign 50 to the corresponding value in *f*. Assign 0 to the corresponding value(s) in *f* for *d_min* in *d*. Assign 100 to the corresponding value(s) in *f* for *d_max* in *d*. In the end, f should have only the following values: 0, 25, 50, 75, and 100.\n",
    "\n",
    "**Note**: you don't have to use Numpy in this question."
   ]
  },
  {
   "cell_type": "code",
   "execution_count": 26,
   "metadata": {},
   "outputs": [
    {
     "name": "stdout",
     "output_type": "stream",
     "text": [
      "[[[1.32477206 1.64555235 1.27935086 1.54260587 1.58939083]\n",
      "  [1.5842703  1.08718538 1.82161084 1.93983551 1.68001766]\n",
      "  [1.11026034 1.61635228 1.61780757 1.69139471 1.67300248]]\n",
      "\n",
      " [[1.48912728 1.77143901 1.68698566 1.2595494  1.39927796]\n",
      "  [1.87461811 1.14912491 1.79185022 1.51503026 1.02458013]\n",
      "  [1.25778171 1.3798574  1.52268806 1.29602001 1.29501402]]]\n"
     ]
    }
   ],
   "source": [
    "print(d)"
   ]
  },
  {
   "cell_type": "code",
   "execution_count": 44,
   "metadata": {},
   "outputs": [],
   "source": [
    "empty = []\n",
    "for i in np.nditer(d): \n",
    "    if i == d_max:\n",
    "        i = 100\n",
    "        empty.append(i)\n",
    "#        print(i)\n",
    "    elif i == d_min:\n",
    "        i = 0\n",
    "        empty.append(i)\n",
    "#        print(i)\n",
    "    elif i == d_mean:\n",
    "        i = 50\n",
    "        empty.append(i)\n",
    "#        print(i)\n",
    "    elif d_min < i < d_mean:\n",
    "        i = 25\n",
    "        empty.append(i)\n",
    "#        print(i)\n",
    "    else:\n",
    "        i = 75\n",
    "        empty.append(i)\n",
    "#        print(i)\n",
    "\n",
    "#print(empty)\n",
    "\n",
    "a_empty = np.array(empty)\n",
    "#print(a_empty)\n",
    "\n",
    "f = a_empty.reshape(2,3,5)\n",
    "#print(f)"
   ]
  },
  {
   "cell_type": "markdown",
   "metadata": {},
   "source": [
    "#### 17. Print *d* and *f*. Do you have your expected *f*?\n",
    "For instance, if your *d* is:\n",
    "```python\n",
    "[[[1.85836099, 1.67064465, 1.62576044, 1.40243961, 1.88454931],\n",
    "[1.75354326, 1.69403643, 1.36729252, 1.61415071, 1.12104981],\n",
    "[1.72201435, 1.1862918 , 1.87078449, 1.7726778 , 1.88180042]],\n",
    "[[1.44747908, 1.31673383, 1.02000951, 1.52218947, 1.97066381],\n",
    "[1.79129243, 1.74983003, 1.96028037, 1.85166831, 1.65450881],\n",
    "[1.18068344, 1.9587381 , 1.00656599, 1.93402165, 1.73514584]]]\n",
    "```\n",
    "Your *f* should be:\n",
    "```python\n",
    "[[[ 75.,  75.,  75.,  25.,  75.],\n",
    "[ 75.,  75.,  25.,  25.,  25.],\n",
    "[ 75.,  25.,  75.,  75.,  75.]],\n",
    "[[ 25.,  25.,  25.,  25., 100.],\n",
    "[ 75.,  75.,  75.,  75.,  75.],\n",
    "[ 25.,  75.,   0.,  75.,  75.]]]\n",
    "```"
   ]
  },
  {
   "cell_type": "code",
   "execution_count": 45,
   "metadata": {},
   "outputs": [
    {
     "name": "stdout",
     "output_type": "stream",
     "text": [
      "d:  [[[1.32477206 1.64555235 1.27935086 1.54260587 1.58939083]\n",
      "  [1.5842703  1.08718538 1.82161084 1.93983551 1.68001766]\n",
      "  [1.11026034 1.61635228 1.61780757 1.69139471 1.67300248]]\n",
      "\n",
      " [[1.48912728 1.77143901 1.68698566 1.2595494  1.39927796]\n",
      "  [1.87461811 1.14912491 1.79185022 1.51503026 1.02458013]\n",
      "  [1.25778171 1.3798574  1.52268806 1.29602001 1.29501402]]]\n",
      "\n",
      "f: [[[ 25  75  25  75  75]\n",
      "  [ 75  25  75 100  75]\n",
      "  [ 25  75  75  75  75]]\n",
      "\n",
      " [[ 25  75  75  25  25]\n",
      "  [ 75  25  75  75   0]\n",
      "  [ 25  25  75  25  25]]]\n"
     ]
    }
   ],
   "source": [
    "print('d: ', d)\n",
    "print('\\nf:', f)\n",
    "\n",
    "#I'm pretty sure this is not the ideal solution because I used np, but it seems to work as well \n",
    "# but f is an array."
   ]
  },
  {
   "cell_type": "markdown",
   "metadata": {},
   "source": [
    "#### 18. Bonus question: instead of using numbers (i.e. 0, 25, 50, 75, and 100), use string values  (\"A\", \"B\", \"C\", \"D\", and \"E\") to label the array elements. For the example above, the expected result is:\n",
    "\n",
    "```python\n",
    "[[[ 'D',  'D',  'D',  'B',  'D'],\n",
    "[ 'D',  'D',  'B',  'B',  'B'],\n",
    "[ 'D',  'B',  'D',  'D',  'D']],\n",
    "[[ 'B',  'B',  'B',  'B',  'E'],\n",
    "[ 'D',  'D',  'D',  'D',  'D'],\n",
    "[ 'B',  'D',   'A',  'D', 'D']]]\n",
    "```\n",
    "**Note**: you don't have to use Numpy in this question."
   ]
  },
  {
   "cell_type": "code",
   "execution_count": 46,
   "metadata": {},
   "outputs": [
    {
     "name": "stdout",
     "output_type": "stream",
     "text": [
      "[[['B' 'D' 'B' 'D' 'D']\n",
      "  ['D' 'B' 'D' 'E' 'D']\n",
      "  ['B' 'D' 'D' 'D' 'D']]\n",
      "\n",
      " [['B' 'D' 'D' 'B' 'B']\n",
      "  ['D' 'B' 'D' 'D' 'A']\n",
      "  ['B' 'B' 'D' 'B' 'B']]]\n"
     ]
    }
   ],
   "source": [
    "lstbonus = []\n",
    "for i in np.nditer(d): \n",
    "    if i == d_max:\n",
    "        i = 'E'\n",
    "        lstbonus.append(i)\n",
    "    elif i == d_min:\n",
    "        i = 'A'\n",
    "        lstbonus.append(i)\n",
    "    elif i == d_mean:\n",
    "        i = 'C'\n",
    "        lstbonus.append(i)\n",
    "    elif d_min < i < d_mean:\n",
    "        i = 'B'\n",
    "        lstbonus.append(i)\n",
    "    else:\n",
    "        i = 'D'\n",
    "        lstbonus.append(i)\n",
    "        \n",
    "bonus = np.array(lstbonus)\n",
    "bonus = bonus.reshape(2,3,5)\n",
    "print(bonus)"
   ]
  },
  {
   "cell_type": "code",
   "execution_count": null,
   "metadata": {},
   "outputs": [],
   "source": [
    "#Same here using numpy, bonus is an array of strings"
   ]
  }
 ],
 "metadata": {
  "kernelspec": {
   "display_name": "Python 3",
   "language": "python",
   "name": "python3"
  },
  "language_info": {
   "codemirror_mode": {
    "name": "ipython",
    "version": 3
   },
   "file_extension": ".py",
   "mimetype": "text/x-python",
   "name": "python",
   "nbconvert_exporter": "python",
   "pygments_lexer": "ipython3",
   "version": "3.7.6"
  }
 },
 "nbformat": 4,
 "nbformat_minor": 2
}
