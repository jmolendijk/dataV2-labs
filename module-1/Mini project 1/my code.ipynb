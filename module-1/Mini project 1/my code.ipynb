{
 "cells": [
  {
   "cell_type": "code",
   "execution_count": 5,
   "metadata": {},
   "outputs": [
    {
     "name": "stdout",
     "output_type": "stream",
     "text": [
      "Hello! What is your name?\n",
      "test10\n",
      "Welcome, test10, I am thinking of a number between 0 and 100.\n",
      "Take a guess.\n",
      "50\n",
      "Your guess is too low.\n",
      "Take a guess.\n",
      "10\n",
      "Your guess is too low.\n",
      "Take a guess.\n",
      "40\n",
      "Your guess is too low.\n",
      "Take a guess.\n",
      "90\n",
      "Your guess is too high.\n",
      "Take a guess.\n",
      "45\n",
      "Your guess is too low.\n",
      "Take a guess.\n",
      "40\n",
      "Your guess is too low.\n",
      "Take a guess.\n",
      "95\n",
      "Your guess is too high.\n",
      "Take a guess.\n",
      "90\n",
      "Your guess is too high.\n",
      "Nope. The number I was thinking of was 65\n"
     ]
    }
   ],
   "source": [
    " # This is a guess the number game.\n",
    "\n",
    "import random\n",
    "\n",
    "guess_count = 0\n",
    "\n",
    "print('Hello! What is your name?') # print() function. Displays the string argument passed on the screen.\n",
    "\n",
    "myName = input()  # to allow user to type name\n",
    "\n",
    "number = random.randint(0, 100) # program will come up with a random number for the user to guess.\n",
    "print('Welcome, ' + myName + ', I am thinking of a number between 0 and 100.')\n",
    "\n",
    "while guess_count < 8:\n",
    "    print('Take a guess.')\n",
    "    guess = input()\n",
    "    guess = int(guess) # calls a new function named int(). The int() function takes one argument and returns an integer\n",
    "  \n",
    "    guess_count +=1\n",
    "    \n",
    "    if guess < number:\n",
    "        print('Your guess is too low.')\n",
    "\n",
    "    if guess > number:\n",
    "        print('Your guess is too high.')\n",
    "     \n",
    "    if guess == number:\n",
    "\n",
    "        break\n",
    "\n",
    "\n",
    "if guess == number:\n",
    "    guess_count = str(guess_count)\n",
    "    print('Good job, ' + myName + '! You guessed my number in ' + guess_count + ' guesses!')\n",
    "\n",
    "\n",
    "if guess != number:\n",
    "   number = str(number)\n",
    "   print('Nope. The number I was thinking of was ' + number)"
   ]
  },
  {
   "cell_type": "code",
   "execution_count": null,
   "metadata": {},
   "outputs": [],
   "source": []
  }
 ],
 "metadata": {
  "kernelspec": {
   "display_name": "Python 3",
   "language": "python",
   "name": "python3"
  }
 },
 "nbformat": 4,
 "nbformat_minor": 4
}
