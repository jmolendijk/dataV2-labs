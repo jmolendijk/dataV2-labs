{
 "metadata": {
  "language_info": {
   "codemirror_mode": {
    "name": "ipython",
    "version": 3
   },
   "file_extension": ".py",
   "mimetype": "text/x-python",
   "name": "python",
   "nbconvert_exporter": "python",
   "pygments_lexer": "ipython3",
   "version": "3.8.3-final"
  },
  "orig_nbformat": 2,
  "kernelspec": {
   "name": "python_defaultSpec_1597348851616",
   "display_name": "Python 3.8.3 64-bit"
  }
 },
 "nbformat": 4,
 "nbformat_minor": 2,
 "cells": [
  {
   "cell_type": "code",
   "execution_count": 1,
   "metadata": {
    "tags": []
   },
   "outputs": [
    {
     "output_type": "stream",
     "name": "stdout",
     "text": "[2, 2, 4]\n"
    }
   ],
   "source": [
    "integer_list =  [1, 1, 2 ,3 ,1 ,2 ,3 ,4]\n",
    "values_list = [1, 3]\n",
    "\n",
    "class List:\n",
    "    def remove_(self, integer_list, values_list):\n",
    "        results =[]\n",
    "        for i in integer_list:\n",
    "            if i in values_list:\n",
    "                continue\n",
    "            else:\n",
    "                results.append(i)\n",
    "        return results\n",
    "\n",
    "l = List()\n",
    "\n",
    "print(l.remove_(integer_list, values_list))"
   ]
  },
  {
   "cell_type": "code",
   "execution_count": 2,
   "metadata": {
    "tags": []
   },
   "outputs": [
    {
     "output_type": "stream",
     "name": "stdout",
     "text": "[(1, 3), (3, 2)]\n"
    }
   ],
   "source": [
    "integers_list =  [1, 1, 2 ,3 ,1 ,2 ,3 ,4]\n",
    "digits_list = [1, 3]\n",
    "\n",
    "\n",
    "class List:\n",
    "    def count_spec_digits(self, integers_list, digits_list):\n",
    "        results = []\n",
    "        for i in integers_list:\n",
    "            if i < 0:\n",
    "                i = -i\n",
    "            else:\n",
    "                i = i\n",
    "            for j in str(i):\n",
    "                results.append(int(j))\n",
    "        l = []\n",
    "        for i in digits_list:\n",
    "            j_count = results.count(i)\n",
    "            counted = (i, j_count)\n",
    "            l.append(counted)\n",
    "        return l\n",
    "\n",
    "l = List()\n",
    "    \n",
    "print(l.count_spec_digits(integers_list, digits_list))"
   ]
  },
  {
   "cell_type": "code",
   "execution_count": 3,
   "metadata": {
    "tags": []
   },
   "outputs": [
    {
     "output_type": "stream",
     "name": "stdout",
     "text": "[('a', 5), ('b', 2), ('r', 2), ('c', 1), ('d', 1)]\n"
    }
   ],
   "source": [
    "from collections import OrderedDict, Counter\n",
    "\n",
    "class OrderedCounter(Counter, OrderedDict):\n",
    "    pass\n",
    "def ordered_count(seq):\n",
    "    return list(OrderedCounter(seq).items())\n",
    "\n",
    "print(ordered_count(\"abracadabra\"))"
   ]
  }
 ]
}