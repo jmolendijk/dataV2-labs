{
 "cells": [
  {
   "cell_type": "code",
   "execution_count": 1,
   "metadata": {},
   "outputs": [],
   "source": [
    "#Define a method/function that removes from a given array of integers all the values contained in a second array.\n",
    "\n",
    "# #l = List()\n",
    "\n",
    "# integer_list =  [1, 1, 2 ,3 ,1 ,2 ,3 ,4]\n",
    "# values_list = [1, 3]\n",
    "# l.remove_(integer_list, values_list) == [2, 2, 4]\n",
    "\n",
    "# integer_list = [1, 1, 2 ,3 ,1 ,2 ,3 ,4, 4, 3 ,5, 6, 7, 2, 8]\n",
    "# lst = [1, 3, 4, 2]\n",
    "# l.remove_(integer_list, values_list) == [5, 6 ,7 ,8]\n",
    "\n",
    "# integer_list = [8, 2, 7, 2, 3, 4, 6, 5, 4, 4, 1, 2 , 3]\n",
    "# lst = [2, 4, 3]\n",
    "# l.remove_(integer_list, values_list) == [8, 7, 6, 5, 1]"
   ]
  },
  {
   "cell_type": "code",
   "execution_count": 12,
   "metadata": {},
   "outputs": [
    {
     "data": {
      "text/plain": [
       "[2, 2, 4]"
      ]
     },
     "execution_count": 12,
     "metadata": {},
     "output_type": "execute_result"
    }
   ],
   "source": [
    "class updated_list(): \n",
    "    remove_ = []\n",
    "        \n",
    "    def __init__(self,m_a):\n",
    "        \n",
    "        self.list_a = m_a\n",
    "            \n",
    "    def showList(self):\n",
    "        print(self.list_a)\n",
    "            \n",
    "    def list_diff(self):\n",
    "        return [x for x in self.list_a if x not in remove_]\n",
    "        \n",
    "m_a = [1, 1, 2 ,3 ,1 ,2 ,3 ,4]       \n",
    "remove_ = [1, 3]     \n",
    "m_a = updated_list(m_a)\n",
    "updated_list.list_diff(m_a)"
   ]
  },
  {
   "cell_type": "code",
   "execution_count": null,
   "metadata": {},
   "outputs": [],
   "source": [
    "#Challenge 2"
   ]
  },
  {
   "cell_type": "code",
   "execution_count": 37,
   "metadata": {},
   "outputs": [],
   "source": [
    "class List(object):\n",
    "    def count_spec_digits(self, integers_list, digits_list):\n",
    "        result = []\n",
    "        d = str(integers_list)\n",
    "        for i in digits_list:\n",
    "            result.append((i, d.count(str(i))))\n",
    "        return result\n",
    "\n",
    "\n"
   ]
  },
  {
   "cell_type": "code",
   "execution_count": 35,
   "metadata": {},
   "outputs": [],
   "source": [
    "#Challenge3\n",
    "\n",
    "def ordered_count(text):\n",
    "    text_list = []\n",
    "    for l in text:\n",
    "            if l not in text_list:\n",
    "                text_list.append(l)\n",
    "    lst = [(n, text.count(str(n))) for n in text_list]\n",
    "    return lst\n"
   ]
  },
  {
   "cell_type": "code",
   "execution_count": null,
   "metadata": {},
   "outputs": [],
   "source": []
  }
 ],
 "metadata": {
  "kernelspec": {
   "display_name": "Python 3",
   "language": "python",
   "name": "python3"
  },
  "language_info": {
   "codemirror_mode": {
    "name": "ipython",
    "version": 3
   },
   "file_extension": ".py",
   "mimetype": "text/x-python",
   "name": "python",
   "nbconvert_exporter": "python",
   "pygments_lexer": "ipython3",
   "version": "3.8.3"
  }
 },
 "nbformat": 4,
 "nbformat_minor": 4
}
