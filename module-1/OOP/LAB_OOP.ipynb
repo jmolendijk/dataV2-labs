{
 "cells": [
  {
   "cell_type": "code",
   "execution_count": null,
   "metadata": {},
   "outputs": [],
   "source": [
    "#KATA1: Remove All The Marked Elements of a List\n",
    "\n",
    "class List:\n",
    "  def remove_(self, integer_list, values_list):\n",
    "    return [i for i in integer_list if i not in values_list]\n"
   ]
  },
  {
   "cell_type": "code",
   "execution_count": 5,
   "metadata": {},
   "outputs": [],
   "source": [
    "#KATA2: Method For Counting Total Occurence Of Specific Digits\n",
    "import re\n",
    "\n",
    "class List(object):\n",
    "\n",
    "    def count_spec_digits(self, integers_list, digits_list):\n",
    "        final_list = []\n",
    "        for d in digits_list:\n",
    "            freq = [d]\n",
    "            find_int = re.findall(str(d), str(integers_list))\n",
    "            freq.append(find_int.count(str(d)))\n",
    "            final_list.append(tuple(freq))\n",
    "        return final_list\n"
   ]
  },
  {
   "cell_type": "code",
   "execution_count": 3,
   "metadata": {},
   "outputs": [],
   "source": [
    "#KATA3: Ordered Count of Characters\n",
    "\n",
    "class List():\n",
    "    def ordered_count(inp):\n",
    "        out = []\n",
    "        final_list = []\n",
    "\n",
    "        for letter in list(inp):\n",
    "            if letter not in out:      \n",
    "                out.append(letter)\n",
    "    \n",
    "        for letter in out:\n",
    "                freq = [letter]\n",
    "                find_letter = [l for l in list(inp) if l == letter]\n",
    "                freq.append(find_letter.count(letter))\n",
    "                final_list.append(tuple(freq))\n",
    "        return final_list"
   ]
  },
  {
   "cell_type": "code",
   "execution_count": 4,
   "metadata": {},
   "outputs": [
    {
     "data": {
      "text/plain": [
       "[('a', 5), ('b', 2), ('r', 2), ('c', 1), ('d', 1)]"
      ]
     },
     "execution_count": 4,
     "metadata": {},
     "output_type": "execute_result"
    }
   ],
   "source": [
    "List.ordered_count(\"abracadabra\")\n"
   ]
  },
  {
   "cell_type": "code",
   "execution_count": null,
   "metadata": {},
   "outputs": [],
   "source": []
  },
  {
   "cell_type": "code",
   "execution_count": null,
   "metadata": {},
   "outputs": [],
   "source": []
  }
 ],
 "metadata": {
  "kernelspec": {
   "display_name": "Python 3",
   "language": "python",
   "name": "python3"
  },
  "language_info": {
   "codemirror_mode": {
    "name": "ipython",
    "version": 3
   },
   "file_extension": ".py",
   "mimetype": "text/x-python",
   "name": "python",
   "nbconvert_exporter": "python",
   "pygments_lexer": "ipython3",
   "version": "3.7.6"
  }
 },
 "nbformat": 4,
 "nbformat_minor": 4
}
