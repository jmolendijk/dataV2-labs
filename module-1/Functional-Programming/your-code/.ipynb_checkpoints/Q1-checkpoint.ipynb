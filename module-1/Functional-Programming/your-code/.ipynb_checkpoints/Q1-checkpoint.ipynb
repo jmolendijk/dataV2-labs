{
 "cells": [
  {
   "cell_type": "markdown",
   "metadata": {},
   "source": [
    "In the cell below, create a Python function that wraps your previous solution for the Bag of Words lab.\n",
    "\n",
    "Requirements:\n",
    "\n",
    "1. Your function should accept the following parameters:\n",
    "    * `docs` [REQUIRED] - array of document paths.\n",
    "    * `stop_words` [OPTIONAL] - array of stop words. The default value is an empty array.\n",
    "\n",
    "1. Your function should return a Python object that contains the following:\n",
    "    * `bag_of_words` - array of strings of normalized unique words in the corpus.\n",
    "    * `term_freq` - array of the term-frequency vectors."
   ]
  },
  {
   "cell_type": "code",
   "execution_count": 43,
   "metadata": {},
   "outputs": [
    {
     "data": {
      "text/plain": [
       "{'bag_of_words': ['a',\n",
       "  'at',\n",
       "  'ironhacki',\n",
       "  'am',\n",
       "  'ironhack',\n",
       "  'is',\n",
       "  'love',\n",
       "  'cool',\n",
       "  'student',\n",
       "  'i'],\n",
       " 'term_freq': [[0, 0, 0, 0, 0, 0, 0, 0, 0, 0], [0, 0, 0, 0, 0, 0, 0, 0, 0, 0]]}"
      ]
     },
     "execution_count": 43,
     "metadata": {},
     "output_type": "execute_result"
    }
   ],
   "source": [
    "# Import required libraries\n",
    "import re\n",
    "# Define function\n",
    "\n",
    "docslist = [\"Ironhack is cool!\", \"I love Ironhack.\" \"I am a student at Ironhack.\"]\n",
    "def get_bow_from_docs (docs,stop_words=[]):\n",
    "    bag_of_words = []\n",
    "    term_freq = []\n",
    "    docs_0 = [re.sub('[^\\W,\" \"]','',doc.lower()) for doc in docs]\n",
    "    lst = [el.split() for el in docs_0]       \n",
    "    corpus = re.sub('[^\\w,\" \"]','',(\" \".join(docs)).lower()).split()\n",
    "    \n",
    "    bag_of_words = list(set([cor for cor in corpus if cor not in stop_words])) \n",
    "         \n",
    "    term_freq = [[el.count(word) for word in bag_of_words] for el in lst]\n",
    "    \n",
    "    # Now return your output as an object\n",
    "    return {\n",
    "        \"bag_of_words\": bag_of_words,\n",
    "        \"term_freq\": term_freq\n",
    "    }\n",
    "    \n",
    "get_bow_from_docs(docslist)    \n",
    "\n",
    "\n",
    "    # In the function, first define the variables you will use such as `corpus`, `bag_of_words`, and `term_freq`.\n",
    "    \n",
    "    \n"
   ]
  },
  {
   "cell_type": "markdown",
   "metadata": {},
   "source": [
    "Test your function without stop words. You should see the output like below:\n",
    "\n",
    "```{'bag_of_words': ['ironhack', 'is', 'cool', 'i', 'love', 'am', 'a', 'student', 'at'], 'term_freq': [[1, 1, 1, 0, 0, 0, 0, 0, 0], [1, 0, 0, 1, 1, 0, 0, 0, 0], [1, 0, 0, 1, 0, 1, 1, 1, 1]]}```"
   ]
  },
  {
   "cell_type": "code",
   "execution_count": 41,
   "metadata": {},
   "outputs": [
    {
     "name": "stdout",
     "output_type": "stream",
     "text": [
      "{'bag_of_words': [], 'term_freq': []}\n"
     ]
    }
   ],
   "source": [
    "# Define doc paths array\n",
    "docs = []\n",
    "\n",
    "# Obtain BoW from your function\n",
    "bow = get_bow_from_docs(docs)\n",
    "\n",
    "# Print BoW\n",
    "print(bow)"
   ]
  },
  {
   "cell_type": "markdown",
   "metadata": {},
   "source": [
    "If your attempt above is successful, nice work done!\n",
    "\n",
    "Now test your function again with the stop words. In the previous lab we defined the stop words in a large array. In this lab, we'll import the stop words from Scikit-Learn."
   ]
  },
  {
   "cell_type": "code",
   "execution_count": 39,
   "metadata": {},
   "outputs": [
    {
     "name": "stdout",
     "output_type": "stream",
     "text": [
      "frozenset({'others', 'hereupon', 'seems', 'became', 'serious', 'take', 'no', 'in', 'per', 'everything', 'found', 'here', 'thereupon', 'every', 'until', 'whenever', 'move', 'many', 'eight', 'cannot', 'whereafter', 'third', 'we', 'ltd', 'wherever', 'hereafter', 'almost', 'three', 'enough', 'off', 'when', 'hundred', 'wherein', 'must', 'describe', 'am', 'except', 'to', 'upon', 'amongst', 'twenty', 'your', 'him', 'both', 'interest', 'yet', 'i', 'because', 'yourself', 'never', 'eleven', 'themselves', 'besides', 'none', 'been', 'therefore', 'mostly', 'someone', 'sometime', 'than', 'much', 'onto', 'his', 'five', 'same', 'detail', 'those', 'ours', 'though', 'thus', 'thru', 'seem', 'along', 'four', 'this', 'our', 'anyone', 'seemed', 'six', 'myself', 'too', 'so', 'fifty', 'fill', 'thereafter', 'sometimes', 'can', 'de', 'has', 'mill', 'mine', 'ourselves', 'a', 'about', 'itself', 'always', 'its', 'whatever', 'former', 'out', 'was', 'something', 'himself', 'only', 'rather', 'nevertheless', 'their', 'hence', 'anything', 'whoever', 'ever', 'thin', 'were', 'he', 'together', 'within', 'across', 'amoungst', 'part', 'any', 'side', 'throughout', 'very', 'afterwards', 'becomes', 'sincere', 'most', 'thence', 'bottom', 'who', 'somewhere', 'down', 'ten', 'whereas', 'while', 'else', 'my', 'un', 'becoming', 'beforehand', 'each', 'done', 'over', 'you', 'go', 'bill', 'with', 're', 'hers', 'nine', 'one', 'elsewhere', 'from', 'of', 'cant', 'by', 'further', 'should', 'towards', 'them', 'these', 'several', 'against', 'if', 'during', 'often', 'fifteen', 'after', 'whom', 'around', 'either', 'whereupon', 'hasnt', 'could', 'had', 'an', 'being', 'top', 'it', 'seeming', 'whole', 'for', 'will', 'via', 'couldnt', 'get', 'ie', 'us', 'might', 'first', 'again', 'once', 'keep', 'and', 'or', 'nor', 'be', 'indeed', 'anywhere', 'have', 'latter', 'other', 'co', 'sixty', 'least', 'nowhere', 'do', 'next', 'cry', 'me', 'would', 'meanwhile', 'empty', 'whither', 'inc', 'forty', 'anyhow', 'everyone', 'not', 'please', 'eg', 'somehow', 'as', 'herein', 'some', 'also', 'that', 'between', 'whether', 'why', 'through', 'well', 'full', 'into', 'everywhere', 'is', 'moreover', 'they', 'toward', 'etc', 'back', 'few', 'still', 'then', 'system', 'up', 'already', 'nobody', 'nothing', 'behind', 'whose', 'yours', 'find', 'such', 'even', 'are', 'otherwise', 'latterly', 'herself', 'above', 'however', 'thereby', 'due', 'therein', 'call', 'alone', 'amount', 'at', 'see', 'the', 'below', 'beyond', 'put', 'another', 'neither', 'formerly', 'namely', 'before', 'perhaps', 'hereby', 'among', 'whence', 'but', 'on', 'name', 'her', 'two', 'less', 'give', 'she', 'which', 'own', 'show', 'since', 'made', 'yourselves', 'how', 'thick', 'anyway', 'under', 'may', 'now', 'what', 'although', 'front', 'become', 'last', 'fire', 'noone', 'twelve', 'more', 'where', 'whereby', 'beside', 'without', 'there', 'all', 'con'})\n"
     ]
    },
    {
     "name": "stderr",
     "output_type": "stream",
     "text": [
      "C:\\Users\\tusha\\anaconda3\\lib\\site-packages\\sklearn\\utils\\deprecation.py:143: FutureWarning: The sklearn.feature_extraction.stop_words module is  deprecated in version 0.22 and will be removed in version 0.24. The corresponding classes / functions should instead be imported from sklearn.feature_extraction.text. Anything that cannot be imported from sklearn.feature_extraction.text is now part of the private API.\n",
      "  warnings.warn(message, FutureWarning)\n"
     ]
    }
   ],
   "source": [
    "from sklearn.feature_extraction import stop_words\n",
    "print(stop_words.ENGLISH_STOP_WORDS)"
   ]
  },
  {
   "cell_type": "markdown",
   "metadata": {},
   "source": [
    "You should have seen a large list of words that looks like:\n",
    "\n",
    "```frozenset({'across', 'mine', 'cannot', ...})```\n",
    "\n",
    "`frozenset` is a type of Python object that is immutable. In this lab you can use it just like an array without conversion."
   ]
  },
  {
   "cell_type": "markdown",
   "metadata": {},
   "source": [
    "Next, test your function with supplying `stop_words.ENGLISH_STOP_WORDS` as the second parameter."
   ]
  },
  {
   "cell_type": "code",
   "execution_count": 40,
   "metadata": {},
   "outputs": [
    {
     "ename": "NameError",
     "evalue": "name 'bow' is not defined",
     "output_type": "error",
     "traceback": [
      "\u001b[1;31m---------------------------------------------------------------------------\u001b[0m",
      "\u001b[1;31mNameError\u001b[0m                                 Traceback (most recent call last)",
      "\u001b[1;32m<ipython-input-40-158d5d02aaa3>\u001b[0m in \u001b[0;36m<module>\u001b[1;34m\u001b[0m\n\u001b[1;32m----> 1\u001b[1;33m \u001b[0mbow\u001b[0m \u001b[1;33m=\u001b[0m \u001b[0mget_bow_from_docs\u001b[0m\u001b[1;33m(\u001b[0m\u001b[0mbow\u001b[0m\u001b[1;33m,\u001b[0m \u001b[0mstop_words\u001b[0m\u001b[1;33m.\u001b[0m\u001b[0mENGLISH_STOP_WORDS\u001b[0m\u001b[1;33m)\u001b[0m\u001b[1;33m\u001b[0m\u001b[1;33m\u001b[0m\u001b[0m\n\u001b[0m\u001b[0;32m      2\u001b[0m \u001b[1;33m\u001b[0m\u001b[0m\n\u001b[0;32m      3\u001b[0m \u001b[0mprint\u001b[0m\u001b[1;33m(\u001b[0m\u001b[0mbow\u001b[0m\u001b[1;33m)\u001b[0m\u001b[1;33m\u001b[0m\u001b[1;33m\u001b[0m\u001b[0m\n",
      "\u001b[1;31mNameError\u001b[0m: name 'bow' is not defined"
     ]
    }
   ],
   "source": [
    "bow = get_bow_from_docs(bow, stop_words.ENGLISH_STOP_WORDS)\n",
    "\n",
    "print(bow)"
   ]
  },
  {
   "cell_type": "markdown",
   "metadata": {},
   "source": [
    "You should have seen:\n",
    "\n",
    "```{'bag_of_words': ['ironhack', 'cool', 'love', 'student'], 'term_freq': [[1, 1, 0, 0], [1, 0, 1, 0], [1, 0, 0, 1]]}```"
   ]
  },
  {
   "cell_type": "code",
   "execution_count": null,
   "metadata": {},
   "outputs": [],
   "source": []
  }
 ],
 "metadata": {
  "kernelspec": {
   "display_name": "Python 3",
   "language": "python",
   "name": "python3"
  },
  "language_info": {
   "codemirror_mode": {
    "name": "ipython",
    "version": 3
   },
   "file_extension": ".py",
   "mimetype": "text/x-python",
   "name": "python",
   "nbconvert_exporter": "python",
   "pygments_lexer": "ipython3",
   "version": "3.8.3"
  }
 },
 "nbformat": 4,
 "nbformat_minor": 2
}
