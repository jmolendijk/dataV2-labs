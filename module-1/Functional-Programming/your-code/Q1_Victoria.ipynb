{
 "cells": [
  {
   "cell_type": "code",
   "execution_count": 112,
   "metadata": {},
   "outputs": [
    {
     "ename": "IndentationError",
     "evalue": "unexpected indent (<ipython-input-112-4db30fad65aa>, line 81)",
     "output_type": "error",
     "traceback": [
      "\u001b[0;36m  File \u001b[0;32m\"<ipython-input-112-4db30fad65aa>\"\u001b[0;36m, line \u001b[0;32m81\u001b[0m\n\u001b[0;31m    \"\"\"\u001b[0m\n\u001b[0m    ^\u001b[0m\n\u001b[0;31mIndentationError\u001b[0m\u001b[0;31m:\u001b[0m unexpected indent\n"
     ]
    }
   ],
   "source": [
    "# Import required libraries\n",
    "# Define function\n",
    "#def get_bow_from_docs(docs, stop_words=[]):\n",
    "\n",
    "    # In the function, first define the variables you will use such as `corpus`, `bag_of_words`, and `term_freq`.\n",
    "    \n",
    "    \"\"\"\n",
    "    Loop `docs` and read the content of each doc into a string in `corpus`.\n",
    "    Remember to convert the doc content to lowercases and remove punctuation.\n",
    "    \"\"\"\n",
    "    \n",
    "    \"\"\"\n",
    "    Loop `corpus`. Append the terms in each doc into the `bag_of_words` array. The terms in `bag_of_words` \n",
    "    should be unique which means before adding each term you need to check if it's already added to the array.\n",
    "    In addition, check if each term is in the `stop_words` array. Only append the term to `bag_of_words`\n",
    "    if it is not a stop word.\n",
    "    \"\"\"\n",
    "\n",
    "    \"\"\"\n",
    "    Loop `corpus` again. For each doc string, count the number of occurrences of each term in `bag_of_words`. \n",
    "    Create an array for each doc's term frequency and append it to `term_freq`.\n",
    "    \"\"\"\n",
    "\n",
    "    # Now return your output as an object\n",
    "    #return {\n",
    "        #\"bag_of_words\": bag_of_words,\n",
    "        #\"term_freq\": term_freq\n",
    "    #}\n",
    "    "
   ]
  },
  {
   "cell_type": "code",
   "execution_count": 118,
   "metadata": {},
   "outputs": [
    {
     "data": {
      "text/plain": [
       "{'bag_of_words': ['ironhack',\n",
       "  'is',\n",
       "  'cool',\n",
       "  'i',\n",
       "  'am',\n",
       "  'a',\n",
       "  'student',\n",
       "  'at',\n",
       "  'love'],\n",
       " 'term_freq': [[1, 1, 1, 0, 0, 0, 0, 0, 0],\n",
       "  [1, 0, 0, 1, 1, 1, 1, 1, 0],\n",
       "  [1, 0, 0, 1, 0, 0, 0, 0, 1]]}"
      ]
     },
     "execution_count": 118,
     "metadata": {},
     "output_type": "execute_result"
    }
   ],
   "source": [
    "import re\n",
    "\n",
    "def get_bow_from_docs(docs, stop_words=[]):\n",
    "    docs = [\"Ironhack is cool.\",\"I am a student at Ironhack.\",\"I love Ironhack!\"]\n",
    "    \n",
    "    first = ''.join(docs[0]).lower()\n",
    "    first2 = re.split('[ .]', first)\n",
    "    first3 = []\n",
    "    for string in first2:\n",
    "        if (string != \"\"):\n",
    "            first3.append(string)\n",
    "\n",
    "    second = ''.join(docs[1]).lower()\n",
    "    second2 = re.split('[ .]', second)\n",
    "    second3 = []\n",
    "    for string in second2:\n",
    "        if (string != \"\"):\n",
    "            second3.append(string)\n",
    "\n",
    "    third = ''.join(docs[2]).lower()\n",
    "    third2 = re.split('[ !]', third)\n",
    "    third3 = []\n",
    "    for string in third2:\n",
    "        if (string != \"\"):\n",
    "            third3.append(string)\n",
    "\n",
    "    nice_docs = [first3, second3, third3]\n",
    "\n",
    "    docs1 = ''.join(docs).lower()\n",
    "    docs2 = re.split('[ . !]', docs1)\n",
    "    docs3 = []\n",
    "    for string in docs2:\n",
    "        if (string != \"\"):\n",
    "            docs3.append(string)\n",
    "\n",
    "    unique = []\n",
    "    for string in docs3:\n",
    "        if string not in unique:\n",
    "            unique.append(string)\n",
    "\n",
    "\n",
    "    term_freq1 = []\n",
    "    for string in unique:\n",
    "        if string in nice_docs[0]:\n",
    "            term_freq1.append(1)\n",
    "        else:\n",
    "            term_freq1.append(0)\n",
    "\n",
    "    term_freq2 = []\n",
    "    for string in unique:\n",
    "        if string in nice_docs[1]:\n",
    "            term_freq2.append(1)\n",
    "        else:\n",
    "            term_freq2.append(0)\n",
    "            \n",
    "    term_freq3 = []\n",
    "    for string in unique:\n",
    "        if string in nice_docs[2]:\n",
    "            term_freq3.append(1)\n",
    "        else:\n",
    "            term_freq3.append(0)\n",
    "\n",
    "    nice_freq = [term_freq1, term_freq2, term_freq3]\n",
    "    \n",
    "    corpus = nice_docs\n",
    "    bag_of_words = unique \n",
    "    term_freq = nice_freq\n",
    "    \n",
    "    return {\"bag_of_words\": bag_of_words,\"term_freq\": term_freq}\n",
    "    \n",
    "get_bow_from_docs(nice_docs) "
   ]
  },
  {
   "cell_type": "markdown",
   "metadata": {},
   "source": [
    "In the cell below, create a Python function that wraps your previous solution for the Bag of Words lab.\n",
    "\n",
    "Requirements:\n",
    "\n",
    "1. Your function should accept the following parameters:\n",
    "    * `docs` [REQUIRED] - array of document paths.\n",
    "    * `stop_words` [OPTIONAL] - array of stop words. The default value is an empty array.\n",
    "\n",
    "1. Your function should return a Python object that contains the following:\n",
    "    * `bag_of_words` - array of strings of normalized unique words in the corpus.\n",
    "    * `term_freq` - array of the term-frequency vectors."
   ]
  },
  {
   "cell_type": "markdown",
   "metadata": {},
   "source": [
    "Test your function without stop words. You should see the output like below:\n",
    "\n",
    "```{'bag_of_words': ['ironhack', 'is', 'cool', 'i', 'love', 'am', 'a', 'student', 'at'], 'term_freq': [[1, 1, 1, 0, 0, 0, 0, 0, 0], [1, 0, 0, 1, 1, 0, 0, 0, 0], [1, 0, 0, 1, 0, 1, 1, 1, 1]]}```"
   ]
  },
  {
   "cell_type": "code",
   "execution_count": null,
   "metadata": {},
   "outputs": [],
   "source": [
    "# Define doc paths array\n",
    "docs = []\n",
    "\n",
    "# Obtain BoW from your function\n",
    "bow = get_bow_from_docs(docs)\n",
    "\n",
    "# Print BoW\n",
    "print(bow)"
   ]
  },
  {
   "cell_type": "markdown",
   "metadata": {},
   "source": [
    "If your attempt above is successful, nice work done!\n",
    "\n",
    "Now test your function again with the stop words. In the previous lab we defined the stop words in a large array. In this lab, we'll import the stop words from Scikit-Learn."
   ]
  },
  {
   "cell_type": "code",
   "execution_count": null,
   "metadata": {},
   "outputs": [],
   "source": [
    "from sklearn.feature_extraction import stop_words\n",
    "print(stop_words.ENGLISH_STOP_WORDS)"
   ]
  },
  {
   "cell_type": "markdown",
   "metadata": {},
   "source": [
    "You should have seen a large list of words that looks like:\n",
    "\n",
    "```frozenset({'across', 'mine', 'cannot', ...})```\n",
    "\n",
    "`frozenset` is a type of Python object that is immutable. In this lab you can use it just like an array without conversion."
   ]
  },
  {
   "cell_type": "markdown",
   "metadata": {},
   "source": [
    "Next, test your function with supplying `stop_words.ENGLISH_STOP_WORDS` as the second parameter."
   ]
  },
  {
   "cell_type": "code",
   "execution_count": null,
   "metadata": {},
   "outputs": [],
   "source": [
    "bow = get_bow_from_docs(bow, stop_words.ENGLISH_STOP_WORDS)\n",
    "\n",
    "print(bow)"
   ]
  },
  {
   "cell_type": "markdown",
   "metadata": {},
   "source": [
    "You should have seen:\n",
    "\n",
    "```{'bag_of_words': ['ironhack', 'cool', 'love', 'student'], 'term_freq': [[1, 1, 0, 0], [1, 0, 1, 0], [1, 0, 0, 1]]}```"
   ]
  },
  {
   "cell_type": "code",
   "execution_count": null,
   "metadata": {},
   "outputs": [],
   "source": []
  }
 ],
 "metadata": {
  "kernelspec": {
   "display_name": "Python 3",
   "language": "python",
   "name": "python3"
  },
  "language_info": {
   "codemirror_mode": {
    "name": "ipython",
    "version": 3
   },
   "file_extension": ".py",
   "mimetype": "text/x-python",
   "name": "python",
   "nbconvert_exporter": "python",
   "pygments_lexer": "ipython3",
   "version": "3.7.6"
  }
 },
 "nbformat": 4,
 "nbformat_minor": 2
}
