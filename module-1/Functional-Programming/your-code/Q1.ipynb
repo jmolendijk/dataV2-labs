{
 "cells": [
  {
   "cell_type": "markdown",
   "metadata": {},
   "source": [
    "In the cell below, create a Python function that wraps your previous solution for the Bag of Words lab.\n",
    "\n",
    "Requirements:\n",
    "\n",
    "1. Your function should accept the following parameters:\n",
    "    * `docs` [REQUIRED] - array of document paths.\n",
    "    * `stop_words` [OPTIONAL] - array of stop words. The default value is an empty array.\n",
    "\n",
    "1. Your function should return a Python object that contains the following:\n",
    "    * `bag_of_words` - array of strings of normalized unique words in the corpus.\n",
    "    * `term_freq` - array of the term-frequency vectors."
   ]
  },
  {
   "cell_type": "code",
   "execution_count": 37,
   "metadata": {},
   "outputs": [],
   "source": [
    "# Import required libraries\n",
    "\n",
    "import re\n",
    "\n",
    "# Define function\n",
    "def get_bow_from_docs(docs, stop_words=[]):\n",
    "    \n",
    "    # In the function, first define the variables you will use such as `corpus`, `bag_of_words`, and `term_freq`.\n",
    "    corpus = []\n",
    "    bag_of_words = set()\n",
    "    term_freq = []\n",
    "    \n",
    "    \"\"\"\n",
    "    Loop `docs` and read the content of each doc into a string in `corpus`.\n",
    "    Remember to convert the doc content to lowercases and remove punctuation.\n",
    "    \"\"\"\n",
    "\n",
    "    for string in docs:\n",
    "        string = re.sub('[\\W]+', ' ', string)\n",
    "        string = string.strip()\n",
    "        string = string.lower()\n",
    "        corpus.append(string)\n",
    "#    print('Corpus:', corpus)\n",
    "    \n",
    "    \"\"\"\n",
    "    Loop `corpus`. Append the terms in each doc into the `bag_of_words` array. The terms in `bag_of_words` \n",
    "    should be unique which means before adding each term you need to check if it's already added to the array.\n",
    "    In addition, check if each term is in the `stop_words` array. Only append the term to `bag_of_words`\n",
    "    if it is not a stop word.\n",
    "    \"\"\"\n",
    "    \n",
    "    bag_of_words = ' '.join(corpus)\n",
    "    bag_of_words = bag_of_words.split()\n",
    "\n",
    "#    print('BOW from Corpus', bag_of_words)\n",
    "\n",
    "    bag_of_words = set(bag_of_words)\n",
    "    stop_words = set(stop_words)\n",
    "    bag_of_words = bag_of_words - stop_words\n",
    "    \n",
    "    bag_of_words = list(bag_of_words)\n",
    "    \n",
    "    print('Bag of Words:', bag_of_words)\n",
    "    \n",
    "    \n",
    "        \n",
    "    \n",
    "    \n",
    "    \"\"\"\n",
    "    Loop `corpus` again. For each doc string, count the number of occurrences of each term in `bag_of_words`. \n",
    "    Create an array for each doc's term frequency and append it to `term_freq`.\n",
    "    \"\"\"\n",
    "    \n",
    "    freq = []\n",
    "    for string in corpus:\n",
    "        string_term = string.split()\n",
    "        \n",
    "        for word in bag_of_words:\n",
    "            if word in string_term:\n",
    "                freq.append(1)\n",
    "            else:\n",
    "                freq.append(0)        \n",
    "        term_freq.append(freq)\n",
    "        freq = []\n",
    "        \n",
    "#    print(freq)\n",
    "    # Now return your output as an object\n",
    "    return {\n",
    "        \"bag_of_words\": bag_of_words,\n",
    "        \"term_freq\": term_freq\n",
    "    }\n",
    "    "
   ]
  },
  {
   "cell_type": "markdown",
   "metadata": {},
   "source": [
    "Test your function without stop words. You should see the output like below:\n",
    "\n",
    "```{'bag_of_words': ['ironhack', 'is', 'cool', 'i', 'love', 'am', 'a', 'student', 'at'], 'term_freq': [[1, 1, 1, 0, 0, 0, 0, 0, 0], [1, 0, 0, 1, 1, 0, 0, 0, 0], [1, 0, 0, 1, 0, 1, 1, 1, 1]]}```"
   ]
  },
  {
   "cell_type": "code",
   "execution_count": 38,
   "metadata": {},
   "outputs": [
    {
     "name": "stdout",
     "output_type": "stream",
     "text": [
      "Bag of Words: ['love', 'a', 'ironhack', 'at', 'i', 'is', 'am', 'cool', 'student']\n",
      "{'bag_of_words': ['love', 'a', 'ironhack', 'at', 'i', 'is', 'am', 'cool', 'student'], 'term_freq': [[0, 0, 1, 0, 0, 1, 0, 1, 0], [0, 1, 1, 1, 1, 0, 1, 0, 1], [1, 0, 1, 0, 1, 0, 0, 0, 0]]}\n"
     ]
    }
   ],
   "source": [
    "# Define doc paths array\n",
    "docs = ['Ironhack is cool.','I am a student at Ironhack.','I love Ironhack!']\n",
    "\n",
    "# Obtain BoW from your function\n",
    "bow = get_bow_from_docs(docs)\n",
    "\n",
    "# Print BoW\n",
    "print(bow)"
   ]
  },
  {
   "cell_type": "markdown",
   "metadata": {},
   "source": [
    "If your attempt above is successful, nice work done!\n",
    "\n",
    "Now test your function again with the stop words. In the previous lab we defined the stop words in a large array. In this lab, we'll import the stop words from Scikit-Learn."
   ]
  },
  {
   "cell_type": "code",
   "execution_count": 39,
   "metadata": {},
   "outputs": [
    {
     "name": "stdout",
     "output_type": "stream",
     "text": [
      "frozenset({'there', 'nothing', 'fifteen', 'amongst', 'full', 'found', 'from', 'an', 'he', 'can', 'up', 'find', 'his', 'been', 'after', 'hasnt', 'being', 'thick', 'rather', 'below', 'this', 'and', 'thereby', 'on', 'over', 'onto', 'amoungst', 'con', 'ours', 'him', 'thus', 'whatever', 'it', 'to', 'until', 'not', 'sixty', 'while', 'whole', 'she', 'nevertheless', 'anyhow', 'what', 'well', 'whoever', 'only', 'such', 'should', 'less', 'along', 'beside', 'done', 'me', 'thence', 'least', 'upon', 'more', 'whom', 'where', 'with', 'towards', 'however', 'hence', 'whereas', 'who', 'meanwhile', 'us', 'wherein', 'hereby', 'ltd', 'have', 'fill', 'hereupon', 'anything', 'nobody', 'whether', 'were', 'co', 'in', 'four', 'thereupon', 'eight', 'by', 'or', 'that', 'though', 'very', 'above', 'therein', 'has', 'their', 'same', 'interest', 'anyone', 'detail', 'them', 'call', 'whenever', 'you', 'within', 'whereafter', 'once', 'further', 'herein', 'without', 'six', 'down', 'much', 'ourselves', 'might', 'is', 'all', 'few', 'via', 'noone', 'someone', 'seems', 'neither', 'seem', 'everyone', 'please', 'even', 'part', 'myself', 'something', 'hers', 'these', 'for', 'herself', 'across', 'become', 'would', 'nine', 'i', 'they', 'out', 'often', 'throughout', 'couldnt', 'are', 'her', 'empty', 'see', 'five', 'last', 'latter', 'yourselves', 'ten', 'put', 'some', 'than', 'nowhere', 'others', 'always', 'amount', 'two', 'enough', 'ever', 'latterly', 'when', 'thin', 'whence', 'show', 'go', 'whereby', 'already', 'whereupon', 'beyond', 'during', 'inc', 'if', 'about', 'became', 'etc', 'behind', 'own', 'sometimes', 'most', 'due', 'toward', 'move', 'the', 'then', 'cant', 'formerly', 'bottom', 'your', 'everywhere', 'fire', 'either', 'serious', 'several', 'here', 'also', 'mine', 'describe', 'sometime', 'beforehand', 'mill', 'system', 'side', 'among', 'now', 'thereafter', 'those', 'itself', 'bill', 'at', 'any', 'since', 'why', 'be', 'yours', 'which', 'both', 'almost', 'our', 'nor', 'give', 'themselves', 'indeed', 'before', 'had', 'each', 'twelve', 'moreover', 'afterwards', 'former', 'through', 'too', 'could', 'de', 'against', 'front', 'so', 'because', 'anywhere', 'besides', 'seemed', 'must', 'fifty', 'another', 'third', 'its', 'do', 'except', 'none', 'together', 'elsewhere', 'take', 'cry', 'mostly', 'three', 'yourself', 'next', 'but', 'keep', 'am', 'becomes', 'himself', 'never', 'becoming', 'still', 'ie', 'per', 'otherwise', 'get', 'top', 'everything', 'forty', 'although', 'many', 'wherever', 're', 'how', 'no', 'therefore', 'thru', 'un', 'hundred', 'alone', 'somewhere', 'was', 'as', 'one', 'name', 'anyway', 'may', 'again', 'eleven', 'twenty', 'into', 'other', 'cannot', 'we', 'else', 'back', 'eg', 'seeming', 'will', 'made', 'under', 'between', 'whither', 'sincere', 'somehow', 'namely', 'off', 'perhaps', 'hereafter', 'every', 'my', 'a', 'first', 'around', 'of', 'whose', 'yet'})\n"
     ]
    }
   ],
   "source": [
    "from sklearn.feature_extraction import stop_words\n",
    "print(stop_words.ENGLISH_STOP_WORDS)"
   ]
  },
  {
   "cell_type": "markdown",
   "metadata": {},
   "source": [
    "You should have seen a large list of words that looks like:\n",
    "\n",
    "```frozenset({'across', 'mine', 'cannot', ...})```\n",
    "\n",
    "`frozenset` is a type of Python object that is immutable. In this lab you can use it just like an array without conversion."
   ]
  },
  {
   "cell_type": "markdown",
   "metadata": {},
   "source": [
    "Next, test your function with supplying `stop_words.ENGLISH_STOP_WORDS` as the second parameter."
   ]
  },
  {
   "cell_type": "code",
   "execution_count": 40,
   "metadata": {},
   "outputs": [
    {
     "name": "stdout",
     "output_type": "stream",
     "text": [
      "Bag of Words: ['cool', 'love', 'ironhack', 'student']\n",
      "{'bag_of_words': ['cool', 'love', 'ironhack', 'student'], 'term_freq': [[1, 0, 1, 0], [0, 0, 1, 1], [0, 1, 1, 0]]}\n"
     ]
    }
   ],
   "source": [
    "bow = get_bow_from_docs(docs, stop_words.ENGLISH_STOP_WORDS)\n",
    "\n",
    "print(bow)"
   ]
  },
  {
   "cell_type": "markdown",
   "metadata": {},
   "source": [
    "You should have seen:\n",
    "\n",
    "```{'bag_of_words': ['ironhack', 'cool', 'love', 'student'], 'term_freq': [[1, 1, 0, 0], [1, 0, 1, 0], [1, 0, 0, 1]]}```"
   ]
  },
  {
   "cell_type": "code",
   "execution_count": null,
   "metadata": {},
   "outputs": [],
   "source": []
  }
 ],
 "metadata": {
  "kernelspec": {
   "display_name": "Python 3",
   "language": "python",
   "name": "python3"
  },
  "language_info": {
   "codemirror_mode": {
    "name": "ipython",
    "version": 3
   },
   "file_extension": ".py",
   "mimetype": "text/x-python",
   "name": "python",
   "nbconvert_exporter": "python",
   "pygments_lexer": "ipython3",
   "version": "3.7.6"
  }
 },
 "nbformat": 4,
 "nbformat_minor": 2
}
