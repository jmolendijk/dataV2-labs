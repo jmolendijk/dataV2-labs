{
 "cells": [
  {
   "cell_type": "code",
   "execution_count": 24,
   "metadata": {},
   "outputs": [
    {
     "name": "stdout",
     "output_type": "stream",
     "text": [
      "Welcome to this calculator! \n",
      "It can add and subtract whole numbers from 0 to 5 \n",
      "\n",
      "What do you want to do? plus or minus: plus\n",
      "Please choose your first number (0 to 5): 1\n",
      "Please choose your second number (0 to 5): 2\n",
      "1 + 2 = 3\n",
      "\n",
      "Thanks for using this calculator, goodbye :)\n"
     ]
    }
   ],
   "source": [
    "\n",
    "\n",
    "print('Welcome to this calculator! \\nIt can add and subtract whole numbers from 0 to 5 \\n')\n",
    "\n",
    "plus_or_minus = input('What do you want to do? plus or minus: ') \n",
    "number1 = int(input('Please choose your first number (0 to 5): '))\n",
    "number2 = int(input('Please choose your second number (0 to 5): '))\n",
    "\n",
    "if plus_or_minus == 'plus':\n",
    "    print(number1, '+', number2, '=', plus(number1, number2)) \n",
    "elif plus_or_minus == 'minus':\n",
    "    print(number1, '+', number2, '=', minus(number1, number2)) \n",
    "else:\n",
    "    print('I am not able to answer this question. Check your input.')\n",
    "\n",
    "print(\"\\nThanks for using this calculator, goodbye :)\")"
   ]
  },
  {
   "cell_type": "code",
   "execution_count": null,
   "metadata": {},
   "outputs": [],
   "source": []
  }
 ],
 "metadata": {
  "kernelspec": {
   "display_name": "Python 3",
   "language": "python",
   "name": "python3"
  },
  "language_info": {
   "codemirror_mode": {
    "name": "ipython",
    "version": 3
   },
   "file_extension": ".py",
   "mimetype": "text/x-python",
   "name": "python",
   "nbconvert_exporter": "python",
   "pygments_lexer": "ipython3",
   "version": "3.8.3"
  }
 },
 "nbformat": 4,
 "nbformat_minor": 4
}
