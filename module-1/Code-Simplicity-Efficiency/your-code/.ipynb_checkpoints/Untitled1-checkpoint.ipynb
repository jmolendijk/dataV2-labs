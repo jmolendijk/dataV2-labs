{
 "cells": [
  {
   "cell_type": "code",
   "execution_count": 2,
   "metadata": {},
   "outputs": [
    {
     "name": "stdout",
     "output_type": "stream",
     "text": [
      "Enter string length: 45\n",
      "How many random strings to generate? 10\n",
      "963f0qg42rm9rr7xyk29acnkzdl7nnylp1wlpna3nklb9\n",
      "vq6zojluv7brqh7rleg3fyfzoi4b9iefc8rc8heko2b07\n",
      "foidpr265qgl9b483xkzjnt4de9mm32gtejjg9p75f91d\n",
      "63yjio9xcnubp6bx1lemo19danwuem3cmgorl1w3x55ih\n",
      "f05azoh4kc2ejomiry7wg4bvei08m3jk3tt8hfprvjpd0\n",
      "fxeg69ojghkydv5hu3n9pqqwk24v0sl86pqx99htoj1el\n",
      "wght1i51ybdsyhq41htvs7ec4mhyo1u8g9cy87hev4ihu\n",
      "koulm07qus7w8k70p5jgpcq3tej8q18gsejh96heb1v22\n",
      "8zzxpfketwnfs03gprpqdo28q80s70h1637zixpuo0h25\n",
      "mpet9l41yn8wuurchihn0tz857i61bzcvbz2svmxzymx1\n"
     ]
    }
   ],
   "source": [
    "import string\n",
    "import random\n",
    "def id_generator(size, chars=string.ascii_lowercase + string.digits):\n",
    "    return ''.join(random.choice(chars) for _ in range(size))\n",
    "\n",
    "a = int(input('Enter string length: '))\n",
    "n = int(input('How many random strings to generate? '))\n",
    "\n",
    "for i in range(n):\n",
    "    print(id_generator(a))"
   ]
  },
  {
   "cell_type": "code",
   "execution_count": null,
   "metadata": {},
   "outputs": [],
   "source": []
  }
 ],
 "metadata": {
  "kernelspec": {
   "display_name": "Python 3",
   "language": "python",
   "name": "python3"
  },
  "language_info": {
   "codemirror_mode": {
    "name": "ipython",
    "version": 3
   },
   "file_extension": ".py",
   "mimetype": "text/x-python",
   "name": "python",
   "nbconvert_exporter": "python",
   "pygments_lexer": "ipython3",
   "version": "3.8.3"
  }
 },
 "nbformat": 4,
 "nbformat_minor": 4
}
