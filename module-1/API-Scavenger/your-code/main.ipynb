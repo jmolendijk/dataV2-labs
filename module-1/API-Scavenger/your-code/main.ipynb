{
 "cells": [
  {
   "cell_type": "markdown",
   "metadata": {},
   "source": [
    "# API Scavenger Game\n",
    "\n",
    "## Challenge 1: Fork Languages\n",
    "\n",
    "You will find out how many programming languages are used among all the forks created from the main lab repo of your bootcamp."
   ]
  },
  {
   "cell_type": "code",
   "execution_count": 1,
   "metadata": {},
   "outputs": [],
   "source": [
    "# import libraries here\n",
    "\n",
    "import json\n",
    "import requests\n",
    "import pandas as pd"
   ]
  },
  {
   "cell_type": "markdown",
   "metadata": {},
   "source": [
    "Assuming the main lab repo is ironhack-datalabs/madrid-oct-2018, you will:\n",
    "\n",
    "#### 1. Obtain the full list of forks created from the main lab repo via Github API."
   ]
  },
  {
   "cell_type": "markdown",
   "metadata": {},
   "source": [
    "To list forks, we can use the GET method. As explained in the GitHub API documentation, we need to make the request to: GET /repos/:owner/:repo/forks."
   ]
  },
  {
   "cell_type": "code",
   "execution_count": 2,
   "metadata": {
    "tags": []
   },
   "outputs": [
    {
     "output_type": "execute_result",
     "data": {
      "text/plain": "          id                           node_id         name  \\\n0  286608878  MDEwOlJlcG9zaXRvcnkyODY2MDg4Nzg=  dataV2-labs   \n1  286525274  MDEwOlJlcG9zaXRvcnkyODY1MjUyNzQ=  dataV2-labs   \n2  286521316  MDEwOlJlcG9zaXRvcnkyODY1MjEzMTY=  dataV2-labs   \n3  286520497  MDEwOlJlcG9zaXRvcnkyODY1MjA0OTc=  dataV2-labs   \n4  286517824  MDEwOlJlcG9zaXRvcnkyODY1MTc4MjQ=  dataV2-labs   \n\n                   full_name  private  \\\n0         joaopq/dataV2-labs    False   \n1        JoanRBC/dataV2-labs    False   \n2  rafaelmello82/dataV2-labs    False   \n3         cfmago/dataV2-labs    False   \n4       jinverno/dataV2-labs    False   \n\n                                               owner  \\\n0  {'login': 'joaopq', 'id': 63979330, 'node_id':...   \n1  {'login': 'JoanRBC', 'id': 60225388, 'node_id'...   \n2  {'login': 'rafaelmello82', 'id': 64922281, 'no...   \n3  {'login': 'cfmago', 'id': 36172682, 'node_id':...   \n4  {'login': 'jinverno', 'id': 65239409, 'node_id...   \n\n                                       html_url description  fork  \\\n0         https://github.com/joaopq/dataV2-labs        None  True   \n1        https://github.com/JoanRBC/dataV2-labs        None  True   \n2  https://github.com/rafaelmello82/dataV2-labs        None  True   \n3         https://github.com/cfmago/dataV2-labs        None  True   \n4       https://github.com/jinverno/dataV2-labs        None  True   \n\n                                                 url  ... mirror_url archived  \\\n0    https://api.github.com/repos/joaopq/dataV2-labs  ...       None    False   \n1   https://api.github.com/repos/JoanRBC/dataV2-labs  ...       None    False   \n2  https://api.github.com/repos/rafaelmello82/dat...  ...       None    False   \n3    https://api.github.com/repos/cfmago/dataV2-labs  ...       None    False   \n4  https://api.github.com/repos/jinverno/dataV2-labs  ...       None    False   \n\n  disabled open_issues_count license forks open_issues watchers  \\\n0    False                 0    None     0           0        0   \n1    False                 0    None     0           0        0   \n2    False                 0    None     0           0        0   \n3    False                 0    None     0           0        0   \n4    False                 0    None     0           0        0   \n\n  default_branch                                    permissions  \n0         master  {'admin': False, 'push': False, 'pull': True}  \n1         master  {'admin': False, 'push': False, 'pull': True}  \n2         master  {'admin': False, 'push': False, 'pull': True}  \n3         master  {'admin': False, 'push': False, 'pull': True}  \n4         master  {'admin': False, 'push': False, 'pull': True}  \n\n[5 rows x 74 columns]",
      "text/html": "<div>\n<style scoped>\n    .dataframe tbody tr th:only-of-type {\n        vertical-align: middle;\n    }\n\n    .dataframe tbody tr th {\n        vertical-align: top;\n    }\n\n    .dataframe thead th {\n        text-align: right;\n    }\n</style>\n<table border=\"1\" class=\"dataframe\">\n  <thead>\n    <tr style=\"text-align: right;\">\n      <th></th>\n      <th>id</th>\n      <th>node_id</th>\n      <th>name</th>\n      <th>full_name</th>\n      <th>private</th>\n      <th>owner</th>\n      <th>html_url</th>\n      <th>description</th>\n      <th>fork</th>\n      <th>url</th>\n      <th>...</th>\n      <th>mirror_url</th>\n      <th>archived</th>\n      <th>disabled</th>\n      <th>open_issues_count</th>\n      <th>license</th>\n      <th>forks</th>\n      <th>open_issues</th>\n      <th>watchers</th>\n      <th>default_branch</th>\n      <th>permissions</th>\n    </tr>\n  </thead>\n  <tbody>\n    <tr>\n      <th>0</th>\n      <td>286608878</td>\n      <td>MDEwOlJlcG9zaXRvcnkyODY2MDg4Nzg=</td>\n      <td>dataV2-labs</td>\n      <td>joaopq/dataV2-labs</td>\n      <td>False</td>\n      <td>{'login': 'joaopq', 'id': 63979330, 'node_id':...</td>\n      <td>https://github.com/joaopq/dataV2-labs</td>\n      <td>None</td>\n      <td>True</td>\n      <td>https://api.github.com/repos/joaopq/dataV2-labs</td>\n      <td>...</td>\n      <td>None</td>\n      <td>False</td>\n      <td>False</td>\n      <td>0</td>\n      <td>None</td>\n      <td>0</td>\n      <td>0</td>\n      <td>0</td>\n      <td>master</td>\n      <td>{'admin': False, 'push': False, 'pull': True}</td>\n    </tr>\n    <tr>\n      <th>1</th>\n      <td>286525274</td>\n      <td>MDEwOlJlcG9zaXRvcnkyODY1MjUyNzQ=</td>\n      <td>dataV2-labs</td>\n      <td>JoanRBC/dataV2-labs</td>\n      <td>False</td>\n      <td>{'login': 'JoanRBC', 'id': 60225388, 'node_id'...</td>\n      <td>https://github.com/JoanRBC/dataV2-labs</td>\n      <td>None</td>\n      <td>True</td>\n      <td>https://api.github.com/repos/JoanRBC/dataV2-labs</td>\n      <td>...</td>\n      <td>None</td>\n      <td>False</td>\n      <td>False</td>\n      <td>0</td>\n      <td>None</td>\n      <td>0</td>\n      <td>0</td>\n      <td>0</td>\n      <td>master</td>\n      <td>{'admin': False, 'push': False, 'pull': True}</td>\n    </tr>\n    <tr>\n      <th>2</th>\n      <td>286521316</td>\n      <td>MDEwOlJlcG9zaXRvcnkyODY1MjEzMTY=</td>\n      <td>dataV2-labs</td>\n      <td>rafaelmello82/dataV2-labs</td>\n      <td>False</td>\n      <td>{'login': 'rafaelmello82', 'id': 64922281, 'no...</td>\n      <td>https://github.com/rafaelmello82/dataV2-labs</td>\n      <td>None</td>\n      <td>True</td>\n      <td>https://api.github.com/repos/rafaelmello82/dat...</td>\n      <td>...</td>\n      <td>None</td>\n      <td>False</td>\n      <td>False</td>\n      <td>0</td>\n      <td>None</td>\n      <td>0</td>\n      <td>0</td>\n      <td>0</td>\n      <td>master</td>\n      <td>{'admin': False, 'push': False, 'pull': True}</td>\n    </tr>\n    <tr>\n      <th>3</th>\n      <td>286520497</td>\n      <td>MDEwOlJlcG9zaXRvcnkyODY1MjA0OTc=</td>\n      <td>dataV2-labs</td>\n      <td>cfmago/dataV2-labs</td>\n      <td>False</td>\n      <td>{'login': 'cfmago', 'id': 36172682, 'node_id':...</td>\n      <td>https://github.com/cfmago/dataV2-labs</td>\n      <td>None</td>\n      <td>True</td>\n      <td>https://api.github.com/repos/cfmago/dataV2-labs</td>\n      <td>...</td>\n      <td>None</td>\n      <td>False</td>\n      <td>False</td>\n      <td>0</td>\n      <td>None</td>\n      <td>0</td>\n      <td>0</td>\n      <td>0</td>\n      <td>master</td>\n      <td>{'admin': False, 'push': False, 'pull': True}</td>\n    </tr>\n    <tr>\n      <th>4</th>\n      <td>286517824</td>\n      <td>MDEwOlJlcG9zaXRvcnkyODY1MTc4MjQ=</td>\n      <td>dataV2-labs</td>\n      <td>jinverno/dataV2-labs</td>\n      <td>False</td>\n      <td>{'login': 'jinverno', 'id': 65239409, 'node_id...</td>\n      <td>https://github.com/jinverno/dataV2-labs</td>\n      <td>None</td>\n      <td>True</td>\n      <td>https://api.github.com/repos/jinverno/dataV2-labs</td>\n      <td>...</td>\n      <td>None</td>\n      <td>False</td>\n      <td>False</td>\n      <td>0</td>\n      <td>None</td>\n      <td>0</td>\n      <td>0</td>\n      <td>0</td>\n      <td>master</td>\n      <td>{'admin': False, 'push': False, 'pull': True}</td>\n    </tr>\n  </tbody>\n</table>\n<p>5 rows × 74 columns</p>\n</div>"
     },
     "metadata": {},
     "execution_count": 2
    }
   ],
   "source": [
    "# your code here\n",
    "\n",
    "username = 'leonvanderlee'\n",
    "token = 'aceb352de54ed83918f931fc5de1920cf4c396ef'\n",
    "\n",
    "response = requests.get('https://api.github.com/repos/ironhack-datalabs/dataV2-labs/forks', auth=(username,token))\n",
    "\n",
    "data = pd.DataFrame(response.json())\n",
    "\n",
    "data.head()"
   ]
  },
  {
   "cell_type": "markdown",
   "metadata": {},
   "source": [
    "#### 2. Loop the JSON response to find out the language attribute of each fork. Use an array to store the language attributes of each fork.\n",
    "Hint: Each language should appear only once in your array.\n",
    "Print the language array. It should be something like: [\"Python\", \"Jupyter Notebook\", \"HTML\"]"
   ]
  },
  {
   "cell_type": "code",
   "execution_count": 3,
   "metadata": {
    "tags": []
   },
   "outputs": [
    {
     "output_type": "execute_result",
     "data": {
      "text/plain": "array([None, 'Jupyter Notebook'], dtype=object)"
     },
     "metadata": {},
     "execution_count": 3
    }
   ],
   "source": [
    "# your code here\n",
    "\n",
    "languages = data['language'].unique()\n",
    "\n",
    "languages"
   ]
  },
  {
   "cell_type": "markdown",
   "metadata": {},
   "source": [
    "## Challenge 2: Count Commits\n",
    "Count how many commits were made in the month of october of 2018.\n",
    "#### 1. Obtain all the commits made in October 2018 via API, which is a JSON array that contains multiple commit objects."
   ]
  },
  {
   "cell_type": "code",
   "execution_count": 4,
   "metadata": {},
   "outputs": [
    {
     "output_type": "execute_result",
     "data": {
      "text/plain": "                                        sha  \\\n0  3050baad4bdf4ee65be7b6d56ee4902abf59d5fb   \n1  680a9ca1cebd77383a8a104ab48c868d1600790f   \n2  1421d2b97b1e250bbd1c321e7c38a1ef87fd2c49   \n3  023a27f4c4bb515a77bfda08f9309c1b1e333e72   \n4  574666b2fc86a71f60f334545fe4d16ab61ab28f   \n\n                                             node_id  \\\n0  MDY6Q29tbWl0MjEzNjQxMTcwOjMwNTBiYWFkNGJkZjRlZT...   \n1  MDY6Q29tbWl0MjEzNjQxMTcwOjY4MGE5Y2ExY2ViZDc3Mz...   \n2  MDY6Q29tbWl0MjEzNjQxMTcwOjE0MjFkMmI5N2IxZTI1MG...   \n3  MDY6Q29tbWl0MjEzNjQxMTcwOjAyM2EyN2Y0YzRiYjUxNW...   \n4  MDY6Q29tbWl0MjEzNjQxMTcwOjU3NDY2NmIyZmM4NmE3MW...   \n\n                                              commit  \\\n0  {'author': {'name': 'kelsey-ironhack', 'email'...   \n1  {'author': {'name': 'kelsey-ironhack', 'email'...   \n2  {'author': {'name': 'kelsey-ironhack', 'email'...   \n3  {'author': {'name': 'kbartonhenry', 'email': '...   \n4  {'author': {'name': 'kbartonhenry', 'email': '...   \n\n                                                 url  \\\n0  https://api.github.com/repos/ironhack-datalabs...   \n1  https://api.github.com/repos/ironhack-datalabs...   \n2  https://api.github.com/repos/ironhack-datalabs...   \n3  https://api.github.com/repos/ironhack-datalabs...   \n4  https://api.github.com/repos/ironhack-datalabs...   \n\n                                            html_url  \\\n0  https://github.com/ironhack-datalabs/dataV2-la...   \n1  https://github.com/ironhack-datalabs/dataV2-la...   \n2  https://github.com/ironhack-datalabs/dataV2-la...   \n3  https://github.com/ironhack-datalabs/dataV2-la...   \n4  https://github.com/ironhack-datalabs/dataV2-la...   \n\n                                        comments_url  \\\n0  https://api.github.com/repos/ironhack-datalabs...   \n1  https://api.github.com/repos/ironhack-datalabs...   \n2  https://api.github.com/repos/ironhack-datalabs...   \n3  https://api.github.com/repos/ironhack-datalabs...   \n4  https://api.github.com/repos/ironhack-datalabs...   \n\n                                              author  \\\n0  {'login': 'kelsey-ironhack', 'id': 52278191, '...   \n1  {'login': 'kelsey-ironhack', 'id': 52278191, '...   \n2  {'login': 'kelsey-ironhack', 'id': 52278191, '...   \n3  {'login': 'kbartonhenry', 'id': 22545329, 'nod...   \n4  {'login': 'kbartonhenry', 'id': 22545329, 'nod...   \n\n                                           committer  \\\n0  {'login': 'web-flow', 'id': 19864447, 'node_id...   \n1  {'login': 'web-flow', 'id': 19864447, 'node_id...   \n2  {'login': 'web-flow', 'id': 19864447, 'node_id...   \n3  {'login': 'web-flow', 'id': 19864447, 'node_id...   \n4  {'login': 'web-flow', 'id': 19864447, 'node_id...   \n\n                                             parents  \n0  [{'sha': '680a9ca1cebd77383a8a104ab48c868d1600...  \n1  [{'sha': '1421d2b97b1e250bbd1c321e7c38a1ef87fd...  \n2  [{'sha': '023a27f4c4bb515a77bfda08f9309c1b1e33...  \n3  [{'sha': '574666b2fc86a71f60f334545fe4d16ab61a...  \n4  [{'sha': '6f83d1446dbb6bd600a2082e8147b79e420f...  ",
      "text/html": "<div>\n<style scoped>\n    .dataframe tbody tr th:only-of-type {\n        vertical-align: middle;\n    }\n\n    .dataframe tbody tr th {\n        vertical-align: top;\n    }\n\n    .dataframe thead th {\n        text-align: right;\n    }\n</style>\n<table border=\"1\" class=\"dataframe\">\n  <thead>\n    <tr style=\"text-align: right;\">\n      <th></th>\n      <th>sha</th>\n      <th>node_id</th>\n      <th>commit</th>\n      <th>url</th>\n      <th>html_url</th>\n      <th>comments_url</th>\n      <th>author</th>\n      <th>committer</th>\n      <th>parents</th>\n    </tr>\n  </thead>\n  <tbody>\n    <tr>\n      <th>0</th>\n      <td>3050baad4bdf4ee65be7b6d56ee4902abf59d5fb</td>\n      <td>MDY6Q29tbWl0MjEzNjQxMTcwOjMwNTBiYWFkNGJkZjRlZT...</td>\n      <td>{'author': {'name': 'kelsey-ironhack', 'email'...</td>\n      <td>https://api.github.com/repos/ironhack-datalabs...</td>\n      <td>https://github.com/ironhack-datalabs/dataV2-la...</td>\n      <td>https://api.github.com/repos/ironhack-datalabs...</td>\n      <td>{'login': 'kelsey-ironhack', 'id': 52278191, '...</td>\n      <td>{'login': 'web-flow', 'id': 19864447, 'node_id...</td>\n      <td>[{'sha': '680a9ca1cebd77383a8a104ab48c868d1600...</td>\n    </tr>\n    <tr>\n      <th>1</th>\n      <td>680a9ca1cebd77383a8a104ab48c868d1600790f</td>\n      <td>MDY6Q29tbWl0MjEzNjQxMTcwOjY4MGE5Y2ExY2ViZDc3Mz...</td>\n      <td>{'author': {'name': 'kelsey-ironhack', 'email'...</td>\n      <td>https://api.github.com/repos/ironhack-datalabs...</td>\n      <td>https://github.com/ironhack-datalabs/dataV2-la...</td>\n      <td>https://api.github.com/repos/ironhack-datalabs...</td>\n      <td>{'login': 'kelsey-ironhack', 'id': 52278191, '...</td>\n      <td>{'login': 'web-flow', 'id': 19864447, 'node_id...</td>\n      <td>[{'sha': '1421d2b97b1e250bbd1c321e7c38a1ef87fd...</td>\n    </tr>\n    <tr>\n      <th>2</th>\n      <td>1421d2b97b1e250bbd1c321e7c38a1ef87fd2c49</td>\n      <td>MDY6Q29tbWl0MjEzNjQxMTcwOjE0MjFkMmI5N2IxZTI1MG...</td>\n      <td>{'author': {'name': 'kelsey-ironhack', 'email'...</td>\n      <td>https://api.github.com/repos/ironhack-datalabs...</td>\n      <td>https://github.com/ironhack-datalabs/dataV2-la...</td>\n      <td>https://api.github.com/repos/ironhack-datalabs...</td>\n      <td>{'login': 'kelsey-ironhack', 'id': 52278191, '...</td>\n      <td>{'login': 'web-flow', 'id': 19864447, 'node_id...</td>\n      <td>[{'sha': '023a27f4c4bb515a77bfda08f9309c1b1e33...</td>\n    </tr>\n    <tr>\n      <th>3</th>\n      <td>023a27f4c4bb515a77bfda08f9309c1b1e333e72</td>\n      <td>MDY6Q29tbWl0MjEzNjQxMTcwOjAyM2EyN2Y0YzRiYjUxNW...</td>\n      <td>{'author': {'name': 'kbartonhenry', 'email': '...</td>\n      <td>https://api.github.com/repos/ironhack-datalabs...</td>\n      <td>https://github.com/ironhack-datalabs/dataV2-la...</td>\n      <td>https://api.github.com/repos/ironhack-datalabs...</td>\n      <td>{'login': 'kbartonhenry', 'id': 22545329, 'nod...</td>\n      <td>{'login': 'web-flow', 'id': 19864447, 'node_id...</td>\n      <td>[{'sha': '574666b2fc86a71f60f334545fe4d16ab61a...</td>\n    </tr>\n    <tr>\n      <th>4</th>\n      <td>574666b2fc86a71f60f334545fe4d16ab61ab28f</td>\n      <td>MDY6Q29tbWl0MjEzNjQxMTcwOjU3NDY2NmIyZmM4NmE3MW...</td>\n      <td>{'author': {'name': 'kbartonhenry', 'email': '...</td>\n      <td>https://api.github.com/repos/ironhack-datalabs...</td>\n      <td>https://github.com/ironhack-datalabs/dataV2-la...</td>\n      <td>https://api.github.com/repos/ironhack-datalabs...</td>\n      <td>{'login': 'kbartonhenry', 'id': 22545329, 'nod...</td>\n      <td>{'login': 'web-flow', 'id': 19864447, 'node_id...</td>\n      <td>[{'sha': '6f83d1446dbb6bd600a2082e8147b79e420f...</td>\n    </tr>\n  </tbody>\n</table>\n</div>"
     },
     "metadata": {},
     "execution_count": 4
    }
   ],
   "source": [
    "# your code here\n",
    "\n",
    "commits = requests.get('https://api.github.com/repos/ironhack-datalabs/dataV2-labs/commits?q=date:2018-10-01..2018-10-31', auth=(username,token))\n",
    "\n",
    "commits = pd.DataFrame(commits.json())\n",
    "\n",
    "commits.head()"
   ]
  },
  {
   "cell_type": "markdown",
   "metadata": {},
   "source": [
    "#### 2. Count how many commit objects are contained in the array."
   ]
  },
  {
   "cell_type": "code",
   "execution_count": 5,
   "metadata": {},
   "outputs": [
    {
     "output_type": "execute_result",
     "data": {
      "text/plain": "30"
     },
     "metadata": {},
     "execution_count": 5
    }
   ],
   "source": [
    "# your code here\n",
    "\n",
    "commit = commits['commit'].count()\n",
    "\n",
    "commit"
   ]
  },
  {
   "cell_type": "markdown",
   "metadata": {},
   "source": [
    "## Challenge 3: Hidden Cold Joke\n",
    "\n",
    "Using Python, call Github API to find out the cold joke contained in the 24 secret files in the following repo:\n",
    "\n",
    "https://github.com/ironhack-datalabs/scavenger\n",
    "\n",
    "The filenames of the secret files contain .scavengerhunt and they are scattered in different directories of this repo. The secret files are named from .0001.scavengerhunt to .0024.scavengerhunt. They are scattered randomly throughout this repo. You need to search for these files by calling the Github API, not searching the local files on your computer.\n",
    "\n",
    "#### 1. Find the secret files."
   ]
  },
  {
   "cell_type": "code",
   "execution_count": 6,
   "metadata": {},
   "outputs": [
    {
     "output_type": "execute_result",
     "data": {
      "text/plain": "         name        path                                       sha  size  \\\n0  .gitignore  .gitignore  e43b0f988953ae3a84b00331d0ccf5f7d51cb3cf    10   \n1       15024       15024  2945e51c87ad5da893c954afcf092f06343bbb7d     0   \n2       15534       15534  5af6f2a7287e4191f39e55693fc1e9c8918d1d3a     0   \n3       17020       17020  9c49f920aa4d9433fa99a5824128f0e6b90ec5f2     0   \n4       30351       30351  c488d7f64088c852e22067d48fdc64ee3670f3ba     0   \n\n                                                 url  \\\n0  https://api.github.com/repos/ironhack-datalabs...   \n1  https://api.github.com/repos/ironhack-datalabs...   \n2  https://api.github.com/repos/ironhack-datalabs...   \n3  https://api.github.com/repos/ironhack-datalabs...   \n4  https://api.github.com/repos/ironhack-datalabs...   \n\n                                            html_url  \\\n0  https://github.com/ironhack-datalabs/scavenger...   \n1  https://github.com/ironhack-datalabs/scavenger...   \n2  https://github.com/ironhack-datalabs/scavenger...   \n3  https://github.com/ironhack-datalabs/scavenger...   \n4  https://github.com/ironhack-datalabs/scavenger...   \n\n                                             git_url  \\\n0  https://api.github.com/repos/ironhack-datalabs...   \n1  https://api.github.com/repos/ironhack-datalabs...   \n2  https://api.github.com/repos/ironhack-datalabs...   \n3  https://api.github.com/repos/ironhack-datalabs...   \n4  https://api.github.com/repos/ironhack-datalabs...   \n\n                                        download_url  type  \\\n0  https://raw.githubusercontent.com/ironhack-dat...  file   \n1                                               None   dir   \n2                                               None   dir   \n3                                               None   dir   \n4                                               None   dir   \n\n                                              _links  \n0  {'self': 'https://api.github.com/repos/ironhac...  \n1  {'self': 'https://api.github.com/repos/ironhac...  \n2  {'self': 'https://api.github.com/repos/ironhac...  \n3  {'self': 'https://api.github.com/repos/ironhac...  \n4  {'self': 'https://api.github.com/repos/ironhac...  ",
      "text/html": "<div>\n<style scoped>\n    .dataframe tbody tr th:only-of-type {\n        vertical-align: middle;\n    }\n\n    .dataframe tbody tr th {\n        vertical-align: top;\n    }\n\n    .dataframe thead th {\n        text-align: right;\n    }\n</style>\n<table border=\"1\" class=\"dataframe\">\n  <thead>\n    <tr style=\"text-align: right;\">\n      <th></th>\n      <th>name</th>\n      <th>path</th>\n      <th>sha</th>\n      <th>size</th>\n      <th>url</th>\n      <th>html_url</th>\n      <th>git_url</th>\n      <th>download_url</th>\n      <th>type</th>\n      <th>_links</th>\n    </tr>\n  </thead>\n  <tbody>\n    <tr>\n      <th>0</th>\n      <td>.gitignore</td>\n      <td>.gitignore</td>\n      <td>e43b0f988953ae3a84b00331d0ccf5f7d51cb3cf</td>\n      <td>10</td>\n      <td>https://api.github.com/repos/ironhack-datalabs...</td>\n      <td>https://github.com/ironhack-datalabs/scavenger...</td>\n      <td>https://api.github.com/repos/ironhack-datalabs...</td>\n      <td>https://raw.githubusercontent.com/ironhack-dat...</td>\n      <td>file</td>\n      <td>{'self': 'https://api.github.com/repos/ironhac...</td>\n    </tr>\n    <tr>\n      <th>1</th>\n      <td>15024</td>\n      <td>15024</td>\n      <td>2945e51c87ad5da893c954afcf092f06343bbb7d</td>\n      <td>0</td>\n      <td>https://api.github.com/repos/ironhack-datalabs...</td>\n      <td>https://github.com/ironhack-datalabs/scavenger...</td>\n      <td>https://api.github.com/repos/ironhack-datalabs...</td>\n      <td>None</td>\n      <td>dir</td>\n      <td>{'self': 'https://api.github.com/repos/ironhac...</td>\n    </tr>\n    <tr>\n      <th>2</th>\n      <td>15534</td>\n      <td>15534</td>\n      <td>5af6f2a7287e4191f39e55693fc1e9c8918d1d3a</td>\n      <td>0</td>\n      <td>https://api.github.com/repos/ironhack-datalabs...</td>\n      <td>https://github.com/ironhack-datalabs/scavenger...</td>\n      <td>https://api.github.com/repos/ironhack-datalabs...</td>\n      <td>None</td>\n      <td>dir</td>\n      <td>{'self': 'https://api.github.com/repos/ironhac...</td>\n    </tr>\n    <tr>\n      <th>3</th>\n      <td>17020</td>\n      <td>17020</td>\n      <td>9c49f920aa4d9433fa99a5824128f0e6b90ec5f2</td>\n      <td>0</td>\n      <td>https://api.github.com/repos/ironhack-datalabs...</td>\n      <td>https://github.com/ironhack-datalabs/scavenger...</td>\n      <td>https://api.github.com/repos/ironhack-datalabs...</td>\n      <td>None</td>\n      <td>dir</td>\n      <td>{'self': 'https://api.github.com/repos/ironhac...</td>\n    </tr>\n    <tr>\n      <th>4</th>\n      <td>30351</td>\n      <td>30351</td>\n      <td>c488d7f64088c852e22067d48fdc64ee3670f3ba</td>\n      <td>0</td>\n      <td>https://api.github.com/repos/ironhack-datalabs...</td>\n      <td>https://github.com/ironhack-datalabs/scavenger...</td>\n      <td>https://api.github.com/repos/ironhack-datalabs...</td>\n      <td>None</td>\n      <td>dir</td>\n      <td>{'self': 'https://api.github.com/repos/ironhac...</td>\n    </tr>\n  </tbody>\n</table>\n</div>"
     },
     "metadata": {},
     "execution_count": 6
    }
   ],
   "source": [
    "# your code here\n",
    "\n",
    "# username = 'leonvanderlee'\n",
    "# token = 'aceb352de54ed83918f931fc5de1920cf4c396ef'\n",
    "\n",
    "# response2 = requests.get('https://api.github.com/repos/ironhack-datalabs/scavenger/forks', auth=(username,token))\n",
    "\n",
    "# data2 = pd.DataFrame(response2.json())\n",
    "\n",
    "# data2.head()\n",
    "\n",
    "\n",
    "username = 'leonvanderlee'\n",
    "token = 'aceb352de54ed83918f931fc5de1920cf4c396ef'\n",
    "\n",
    "response2 = requests.get('https://api.github.com/repos/ironhack-datalabs/scavenger/contents', auth=(username,token))\n",
    "\n",
    "data2 = pd.DataFrame(response2.json())\n",
    "\n",
    "data2.head()"
   ]
  },
  {
   "cell_type": "markdown",
   "metadata": {},
   "source": [
    "#### 2.  Sort the filenames ascendingly."
   ]
  },
  {
   "cell_type": "code",
   "execution_count": 7,
   "metadata": {},
   "outputs": [
    {
     "output_type": "execute_result",
     "data": {
      "text/plain": "array(['.gitignore', '15024', '15534', '17020', '30351', '40303', '44639',\n       '45525', '47222', '47830', '49418', '50896', '55417', '55685',\n       '60224', '64880', '66032', '68848', '70751', '70985', '88596',\n       '89046', '89338', '91701', '97881', '98750'], dtype=object)"
     },
     "metadata": {},
     "execution_count": 7
    }
   ],
   "source": [
    "# your code here\n",
    "\n",
    "filenames = data2['name'].unique()\n",
    "\n",
    "filenames"
   ]
  },
  {
   "cell_type": "markdown",
   "metadata": {},
   "source": [
    "#### 3. Read the content of each secret files into an array of strings.\n",
    "Since the response is encoded, you will need to send the following information in the header of your request:\n",
    "````python\n",
    "headers = {'Accept': 'application/vnd.github.v3.raw'}\n",
    "````"
   ]
  },
  {
   "cell_type": "code",
   "execution_count": 8,
   "metadata": {},
   "outputs": [],
   "source": [
    "# your code here"
   ]
  },
  {
   "cell_type": "markdown",
   "metadata": {},
   "source": [
    "#### 4. Concatenate the strings in the array separating each two with a whitespace."
   ]
  },
  {
   "cell_type": "code",
   "execution_count": 9,
   "metadata": {},
   "outputs": [],
   "source": [
    "# your code here"
   ]
  },
  {
   "cell_type": "markdown",
   "metadata": {},
   "source": [
    "#### 5. Print out the joke."
   ]
  },
  {
   "cell_type": "code",
   "execution_count": 10,
   "metadata": {},
   "outputs": [],
   "source": [
    "# your code here"
   ]
  }
 ],
 "metadata": {
  "kernelspec": {
   "display_name": "Python 3",
   "language": "python",
   "name": "python3"
  },
  "language_info": {
   "codemirror_mode": {
    "name": "ipython",
    "version": 3
   },
   "file_extension": ".py",
   "mimetype": "text/x-python",
   "name": "python",
   "nbconvert_exporter": "python",
   "pygments_lexer": "ipython3",
   "version": "3.7.2"
  }
 },
 "nbformat": 4,
 "nbformat_minor": 2
}