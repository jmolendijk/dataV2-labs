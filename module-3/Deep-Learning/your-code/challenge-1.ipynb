{
 "cells": [
  {
   "cell_type": "markdown",
   "metadata": {},
   "source": [
    "# Challenge 1 - Tic Tac Toe\n",
    "\n",
    "In this lab you will perform deep learning analysis on a dataset of playing [Tic Tac Toe](https://en.wikipedia.org/wiki/Tic-tac-toe).\n",
    "\n",
    "There are 9 grids in Tic Tac Toe that are coded as the following picture shows:\n",
    "\n",
    "![Tic Tac Toe Grids](tttboard.jpg)\n",
    "\n",
    "In the first 9 columns of the dataset you can find which marks (`x` or `o`) exist in the grids. If there is no mark in a certain grid, it is labeled as `b`. The last column is `class` which tells you whether Player X (who always moves first in Tic Tac Toe) wins in this configuration. Note that when `class` has the value `False`, it means either Player O wins the game or it ends up as a draw."
   ]
  },
  {
   "cell_type": "markdown",
   "metadata": {},
   "source": [
    "Follow the steps suggested below to conduct a neural network analysis using Tensorflow and Keras. You will build a deep learning model to predict whether Player X wins the game or not.\n",
    "\n",
    "## Step 1: Data Engineering\n",
    "\n",
    "This dataset is almost in the ready-to-use state so you do not need to worry about missing values and so on. Still, some simple data engineering is needed.\n",
    "\n",
    "1. Read `tic-tac-toe.csv` into a dataframe.\n",
    "1. Inspect the dataset. Determine if the dataset is reliable by eyeballing the data.\n",
    "1. Convert the categorical values to numeric in all columns.\n",
    "1. Separate the inputs and output.\n",
    "1. Normalize the input data."
   ]
  },
  {
   "cell_type": "code",
   "execution_count": 18,
   "metadata": {},
   "outputs": [],
   "source": [
    "import pandas as pd\n",
    "import numpy as np"
   ]
  },
  {
   "cell_type": "code",
   "execution_count": 2,
   "metadata": {},
   "outputs": [],
   "source": [
    "ttt = pd.read_csv('tic-tac-toe.csv')"
   ]
  },
  {
   "cell_type": "code",
   "execution_count": 38,
   "metadata": {},
   "outputs": [
    {
     "data": {
      "text/plain": [
       "array([False])"
      ]
     },
     "execution_count": 38,
     "metadata": {},
     "output_type": "execute_result"
    }
   ],
   "source": [
    "ttt[-158:]['class'].unique()"
   ]
  },
  {
   "cell_type": "code",
   "execution_count": 4,
   "metadata": {},
   "outputs": [
    {
     "name": "stdout",
     "output_type": "stream",
     "text": [
      "<class 'pandas.core.frame.DataFrame'>\n",
      "RangeIndex: 958 entries, 0 to 957\n",
      "Data columns (total 10 columns):\n",
      " #   Column  Non-Null Count  Dtype \n",
      "---  ------  --------------  ----- \n",
      " 0   TL      958 non-null    object\n",
      " 1   TM      958 non-null    object\n",
      " 2   TR      958 non-null    object\n",
      " 3   ML      958 non-null    object\n",
      " 4   MM      958 non-null    object\n",
      " 5   MR      958 non-null    object\n",
      " 6   BL      958 non-null    object\n",
      " 7   BM      958 non-null    object\n",
      " 8   BR      958 non-null    object\n",
      " 9   class   958 non-null    bool  \n",
      "dtypes: bool(1), object(9)\n",
      "memory usage: 68.4+ KB\n"
     ]
    }
   ],
   "source": [
    "ttt.info()\n",
    "#all info is object type, we should convert to numerical to fit into ML"
   ]
  },
  {
   "cell_type": "code",
   "execution_count": 5,
   "metadata": {},
   "outputs": [],
   "source": [
    "ttt_in = ttt[['TL','TM','TR','ML','MM','MR','BL','BM','BR']]\n",
    "ttt_out = ttt['class']\n",
    "\n",
    "ttt_in = ttt_in.replace({'x':1, 'o':-1, 'b':0})\n",
    "ttt_out = ttt_out.astype(int)"
   ]
  },
  {
   "cell_type": "markdown",
   "metadata": {},
   "source": [
    "## Step 2: Build Neural Network\n",
    "\n",
    "To build the neural network, you can refer to your own codes you wrote while following the [Deep Learning with Python, TensorFlow, and Keras tutorial](https://www.youtube.com/watch?v=wQ8BIBpya2k) in the lesson. It's pretty similar to what you will be doing in this lab.\n",
    "\n",
    "1. Split the training and test data.\n",
    "1. Create a `Sequential` model.\n",
    "1. Add several layers to your model. Make sure you use ReLU as the activation function for the middle layers. Use Softmax for the output layer because each output has a single lable and all the label probabilities add up to 1.\n",
    "1. Compile the model using `adam` as the optimizer and `sparse_categorical_crossentropy` as the loss function. For metrics, use `accuracy` for now.\n",
    "1. Fit the training data.\n",
    "1. Evaluate your neural network model with the test data.\n",
    "1. Save your model as `tic-tac-toe.model`."
   ]
  },
  {
   "cell_type": "code",
   "execution_count": 10,
   "metadata": {},
   "outputs": [
    {
     "data": {
      "text/plain": [
       "'2.3.0'"
      ]
     },
     "execution_count": 10,
     "metadata": {},
     "output_type": "execute_result"
    }
   ],
   "source": [
    "import tensorflow as tf\n",
    "tf.__version__"
   ]
  },
  {
   "cell_type": "code",
   "execution_count": 21,
   "metadata": {},
   "outputs": [],
   "source": [
    "X_train, X_test = ttt_in[:800].to_numpy(), ttt_in[800:].to_numpy()\n",
    "y_train, y_test = ttt_out[:800].to_numpy(), ttt_out[800:].to_numpy()"
   ]
  },
  {
   "cell_type": "code",
   "execution_count": 28,
   "metadata": {},
   "outputs": [
    {
     "data": {
      "text/plain": [
       "158"
      ]
     },
     "execution_count": 28,
     "metadata": {},
     "output_type": "execute_result"
    }
   ],
   "source": [
    "len(X_test)"
   ]
  },
  {
   "cell_type": "code",
   "execution_count": 25,
   "metadata": {},
   "outputs": [
    {
     "name": "stdout",
     "output_type": "stream",
     "text": [
      "25/25 [==============================] - 0s 798us/step - loss: 0.6993 - accuracy: 0.7125\n"
     ]
    },
    {
     "data": {
      "text/plain": [
       "<tensorflow.python.keras.callbacks.History at 0x1c23f3c9e88>"
      ]
     },
     "execution_count": 25,
     "metadata": {},
     "output_type": "execute_result"
    }
   ],
   "source": [
    "ttt_model = tf.keras.models.Sequential() #Create the model\n",
    "\n",
    "ttt_model.add(tf.keras.layers.Dense(9, activation=tf.nn.relu))\n",
    "ttt_model.add(tf.keras.layers.Dense(9, activation=tf.nn.relu))\n",
    "ttt_model.add(tf.keras.layers.Dense(9, activation=tf.nn.relu)) #Add the layers, I choose 3\n",
    "ttt_model.add(tf.keras.layers.Dense(2, activation=tf.nn.softmax)) #Add the output layer, only 2 options here : 0 or 1\n",
    "\n",
    "ttt_model.compile(optimizer = 'adam',\n",
    "                 loss = 'sparse_categorical_crossentropy', #why not binary ? as we only have 2 outputs..\n",
    "                 metrics = 'accuracy')\n",
    "\n",
    "ttt_model.fit(X_train, y_train) #loss is very high, accuracy is average"
   ]
  },
  {
   "cell_type": "code",
   "execution_count": 30,
   "metadata": {},
   "outputs": [
    {
     "name": "stdout",
     "output_type": "stream",
     "text": [
      "5/5 [==============================] - 0s 798us/step - loss: 1.0510 - accuracy: 0.1772\n",
      "Loss: 1.050997018814087 \n",
      "Accuracy: 0.17721518874168396\n"
     ]
    }
   ],
   "source": [
    "val_loss, val_acc = ttt_model.evaluate(X_test, y_test)\n",
    "print('Loss:', val_loss, '\\nAccuracy:', val_acc)"
   ]
  },
  {
   "cell_type": "code",
   "execution_count": 33,
   "metadata": {},
   "outputs": [
    {
     "name": "stdout",
     "output_type": "stream",
     "text": [
      "INFO:tensorflow:Assets written to: tic-tac-toe.model\\assets\n"
     ]
    }
   ],
   "source": [
    "ttt_model.save('tic-tac-toe.model')"
   ]
  },
  {
   "cell_type": "markdown",
   "metadata": {},
   "source": [
    "## Step 3: Make Predictions\n",
    "\n",
    "Now load your saved model and use it to make predictions on a few random rows in the test dataset. Check if the predictions are correct."
   ]
  },
  {
   "cell_type": "code",
   "execution_count": 35,
   "metadata": {},
   "outputs": [
    {
     "name": "stdout",
     "output_type": "stream",
     "text": [
      "[[0.358024   0.641976  ]\n",
      " [0.2993157  0.7006843 ]\n",
      " [0.33832708 0.6616729 ]\n",
      " [0.37840968 0.6215904 ]\n",
      " [0.27264762 0.72735244]\n",
      " [0.19731471 0.8026853 ]\n",
      " [0.38348612 0.61651385]\n",
      " [0.4098831  0.59011686]\n",
      " [0.4959495  0.5040505 ]\n",
      " [0.4659437  0.53405637]\n",
      " [0.3888755  0.61112446]\n",
      " [0.4210518  0.5789482 ]\n",
      " [0.472565   0.527435  ]\n",
      " [0.47790682 0.5220932 ]\n",
      " [0.54439825 0.45560172]\n",
      " [0.45182326 0.5481767 ]\n",
      " [0.5177483  0.4822517 ]\n",
      " [0.51984644 0.48015362]\n",
      " [0.5452644  0.45473558]\n",
      " [0.51463985 0.48536018]\n",
      " [0.5180866  0.4819134 ]\n",
      " [0.5021079  0.497892  ]\n",
      " [0.54385704 0.4561429 ]\n",
      " [0.5270479  0.4729521 ]\n",
      " [0.45781225 0.5421877 ]\n",
      " [0.5197409  0.48025912]\n",
      " [0.5513456  0.4486545 ]\n",
      " [0.54577446 0.45422554]\n",
      " [0.5328307  0.4671692 ]\n",
      " [0.5247144  0.47528565]\n",
      " [0.49810857 0.50189143]\n",
      " [0.5288684  0.47113165]\n",
      " [0.5200433  0.47995663]\n",
      " [0.47048387 0.5295161 ]\n",
      " [0.5111756  0.48882443]\n",
      " [0.5500723  0.44992775]\n",
      " [0.45616657 0.54383343]\n",
      " [0.523539   0.476461  ]\n",
      " [0.552349   0.44765106]\n",
      " [0.5594398  0.44056028]\n",
      " [0.5324356  0.46756443]\n",
      " [0.43973482 0.56026524]\n",
      " [0.4861539  0.5138461 ]\n",
      " [0.5017174  0.49828264]\n",
      " [0.5308015  0.46919858]\n",
      " [0.5040661  0.49593386]\n",
      " [0.54714704 0.452853  ]\n",
      " [0.35932305 0.640677  ]\n",
      " [0.37422413 0.6257759 ]\n",
      " [0.50709105 0.49290904]\n",
      " [0.24892558 0.7510745 ]\n",
      " [0.12193491 0.8780651 ]\n",
      " [0.16851237 0.8314876 ]\n",
      " [0.39354366 0.60645634]\n",
      " [0.3463889  0.65361106]\n",
      " [0.2465656  0.7534344 ]\n",
      " [0.44491258 0.55508745]\n",
      " [0.4751491  0.52485085]\n",
      " [0.4199065  0.5800935 ]\n",
      " [0.47986013 0.5201399 ]\n",
      " [0.4270617  0.5729383 ]\n",
      " [0.32980743 0.67019254]\n",
      " [0.47266495 0.52733505]\n",
      " [0.44659278 0.55340725]\n",
      " [0.3258091  0.6741909 ]\n",
      " [0.28751755 0.71248245]\n",
      " [0.3441814  0.65581864]\n",
      " [0.38948652 0.6105135 ]\n",
      " [0.4183232  0.58167684]\n",
      " [0.50503963 0.4949604 ]\n",
      " [0.48706797 0.51293206]\n",
      " [0.32404178 0.6759582 ]\n",
      " [0.23455271 0.76544726]\n",
      " [0.4258961  0.5741039 ]\n",
      " [0.4894244  0.5105756 ]\n",
      " [0.45809278 0.54190725]\n",
      " [0.4600824  0.5399176 ]\n",
      " [0.47500536 0.5249947 ]\n",
      " [0.41965428 0.58034575]\n",
      " [0.26453915 0.7354609 ]\n",
      " [0.03982954 0.96017045]\n",
      " [0.10388625 0.89611375]\n",
      " [0.39834562 0.60165447]\n",
      " [0.2869706  0.71302944]\n",
      " [0.44381243 0.55618757]\n",
      " [0.3491321  0.6508679 ]\n",
      " [0.44148263 0.55851734]\n",
      " [0.3263668  0.6736333 ]\n",
      " [0.4575114  0.5424886 ]\n",
      " [0.3488549  0.65114504]\n",
      " [0.17385732 0.82614267]\n",
      " [0.4150975  0.5849025 ]\n",
      " [0.31436807 0.68563193]\n",
      " [0.08959075 0.9104092 ]\n",
      " [0.38690776 0.61309224]\n",
      " [0.14205645 0.85794353]\n",
      " [0.25022048 0.7497796 ]\n",
      " [0.32289383 0.6771061 ]\n",
      " [0.18970005 0.81029993]\n",
      " [0.42850545 0.5714946 ]\n",
      " [0.33233556 0.6676644 ]\n",
      " [0.24977131 0.75022864]\n",
      " [0.47591627 0.52408373]\n",
      " [0.31551123 0.6844888 ]\n",
      " [0.22863357 0.7713664 ]\n",
      " [0.4613782  0.5386218 ]\n",
      " [0.42248312 0.57751685]\n",
      " [0.30029857 0.6997014 ]\n",
      " [0.24397962 0.7560203 ]\n",
      " [0.0931167  0.9068833 ]\n",
      " [0.28848884 0.7115112 ]\n",
      " [0.4519218  0.5480782 ]\n",
      " [0.37474912 0.6252509 ]\n",
      " [0.3424435  0.6575565 ]\n",
      " [0.18775254 0.81224746]\n",
      " [0.20937458 0.7906254 ]\n",
      " [0.31671572 0.68328434]\n",
      " [0.34157947 0.6584205 ]\n",
      " [0.3155487  0.68445134]\n",
      " [0.32830948 0.67169046]\n",
      " [0.31233367 0.6876663 ]\n",
      " [0.49072883 0.50927114]\n",
      " [0.27578795 0.7242121 ]\n",
      " [0.39168593 0.6083141 ]\n",
      " [0.29573783 0.7042622 ]\n",
      " [0.26295036 0.73704964]\n",
      " [0.29681537 0.70318455]\n",
      " [0.28985834 0.71014166]\n",
      " [0.17486589 0.8251341 ]\n",
      " [0.07319871 0.92680126]\n",
      " [0.33385503 0.66614497]\n",
      " [0.43635282 0.56364715]\n",
      " [0.44442618 0.5555738 ]\n",
      " [0.28638554 0.71361446]\n",
      " [0.43767986 0.5623201 ]\n",
      " [0.31555575 0.68444425]\n",
      " [0.1441178  0.8558822 ]\n",
      " [0.32127652 0.67872345]\n",
      " [0.38074714 0.6192528 ]\n",
      " [0.36842063 0.63157934]\n",
      " [0.32271108 0.67728895]\n",
      " [0.49200067 0.50799936]\n",
      " [0.3986219  0.601378  ]\n",
      " [0.32253826 0.67746174]\n",
      " [0.30777448 0.6922255 ]\n",
      " [0.14762849 0.8523716 ]\n",
      " [0.03434257 0.9656574 ]\n",
      " [0.22875874 0.7712413 ]\n",
      " [0.2483027  0.7516973 ]\n",
      " [0.30006176 0.69993824]\n",
      " [0.46354398 0.53645605]\n",
      " [0.44590113 0.55409896]\n",
      " [0.4799647  0.52003527]\n",
      " [0.4627144  0.53728557]\n",
      " [0.4131969  0.58680314]\n",
      " [0.4651215  0.53487855]\n",
      " [0.3878869  0.6121131 ]\n",
      " [0.4850965  0.5149035 ]]\n",
      "[0 0 0 0 0 0 0 0 0 0 0 0 0 0 0 0 0 0 0 0 0 0 0 0 0 0 0 0 0 0 0 0 0 0 0 0 0\n",
      " 0 0 0 0 0 0 0 0 0 0 0 0 0 0 0 0 0 0 0 0 0 0 0 0 0 0 0 0 0 0 0 0 0 0 0 0 0\n",
      " 0 0 0 0 0 0 0 0 0 0 0 0 0 0 0 0 0 0 0 0 0 0 0 0 0 0 0 0 0 0 0 0 0 0 0 0 0\n",
      " 0 0 0 0 0 0 0 0 0 0 0 0 0 0 0 0 0 0 0 0 0 0 0 0 0 0 0 0 0 0 0 0 0 0 0 0 0\n",
      " 0 0 0 0 0 0 0 0 0 0]\n"
     ]
    }
   ],
   "source": [
    "model = tf.keras.models.load_model('tic-tac-toe.model')\n",
    "\n",
    "predic = model.predict([X_test])\n",
    "print(predic)\n",
    "print(y_test)"
   ]
  },
  {
   "cell_type": "code",
   "execution_count": 47,
   "metadata": {},
   "outputs": [
    {
     "name": "stdout",
     "output_type": "stream",
     "text": [
      "0\n"
     ]
    }
   ],
   "source": [
    "print(np.argmax(predic[14]))"
   ]
  },
  {
   "cell_type": "markdown",
   "metadata": {},
   "source": [
    "## Step 4: Improve Your Model\n",
    "\n",
    "Did your model achieve low loss (<0.1) and high accuracy (>0.95)? If not, try to improve your model.\n",
    "\n",
    "But how? There are so many things you can play with in Tensorflow and in the next challenge you'll learn about these things. But in this challenge, let's just do a few things to see if they will help.\n",
    "\n",
    "* Add more layers to your model. If the data are complex you need more layers. But don't use more layers than you need. If adding more layers does not improve the model performance you don't need additional layers.\n",
    "* Adjust the learning rate when you compile the model. This means you will create a custom `tf.keras.optimizers.Adam` instance where you specify the learning rate you want. Then pass the instance to `model.compile` as the optimizer.\n",
    "    * `tf.keras.optimizers.Adam` [reference](https://www.tensorflow.org/api_docs/python/tf/keras/optimizers/Adam).\n",
    "    * Don't worry if you don't understand what the learning rate does. You'll learn about it in the next challenge.\n",
    "* Adjust the number of epochs when you fit the training data to the model. Your model performance continues to improve as you train more epochs. But eventually it will reach the ceiling and the performance will stay the same."
   ]
  },
  {
   "cell_type": "code",
   "execution_count": 93,
   "metadata": {},
   "outputs": [
    {
     "name": "stdout",
     "output_type": "stream",
     "text": [
      "25/25 [==============================] - 0s 1ms/step - loss: 0.6864 - accuracy: 0.6137\n"
     ]
    },
    {
     "data": {
      "text/plain": [
       "\"new_model2 = tf.keras.models.Sequential() \\n\\nnew_model2.add(tf.keras.layers.Dense(9, activation=tf.nn.relu))\\nnew_model2.add(tf.keras.layers.Dense(9, activation=tf.nn.relu))\\nnew_model2.add(tf.keras.layers.Dense(9, activation=tf.nn.relu))\\nnew_model2.add(tf.keras.layers.Dense(2, activation=tf.nn.softmax)) #Add the output layer, only 2 options here : 0 or 1\\n\\nnew_model2.compile(optimizer = tf.keras.optimizers.Adam(learning_rate=0.1), #let's keep this one, as it gave better results\\n                 loss = 'sparse_categorical_crossentropy',\\n                 metrics = 'accuracy')\\n\\nnew_model2.fit(X_train, y_train, epochs=5) #loss <0.1, accuracy is > .9 .. overfitted ?\""
      ]
     },
     "execution_count": 93,
     "metadata": {},
     "output_type": "execute_result"
    }
   ],
   "source": [
    "#MORE LAYERS\n",
    "\"\"\"new_model = tf.keras.models.Sequential() \n",
    "\n",
    "new_model.add(tf.keras.layers.Dense(9, activation=tf.nn.relu))\n",
    "new_model.add(tf.keras.layers.Dense(9, activation=tf.nn.relu))\n",
    "new_model.add(tf.keras.layers.Dense(9, activation=tf.nn.relu))\n",
    "new_model.add(tf.keras.layers.Dense(9, activation=tf.nn.relu))\n",
    "new_model.add(tf.keras.layers.Dense(9, activation=tf.nn.relu)) #Add the layers, I choose 5 this time\n",
    "new_model.add(tf.keras.layers.Dense(2, activation=tf.nn.softmax)) #Add the output layer, only 2 options here : 0 or 1\n",
    "\n",
    "new_model.compile(optimizer = 'adam',\n",
    "                 loss = 'sparse_categorical_crossentropy',\n",
    "                 metrics = 'accuracy')\n",
    "\n",
    "new_model.fit(X_train, y_train) #loss is .69 , accuracy is .6 : we didn't improve\"\"\"\n",
    "\n",
    "#LEARNING RATE\n",
    "\"\"\"new_model1 = tf.keras.models.Sequential() \n",
    "\n",
    "new_model1.add(tf.keras.layers.Dense(9, activation=tf.nn.relu))\n",
    "new_model1.add(tf.keras.layers.Dense(9, activation=tf.nn.relu))\n",
    "new_model1.add(tf.keras.layers.Dense(9, activation=tf.nn.relu))\n",
    "new_model1.add(tf.keras.layers.Dense(2, activation=tf.nn.softmax)) #Add the output layer, only 2 options here : 0 or 1\n",
    "\n",
    "new_model1.compile(optimizer = tf.keras.optimizers.Adam(learning_rate=0.1),\n",
    "                 loss = 'sparse_categorical_crossentropy',\n",
    "                 metrics = 'accuracy')\n",
    "\n",
    "new_model1.fit(X_train, y_train) #loss is better, accuracy is the same\"\"\"\n",
    "\n",
    "#MORE EPOCHS\n",
    "\"\"\"new_model2 = tf.keras.models.Sequential() \n",
    "\n",
    "new_model2.add(tf.keras.layers.Dense(9, activation=tf.nn.relu))\n",
    "new_model2.add(tf.keras.layers.Dense(9, activation=tf.nn.relu))\n",
    "new_model2.add(tf.keras.layers.Dense(9, activation=tf.nn.relu))\n",
    "new_model2.add(tf.keras.layers.Dense(2, activation=tf.nn.softmax)) #Add the output layer, only 2 options here : 0 or 1\n",
    "\n",
    "new_model2.compile(optimizer = tf.keras.optimizers.Adam(learning_rate=0.1), #let's keep this one, as it gave better results\n",
    "                 loss = 'sparse_categorical_crossentropy',\n",
    "                 metrics = 'accuracy')\n",
    "\n",
    "new_model2.fit(X_train, y_train, epochs=5) #loss <0.1, accuracy is > .9 .. overfitted ?\"\"\""
   ]
  },
  {
   "cell_type": "code",
   "execution_count": 94,
   "metadata": {},
   "outputs": [
    {
     "name": "stdout",
     "output_type": "stream",
     "text": [
      "5/5 [==============================] - 0s 997us/step - loss: 0.7477 - accuracy: 0.0000e+00\n"
     ]
    }
   ],
   "source": [
    "val_loss, val_acc = new_model.evaluate(X_test, y_test)"
   ]
  },
  {
   "cell_type": "markdown",
   "metadata": {},
   "source": [
    "**Which approach(es) did you find helpful to improve your model performance?**"
   ]
  },
  {
   "cell_type": "code",
   "execution_count": 9,
   "metadata": {},
   "outputs": [],
   "source": [
    "#Epochs and learning rate did improve the model, but when testes, the results are not as good as expected"
   ]
  }
 ],
 "metadata": {
  "kernelspec": {
   "display_name": "Python 3",
   "language": "python",
   "name": "python3"
  },
  "language_info": {
   "codemirror_mode": {
    "name": "ipython",
    "version": 3
   },
   "file_extension": ".py",
   "mimetype": "text/x-python",
   "name": "python",
   "nbconvert_exporter": "python",
   "pygments_lexer": "ipython3",
   "version": "3.7.6"
  }
 },
 "nbformat": 4,
 "nbformat_minor": 2
}
