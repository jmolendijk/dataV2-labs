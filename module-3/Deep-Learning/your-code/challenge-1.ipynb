{
 "cells": [
  {
   "cell_type": "markdown",
   "metadata": {},
   "source": [
    "# Challenge 1 - Tic Tac Toe\n",
    "\n",
    "In this lab you will perform deep learning analysis on a dataset of playing [Tic Tac Toe](https://en.wikipedia.org/wiki/Tic-tac-toe).\n",
    "\n",
    "There are 9 grids in Tic Tac Toe that are coded as the following picture shows:\n",
    "\n",
    "![Tic Tac Toe Grids](tttboard.jpg)\n",
    "\n",
    "In the first 9 columns of the dataset you can find which marks (`x` or `o`) exist in the grids. If there is no mark in a certain grid, it is labeled as `b`. The last column is `class` which tells you whether Player X (who always moves first in Tic Tac Toe) wins in this configuration. Note that when `class` has the value `False`, it means either Player O wins the game or it ends up as a draw."
   ]
  },
  {
   "cell_type": "markdown",
   "metadata": {},
   "source": [
    "Follow the steps suggested below to conduct a neural network analysis using Tensorflow and Keras. You will build a deep learning model to predict whether Player X wins the game or not.\n",
    "\n",
    "## Step 1: Data Engineering\n",
    "\n",
    "This dataset is almost in the ready-to-use state so you do not need to worry about missing values and so on. Still, some simple data engineering is needed.\n",
    "\n",
    "1. Read `tic-tac-toe.csv` into a dataframe.\n",
    "1. Inspect the dataset. Determine if the dataset is reliable by eyeballing the data.\n",
    "1. Convert the categorical values to numeric in all columns.\n",
    "1. Separate the inputs and output.\n",
    "1. Normalize the input data."
   ]
  },
  {
   "cell_type": "code",
   "execution_count": 1,
   "metadata": {},
   "outputs": [],
   "source": [
    "# your code here\n",
    "\n",
    "import pandas as pd"
   ]
  },
  {
   "cell_type": "code",
   "execution_count": 2,
   "metadata": {},
   "outputs": [],
   "source": [
    "df = pd.read_csv('tic-tac-toe.csv')"
   ]
  },
  {
   "cell_type": "code",
   "execution_count": 3,
   "metadata": {},
   "outputs": [
    {
     "output_type": "execute_result",
     "data": {
      "text/plain": "  TL TM TR ML MM MR BL BM BR  class\n0  x  x  x  x  o  o  x  o  o   True\n1  x  x  x  x  o  o  o  x  o   True\n2  x  x  x  x  o  o  o  o  x   True\n3  x  x  x  x  o  o  o  b  b   True\n4  x  x  x  x  o  o  b  o  b   True",
      "text/html": "<div>\n<style scoped>\n    .dataframe tbody tr th:only-of-type {\n        vertical-align: middle;\n    }\n\n    .dataframe tbody tr th {\n        vertical-align: top;\n    }\n\n    .dataframe thead th {\n        text-align: right;\n    }\n</style>\n<table border=\"1\" class=\"dataframe\">\n  <thead>\n    <tr style=\"text-align: right;\">\n      <th></th>\n      <th>TL</th>\n      <th>TM</th>\n      <th>TR</th>\n      <th>ML</th>\n      <th>MM</th>\n      <th>MR</th>\n      <th>BL</th>\n      <th>BM</th>\n      <th>BR</th>\n      <th>class</th>\n    </tr>\n  </thead>\n  <tbody>\n    <tr>\n      <th>0</th>\n      <td>x</td>\n      <td>x</td>\n      <td>x</td>\n      <td>x</td>\n      <td>o</td>\n      <td>o</td>\n      <td>x</td>\n      <td>o</td>\n      <td>o</td>\n      <td>True</td>\n    </tr>\n    <tr>\n      <th>1</th>\n      <td>x</td>\n      <td>x</td>\n      <td>x</td>\n      <td>x</td>\n      <td>o</td>\n      <td>o</td>\n      <td>o</td>\n      <td>x</td>\n      <td>o</td>\n      <td>True</td>\n    </tr>\n    <tr>\n      <th>2</th>\n      <td>x</td>\n      <td>x</td>\n      <td>x</td>\n      <td>x</td>\n      <td>o</td>\n      <td>o</td>\n      <td>o</td>\n      <td>o</td>\n      <td>x</td>\n      <td>True</td>\n    </tr>\n    <tr>\n      <th>3</th>\n      <td>x</td>\n      <td>x</td>\n      <td>x</td>\n      <td>x</td>\n      <td>o</td>\n      <td>o</td>\n      <td>o</td>\n      <td>b</td>\n      <td>b</td>\n      <td>True</td>\n    </tr>\n    <tr>\n      <th>4</th>\n      <td>x</td>\n      <td>x</td>\n      <td>x</td>\n      <td>x</td>\n      <td>o</td>\n      <td>o</td>\n      <td>b</td>\n      <td>o</td>\n      <td>b</td>\n      <td>True</td>\n    </tr>\n  </tbody>\n</table>\n</div>"
     },
     "metadata": {},
     "execution_count": 3
    }
   ],
   "source": [
    "df.head()"
   ]
  },
  {
   "cell_type": "code",
   "execution_count": 4,
   "metadata": {},
   "outputs": [
    {
     "output_type": "execute_result",
     "data": {
      "text/plain": "    TL TM TR ML MM MR BL BM BR  class\n953  o  x  x  x  o  o  o  x  x  False\n954  o  x  o  x  x  o  x  o  x  False\n955  o  x  o  x  o  x  x  o  x  False\n956  o  x  o  o  x  x  x  o  x  False\n957  o  o  x  x  x  o  o  x  x  False",
      "text/html": "<div>\n<style scoped>\n    .dataframe tbody tr th:only-of-type {\n        vertical-align: middle;\n    }\n\n    .dataframe tbody tr th {\n        vertical-align: top;\n    }\n\n    .dataframe thead th {\n        text-align: right;\n    }\n</style>\n<table border=\"1\" class=\"dataframe\">\n  <thead>\n    <tr style=\"text-align: right;\">\n      <th></th>\n      <th>TL</th>\n      <th>TM</th>\n      <th>TR</th>\n      <th>ML</th>\n      <th>MM</th>\n      <th>MR</th>\n      <th>BL</th>\n      <th>BM</th>\n      <th>BR</th>\n      <th>class</th>\n    </tr>\n  </thead>\n  <tbody>\n    <tr>\n      <th>953</th>\n      <td>o</td>\n      <td>x</td>\n      <td>x</td>\n      <td>x</td>\n      <td>o</td>\n      <td>o</td>\n      <td>o</td>\n      <td>x</td>\n      <td>x</td>\n      <td>False</td>\n    </tr>\n    <tr>\n      <th>954</th>\n      <td>o</td>\n      <td>x</td>\n      <td>o</td>\n      <td>x</td>\n      <td>x</td>\n      <td>o</td>\n      <td>x</td>\n      <td>o</td>\n      <td>x</td>\n      <td>False</td>\n    </tr>\n    <tr>\n      <th>955</th>\n      <td>o</td>\n      <td>x</td>\n      <td>o</td>\n      <td>x</td>\n      <td>o</td>\n      <td>x</td>\n      <td>x</td>\n      <td>o</td>\n      <td>x</td>\n      <td>False</td>\n    </tr>\n    <tr>\n      <th>956</th>\n      <td>o</td>\n      <td>x</td>\n      <td>o</td>\n      <td>o</td>\n      <td>x</td>\n      <td>x</td>\n      <td>x</td>\n      <td>o</td>\n      <td>x</td>\n      <td>False</td>\n    </tr>\n    <tr>\n      <th>957</th>\n      <td>o</td>\n      <td>o</td>\n      <td>x</td>\n      <td>x</td>\n      <td>x</td>\n      <td>o</td>\n      <td>o</td>\n      <td>x</td>\n      <td>x</td>\n      <td>False</td>\n    </tr>\n  </tbody>\n</table>\n</div>"
     },
     "metadata": {},
     "execution_count": 4
    }
   ],
   "source": [
    "df.tail()"
   ]
  },
  {
   "cell_type": "code",
   "execution_count": 5,
   "metadata": {
    "tags": []
   },
   "outputs": [
    {
     "output_type": "stream",
     "name": "stdout",
     "text": "<class 'pandas.core.frame.DataFrame'>\nRangeIndex: 958 entries, 0 to 957\nData columns (total 10 columns):\n #   Column  Non-Null Count  Dtype \n---  ------  --------------  ----- \n 0   TL      958 non-null    object\n 1   TM      958 non-null    object\n 2   TR      958 non-null    object\n 3   ML      958 non-null    object\n 4   MM      958 non-null    object\n 5   MR      958 non-null    object\n 6   BL      958 non-null    object\n 7   BM      958 non-null    object\n 8   BR      958 non-null    object\n 9   class   958 non-null    bool  \ndtypes: bool(1), object(9)\nmemory usage: 68.4+ KB\n"
    }
   ],
   "source": [
    "df.info()"
   ]
  },
  {
   "cell_type": "code",
   "execution_count": 6,
   "metadata": {},
   "outputs": [],
   "source": [
    "df.iloc[:,:-1] = df.iloc[:,:-1].apply(lambda x: x=='x').astype('int')\n"
   ]
  },
  {
   "cell_type": "code",
   "execution_count": 7,
   "metadata": {
    "tags": []
   },
   "outputs": [
    {
     "output_type": "stream",
     "name": "stdout",
     "text": "<class 'pandas.core.frame.DataFrame'>\nRangeIndex: 958 entries, 0 to 957\nData columns (total 10 columns):\n #   Column  Non-Null Count  Dtype\n---  ------  --------------  -----\n 0   TL      958 non-null    int64\n 1   TM      958 non-null    int64\n 2   TR      958 non-null    int64\n 3   ML      958 non-null    int64\n 4   MM      958 non-null    int64\n 5   MR      958 non-null    int64\n 6   BL      958 non-null    int64\n 7   BM      958 non-null    int64\n 8   BR      958 non-null    int64\n 9   class   958 non-null    bool \ndtypes: bool(1), int64(9)\nmemory usage: 68.4 KB\n"
    }
   ],
   "source": [
    "df.info()"
   ]
  },
  {
   "cell_type": "markdown",
   "metadata": {},
   "source": [
    "## Step 2: Build Neural Network\n",
    "\n",
    "To build the neural network, you can refer to your own codes you wrote while following the [Deep Learning with Python, TensorFlow, and Keras tutorial](https://www.youtube.com/watch?v=wQ8BIBpya2k) in the lesson. It's pretty similar to what you will be doing in this lab.\n",
    "\n",
    "1. Split the training and test data.\n",
    "1. Create a `Sequential` model.\n",
    "1. Add several layers to your model. Make sure you use ReLU as the activation function for the middle layers. Use Softmax for the output layer because each output has a single lable and all the label probabilities add up to 1.\n",
    "1. Compile the model using `adam` as the optimizer and `sparse_categorical_crossentropy` as the loss function. For metrics, use `accuracy` for now.\n",
    "1. Fit the training data.\n",
    "1. Evaluate your neural network model with the test data.\n",
    "1. Save your model as `tic-tac-toe.model`."
   ]
  },
  {
   "cell_type": "code",
   "execution_count": 8,
   "metadata": {},
   "outputs": [],
   "source": [
    "# your code here\n",
    "\n",
    "X = df.iloc[:,:-1]\n",
    "y = df.iloc[:,-1:]"
   ]
  },
  {
   "cell_type": "code",
   "execution_count": 9,
   "metadata": {},
   "outputs": [],
   "source": [
    "from sklearn.model_selection import train_test_split\n",
    "\n",
    "X_train, X_test, y_train, y_test = train_test_split(X, y, test_size=0.2)"
   ]
  },
  {
   "cell_type": "code",
   "execution_count": 10,
   "metadata": {},
   "outputs": [],
   "source": [
    "import tensorflow as tf\n",
    "import tensorflow.keras as keras"
   ]
  },
  {
   "cell_type": "code",
   "execution_count": 11,
   "metadata": {},
   "outputs": [],
   "source": [
    "from keras.models import Sequential\n",
    "from keras.layers import Dense\n",
    "\n",
    "model = Sequential([Dense(64, activation='relu', input_shape=(9,)), Dense(64, activation='relu'), Dense(2, activation='softmax'),])"
   ]
  },
  {
   "cell_type": "code",
   "execution_count": 12,
   "metadata": {},
   "outputs": [],
   "source": [
    "from keras.utils import to_categorical\n",
    "\n",
    "model.compile(optimizer='adam', loss='categorical_crossentropy', metrics=['accuracy'],)"
   ]
  },
  {
   "cell_type": "code",
   "execution_count": 13,
   "metadata": {
    "tags": []
   },
   "outputs": [
    {
     "output_type": "stream",
     "name": "stdout",
     "text": "Epoch 1/5\n24/24 [==============================] - 0s 894us/step - loss: 0.6495 - accuracy: 0.6018\nEpoch 2/5\n24/24 [==============================] - 0s 942us/step - loss: 0.5834 - accuracy: 0.6854\nEpoch 3/5\n24/24 [==============================] - 0s 905us/step - loss: 0.5464 - accuracy: 0.7428\nEpoch 4/5\n24/24 [==============================] - 0s 855us/step - loss: 0.5102 - accuracy: 0.7898\nEpoch 5/5\n24/24 [==============================] - 0s 860us/step - loss: 0.4863 - accuracy: 0.7911\n"
    }
   ],
   "source": [
    "history = model.fit(X_train, to_categorical(y_train), epochs=5, batch_size=32,)"
   ]
  },
  {
   "cell_type": "code",
   "execution_count": 14,
   "metadata": {
    "tags": []
   },
   "outputs": [
    {
     "output_type": "stream",
     "name": "stdout",
     "text": "6/6 [==============================] - 0s 829us/step - loss: 0.5141 - accuracy: 0.7240\n"
    },
    {
     "output_type": "execute_result",
     "data": {
      "text/plain": "[0.5140904784202576, 0.7239583134651184]"
     },
     "metadata": {},
     "execution_count": 14
    }
   ],
   "source": [
    "model.evaluate(X_test, to_categorical(y_test))"
   ]
  },
  {
   "cell_type": "markdown",
   "metadata": {},
   "source": [
    "## Step 3: Make Predictions\n",
    "\n",
    "Now load your saved model and use it to make predictions on a few random rows in the test dataset. Check if the predictions are correct."
   ]
  },
  {
   "cell_type": "code",
   "execution_count": 15,
   "metadata": {
    "tags": []
   },
   "outputs": [
    {
     "output_type": "stream",
     "name": "stdout",
     "text": "[1 1 0 1 1 1 1 1 1 1]\n     class\n384   True\n65    True\n862  False\n681  False\n489   True\n298   True\n885  False\n377   True\n679  False\n645  False\n"
    }
   ],
   "source": [
    "# your code here\n",
    "\n",
    "import numpy as np\n",
    "\n",
    "predictions = model.predict(X_test[:10])\n",
    "\n",
    "print(np.argmax(predictions, axis=1)) \n",
    "\n",
    "print(y_test[:10])"
   ]
  },
  {
   "cell_type": "markdown",
   "metadata": {},
   "source": [
    "## Step 4: Improve Your Model\n",
    "\n",
    "Did your model achieve low loss (<0.1) and high accuracy (>0.95)? If not, try to improve your model.\n",
    "\n",
    "But how? There are so many things you can play with in Tensorflow and in the next challenge you'll learn about these things. But in this challenge, let's just do a few things to see if they will help.\n",
    "\n",
    "* Add more layers to your model. If the data are complex you need more layers. But don't use more layers than you need. If adding more layers does not improve the model performance you don't need additional layers.\n",
    "* Adjust the learning rate when you compile the model. This means you will create a custom `tf.keras.optimizers.Adam` instance where you specify the learning rate you want. Then pass the instance to `model.compile` as the optimizer.\n",
    "    * `tf.keras.optimizers.Adam` [reference](https://www.tensorflow.org/api_docs/python/tf/keras/optimizers/Adam).\n",
    "    * Don't worry if you don't understand what the learning rate does. You'll learn about it in the next challenge.\n",
    "* Adjust the number of epochs when you fit the training data to the model. Your model performance continues to improve as you train more epochs. But eventually it will reach the ceiling and the performance will stay the same."
   ]
  },
  {
   "cell_type": "code",
   "execution_count": 16,
   "metadata": {},
   "outputs": [
    {
     "output_type": "execute_result",
     "data": {
      "text/plain": "<tensorflow.python.keras.optimizer_v2.adam.Adam at 0x147cf1a90>"
     },
     "metadata": {},
     "execution_count": 16
    }
   ],
   "source": [
    "# your code here\n",
    "\n",
    "optimizer = tf.keras.optimizers.Adam(learning_rate=0.001)\n",
    "optimizer"
   ]
  },
  {
   "source": [
    "## Model 1"
   ],
   "cell_type": "markdown",
   "metadata": {}
  },
  {
   "cell_type": "code",
   "execution_count": 17,
   "metadata": {},
   "outputs": [],
   "source": [
    "model = Sequential([Dense(64, activation='relu', input_shape=(9,)), Dense(64, activation='relu'), Dense(2, activation='softmax'),])"
   ]
  },
  {
   "cell_type": "code",
   "execution_count": 18,
   "metadata": {},
   "outputs": [],
   "source": [
    "model.compile(optimizer=optimizer, loss='categorical_crossentropy', metrics=['accuracy'],)"
   ]
  },
  {
   "cell_type": "code",
   "execution_count": 19,
   "metadata": {
    "tags": []
   },
   "outputs": [
    {
     "output_type": "stream",
     "name": "stdout",
     "text": "Epoch 1/5\n24/24 [==============================] - 0s 848us/step - loss: 0.6260 - accuracy: 0.6371\nEpoch 2/5\n24/24 [==============================] - 0s 916us/step - loss: 0.5746 - accuracy: 0.7010\nEpoch 3/5\n24/24 [==============================] - 0s 937us/step - loss: 0.5364 - accuracy: 0.7624\nEpoch 4/5\n24/24 [==============================] - 0s 1ms/step - loss: 0.5040 - accuracy: 0.7950\nEpoch 5/5\n24/24 [==============================] - 0s 880us/step - loss: 0.4729 - accuracy: 0.8185\n"
    }
   ],
   "source": [
    "history = model.fit(X_train, to_categorical(y_train), epochs=5, batch_size=32,)"
   ]
  },
  {
   "cell_type": "code",
   "execution_count": 20,
   "metadata": {
    "tags": []
   },
   "outputs": [
    {
     "output_type": "stream",
     "name": "stdout",
     "text": "6/6 [==============================] - 0s 852us/step - loss: 0.4978 - accuracy: 0.7917\n"
    },
    {
     "output_type": "execute_result",
     "data": {
      "text/plain": "[0.49776491522789, 0.7916666865348816]"
     },
     "metadata": {},
     "execution_count": 20
    }
   ],
   "source": [
    "model.evaluate(X_test, to_categorical(y_test))"
   ]
  },
  {
   "source": [
    "## Model 2"
   ],
   "cell_type": "markdown",
   "metadata": {}
  },
  {
   "cell_type": "code",
   "execution_count": 21,
   "metadata": {},
   "outputs": [],
   "source": [
    "model = Sequential([Dense(64, activation='relu', input_shape=(9,)), Dense(64, activation='relu'), Dense(2, activation='softmax'),])"
   ]
  },
  {
   "cell_type": "code",
   "execution_count": 22,
   "metadata": {},
   "outputs": [],
   "source": [
    "model.compile(optimizer=optimizer, loss='categorical_crossentropy', metrics=['accuracy'],)"
   ]
  },
  {
   "cell_type": "code",
   "execution_count": 23,
   "metadata": {
    "tags": []
   },
   "outputs": [
    {
     "output_type": "stream",
     "name": "stdout",
     "text": "Epoch 1/15\n24/24 [==============================] - 0s 862us/step - loss: 0.6324 - accuracy: 0.6527\nEpoch 2/15\n24/24 [==============================] - 0s 914us/step - loss: 0.5489 - accuracy: 0.7493\nEpoch 3/15\n24/24 [==============================] - 0s 888us/step - loss: 0.5047 - accuracy: 0.7807\nEpoch 4/15\n24/24 [==============================] - 0s 895us/step - loss: 0.4703 - accuracy: 0.8042\nEpoch 5/15\n24/24 [==============================] - 0s 882us/step - loss: 0.4314 - accuracy: 0.8251\nEpoch 6/15\n24/24 [==============================] - 0s 907us/step - loss: 0.3966 - accuracy: 0.8460\nEpoch 7/15\n24/24 [==============================] - 0s 931us/step - loss: 0.3691 - accuracy: 0.8486\nEpoch 8/15\n24/24 [==============================] - 0s 913us/step - loss: 0.3230 - accuracy: 0.8851\nEpoch 9/15\n24/24 [==============================] - 0s 906us/step - loss: 0.2853 - accuracy: 0.8903\nEpoch 10/15\n24/24 [==============================] - 0s 895us/step - loss: 0.2557 - accuracy: 0.9178\nEpoch 11/15\n24/24 [==============================] - 0s 849us/step - loss: 0.2202 - accuracy: 0.9386\nEpoch 12/15\n24/24 [==============================] - 0s 942us/step - loss: 0.1894 - accuracy: 0.9569\nEpoch 13/15\n24/24 [==============================] - 0s 925us/step - loss: 0.1611 - accuracy: 0.9674\nEpoch 14/15\n24/24 [==============================] - 0s 896us/step - loss: 0.1353 - accuracy: 0.9726\nEpoch 15/15\n24/24 [==============================] - 0s 852us/step - loss: 0.1148 - accuracy: 0.9830\n"
    }
   ],
   "source": [
    "history = model.fit(X_train, to_categorical(y_train), epochs=15, batch_size=32,)"
   ]
  },
  {
   "cell_type": "code",
   "execution_count": 24,
   "metadata": {
    "tags": []
   },
   "outputs": [
    {
     "output_type": "stream",
     "name": "stdout",
     "text": "6/6 [==============================] - 0s 805us/step - loss: 0.1279 - accuracy: 0.9688\n"
    },
    {
     "output_type": "execute_result",
     "data": {
      "text/plain": "[0.12788015604019165, 0.96875]"
     },
     "metadata": {},
     "execution_count": 24
    }
   ],
   "source": [
    "model.evaluate(X_test, to_categorical(y_test))"
   ]
  },
  {
   "cell_type": "markdown",
   "metadata": {},
   "source": [
    "**Which approach(es) did you find helpful to improve your model performance?**"
   ]
  },
  {
   "cell_type": "code",
   "execution_count": 25,
   "metadata": {},
   "outputs": [],
   "source": [
    "# your answer here\n",
    "\n",
    "# The second model is much more accurate because of the increase of the epochs number."
   ]
  }
 ],
 "metadata": {
  "kernelspec": {
   "display_name": "Python 3",
   "language": "python",
   "name": "python3"
  },
  "language_info": {
   "codemirror_mode": {
    "name": "ipython",
    "version": 3
   },
   "file_extension": ".py",
   "mimetype": "text/x-python",
   "name": "python",
   "nbconvert_exporter": "python",
   "pygments_lexer": "ipython3",
   "version": "3.8.3-final"
  }
 },
 "nbformat": 4,
 "nbformat_minor": 2
}